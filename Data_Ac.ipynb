{
  "cells": [
    {
      "cell_type": "markdown",
      "metadata": {
        "id": "view-in-github",
        "colab_type": "text"
      },
      "source": [
        "<a href=\"https://colab.research.google.com/github/andrew3690/F-A_root_project/blob/Brazil/Data_Ac.ipynb\" target=\"_parent\"><img src=\"https://colab.research.google.com/assets/colab-badge.svg\" alt=\"Open In Colab\"/></a>"
      ]
    },
    {
      "cell_type": "markdown",
      "metadata": {
        "id": "wd7jgo-jBXC2"
      },
      "source": [
        "Installing python libraries that will be use to get data from yahoo finance"
      ]
    },
    {
      "cell_type": "code",
      "execution_count": null,
      "metadata": {
        "colab": {
          "base_uri": "https://localhost:8080/"
        },
        "id": "Mefhi-Pa1B-G",
        "outputId": "c65f37ee-5552-459a-c3d7-86acef3a0153"
      },
      "outputs": [
        {
          "output_type": "stream",
          "name": "stdout",
          "text": [
            "Looking in indexes: https://pypi.org/simple, https://us-python.pkg.dev/colab-wheels/public/simple/\n",
            "Collecting yahooquery\n",
            "  Downloading yahooquery-2.2.15-py2.py3-none-any.whl (46 kB)\n",
            "\u001b[2K     \u001b[90m━━━━━━━━━━━━━━━━━━━━━━━━━━━━━━━━━━━━━━━━\u001b[0m \u001b[32m46.4/46.4 KB\u001b[0m \u001b[31m4.5 MB/s\u001b[0m eta \u001b[36m0:00:00\u001b[0m\n",
            "\u001b[?25hRequirement already satisfied: tqdm>=4.54.1 in /usr/local/lib/python3.8/dist-packages (from yahooquery) (4.64.1)\n",
            "Collecting requests-futures>=1.0.0\n",
            "  Downloading requests_futures-1.0.0-py2.py3-none-any.whl (7.4 kB)\n",
            "Requirement already satisfied: pandas>=0.24.0 in /usr/local/lib/python3.8/dist-packages (from yahooquery) (1.3.5)\n",
            "Requirement already satisfied: lxml>=4.6.2 in /usr/local/lib/python3.8/dist-packages (from yahooquery) (4.9.2)\n",
            "Requirement already satisfied: numpy>=1.17.3 in /usr/local/lib/python3.8/dist-packages (from pandas>=0.24.0->yahooquery) (1.21.6)\n",
            "Requirement already satisfied: python-dateutil>=2.7.3 in /usr/local/lib/python3.8/dist-packages (from pandas>=0.24.0->yahooquery) (2.8.2)\n",
            "Requirement already satisfied: pytz>=2017.3 in /usr/local/lib/python3.8/dist-packages (from pandas>=0.24.0->yahooquery) (2022.7)\n",
            "Requirement already satisfied: requests>=1.2.0 in /usr/local/lib/python3.8/dist-packages (from requests-futures>=1.0.0->yahooquery) (2.25.1)\n",
            "Requirement already satisfied: six>=1.5 in /usr/local/lib/python3.8/dist-packages (from python-dateutil>=2.7.3->pandas>=0.24.0->yahooquery) (1.15.0)\n",
            "Requirement already satisfied: chardet<5,>=3.0.2 in /usr/local/lib/python3.8/dist-packages (from requests>=1.2.0->requests-futures>=1.0.0->yahooquery) (4.0.0)\n",
            "Requirement already satisfied: certifi>=2017.4.17 in /usr/local/lib/python3.8/dist-packages (from requests>=1.2.0->requests-futures>=1.0.0->yahooquery) (2022.12.7)\n",
            "Requirement already satisfied: idna<3,>=2.5 in /usr/local/lib/python3.8/dist-packages (from requests>=1.2.0->requests-futures>=1.0.0->yahooquery) (2.10)\n",
            "Requirement already satisfied: urllib3<1.27,>=1.21.1 in /usr/local/lib/python3.8/dist-packages (from requests>=1.2.0->requests-futures>=1.0.0->yahooquery) (1.24.3)\n",
            "Installing collected packages: requests-futures, yahooquery\n",
            "Successfully installed requests-futures-1.0.0 yahooquery-2.2.15\n"
          ]
        }
      ],
      "source": [
        "!pip install yahooquery"
      ]
    },
    {
      "cell_type": "markdown",
      "metadata": {
        "id": "_VbHBXpJBNgc"
      },
      "source": [
        "Importing modules that will be used to filter data"
      ]
    },
    {
      "cell_type": "code",
      "execution_count": null,
      "metadata": {
        "id": "vqJZx_Fc2NEV"
      },
      "outputs": [],
      "source": [
        "from yahooquery import Ticker\n",
        "from bs4 import BeautifulSoup\n",
        "\n",
        "import pandas as pd\n",
        "import requests\n",
        "import re"
      ]
    },
    {
      "cell_type": "markdown",
      "source": [
        "Scrapping Data from Infomoney website, getting a list of stocks from IBOVESPA."
      ],
      "metadata": {
        "id": "L6mkfM6XGU33"
      }
    },
    {
      "cell_type": "code",
      "source": [
        "url = requests.get('https://www.infomoney.com.br/cotacoes/empresas-b3/')\n",
        "\n",
        "soup = BeautifulSoup(url.text, 'html.parser')\n",
        "\n",
        "ticker_name_list = soup.find_all('td', class_ = 'strong')\n",
        "\n",
        "ticker = str(ticker_name_list)\n",
        "\n",
        "tickers = re.findall('>.*</',ticker)\n",
        "\n",
        "tkrs = []\n",
        "\n",
        "# strnot = (\"11\",\"F\",\"34\")\n",
        "for i in tickers:\n",
        "  if \"11\" not in i and \"F\" not in i and \"34\" not in:\n",
        "    tkr = i.strip(\"</>\")\n",
        "    tkr = tkr + \".SA\"\n",
        "    tkrs.append(tkr)"
      ],
      "metadata": {
        "id": "_Q6RsPPi_TQk"
      },
      "execution_count": null,
      "outputs": []
    },
    {
      "cell_type": "code",
      "execution_count": null,
      "metadata": {
        "id": "I3XEbzA_1711"
      },
      "outputs": [],
      "source": [
        "# Yahoo finance requisition getting companies ticker\n",
        "sumary = Ticker(tkrs)\n",
        "# getting financial data of companies\n",
        "data = sumary.financial_data"
      ]
    },
    {
      "cell_type": "code",
      "source": [
        "#getting stocks beta\n",
        "dt = ['EBIT', 'NetDebt']\n",
        "addata = sumary.get_financial_data(dt,trailing=False)"
      ],
      "metadata": {
        "id": "VfI_b5ub8-Xx"
      },
      "execution_count": null,
      "outputs": []
    },
    {
      "cell_type": "code",
      "source": [
        "beta = sumary.key_stats"
      ],
      "metadata": {
        "id": "GjruE-pmnTYB"
      },
      "execution_count": null,
      "outputs": []
    },
    {
      "cell_type": "code",
      "source": [
        "price = sumary.price"
      ],
      "metadata": {
        "id": "OCUWZOUj8_6_"
      },
      "execution_count": null,
      "outputs": []
    },
    {
      "cell_type": "code",
      "execution_count": null,
      "metadata": {
        "id": "jraWBIbZ_LYx"
      },
      "outputs": [],
      "source": [
        "# Data transposing to pandas DataFrame format\n",
        "df = pd.DataFrame.from_dict(data)\n",
        "df = df.T\n",
        "\n",
        "dfbeta = pd.DataFrame.from_dict(beta)\n",
        "dfbeta = dfbeta.T\n",
        "\n",
        "dfprice = pd.DataFrame.from_dict(price)\n",
        "dfprice = dfprice.T"
      ]
    },
    {
      "cell_type": "code",
      "execution_count": null,
      "metadata": {
        "id": "Sb62d6W-ClLT"
      },
      "outputs": [],
      "source": [
        "# Exporting Excel file Dataframes\n",
        "df.to_excel(excel_writer='/content/drive/MyDrive/Data/XLXS/RAW/AtivosBr.xlsx',\n",
        "            sheet_name=\"stocks\")\n",
        "\n",
        "dfbeta.to_excel(excel_writer='/content/drive/MyDrive/Data/XLXS/RAW/Beta.xlsx'\n",
        "            ,sheet_name=\"key_stats\")\n",
        "\n",
        "addata.to_excel(excel_writer='/content/drive/MyDrive/Data/XLXS/RAW/Financial.xlsx',\n",
        "            sheet_name=\"financial_data\")\n",
        "\n",
        "dfprice.to_excel(excel_writer='/content/drive/MyDrive/Data/XLXS/RAW/Price.xlsx',\n",
        "            sheet_name=\"price\")"
      ]
    }
  ],
  "metadata": {
    "colab": {
      "provenance": [],
      "include_colab_link": true
    },
    "kernelspec": {
      "display_name": "Python 3",
      "name": "python3"
    },
    "language_info": {
      "name": "python"
    }
  },
  "nbformat": 4,
  "nbformat_minor": 0
}