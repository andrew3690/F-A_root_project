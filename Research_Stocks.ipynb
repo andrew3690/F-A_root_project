{
  "nbformat": 4,
  "nbformat_minor": 0,
  "metadata": {
    "colab": {
      "provenance": [],
      "include_colab_link": true
    },
    "kernelspec": {
      "name": "python3",
      "display_name": "Python 3"
    },
    "language_info": {
      "name": "python"
    }
  },
  "cells": [
    {
      "cell_type": "markdown",
      "metadata": {
        "id": "view-in-github",
        "colab_type": "text"
      },
      "source": [
        "<a href=\"https://colab.research.google.com/github/andrew3690/F-A_root_project/blob/Brazil/C%C3%B3pia_de_Research_Stocks.ipynb\" target=\"_parent\"><img src=\"https://colab.research.google.com/assets/colab-badge.svg\" alt=\"Open In Colab\"/></a>"
      ]
    },
    {
      "cell_type": "markdown",
      "source": [
        "# Downloading Modules:\n",
        "Spark, pyspark, Java.\n",
        "\n",
        "Bellow it is the old fashion way, risky not Recomended"
      ],
      "metadata": {
        "id": "N4JRZip-LxGM"
      }
    },
    {
      "cell_type": "code",
      "source": [
        "# # Installing Java\n",
        "# !apt-get install openjdk-8-jdk-headless -qq > /dev/null\n",
        "# # Dowload Spark\n",
        "# !wget -q https://archive.apache.org/dist/spark/spark-3.2.1/spark-3.2.1-bin-hadoop2.7.tgz\n",
        "# # Decompressing archives\n",
        "# !tar xf spark-3.2.1-bin-hadoop2.7.tgz\n",
        "# # installing findspark\n",
        "# !pip install -q findspark\n",
        "# # installing pyspark\n",
        "# !pip install pyspark==3.2.1"
      ],
      "metadata": {
        "id": "g7uf9T1SAwMe"
      },
      "execution_count": null,
      "outputs": []
    },
    {
      "cell_type": "code",
      "source": [
        "# Importing os library\n",
        "# import os\n",
        "# # Java envirorment variable\n",
        "# os.environ[\"JAVA_HOME\"] = \"/usr/lib/jvm/java-8-openjdk-amd64\"\n",
        "# # Spark envirorment variable\n",
        "# os.environ[\"SPARK_HOME\"] = \"/content/spark-3.1.2-bin-hadoop2.7\""
      ],
      "metadata": {
        "id": "V3ZS9Z2vYrxT"
      },
      "execution_count": null,
      "outputs": []
    },
    {
      "cell_type": "markdown",
      "source": [
        "# Better and consistent library that makes the same function as the code above\n",
        "\n"
      ],
      "metadata": {
        "id": "cTYBnobCPITD"
      }
    },
    {
      "cell_type": "code",
      "source": [
        "!pip install pyspark py4j"
      ],
      "metadata": {
        "colab": {
          "base_uri": "https://localhost:8080/"
        },
        "id": "boHa2yWHE2TA",
        "outputId": "2dd293d0-7923-4351-a6b7-66b27aea85f0"
      },
      "execution_count": null,
      "outputs": [
        {
          "output_type": "stream",
          "name": "stdout",
          "text": [
            "Looking in indexes: https://pypi.org/simple, https://us-python.pkg.dev/colab-wheels/public/simple/\n",
            "Requirement already satisfied: pyspark in /usr/local/lib/python3.8/dist-packages (3.3.1)\n",
            "Requirement already satisfied: py4j in /usr/local/lib/python3.8/dist-packages (0.10.9.5)\n"
          ]
        }
      ]
    },
    {
      "cell_type": "markdown",
      "source": [
        "**Importing modules and pandas library that will be used later.**"
      ],
      "metadata": {
        "id": "z0lpamJ2PhzT"
      }
    },
    {
      "cell_type": "code",
      "source": [
        "from pyspark.sql import SparkSession\n",
        "import pyspark\n",
        "import pandas as pd\n",
        "# import findspark\n",
        "\n",
        "# findspark.init()"
      ],
      "metadata": {
        "id": "oLpozDIlCsnf"
      },
      "execution_count": null,
      "outputs": []
    },
    {
      "cell_type": "code",
      "source": [
        "# instatianting spark instance\n",
        "spark = SparkSession.builder.master('local[*]').getOrCreate()\n",
        "\n",
        "spark"
      ],
      "metadata": {
        "colab": {
          "base_uri": "https://localhost:8080/",
          "height": 219
        },
        "id": "rLgNaJpJZWQf",
        "outputId": "375d6ea4-ab28-428e-9c70-d6742f2396f9"
      },
      "execution_count": null,
      "outputs": [
        {
          "output_type": "execute_result",
          "data": {
            "text/plain": [
              "<pyspark.sql.session.SparkSession at 0x7fd5433d53d0>"
            ],
            "text/html": [
              "\n",
              "            <div>\n",
              "                <p><b>SparkSession - in-memory</b></p>\n",
              "                \n",
              "        <div>\n",
              "            <p><b>SparkContext</b></p>\n",
              "\n",
              "            <p><a href=\"http://44b9229b6061:4040\">Spark UI</a></p>\n",
              "\n",
              "            <dl>\n",
              "              <dt>Version</dt>\n",
              "                <dd><code>v3.3.1</code></dd>\n",
              "              <dt>Master</dt>\n",
              "                <dd><code>local[*]</code></dd>\n",
              "              <dt>AppName</dt>\n",
              "                <dd><code>pyspark-shell</code></dd>\n",
              "            </dl>\n",
              "        </div>\n",
              "        \n",
              "            </div>\n",
              "        "
            ]
          },
          "metadata": {},
          "execution_count": 3
        }
      ]
    },
    {
      "cell_type": "code",
      "source": [
        "from google.colab import drive\n",
        "drive.mount('/content/gdrive', force_remount=True)"
      ],
      "metadata": {
        "colab": {
          "base_uri": "https://localhost:8080/"
        },
        "id": "70iuSZT29Tff",
        "outputId": "7fa9d57b-f0c2-4c24-d1d3-841ff740eb4c"
      },
      "execution_count": null,
      "outputs": [
        {
          "output_type": "stream",
          "name": "stdout",
          "text": [
            "Mounted at /content/gdrive\n"
          ]
        }
      ]
    },
    {
      "cell_type": "markdown",
      "source": [
        "# Next cells acquire parquet data from remote files, and transpose it to spark format"
      ],
      "metadata": {
        "id": "MEDLrMlgMaTM"
      }
    },
    {
      "cell_type": "code",
      "source": [
        "fille = \"/content/gdrive/MyDrive/Data/Parquet/Formated/BrStocksFormated.parquet\"\n",
        "\n",
        "stocks = spark\\\n",
        "        .read.format(\"parquet\")\\\n",
        "        .option(\"inferSchema\", \"True\")\\\n",
        "        .option(\"header\",\"True\")\\\n",
        "        .parquet(fille)"
      ],
      "metadata": {
        "id": "pFHrGmPvaSTT"
      },
      "execution_count": null,
      "outputs": []
    },
    {
      "cell_type": "code",
      "source": [
        "fille = \"/content/gdrive/MyDrive/Data/Parquet/Formated/Ebit.parquet\"\n",
        "\n",
        "ebit = spark\\\n",
        "        .read.format(\"parquet\")\\\n",
        "        .option(\"inferSchema\", \"True\")\\\n",
        "        .option(\"header\",\"True\")\\\n",
        "        .parquet(fille)"
      ],
      "metadata": {
        "id": "6zQPXfDcMtB5"
      },
      "execution_count": null,
      "outputs": []
    },
    {
      "cell_type": "code",
      "source": [
        "fille = \"/content/gdrive/MyDrive/Data/Parquet/Formated/Stat.parquet\"\n",
        "\n",
        "stat = spark\\\n",
        "        .read.format(\"parquet\")\\\n",
        "        .option(\"inferSchema\", \"True\")\\\n",
        "        .option(\"header\",\"True\")\\\n",
        "        .parquet(fille)"
      ],
      "metadata": {
        "id": "8ZQgZzJ3NCB6"
      },
      "execution_count": null,
      "outputs": []
    },
    {
      "cell_type": "code",
      "source": [
        "fille = \"/content/gdrive/MyDrive/Data/Parquet/Formated/Price.parquet\"\n",
        "\n",
        "price = spark\\\n",
        "        .read.format(\"parquet\")\\\n",
        "        .option(\"inferSchema\", \"True\")\\\n",
        "        .option(\"header\",\"True\")\\\n",
        "        .parquet(fille)"
      ],
      "metadata": {
        "id": "66vvcNGCCZoN"
      },
      "execution_count": null,
      "outputs": []
    },
    {
      "cell_type": "markdown",
      "source": [
        "Creating Tables in order to manipulate data in SQL format"
      ],
      "metadata": {
        "id": "SubWtlFnNJHn"
      }
    },
    {
      "cell_type": "code",
      "source": [
        "# Stocks table\n",
        "stocks.createOrReplaceTempView(\"General\")\n",
        "# Ebit table\n",
        "ebit.createOrReplaceTempView(\"Ebit\")\n",
        "# Stat table\n",
        "stat.createOrReplaceTempView(\"Stat\")\n",
        "# Price table\n",
        "price.createOrReplaceTempView(\"Price\")"
      ],
      "metadata": {
        "id": "UD38ZEtovRHd"
      },
      "execution_count": null,
      "outputs": []
    },
    {
      "cell_type": "markdown",
      "source": [
        "# Note 1: \n",
        "'DetToEquity' must be in percentage, try to get it done here or otherwise in Power Bi\n",
        "\n",
        "---\n",
        "\n",
        "# Note 2: \n",
        "Find a way to calculate Beta values from \n",
        "historical data get it from other sources, but try to calculate it localy (Talk with Felipe, about the period of time that will be used as 'ytd' or montlhy). \n",
        "\n",
        "# Fixed:\n",
        "Beta values could be acquired trough yahoo finance"
      ],
      "metadata": {
        "id": "nv8S8_6bCqBk"
      }
    },
    {
      "cell_type": "markdown",
      "metadata": {
        "id": "sKpxqfnyBnmn"
      },
      "source": [
        "Listing brazilian companies that will be researched and getting hystorical financial data\n",
        "filters that our Analyst indicates: Raking companies by: EBIT/EV > 0, ROE > 0, **Daily equity < 1.000.000.000**, revenueGrowth > 0 AND Will be done apart :(5-year-history) and all margins must be postive"
      ]
    },
    {
      "cell_type": "code",
      "source": [
        "# Already called at Calc Table\n",
        "Gen = spark.sql(\"\"\"\n",
        "SELECT * FROM General\n",
        "WHERE Moeda != 'USD' AND EBITDA != 0 AND ROA != 0 AND ROE != 0;\n",
        "\"\"\").createOrReplaceTempView(\"Gen\")"
      ],
      "metadata": {
        "id": "_KbqxMcV6ACp"
      },
      "execution_count": null,
      "outputs": []
    },
    {
      "cell_type": "code",
      "source": [
        "# Gen.show()"
      ],
      "metadata": {
        "id": "lf6g77UP6T4R"
      },
      "execution_count": null,
      "outputs": []
    },
    {
      "cell_type": "code",
      "source": [
        "# Already called at RSCH table\n",
        "Ebit = spark.sql(\"\"\"\n",
        "SELECT * FROM Ebit\n",
        "where Divida_Liquida != 0;\n",
        "\"\"\").createOrReplaceTempView(\"Ebit\")"
      ],
      "metadata": {
        "id": "FjPkiCwx8xeo"
      },
      "execution_count": null,
      "outputs": []
    },
    {
      "cell_type": "code",
      "source": [
        "# Ebit.show()"
      ],
      "metadata": {
        "id": "UBBFDO-Z89_w"
      },
      "execution_count": null,
      "outputs": []
    },
    {
      "cell_type": "code",
      "source": [
        "# Already called at RSCH table\n",
        "Price = spark.sql(\"\"\"\n",
        "SELECT * FROM Price\n",
        "WHERE valor_de_mercado != 0;\n",
        "\"\"\").createOrReplaceTempView(\"Price\")"
      ],
      "metadata": {
        "id": "RapgMFkNEhWt"
      },
      "execution_count": null,
      "outputs": []
    },
    {
      "cell_type": "code",
      "source": [
        "# Price.show()"
      ],
      "metadata": {
        "id": "u3wQByiGE9qO"
      },
      "execution_count": null,
      "outputs": []
    },
    {
      "cell_type": "markdown",
      "source": [
        "Alternative operations, while dealing with a little amount of data, and it can be joined here"
      ],
      "metadata": {
        "id": "abGJeNp68atZ"
      }
    },
    {
      "cell_type": "code",
      "source": [
        "Stat = spark.sql(\"\"\"\n",
        "SELECT * FROM Stat\n",
        "WHERE Beta != 0.5;\n",
        "\"\"\")#.createOrReplaceTempView(\"Stat\")"
      ],
      "metadata": {
        "id": "qa3_DcgM9cFg"
      },
      "execution_count": null,
      "outputs": []
    },
    {
      "cell_type": "code",
      "source": [
        "CALCULATE = spark.sql(\"\"\"\n",
        "SELECT * FROM Gen\n",
        "WHERE Margem_Bruta > 0.0 AND Margem_EBITIDA > 0.0 AND \n",
        "Margem_Operacional > 0.0 AND Margem_liquida > 0.0 AND \n",
        "ROE > 0 AND Crescimento_de_Receita_3T > 0;\n",
        "\"\"\")#.createOrReplaceTempView(\"Calc\")"
      ],
      "metadata": {
        "id": "_EHHjN73m9Zk"
      },
      "execution_count": null,
      "outputs": []
    },
    {
      "cell_type": "code",
      "source": [
        "CALCULATE.show()"
      ],
      "metadata": {
        "id": "BLS_f98nmjji",
        "outputId": "48485c91-f0eb-4f67-a848-4b06613ed014",
        "colab": {
          "base_uri": "https://localhost:8080/"
        }
      },
      "execution_count": null,
      "outputs": [
        {
          "output_type": "stream",
          "name": "stdout",
          "text": [
            "+--------+-----------+--------------------+-----------------------+-------------+---------------+-----------------+-----------------+-------------+-----------------+----------------+-----------+------------+-----------+--------------------+--------------------------+-------------------------+------------+--------------+------------------+--------------+-----+-------------------------+-----------------+\n",
            "|  Ticker|Preco_Atual|Fluxo_de_caixa_total|Fluxo_de_caixa_por_acao|       EBITDA|   Divida_total|Liquidez_imediata|Liquidez_corrente|Receita_total|Divida_Patrimonio|Receita_por_acao|        ROA|         ROE|Lucro_Bruto|Fluxo_de_Caixa_Livre|Fluxo_de_caixa_operacional|Crescimento_de_Receita_3T|Margem_Bruta|Margem_EBITIDA|Margem_Operacional|Margem_liquida|Moeda|Crescimento_dos_ganhos_3T|__index_level_0__|\n",
            "+--------+-----------+--------------------+-----------------------+-------------+---------------+-----------------+-----------------+-------------+-----------------+----------------+-----------+------------+-----------+--------------------+--------------------------+-------------------------+------------+--------------+------------------+--------------+-----+-------------------------+-----------------+\n",
            "|ARML3.SA|      12.61|        8.59353984E8|                  2.489|    3.80928E8|  1.886782976E9|            2.691|            2.789|    838937024|          165.614|           2.427|    0.06498|      0.1101|  187851000|           214194000|                -675387008|                    1.522|  0.45841998|       0.45406|        0.33633998|        0.1475|  BRL|                    1.841|                7|\n",
            "|TTEN3.SA|       9.78|       1.230275968E9|                  2.479| 4.05246016E8|  1.168755968E9|            0.675|            1.609|   6364569088|           45.072|          12.847|    0.04606|  0.22077999|  701054000|          -542673984|                 349136000|                    0.133|  0.13319999|       0.06367|           0.05894|   0.080790006|  BRL|                    0.699|               10|\n",
            "|VITT3.SA|      11.66|            7.6976E7|                  0.541| 1.89687008E8|   2.64248992E8|            1.318|            2.058|    892286016|           47.096|           6.291|0.122650005|     0.27642|  284203000|           -15790000|                 130406000|                    0.085|  0.37012002|    0.21259001|           0.20659|       0.15913|  BRL|                     0.27|               15|\n",
            "|CXSE3.SA|       8.66|       1.272550016E9|                  0.424|2.892784896E9|            0.0|            9.218|            9.229|   3409924096|             null|           1.137|    0.15845|  0.22600001| 2376171000|          1858887808|                2275187968|                    0.595|     0.92936|       0.84834|           0.84834|       0.74776|  BRL|                    0.557|               18|\n",
            "|GGPS3.SA|      12.42|       1.295590016E9|                  1.935| 9.64734016E8|  1.937756032E9|            1.763|            1.895|   8658241536|           77.118|          12.581|    0.07723|     0.19542| 1115198000|            15652500|                 278648992|                    0.463|     0.16126|   0.111420006|           0.09313|   0.052789997|  BRL|                    0.159|               21|\n",
            "|BLAU3.SA|      27.42|        7.63532992E8|                  4.294|     4.4134E8|   3.16155008E8|             2.79|            4.066|   1390107008|           17.984|             7.8|0.109840006|  0.18247999|  665934000|            74172752|                 266750000|                    0.131|     0.46948|       0.31749|           0.30425|       0.22556|  BRL|                   -0.208|               24|\n",
            "|ASAI3.SA|      21.01|       4.209999872E9|                  3.122|      3.272E9|1.9938000896E10|            0.434|            0.909|  50121998336|          554.604|          25.002|0.059559997|     0.44722| 7145000000|          -649121984|                5054000128|                    0.275|     0.16388|       0.06528|       0.054369997|       0.02675|  BRL|                    -0.67|               26|\n",
            "|JSLG3.SA|       6.32|        6.70598976E8|                  2.357| 8.99121024E8|  4.269693952E9|            1.725|            1.866|   5687723008|           307.54|          26.467|    0.06403|  0.11305001|  660666000|           207249376|                 124350000|                     0.38|     0.16534|       0.15808|           0.12316|       0.02716|  BRL|                    -0.55|               27|\n",
            "|CSED3.SA|       3.59|        9.28204992E8|                   2.44| 4.17559008E8|  2.379013888E9|            1.799|            1.836|   1989447936|          165.285|           5.211|    0.04453|     0.03269|  860667000|            19367000|                 497688992|                    0.134|  0.47686002|    0.20989001|        0.17082001|       0.02372|  BRL|                    -0.75|               33|\n",
            "|BMOB3.SA|      16.06|        5.46473024E8|                  6.248|    1.06037E8|       1.1834E7|            3.187|             3.42|   1417907968|            1.113|          16.076|0.047220003|     0.08379|  181841000|            50544624|                 113430000|                    3.955|     0.21423|       0.07478|           0.06826|  0.0028900001|  BRL|                    0.993|               34|\n",
            "|JALL3.SA|       7.22|       1.654043008E9|                  5.613|1.102230016E9|   2.86216192E9|            2.513|            3.687|   1665268992|          170.728|           5.652|0.097799994|     0.40236|  755332000|            91650496|                 608032000|                    0.455|  0.43133998|    0.66189003|           0.41647|       0.34829|  BRL|                     null|               35|\n",
            "|VAMO3.SA|      14.35|       3.136510976E9|                  3.083|1.654354944E9|   7.83490816E9|            1.445|            1.722|   4329248768|          214.317|           4.154|    0.07653|     0.16669| 1033250000|           970869760|               -5199758848|                     0.66|  0.41511002|    0.38213003|            0.3194|       0.12291|  BRL|                    0.236|               38|\n",
            "|INTB3.SA|      31.32|        9.03052032E8|                  2.756| 4.70675008E8|   6.63209984E8|             1.15|            2.059|   3921576960|           30.821|           11.97|    0.07138|     0.20878|  909276000|           -77099752|                 312759008|                    0.492|     0.28324|       0.12002|       0.109469995|       0.10702|  BRL|                     0.37|               39|\n",
            "|NGRD3.SA|       1.45|        2.68671008E8|                  1.176|     2.4259E7|        7.328E7|            2.432|            2.482|    263092000|            16.23|           1.129|0.011410001|0.0017499999|  163405000|             7244500|                  19170000|                    0.101|     0.64858|   0.092209995|           0.05185|       0.00612|  BRL|                    0.067|               40|\n",
            "|GMAT3.SA|       6.92|           6.94792E8|                  0.314|1.414308992E9|  3.158714112E9|            1.439|            3.571|  20145016832|           43.681|           9.118|    0.06967|     0.14257| 3702442000|         -1807041792|                -120054000|                    0.362|     0.22389|       0.07021|           0.05974|       0.04721|  BRL|                    0.083|               46|\n",
            "|BOAS3.SA|       7.74|       1.346258048E9|                  2.538| 4.11319008E8|       3.1366E7|             5.16|            5.231|    857664000|            1.414|           1.614|    0.06059|     0.12623|  336527000|           259839504|                 484721984|                    0.105|     0.50319|    0.47958001|           0.29587|       0.31053|  BRL|                    0.279|               49|\n",
            "|MELK3.SA|       3.12|        3.37625984E8|                   1.67|    1.07006E8|   1.38436992E8|            0.904|            2.308|   1054971008|           10.662|           5.218|0.030769998|      0.1125|  185024000|            49836752|                -151242000|                    0.642|  0.23622999|       0.10143|           0.09726|       0.10526|  BRL|                     0.17|               50|\n",
            "|CURY3.SA|      12.74|           4.67612E8|                  1.613| 4.48415008E8|   4.56020992E8|            1.392|            2.051|   2168038912|           52.276|           7.428|0.107889995|     0.44529|  644671000|           129941872|                 404600992|                    0.373|     0.36973|    0.20683001|           0.19754|    0.15767999|  BRL|                    0.333|               52|\n",
            "|PLPL3.SA|       4.66|        1.91167008E8|                  0.964|     1.5335E8|         4.69E8|             1.53|            4.507|   1354068992|          122.241|           6.786|    0.06235|  0.29033002|  396769000|          -134297376|                  58601000|                    0.221|     0.28108|   0.113249995|           0.09754|        0.0763|  BRL|                   -0.144|               53|\n",
            "|PETZ3.SA|       6.53|        2.62412992E8|                  0.568| 2.37991008E8|  1.165281024E9|            1.052|            1.669|   2638740992|           63.637|           5.881|    0.03111|      0.0498| 1012866000|          -269870624|                 129519000|                    0.357|  0.48685002|       0.09019|           0.05286|        0.0228|  BRL|                   -0.594|               54|\n",
            "+--------+-----------+--------------------+-----------------------+-------------+---------------+-----------------+-----------------+-------------+-----------------+----------------+-----------+------------+-----------+--------------------+--------------------------+-------------------------+------------+--------------+------------------+--------------+-----+-------------------------+-----------------+\n",
            "only showing top 20 rows\n",
            "\n"
          ]
        }
      ]
    },
    {
      "cell_type": "code",
      "source": [
        "RSCH = spark.sql(\"\"\"\n",
        "SELECT p.Ticker, p.valor_de_mercado, p.volume_de_mercado, e.EBIT, e.Divida_Liquida FROM Price as p, Ebit as e\n",
        "WHERE (p.valor_de_mercado + e.Divida_Liquida)/e.EBIT > 0.0 AND \n",
        "p.Ticker == e.Ticker; \n",
        "\"\"\")#.createOrReplaceTempView(\"RSCH\")"
      ],
      "metadata": {
        "id": "uGV8lO4pNWcT"
      },
      "execution_count": null,
      "outputs": []
    },
    {
      "cell_type": "code",
      "source": [
        "# DFT = spark.sql(\"\"\"\n",
        "# SELECT e.Ticker,\n",
        "#        Preco_Atual,\n",
        "#        Fluxo_de_caixa_total,\n",
        "#        Fluxo_de_caixa_por_acao,\n",
        "#        EBITDA,\n",
        "#        Divida_total,\n",
        "#        Liquidez_imediata,\n",
        "#        Liquidez_corrente,\n",
        "#        Receita_total,\n",
        "#        Divida_Patrimonio,\n",
        "#        Receita_por_acao,\n",
        "#        ROA,\n",
        "#        ROE,\n",
        "#        Lucro_Bruto,\n",
        "#        Fluxo_de_Caixa_Livre,\n",
        "#        Fluxo_de_caixa_operacional,\n",
        "#        Crescimento_de_Receita_3T,\n",
        "#        Margem_Bruta,\n",
        "#        Margem_EBITIDA,\n",
        "#        Margem_Operacional,\n",
        "#        Margem_liquida,\n",
        "#        Moeda,\n",
        "#        Crescimento_dos_ganhos_3T,\n",
        "#        EBIT,\n",
        "#        Divida_Liquida\n",
        "# FROM General g\n",
        "# LEFT JOIN Ebit e ON g.Ticker = e.Ticker\n",
        "# \"\"\").createOrReplaceTempView(\"Filtered\")"
      ],
      "metadata": {
        "id": "QQb5boETie0X"
      },
      "execution_count": null,
      "outputs": []
    },
    {
      "cell_type": "code",
      "source": [
        "# Stat = spark.sql(\"\"\"\n",
        "# SELECT f.Ticker,\n",
        "#        Preco_Atual,\n",
        "#        Fluxo_de_caixa_total,\n",
        "#        Fluxo_de_caixa_por_acao,\n",
        "#        EBITDA,\n",
        "#        Divida_total,\n",
        "#        Liquidez_imediata,\n",
        "#        Liquidez_corrente,\n",
        "#        Receita_total,\n",
        "#        Divida_Patrimonio,\n",
        "#        Receita_por_acao,\n",
        "#        ROA,\n",
        "#        ROE,\n",
        "#        Lucro_Bruto,\n",
        "#        Fluxo_de_Caixa_Livre,\n",
        "#        Fluxo_de_caixa_operacional,\n",
        "#        Crescimento_de_Receita_3T,\n",
        "#        Margem_Bruta,\n",
        "#        Margem_EBITIDA,\n",
        "#        Margem_Operacional,\n",
        "#        Margem_liquida,\n",
        "#        Moeda,\n",
        "#        Crescimento_dos_ganhos_3T,\n",
        "#        EBIT,\n",
        "#        Divida_Liquida,\n",
        "#       Beta,\n",
        "#       Margem_de_Lucro,\n",
        "#       Crescimento_de_receitas_4T,\n",
        "#       Valor_do_ultimo_dividendo\n",
        "# FROM Filtered f\n",
        "# LEFT JOIN Stat s ON f.Ticker = s.Ticker;\n",
        "# \"\"\").createOrReplaceTempView(\"Prstocks\")"
      ],
      "metadata": {
        "id": "u9cs56ygQ8fc"
      },
      "execution_count": null,
      "outputs": []
    },
    {
      "cell_type": "code",
      "source": [
        "# DF = spark.sql(\"\"\"\n",
        "# SELECT a.Ticker,\n",
        "#        Preco_Atual,\n",
        "#        Fluxo_de_caixa_total,\n",
        "#        Fluxo_de_caixa_por_acao,\n",
        "#        EBITDA,\n",
        "#        Divida_total,\n",
        "#        Liquidez_imediata,\n",
        "#        Liquidez_corrente,\n",
        "#        Receita_total,\n",
        "#        Divida_Patrimonio,\n",
        "#        Receita_por_acao,\n",
        "#        ROA,\n",
        "#        ROE,\n",
        "#        Lucro_Bruto,\n",
        "#        Fluxo_de_Caixa_Livre,\n",
        "#        Fluxo_de_caixa_operacional,\n",
        "#        Crescimento_de_Receita_3T,\n",
        "#        Margem_Bruta,\n",
        "#        Margem_EBITIDA,\n",
        "#        Margem_Operacional,\n",
        "#        Margem_liquida,\n",
        "#        Moeda,\n",
        "#        Crescimento_dos_ganhos_3T,\n",
        "#        EBIT,\n",
        "#        Divida_Liquida,\n",
        "#        Beta,\n",
        "#        Margem_de_Lucro,\n",
        "#        Crescimento_de_receitas_4T,\n",
        "#        Valor_do_ultimo_dividendo,\n",
        "#        valor_de_mercado\n",
        "# FROM Prstocks a\n",
        "# LEFT JOIN Price p ON a.Ticker = p.Ticker;\n",
        "# \"\"\").createOrReplaceTempView('Stocks')"
      ],
      "metadata": {
        "id": "GV26cS4ZCuWq"
      },
      "execution_count": null,
      "outputs": []
    },
    {
      "cell_type": "markdown",
      "source": [
        "ev = número total de papeis x cotação + divida liquida\n",
        "ev = market value +  liquid debt \n",
        "\n",
        "PSR = PREÇO DA AÇÃO / RECEITA LIQUIDA POR AÇÃO "
      ],
      "metadata": {
        "id": "ZGP5as1CK1uo"
      }
    },
    {
      "cell_type": "code",
      "source": [
        "# df_final = CALCULATE.toPandas()"
      ],
      "metadata": {
        "id": "_KMykScpd0dc"
      },
      "execution_count": null,
      "outputs": []
    },
    {
      "cell_type": "code",
      "source": [
        "# df_final.to_excel(\"/content/gdrive/MyDrive/Data/XLSX/Final/StocksFinal.xlsx\",\n",
        "#                   sheet_name=\"Stocks\")"
      ],
      "metadata": {
        "id": "XLHH-FBIgAzy"
      },
      "execution_count": null,
      "outputs": []
    },
    {
      "cell_type": "markdown",
      "source": [
        "Pandas setting DataFrame to pandas format:"
      ],
      "metadata": {
        "id": "7MJkJf8SguRE"
      }
    },
    {
      "cell_type": "code",
      "source": [
        "df_stat = Stat.toPandas()\n",
        "\n",
        "df_calc = CALCULATE.toPandas()\n",
        "\n",
        "df_rsc = RSCH.toPandas()"
      ],
      "metadata": {
        "id": "-FFxq6uLe49F"
      },
      "execution_count": null,
      "outputs": []
    },
    {
      "cell_type": "code",
      "source": [
        "df_stat.to_excel(\"/content/gdrive/MyDrive/Data/XLSX/Final/Stat.xlsx\",\n",
        "                 sheet_name=\"stat\")\n",
        "\n",
        "df_calc.to_excel(\"/content/gdrive/MyDrive/Data/XLSX/Final/Calcl.xlsx\",\n",
        "                 sheet_name=\"calc\")\n",
        "\n",
        "df_rsc.to_excel(\"/content/gdrive/MyDrive/Data/XLSX/Final/RSCH.xlsx\",\n",
        "                sheet_name=\"research\")"
      ],
      "metadata": {
        "id": "BNc_zBG8j3zL"
      },
      "execution_count": null,
      "outputs": []
    }
  ]
}
