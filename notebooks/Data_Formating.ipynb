{
  "cells": [
    {
      "cell_type": "markdown",
      "metadata": {
        "colab_type": "text",
        "id": "view-in-github"
      },
      "source": [
        "<a href=\"https://colab.research.google.com/github/andrew3690/F-A_root_project/blob/Brazil/Data_Formating.ipynb\" target=\"_parent\"><img src=\"https://colab.research.google.com/assets/colab-badge.svg\" alt=\"Open In Colab\"/></a>"
      ]
    },
    {
      "cell_type": "code",
      "execution_count": 75,
      "metadata": {},
      "outputs": [
        {
          "name": "stdout",
          "output_type": "stream",
          "text": [
            "Requirement already satisfied: pyarrow in c:\\users\\video\\appdata\\local\\programs\\python\\python311\\lib\\site-packages (11.0.0)\n",
            "Requirement already satisfied: numpy>=1.16.6 in c:\\users\\video\\appdata\\local\\programs\\python\\python311\\lib\\site-packages (from pyarrow) (1.24.2)\n"
          ]
        },
        {
          "name": "stderr",
          "output_type": "stream",
          "text": [
            "\n",
            "[notice] A new release of pip available: 22.3.1 -> 23.0\n",
            "[notice] To update, run: python.exe -m pip install --upgrade pip\n"
          ]
        },
        {
          "name": "stdout",
          "output_type": "stream",
          "text": [
            "Requirement already satisfied: fastparquet in c:\\users\\video\\appdata\\local\\programs\\python\\python311\\lib\\site-packages (2023.1.0)\n",
            "Requirement already satisfied: pandas>=1.5.0 in c:\\users\\video\\appdata\\local\\programs\\python\\python311\\lib\\site-packages (from fastparquet) (1.5.3)\n",
            "Requirement already satisfied: numpy>=1.20.3 in c:\\users\\video\\appdata\\local\\programs\\python\\python311\\lib\\site-packages (from fastparquet) (1.24.2)\n",
            "Requirement already satisfied: cramjam>=2.3 in c:\\users\\video\\appdata\\local\\programs\\python\\python311\\lib\\site-packages (from fastparquet) (2.6.2)\n",
            "Requirement already satisfied: fsspec in c:\\users\\video\\appdata\\local\\programs\\python\\python311\\lib\\site-packages (from fastparquet) (2023.1.0)\n",
            "Requirement already satisfied: packaging in c:\\users\\video\\appdata\\local\\programs\\python\\python311\\lib\\site-packages (from fastparquet) (23.0)\n",
            "Requirement already satisfied: python-dateutil>=2.8.1 in c:\\users\\video\\appdata\\local\\programs\\python\\python311\\lib\\site-packages (from pandas>=1.5.0->fastparquet) (2.8.2)\n",
            "Requirement already satisfied: pytz>=2020.1 in c:\\users\\video\\appdata\\local\\programs\\python\\python311\\lib\\site-packages (from pandas>=1.5.0->fastparquet) (2022.7.1)\n",
            "Requirement already satisfied: six>=1.5 in c:\\users\\video\\appdata\\local\\programs\\python\\python311\\lib\\site-packages (from python-dateutil>=2.8.1->pandas>=1.5.0->fastparquet) (1.16.0)\n"
          ]
        },
        {
          "name": "stderr",
          "output_type": "stream",
          "text": [
            "\n",
            "[notice] A new release of pip available: 22.3.1 -> 23.0\n",
            "[notice] To update, run: python.exe -m pip install --upgrade pip\n"
          ]
        }
      ],
      "source": [
        "! pip install pyarrow\n",
        "! pip install fastparquet "
      ]
    },
    {
      "cell_type": "code",
      "execution_count": 76,
      "metadata": {},
      "outputs": [],
      "source": [
        "import pandas as pd"
      ]
    },
    {
      "attachments": {},
      "cell_type": "markdown",
      "metadata": {},
      "source": [
        "Gooogle Colab Version"
      ]
    },
    {
      "cell_type": "code",
      "execution_count": 77,
      "metadata": {
        "colab": {
          "base_uri": "https://localhost:8080/"
        },
        "id": "uXplg2kQTyLT",
        "outputId": "ffe26d40-63c0-4d05-ae70-87e3c69031a6"
      },
      "outputs": [
        {
          "data": {
            "text/plain": [
              "\" \\nfrom google.colab import drive\\ndrive.mount('/content/gdrive', force_remount=True)\\n \""
            ]
          },
          "execution_count": 77,
          "metadata": {},
          "output_type": "execute_result"
        }
      ],
      "source": [
        "\"\"\" \n",
        "from google.colab import drive\n",
        "drive.mount('/content/gdrive', force_remount=True)\n",
        " \"\"\""
      ]
    },
    {
      "attachments": {},
      "cell_type": "markdown",
      "metadata": {},
      "source": [
        "Local Machine Version"
      ]
    },
    {
      "cell_type": "code",
      "execution_count": 78,
      "metadata": {},
      "outputs": [],
      "source": [
        "stocks = pd.read_excel(r'C:\\Users\\video\\Desktop\\Projetos\\API\\F-A_root_project\\RAW_DATA\\XLSX\\AtivosBR.xlsx',\n",
        "           sheet_name=\"stocks\",)\n",
        "\n",
        "key_stats = pd.read_excel(r'C:\\Users\\video\\Desktop\\Projetos\\API\\F-A_root_project\\RAW_DATA\\XLSX\\Beta.xlsx',\n",
        "                sheet_name=\"key_stats\")\n",
        "\n",
        "beta = pd.read_excel(r'C:\\Users\\video\\Desktop\\Projetos\\API\\F-A_root_project\\RAW_DATA\\XLSX\\Financial.xlsx',\n",
        "            sheet_name=\"financial_data\")\n",
        "\n",
        "price = pd.read_excel(r'C:\\Users\\video\\Desktop\\Projetos\\API\\F-A_root_project\\RAW_DATA\\XLSX\\Price.xlsx',\n",
        "            sheet_name=\"price\") "
      ]
    },
    {
      "cell_type": "code",
      "execution_count": 79,
      "metadata": {
        "id": "0W_3XdLqUU3o"
      },
      "outputs": [
        {
          "data": {
            "text/plain": [
              "\" \\nstocks = pd.read_excel('/content/gdrive/MyDrive/Data/XLXS/RAW/AtivosBr.xlsx',\\n                       sheet_name='stocks')\\n\\nkey_stats = pd.read_excel('/content/gdrive/MyDrive/Data/XLXS/RAW/Beta.xlsx',\\n                       sheet_name='key_stats')\\n\\nbeta = pd.read_excel('/content/gdrive/MyDrive/Data/XLXS/RAW/Financial.xlsx',\\n                      sheet_name='financial_data')\\n\\nprice = pd.read_excel('/content/gdrive/MyDrive/Data/XLXS/RAW/Price.xlsx',\\n                      sheet_name='price')\\n \""
            ]
          },
          "execution_count": 79,
          "metadata": {},
          "output_type": "execute_result"
        }
      ],
      "source": [
        "\"\"\" \n",
        "stocks = pd.read_excel('/content/gdrive/MyDrive/Data/XLXS/RAW/AtivosBr.xlsx',\n",
        "                       sheet_name='stocks')\n",
        "\n",
        "key_stats = pd.read_excel('/content/gdrive/MyDrive/Data/XLXS/RAW/Beta.xlsx',\n",
        "                       sheet_name='key_stats')\n",
        "\n",
        "beta = pd.read_excel('/content/gdrive/MyDrive/Data/XLXS/RAW/Financial.xlsx',\n",
        "                      sheet_name='financial_data')\n",
        "\n",
        "price = pd.read_excel('/content/gdrive/MyDrive/Data/XLXS/RAW/Price.xlsx',\n",
        "                      sheet_name='price')\n",
        " \"\"\"                      "
      ]
    },
    {
      "cell_type": "markdown",
      "metadata": {
        "id": "7jaSU0T261uC"
      },
      "source": [
        "The next cells format the stocks excel file"
      ]
    },
    {
      "cell_type": "code",
      "execution_count": 80,
      "metadata": {
        "colab": {
          "base_uri": "https://localhost:8080/"
        },
        "id": "Amc-BaCgXvBa",
        "outputId": "3ae0bcd7-9c4d-47e0-de0a-9fdd83a10c06"
      },
      "outputs": [
        {
          "data": {
            "text/html": [
              "<div>\n",
              "<style scoped>\n",
              "    .dataframe tbody tr th:only-of-type {\n",
              "        vertical-align: middle;\n",
              "    }\n",
              "\n",
              "    .dataframe tbody tr th {\n",
              "        vertical-align: top;\n",
              "    }\n",
              "\n",
              "    .dataframe thead th {\n",
              "        text-align: right;\n",
              "    }\n",
              "</style>\n",
              "<table border=\"1\" class=\"dataframe\">\n",
              "  <thead>\n",
              "    <tr style=\"text-align: right;\">\n",
              "      <th></th>\n",
              "      <th>Ticker</th>\n",
              "      <th>currentPrice</th>\n",
              "      <th>totalCash</th>\n",
              "      <th>totalCashPerShare</th>\n",
              "      <th>ebitda</th>\n",
              "      <th>totalDebt</th>\n",
              "      <th>quickRatio</th>\n",
              "      <th>currentRatio</th>\n",
              "      <th>totalRevenue</th>\n",
              "      <th>debtToEquity</th>\n",
              "      <th>...</th>\n",
              "      <th>grossProfits</th>\n",
              "      <th>freeCashflow</th>\n",
              "      <th>operatingCashflow</th>\n",
              "      <th>revenueGrowth</th>\n",
              "      <th>grossMargins</th>\n",
              "      <th>ebitdaMargins</th>\n",
              "      <th>operatingMargins</th>\n",
              "      <th>profitMargins</th>\n",
              "      <th>financialCurrency</th>\n",
              "      <th>earningsGrowth</th>\n",
              "    </tr>\n",
              "  </thead>\n",
              "  <tbody>\n",
              "    <tr>\n",
              "      <th>0</th>\n",
              "      <td>ZAMP3.SA</td>\n",
              "      <td>5.06</td>\n",
              "      <td>548660992</td>\n",
              "      <td>2.036</td>\n",
              "      <td>312464992</td>\n",
              "      <td>1978930944</td>\n",
              "      <td>0.95</td>\n",
              "      <td>1.172</td>\n",
              "      <td>3506001920</td>\n",
              "      <td>135.823</td>\n",
              "      <td>...</td>\n",
              "      <td>1681686000</td>\n",
              "      <td>51636000</td>\n",
              "      <td>386961984</td>\n",
              "      <td>0.28</td>\n",
              "      <td>0.63176</td>\n",
              "      <td>0.08912</td>\n",
              "      <td>0.02536</td>\n",
              "      <td>-0.02115</td>\n",
              "      <td>BRL</td>\n",
              "      <td>NaN</td>\n",
              "    </tr>\n",
              "    <tr>\n",
              "      <th>1</th>\n",
              "      <td>N2ET34.SA</td>\n",
              "      <td>16.41</td>\n",
              "      <td>1636262016</td>\n",
              "      <td>4.979</td>\n",
              "      <td>-130562000</td>\n",
              "      <td>1567572992</td>\n",
              "      <td>5.218</td>\n",
              "      <td>5.352</td>\n",
              "      <td>894137024</td>\n",
              "      <td>263.906</td>\n",
              "      <td>...</td>\n",
              "      <td>509292000</td>\n",
              "      <td>83272872</td>\n",
              "      <td>86089000</td>\n",
              "      <td>0.473</td>\n",
              "      <td>0.76814</td>\n",
              "      <td>-0.14602</td>\n",
              "      <td>-0.21383</td>\n",
              "      <td>-0.2516</td>\n",
              "      <td>USD</td>\n",
              "      <td>NaN</td>\n",
              "    </tr>\n",
              "    <tr>\n",
              "      <th>2</th>\n",
              "      <td>M1TA34.SA</td>\n",
              "      <td>35.4</td>\n",
              "      <td>40738000896</td>\n",
              "      <td>0.55</td>\n",
              "      <td>42240999424</td>\n",
              "      <td>27406999552</td>\n",
              "      <td>2.006</td>\n",
              "      <td>2.203</td>\n",
              "      <td>116608999424</td>\n",
              "      <td>21.801</td>\n",
              "      <td>...</td>\n",
              "      <td>92855000000</td>\n",
              "      <td>15468874752</td>\n",
              "      <td>50474999808</td>\n",
              "      <td>-0.045</td>\n",
              "      <td>0.79629</td>\n",
              "      <td>0.36224</td>\n",
              "      <td>0.28776</td>\n",
              "      <td>0.19895</td>\n",
              "      <td>USD</td>\n",
              "      <td>-0.52</td>\n",
              "    </tr>\n",
              "    <tr>\n",
              "      <th>3</th>\n",
              "      <td>AERI3.SA</td>\n",
              "      <td>1.28</td>\n",
              "      <td>856392000</td>\n",
              "      <td>1.123</td>\n",
              "      <td>261630000</td>\n",
              "      <td>1573576960</td>\n",
              "      <td>1.12</td>\n",
              "      <td>2.194</td>\n",
              "      <td>2403173888</td>\n",
              "      <td>167.031</td>\n",
              "      <td>...</td>\n",
              "      <td>286975000</td>\n",
              "      <td>-166171008</td>\n",
              "      <td>41159000</td>\n",
              "      <td>-0.006</td>\n",
              "      <td>0.11629</td>\n",
              "      <td>0.10887</td>\n",
              "      <td>0.0863</td>\n",
              "      <td>-0.01464</td>\n",
              "      <td>BRL</td>\n",
              "      <td>NaN</td>\n",
              "    </tr>\n",
              "    <tr>\n",
              "      <th>4</th>\n",
              "      <td>ICBR3.SA</td>\n",
              "      <td>Quote not found for ticker symbol: ICBR3.SA</td>\n",
              "      <td>Quote not found for ticker symbol: ICBR3.SA</td>\n",
              "      <td>Quote not found for ticker symbol: ICBR3.SA</td>\n",
              "      <td>Quote not found for ticker symbol: ICBR3.SA</td>\n",
              "      <td>Quote not found for ticker symbol: ICBR3.SA</td>\n",
              "      <td>Quote not found for ticker symbol: ICBR3.SA</td>\n",
              "      <td>Quote not found for ticker symbol: ICBR3.SA</td>\n",
              "      <td>Quote not found for ticker symbol: ICBR3.SA</td>\n",
              "      <td>Quote not found for ticker symbol: ICBR3.SA</td>\n",
              "      <td>...</td>\n",
              "      <td>Quote not found for ticker symbol: ICBR3.SA</td>\n",
              "      <td>Quote not found for ticker symbol: ICBR3.SA</td>\n",
              "      <td>Quote not found for ticker symbol: ICBR3.SA</td>\n",
              "      <td>Quote not found for ticker symbol: ICBR3.SA</td>\n",
              "      <td>Quote not found for ticker symbol: ICBR3.SA</td>\n",
              "      <td>Quote not found for ticker symbol: ICBR3.SA</td>\n",
              "      <td>Quote not found for ticker symbol: ICBR3.SA</td>\n",
              "      <td>Quote not found for ticker symbol: ICBR3.SA</td>\n",
              "      <td>Quote not found for ticker symbol: ICBR3.SA</td>\n",
              "      <td>Quote not found for ticker symbol: ICBR3.SA</td>\n",
              "    </tr>\n",
              "    <tr>\n",
              "      <th>...</th>\n",
              "      <td>...</td>\n",
              "      <td>...</td>\n",
              "      <td>...</td>\n",
              "      <td>...</td>\n",
              "      <td>...</td>\n",
              "      <td>...</td>\n",
              "      <td>...</td>\n",
              "      <td>...</td>\n",
              "      <td>...</td>\n",
              "      <td>...</td>\n",
              "      <td>...</td>\n",
              "      <td>...</td>\n",
              "      <td>...</td>\n",
              "      <td>...</td>\n",
              "      <td>...</td>\n",
              "      <td>...</td>\n",
              "      <td>...</td>\n",
              "      <td>...</td>\n",
              "      <td>...</td>\n",
              "      <td>...</td>\n",
              "      <td>...</td>\n",
              "    </tr>\n",
              "    <tr>\n",
              "      <th>374</th>\n",
              "      <td>CESP6.SA</td>\n",
              "      <td>Quote not found for ticker symbol: CESP6.SA</td>\n",
              "      <td>Quote not found for ticker symbol: CESP6.SA</td>\n",
              "      <td>Quote not found for ticker symbol: CESP6.SA</td>\n",
              "      <td>Quote not found for ticker symbol: CESP6.SA</td>\n",
              "      <td>Quote not found for ticker symbol: CESP6.SA</td>\n",
              "      <td>Quote not found for ticker symbol: CESP6.SA</td>\n",
              "      <td>Quote not found for ticker symbol: CESP6.SA</td>\n",
              "      <td>Quote not found for ticker symbol: CESP6.SA</td>\n",
              "      <td>Quote not found for ticker symbol: CESP6.SA</td>\n",
              "      <td>...</td>\n",
              "      <td>Quote not found for ticker symbol: CESP6.SA</td>\n",
              "      <td>Quote not found for ticker symbol: CESP6.SA</td>\n",
              "      <td>Quote not found for ticker symbol: CESP6.SA</td>\n",
              "      <td>Quote not found for ticker symbol: CESP6.SA</td>\n",
              "      <td>Quote not found for ticker symbol: CESP6.SA</td>\n",
              "      <td>Quote not found for ticker symbol: CESP6.SA</td>\n",
              "      <td>Quote not found for ticker symbol: CESP6.SA</td>\n",
              "      <td>Quote not found for ticker symbol: CESP6.SA</td>\n",
              "      <td>Quote not found for ticker symbol: CESP6.SA</td>\n",
              "      <td>Quote not found for ticker symbol: CESP6.SA</td>\n",
              "    </tr>\n",
              "    <tr>\n",
              "      <th>375</th>\n",
              "      <td>CESP5.SA</td>\n",
              "      <td>Quote not found for ticker symbol: CESP5.SA</td>\n",
              "      <td>Quote not found for ticker symbol: CESP5.SA</td>\n",
              "      <td>Quote not found for ticker symbol: CESP5.SA</td>\n",
              "      <td>Quote not found for ticker symbol: CESP5.SA</td>\n",
              "      <td>Quote not found for ticker symbol: CESP5.SA</td>\n",
              "      <td>Quote not found for ticker symbol: CESP5.SA</td>\n",
              "      <td>Quote not found for ticker symbol: CESP5.SA</td>\n",
              "      <td>Quote not found for ticker symbol: CESP5.SA</td>\n",
              "      <td>Quote not found for ticker symbol: CESP5.SA</td>\n",
              "      <td>...</td>\n",
              "      <td>Quote not found for ticker symbol: CESP5.SA</td>\n",
              "      <td>Quote not found for ticker symbol: CESP5.SA</td>\n",
              "      <td>Quote not found for ticker symbol: CESP5.SA</td>\n",
              "      <td>Quote not found for ticker symbol: CESP5.SA</td>\n",
              "      <td>Quote not found for ticker symbol: CESP5.SA</td>\n",
              "      <td>Quote not found for ticker symbol: CESP5.SA</td>\n",
              "      <td>Quote not found for ticker symbol: CESP5.SA</td>\n",
              "      <td>Quote not found for ticker symbol: CESP5.SA</td>\n",
              "      <td>Quote not found for ticker symbol: CESP5.SA</td>\n",
              "      <td>Quote not found for ticker symbol: CESP5.SA</td>\n",
              "    </tr>\n",
              "    <tr>\n",
              "      <th>376</th>\n",
              "      <td>CESP3.SA</td>\n",
              "      <td>Quote not found for ticker symbol: CESP3.SA</td>\n",
              "      <td>Quote not found for ticker symbol: CESP3.SA</td>\n",
              "      <td>Quote not found for ticker symbol: CESP3.SA</td>\n",
              "      <td>Quote not found for ticker symbol: CESP3.SA</td>\n",
              "      <td>Quote not found for ticker symbol: CESP3.SA</td>\n",
              "      <td>Quote not found for ticker symbol: CESP3.SA</td>\n",
              "      <td>Quote not found for ticker symbol: CESP3.SA</td>\n",
              "      <td>Quote not found for ticker symbol: CESP3.SA</td>\n",
              "      <td>Quote not found for ticker symbol: CESP3.SA</td>\n",
              "      <td>...</td>\n",
              "      <td>Quote not found for ticker symbol: CESP3.SA</td>\n",
              "      <td>Quote not found for ticker symbol: CESP3.SA</td>\n",
              "      <td>Quote not found for ticker symbol: CESP3.SA</td>\n",
              "      <td>Quote not found for ticker symbol: CESP3.SA</td>\n",
              "      <td>Quote not found for ticker symbol: CESP3.SA</td>\n",
              "      <td>Quote not found for ticker symbol: CESP3.SA</td>\n",
              "      <td>Quote not found for ticker symbol: CESP3.SA</td>\n",
              "      <td>Quote not found for ticker symbol: CESP3.SA</td>\n",
              "      <td>Quote not found for ticker symbol: CESP3.SA</td>\n",
              "      <td>Quote not found for ticker symbol: CESP3.SA</td>\n",
              "    </tr>\n",
              "    <tr>\n",
              "      <th>377</th>\n",
              "      <td>CMIG4.SA</td>\n",
              "      <td>10.97</td>\n",
              "      <td>4769682944</td>\n",
              "      <td>2.168</td>\n",
              "      <td>6018060800</td>\n",
              "      <td>11613667328</td>\n",
              "      <td>1.087</td>\n",
              "      <td>1.271</td>\n",
              "      <td>34366332928</td>\n",
              "      <td>55.095</td>\n",
              "      <td>...</td>\n",
              "      <td>6305237000</td>\n",
              "      <td>2156866816</td>\n",
              "      <td>6194138112</td>\n",
              "      <td>-0.032</td>\n",
              "      <td>0.18674</td>\n",
              "      <td>0.17512</td>\n",
              "      <td>0.14411</td>\n",
              "      <td>0.10617</td>\n",
              "      <td>BRL</td>\n",
              "      <td>1.807</td>\n",
              "    </tr>\n",
              "    <tr>\n",
              "      <th>378</th>\n",
              "      <td>CMIG3.SA</td>\n",
              "      <td>16.01</td>\n",
              "      <td>4769682944</td>\n",
              "      <td>2.168</td>\n",
              "      <td>6018060800</td>\n",
              "      <td>11613667328</td>\n",
              "      <td>1.087</td>\n",
              "      <td>1.271</td>\n",
              "      <td>34366332928</td>\n",
              "      <td>55.095</td>\n",
              "      <td>...</td>\n",
              "      <td>6305237000</td>\n",
              "      <td>2156866816</td>\n",
              "      <td>6194138112</td>\n",
              "      <td>-0.032</td>\n",
              "      <td>0.18674</td>\n",
              "      <td>0.17512</td>\n",
              "      <td>0.14411</td>\n",
              "      <td>0.10617</td>\n",
              "      <td>BRL</td>\n",
              "      <td>1.807</td>\n",
              "    </tr>\n",
              "  </tbody>\n",
              "</table>\n",
              "<p>379 rows × 23 columns</p>\n",
              "</div>"
            ],
            "text/plain": [
              "        Ticker                                 currentPrice  \\\n",
              "0     ZAMP3.SA                                         5.06   \n",
              "1    N2ET34.SA                                        16.41   \n",
              "2    M1TA34.SA                                         35.4   \n",
              "3     AERI3.SA                                         1.28   \n",
              "4     ICBR3.SA  Quote not found for ticker symbol: ICBR3.SA   \n",
              "..         ...                                          ...   \n",
              "374   CESP6.SA  Quote not found for ticker symbol: CESP6.SA   \n",
              "375   CESP5.SA  Quote not found for ticker symbol: CESP5.SA   \n",
              "376   CESP3.SA  Quote not found for ticker symbol: CESP3.SA   \n",
              "377   CMIG4.SA                                        10.97   \n",
              "378   CMIG3.SA                                        16.01   \n",
              "\n",
              "                                       totalCash  \\\n",
              "0                                      548660992   \n",
              "1                                     1636262016   \n",
              "2                                    40738000896   \n",
              "3                                      856392000   \n",
              "4    Quote not found for ticker symbol: ICBR3.SA   \n",
              "..                                           ...   \n",
              "374  Quote not found for ticker symbol: CESP6.SA   \n",
              "375  Quote not found for ticker symbol: CESP5.SA   \n",
              "376  Quote not found for ticker symbol: CESP3.SA   \n",
              "377                                   4769682944   \n",
              "378                                   4769682944   \n",
              "\n",
              "                               totalCashPerShare  \\\n",
              "0                                          2.036   \n",
              "1                                          4.979   \n",
              "2                                           0.55   \n",
              "3                                          1.123   \n",
              "4    Quote not found for ticker symbol: ICBR3.SA   \n",
              "..                                           ...   \n",
              "374  Quote not found for ticker symbol: CESP6.SA   \n",
              "375  Quote not found for ticker symbol: CESP5.SA   \n",
              "376  Quote not found for ticker symbol: CESP3.SA   \n",
              "377                                        2.168   \n",
              "378                                        2.168   \n",
              "\n",
              "                                          ebitda  \\\n",
              "0                                      312464992   \n",
              "1                                     -130562000   \n",
              "2                                    42240999424   \n",
              "3                                      261630000   \n",
              "4    Quote not found for ticker symbol: ICBR3.SA   \n",
              "..                                           ...   \n",
              "374  Quote not found for ticker symbol: CESP6.SA   \n",
              "375  Quote not found for ticker symbol: CESP5.SA   \n",
              "376  Quote not found for ticker symbol: CESP3.SA   \n",
              "377                                   6018060800   \n",
              "378                                   6018060800   \n",
              "\n",
              "                                       totalDebt  \\\n",
              "0                                     1978930944   \n",
              "1                                     1567572992   \n",
              "2                                    27406999552   \n",
              "3                                     1573576960   \n",
              "4    Quote not found for ticker symbol: ICBR3.SA   \n",
              "..                                           ...   \n",
              "374  Quote not found for ticker symbol: CESP6.SA   \n",
              "375  Quote not found for ticker symbol: CESP5.SA   \n",
              "376  Quote not found for ticker symbol: CESP3.SA   \n",
              "377                                  11613667328   \n",
              "378                                  11613667328   \n",
              "\n",
              "                                      quickRatio  \\\n",
              "0                                           0.95   \n",
              "1                                          5.218   \n",
              "2                                          2.006   \n",
              "3                                           1.12   \n",
              "4    Quote not found for ticker symbol: ICBR3.SA   \n",
              "..                                           ...   \n",
              "374  Quote not found for ticker symbol: CESP6.SA   \n",
              "375  Quote not found for ticker symbol: CESP5.SA   \n",
              "376  Quote not found for ticker symbol: CESP3.SA   \n",
              "377                                        1.087   \n",
              "378                                        1.087   \n",
              "\n",
              "                                    currentRatio  \\\n",
              "0                                          1.172   \n",
              "1                                          5.352   \n",
              "2                                          2.203   \n",
              "3                                          2.194   \n",
              "4    Quote not found for ticker symbol: ICBR3.SA   \n",
              "..                                           ...   \n",
              "374  Quote not found for ticker symbol: CESP6.SA   \n",
              "375  Quote not found for ticker symbol: CESP5.SA   \n",
              "376  Quote not found for ticker symbol: CESP3.SA   \n",
              "377                                        1.271   \n",
              "378                                        1.271   \n",
              "\n",
              "                                    totalRevenue  \\\n",
              "0                                     3506001920   \n",
              "1                                      894137024   \n",
              "2                                   116608999424   \n",
              "3                                     2403173888   \n",
              "4    Quote not found for ticker symbol: ICBR3.SA   \n",
              "..                                           ...   \n",
              "374  Quote not found for ticker symbol: CESP6.SA   \n",
              "375  Quote not found for ticker symbol: CESP5.SA   \n",
              "376  Quote not found for ticker symbol: CESP3.SA   \n",
              "377                                  34366332928   \n",
              "378                                  34366332928   \n",
              "\n",
              "                                    debtToEquity  ...  \\\n",
              "0                                        135.823  ...   \n",
              "1                                        263.906  ...   \n",
              "2                                         21.801  ...   \n",
              "3                                        167.031  ...   \n",
              "4    Quote not found for ticker symbol: ICBR3.SA  ...   \n",
              "..                                           ...  ...   \n",
              "374  Quote not found for ticker symbol: CESP6.SA  ...   \n",
              "375  Quote not found for ticker symbol: CESP5.SA  ...   \n",
              "376  Quote not found for ticker symbol: CESP3.SA  ...   \n",
              "377                                       55.095  ...   \n",
              "378                                       55.095  ...   \n",
              "\n",
              "                                    grossProfits  \\\n",
              "0                                     1681686000   \n",
              "1                                      509292000   \n",
              "2                                    92855000000   \n",
              "3                                      286975000   \n",
              "4    Quote not found for ticker symbol: ICBR3.SA   \n",
              "..                                           ...   \n",
              "374  Quote not found for ticker symbol: CESP6.SA   \n",
              "375  Quote not found for ticker symbol: CESP5.SA   \n",
              "376  Quote not found for ticker symbol: CESP3.SA   \n",
              "377                                   6305237000   \n",
              "378                                   6305237000   \n",
              "\n",
              "                                    freeCashflow  \\\n",
              "0                                       51636000   \n",
              "1                                       83272872   \n",
              "2                                    15468874752   \n",
              "3                                     -166171008   \n",
              "4    Quote not found for ticker symbol: ICBR3.SA   \n",
              "..                                           ...   \n",
              "374  Quote not found for ticker symbol: CESP6.SA   \n",
              "375  Quote not found for ticker symbol: CESP5.SA   \n",
              "376  Quote not found for ticker symbol: CESP3.SA   \n",
              "377                                   2156866816   \n",
              "378                                   2156866816   \n",
              "\n",
              "                               operatingCashflow  \\\n",
              "0                                      386961984   \n",
              "1                                       86089000   \n",
              "2                                    50474999808   \n",
              "3                                       41159000   \n",
              "4    Quote not found for ticker symbol: ICBR3.SA   \n",
              "..                                           ...   \n",
              "374  Quote not found for ticker symbol: CESP6.SA   \n",
              "375  Quote not found for ticker symbol: CESP5.SA   \n",
              "376  Quote not found for ticker symbol: CESP3.SA   \n",
              "377                                   6194138112   \n",
              "378                                   6194138112   \n",
              "\n",
              "                                   revenueGrowth  \\\n",
              "0                                           0.28   \n",
              "1                                          0.473   \n",
              "2                                         -0.045   \n",
              "3                                         -0.006   \n",
              "4    Quote not found for ticker symbol: ICBR3.SA   \n",
              "..                                           ...   \n",
              "374  Quote not found for ticker symbol: CESP6.SA   \n",
              "375  Quote not found for ticker symbol: CESP5.SA   \n",
              "376  Quote not found for ticker symbol: CESP3.SA   \n",
              "377                                       -0.032   \n",
              "378                                       -0.032   \n",
              "\n",
              "                                    grossMargins  \\\n",
              "0                                        0.63176   \n",
              "1                                        0.76814   \n",
              "2                                        0.79629   \n",
              "3                                        0.11629   \n",
              "4    Quote not found for ticker symbol: ICBR3.SA   \n",
              "..                                           ...   \n",
              "374  Quote not found for ticker symbol: CESP6.SA   \n",
              "375  Quote not found for ticker symbol: CESP5.SA   \n",
              "376  Quote not found for ticker symbol: CESP3.SA   \n",
              "377                                      0.18674   \n",
              "378                                      0.18674   \n",
              "\n",
              "                                   ebitdaMargins  \\\n",
              "0                                        0.08912   \n",
              "1                                       -0.14602   \n",
              "2                                        0.36224   \n",
              "3                                        0.10887   \n",
              "4    Quote not found for ticker symbol: ICBR3.SA   \n",
              "..                                           ...   \n",
              "374  Quote not found for ticker symbol: CESP6.SA   \n",
              "375  Quote not found for ticker symbol: CESP5.SA   \n",
              "376  Quote not found for ticker symbol: CESP3.SA   \n",
              "377                                      0.17512   \n",
              "378                                      0.17512   \n",
              "\n",
              "                                operatingMargins  \\\n",
              "0                                        0.02536   \n",
              "1                                       -0.21383   \n",
              "2                                        0.28776   \n",
              "3                                         0.0863   \n",
              "4    Quote not found for ticker symbol: ICBR3.SA   \n",
              "..                                           ...   \n",
              "374  Quote not found for ticker symbol: CESP6.SA   \n",
              "375  Quote not found for ticker symbol: CESP5.SA   \n",
              "376  Quote not found for ticker symbol: CESP3.SA   \n",
              "377                                      0.14411   \n",
              "378                                      0.14411   \n",
              "\n",
              "                                   profitMargins  \\\n",
              "0                                       -0.02115   \n",
              "1                                        -0.2516   \n",
              "2                                        0.19895   \n",
              "3                                       -0.01464   \n",
              "4    Quote not found for ticker symbol: ICBR3.SA   \n",
              "..                                           ...   \n",
              "374  Quote not found for ticker symbol: CESP6.SA   \n",
              "375  Quote not found for ticker symbol: CESP5.SA   \n",
              "376  Quote not found for ticker symbol: CESP3.SA   \n",
              "377                                      0.10617   \n",
              "378                                      0.10617   \n",
              "\n",
              "                               financialCurrency  \\\n",
              "0                                            BRL   \n",
              "1                                            USD   \n",
              "2                                            USD   \n",
              "3                                            BRL   \n",
              "4    Quote not found for ticker symbol: ICBR3.SA   \n",
              "..                                           ...   \n",
              "374  Quote not found for ticker symbol: CESP6.SA   \n",
              "375  Quote not found for ticker symbol: CESP5.SA   \n",
              "376  Quote not found for ticker symbol: CESP3.SA   \n",
              "377                                          BRL   \n",
              "378                                          BRL   \n",
              "\n",
              "                                  earningsGrowth  \n",
              "0                                            NaN  \n",
              "1                                            NaN  \n",
              "2                                          -0.52  \n",
              "3                                            NaN  \n",
              "4    Quote not found for ticker symbol: ICBR3.SA  \n",
              "..                                           ...  \n",
              "374  Quote not found for ticker symbol: CESP6.SA  \n",
              "375  Quote not found for ticker symbol: CESP5.SA  \n",
              "376  Quote not found for ticker symbol: CESP3.SA  \n",
              "377                                        1.807  \n",
              "378                                        1.807  \n",
              "\n",
              "[379 rows x 23 columns]"
            ]
          },
          "execution_count": 80,
          "metadata": {},
          "output_type": "execute_result"
        }
      ],
      "source": [
        "stocks.rename(columns = {'Unnamed: 0':'Ticker'},inplace = True)\n",
        "stocks.set_index('Ticker')\n",
        "cols = ['maxAge','recommendationKey','targetHighPrice','targetLowPrice','targetMeanPrice','targetMedianPrice','recommendationMean','numberOfAnalystOpinions']\n",
        "stocks.drop(cols,axis=1,inplace=True)\n",
        "stocks"
      ]
    },
    {
      "cell_type": "code",
      "execution_count": 81,
      "metadata": {
        "id": "wKvmTJ9gaD_b"
      },
      "outputs": [],
      "source": [
        "tickers = list(stocks['Ticker'])\n",
        "for i in tickers:\n",
        "  stocks = stocks[~stocks['currentPrice'].isin([\"Quote not found for ticker symbol: %s\"%i,\"No fundamentals data found for any of the summaryTypes=financialData\"])]"
      ]
    },
    {
      "cell_type": "code",
      "execution_count": 82,
      "metadata": {
        "colab": {
          "base_uri": "https://localhost:8080/"
        },
        "id": "S6ngIECGvOEZ",
        "outputId": "e28a2ff0-2f86-4572-85aa-b0b2d5f951a3"
      },
      "outputs": [
        {
          "data": {
            "text/plain": [
              "Ticker                string\n",
              "currentPrice         float64\n",
              "totalCash            float64\n",
              "totalCashPerShare     object\n",
              "ebitda               float64\n",
              "totalDebt            float64\n",
              "quickRatio            object\n",
              "currentRatio          object\n",
              "totalRevenue          object\n",
              "debtToEquity          object\n",
              "revenuePerShare       object\n",
              "returnOnAssets        object\n",
              "returnOnEquity        object\n",
              "grossProfits          object\n",
              "freeCashflow          object\n",
              "operatingCashflow     object\n",
              "revenueGrowth         object\n",
              "grossMargins          object\n",
              "ebitdaMargins         object\n",
              "operatingMargins      object\n",
              "profitMargins         object\n",
              "financialCurrency     object\n",
              "earningsGrowth        object\n",
              "dtype: object"
            ]
          },
          "execution_count": 82,
          "metadata": {},
          "output_type": "execute_result"
        }
      ],
      "source": [
        "stocks = stocks.astype({'Ticker': 'string',\n",
        "                        'currentPrice': 'float',\n",
        "                        'totalCash': 'float',\n",
        "                        'ebitda': 'float',\n",
        "                        'totalDebt': 'float'})\n",
        "stocks.replace('NaN',0)\n",
        "stocks.dtypes"
      ]
    },
    {
      "cell_type": "code",
      "execution_count": 83,
      "metadata": {
        "id": "wGUGBu5RAty0"
      },
      "outputs": [],
      "source": [
        "stocks.rename(columns= {'currentPrice':'Preco_Atual',\n",
        "                        'totalCash':'Fluxo_de_caixa_total',\n",
        "                        'totalCashPerShare':'Fluxo_de_caixa_por_acao',\n",
        "                        'ebitda':'EBITDA',\n",
        "                        'totalDebt':'Divida_total',\n",
        "                        'quickRatio':'Liquidez_imediata',\n",
        "                        'currentRatio':'Liquidez_corrente',\n",
        "                        'totalRevenue':'Receita_total',\n",
        "                        'debtToEquity':'Divida_Patrimonio',\n",
        "                        'revenuePerShare':'Receita_por_acao',\n",
        "                        'returnOnAssets':'ROA',\n",
        "                        'returnOnEquity':'ROE',\n",
        "                        'grossProfits':'Lucro_Bruto',\n",
        "                        'freeCashflow':'Fluxo_de_Caixa_Livre',\n",
        "                        'operatingCashflow':'Fluxo_de_caixa_operacional',\n",
        "                        'revenueGrowth':'Crescimento_de_Receita_3T',\n",
        "                        'grossMargins':'Margem_Bruta',\n",
        "                        'ebitdaMargins':'Margem_EBITIDA',\n",
        "                        'operatingMargins':'Margem_Operacional',\n",
        "                        'profitMargins':'Margem_liquida',\n",
        "                        'financialCurrency':'Moeda',\n",
        "                        'earningsGrowth':'Crescimento_dos_ganhos_3T'}, inplace = True)"
      ]
    },
    {
      "cell_type": "markdown",
      "metadata": {
        "id": "jgvEduA4BcpR"
      },
      "source": [
        "The next cells format the Key_stats Excel File"
      ]
    },
    {
      "cell_type": "code",
      "execution_count": 84,
      "metadata": {
        "id": "SxAQFWwt6uvN"
      },
      "outputs": [],
      "source": [
        "key_stats.rename(columns = {'Unnamed: 0':'Ticker'},inplace = True)\n",
        "key_stats.set_index('Ticker')\n",
        "\n",
        "#'lastDividendDate'\n",
        "cols = ['Ticker','beta','profitMargins','earningsQuarterlyGrowth','lastDividendValue']\n",
        "\n",
        "stat = key_stats[cols]"
      ]
    },
    {
      "cell_type": "code",
      "execution_count": 85,
      "metadata": {
        "colab": {
          "base_uri": "https://localhost:8080/"
        },
        "id": "QyTKL9Sp-rga",
        "outputId": "55709d5d-75ef-4348-ab12-eaea36bde7d9"
      },
      "outputs": [
        {
          "name": "stderr",
          "output_type": "stream",
          "text": [
            "C:\\Users\\video\\AppData\\Local\\Temp\\ipykernel_15496\\3734555882.py:1: SettingWithCopyWarning: \n",
            "A value is trying to be set on a copy of a slice from a DataFrame\n",
            "\n",
            "See the caveats in the documentation: https://pandas.pydata.org/pandas-docs/stable/user_guide/indexing.html#returning-a-view-versus-a-copy\n",
            "  stat.rename(columns={'beta':'Beta',\n"
          ]
        }
      ],
      "source": [
        "stat.rename(columns={'beta':'Beta',\n",
        "                     'profitMargins':'Margem_de_Lucro',\n",
        "                     'earningsQuarterlyGrowth':'Crescimento_de_receitas_4T',\n",
        "                     #'lastDividendDate':'Data_do_ultimo_dividendo',\n",
        "                     'lastDividendValue':'Valor_do_ultimo_dividendo'},inplace=True)"
      ]
    },
    {
      "cell_type": "code",
      "execution_count": 86,
      "metadata": {},
      "outputs": [
        {
          "name": "stdout",
          "output_type": "stream",
          "text": [
            "Ticker                        object\n",
            "Beta                          object\n",
            "Margem_de_Lucro               object\n",
            "Crescimento_de_receitas_4T    object\n",
            "Valor_do_ultimo_dividendo     object\n",
            "dtype: object\n"
          ]
        }
      ],
      "source": [
        "print(stat.dtypes)"
      ]
    },
    {
      "cell_type": "code",
      "execution_count": 87,
      "metadata": {
        "colab": {
          "base_uri": "https://localhost:8080/"
        },
        "id": "6qREIwDvAaJx",
        "outputId": "48663be3-463a-4d06-cc91-aeb3c9cbbb77"
      },
      "outputs": [
        {
          "name": "stdout",
          "output_type": "stream",
          "text": [
            "Ticker                        379\n",
            "Beta                          334\n",
            "Margem_de_Lucro               379\n",
            "Crescimento_de_receitas_4T    277\n",
            "Valor_do_ultimo_dividendo     322\n",
            "dtype: int64\n"
          ]
        }
      ],
      "source": [
        "stat = stat.astype({'Ticker':'string',\n",
        "                    'Beta': 'string',\n",
        "                    'Margem_de_Lucro':'string',\n",
        "                    'Valor_do_ultimo_dividendo':'string',\n",
        "                    'Crescimento_de_receitas_4T':'string',\n",
        "                    'Valor_do_ultimo_dividendo':'string'})\n",
        "\n",
        "stat.replace('<NA>',0)\n",
        "\n",
        "print(stat.count())"
      ]
    },
    {
      "cell_type": "markdown",
      "metadata": {
        "id": "CxQJeGAIBlJh"
      },
      "source": [
        "The next cells format the Beta Excel File"
      ]
    },
    {
      "cell_type": "code",
      "execution_count": 88,
      "metadata": {
        "id": "IH6MX7y6Qcsn"
      },
      "outputs": [],
      "source": [
        "tickers = list(stocks['Ticker'])\n",
        "for i in tickers:\n",
        "  stat = stat[~stat['Beta'].isin([\"Quote not found for ticker symbol: %s\"%i,\"No fundamentals data found for any of the summaryTypes=financialData\"])]"
      ]
    },
    {
      "cell_type": "code",
      "execution_count": 89,
      "metadata": {
        "id": "gdF6_CZj9sV5"
      },
      "outputs": [],
      "source": [
        "beta.rename(columns= {'NetDebt':'Divida_Liquida','symbol':'Ticker'},inplace=True)\n",
        "beta.set_index('Ticker')\n",
        "\n",
        "##\n",
        "cols = ['asOfDate','periodType','currencyCode'] \n",
        "beta.drop(cols,axis=1,inplace=True)"
      ]
    },
    {
      "cell_type": "code",
      "execution_count": 90,
      "metadata": {
        "colab": {
          "base_uri": "https://localhost:8080/"
        },
        "id": "skm5taiA_rD0",
        "outputId": "1bef6136-7983-4380-bbb5-82ee87d293b3"
      },
      "outputs": [
        {
          "data": {
            "text/html": [
              "<div>\n",
              "<style scoped>\n",
              "    .dataframe tbody tr th:only-of-type {\n",
              "        vertical-align: middle;\n",
              "    }\n",
              "\n",
              "    .dataframe tbody tr th {\n",
              "        vertical-align: top;\n",
              "    }\n",
              "\n",
              "    .dataframe thead th {\n",
              "        text-align: right;\n",
              "    }\n",
              "</style>\n",
              "<table border=\"1\" class=\"dataframe\">\n",
              "  <thead>\n",
              "    <tr style=\"text-align: right;\">\n",
              "      <th></th>\n",
              "      <th>Ticker</th>\n",
              "      <th>marketCap</th>\n",
              "      <th>regularMarketVolume</th>\n",
              "    </tr>\n",
              "  </thead>\n",
              "  <tbody>\n",
              "    <tr>\n",
              "      <th>0</th>\n",
              "      <td>ZAMP3.SA</td>\n",
              "      <td>1363639680</td>\n",
              "      <td>553100</td>\n",
              "    </tr>\n",
              "    <tr>\n",
              "      <th>1</th>\n",
              "      <td>N2ET34.SA</td>\n",
              "      <td>NaN</td>\n",
              "      <td>0</td>\n",
              "    </tr>\n",
              "    <tr>\n",
              "      <th>2</th>\n",
              "      <td>M1TA34.SA</td>\n",
              "      <td>2586547060736</td>\n",
              "      <td>445654</td>\n",
              "    </tr>\n",
              "    <tr>\n",
              "      <th>3</th>\n",
              "      <td>AERI3.SA</td>\n",
              "      <td>957172416</td>\n",
              "      <td>5886600</td>\n",
              "    </tr>\n",
              "    <tr>\n",
              "      <th>4</th>\n",
              "      <td>ICBR3.SA</td>\n",
              "      <td>Quote not found for ticker symbol: ICBR3.SA</td>\n",
              "      <td>Quote not found for ticker symbol: ICBR3.SA</td>\n",
              "    </tr>\n",
              "    <tr>\n",
              "      <th>...</th>\n",
              "      <td>...</td>\n",
              "      <td>...</td>\n",
              "      <td>...</td>\n",
              "    </tr>\n",
              "    <tr>\n",
              "      <th>374</th>\n",
              "      <td>CESP6.SA</td>\n",
              "      <td>Quote not found for ticker symbol: CESP6.SA</td>\n",
              "      <td>Quote not found for ticker symbol: CESP6.SA</td>\n",
              "    </tr>\n",
              "    <tr>\n",
              "      <th>375</th>\n",
              "      <td>CESP5.SA</td>\n",
              "      <td>Quote not found for ticker symbol: CESP5.SA</td>\n",
              "      <td>Quote not found for ticker symbol: CESP5.SA</td>\n",
              "    </tr>\n",
              "    <tr>\n",
              "      <th>376</th>\n",
              "      <td>CESP3.SA</td>\n",
              "      <td>Quote not found for ticker symbol: CESP3.SA</td>\n",
              "      <td>Quote not found for ticker symbol: CESP3.SA</td>\n",
              "    </tr>\n",
              "    <tr>\n",
              "      <th>377</th>\n",
              "      <td>CMIG4.SA</td>\n",
              "      <td>27767592960</td>\n",
              "      <td>15570400</td>\n",
              "    </tr>\n",
              "    <tr>\n",
              "      <th>378</th>\n",
              "      <td>CMIG3.SA</td>\n",
              "      <td>27736684544</td>\n",
              "      <td>148500</td>\n",
              "    </tr>\n",
              "  </tbody>\n",
              "</table>\n",
              "<p>379 rows × 3 columns</p>\n",
              "</div>"
            ],
            "text/plain": [
              "        Ticker                                    marketCap  \\\n",
              "0     ZAMP3.SA                                   1363639680   \n",
              "1    N2ET34.SA                                          NaN   \n",
              "2    M1TA34.SA                                2586547060736   \n",
              "3     AERI3.SA                                    957172416   \n",
              "4     ICBR3.SA  Quote not found for ticker symbol: ICBR3.SA   \n",
              "..         ...                                          ...   \n",
              "374   CESP6.SA  Quote not found for ticker symbol: CESP6.SA   \n",
              "375   CESP5.SA  Quote not found for ticker symbol: CESP5.SA   \n",
              "376   CESP3.SA  Quote not found for ticker symbol: CESP3.SA   \n",
              "377   CMIG4.SA                                  27767592960   \n",
              "378   CMIG3.SA                                  27736684544   \n",
              "\n",
              "                             regularMarketVolume  \n",
              "0                                         553100  \n",
              "1                                              0  \n",
              "2                                         445654  \n",
              "3                                        5886600  \n",
              "4    Quote not found for ticker symbol: ICBR3.SA  \n",
              "..                                           ...  \n",
              "374  Quote not found for ticker symbol: CESP6.SA  \n",
              "375  Quote not found for ticker symbol: CESP5.SA  \n",
              "376  Quote not found for ticker symbol: CESP3.SA  \n",
              "377                                     15570400  \n",
              "378                                       148500  \n",
              "\n",
              "[379 rows x 3 columns]"
            ]
          },
          "execution_count": 90,
          "metadata": {},
          "output_type": "execute_result"
        }
      ],
      "source": [
        "price.rename(columns = {'Unnamed: 0':'Ticker'},inplace = True)\n",
        "price.set_index('Ticker')\n",
        "\n",
        "cols = ['Ticker','marketCap','regularMarketVolume']\n",
        "price = price[cols]\n",
        "\n",
        "price"
      ]
    },
    {
      "cell_type": "code",
      "execution_count": 91,
      "metadata": {
        "id": "7sXuBUK2CHPV"
      },
      "outputs": [],
      "source": [
        "price = price.astype({'Ticker':'string',\n",
        "                      'marketCap': 'string',\n",
        "                      'regularMarketVolume':'string'})"
      ]
    },
    {
      "cell_type": "code",
      "execution_count": 92,
      "metadata": {
        "id": "qSJIvlmKC21S"
      },
      "outputs": [],
      "source": [
        "price.rename(columns={'marketCap':'valor_de_mercado',\n",
        "                      'regularMarketVolume':'volume_de_mercado'},inplace=True)"
      ]
    },
    {
      "cell_type": "code",
      "execution_count": 93,
      "metadata": {},
      "outputs": [],
      "source": [
        "tickers = list(stocks['Ticker'])\n",
        "for i in tickers:\n",
        "  price = price[~price['volume_de_mercado'].isin([\"Quote not found for ticker symbol: %s\"%i,\"No fundamentals data found for any of the summaryTypes=financialData\"])]"
      ]
    },
    {
      "cell_type": "code",
      "execution_count": 94,
      "metadata": {
        "id": "s0e9iuQLzQPr"
      },
      "outputs": [],
      "source": [
        "stocks.to_parquet(path=r'C:\\Users\\video\\Desktop\\Projetos\\API\\F-A_root_project\\RAW_DATA\\Parquet\\BrStocksFormated.parquet')\n",
        "\n",
        "beta.to_parquet(path=r'C:\\Users\\video\\Desktop\\Projetos\\API\\F-A_root_project\\RAW_DATA\\Parquet\\Ebit.parquet')\n",
        "\n",
        "price.to_parquet(path=r'C:\\Users\\video\\Desktop\\Projetos\\API\\F-A_root_project\\RAW_DATA\\Parquet\\Price.parquet')\n",
        "\n",
        "stat.to_parquet(path=r'C:\\Users\\video\\Desktop\\Projetos\\API\\F-A_root_project\\RAW_DATA\\Parquet\\Stat.parquet')"
      ]
    }
  ],
  "metadata": {
    "colab": {
      "include_colab_link": true,
      "provenance": []
    },
    "kernelspec": {
      "display_name": "Python 3",
      "language": "python",
      "name": "python3"
    },
    "language_info": {
      "codemirror_mode": {
        "name": "ipython",
        "version": 3
      },
      "file_extension": ".py",
      "mimetype": "text/x-python",
      "name": "python",
      "nbconvert_exporter": "python",
      "pygments_lexer": "ipython3",
      "version": "3.11.1"
    },
    "vscode": {
      "interpreter": {
        "hash": "598092329803f2218a82426b846daf764474eee9678032408d5a767cd4823601"
      }
    }
  },
  "nbformat": 4,
  "nbformat_minor": 0
}
