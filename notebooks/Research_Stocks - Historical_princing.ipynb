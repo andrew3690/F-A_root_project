{
 "cells": [
  {
   "attachments": {},
   "cell_type": "markdown",
   "metadata": {
    "colab_type": "text",
    "id": "view-in-github"
   },
   "source": [
    "<a href=\"https://colab.research.google.com/github/andrew3690/F-A_root_project/blob/Brazil/C%C3%B3pia_de_Research_Stocks.ipynb\" target=\"_parent\"><img src=\"https://colab.research.google.com/assets/colab-badge.svg\" alt=\"Open In Colab\"/></a>"
   ]
  },
  {
   "attachments": {},
   "cell_type": "markdown",
   "metadata": {
    "id": "N4JRZip-LxGM"
   },
   "source": [
    "# Downloading Modules:\n",
    "Spark, pyspark, Java.\n",
    "\n",
    "Bellow it is the old fashion way, risky not Recomended"
   ]
  },
  {
   "cell_type": "code",
   "execution_count": 1,
   "metadata": {
    "colab": {
     "base_uri": "https://localhost:8080/"
    },
    "id": "boHa2yWHE2TA",
    "outputId": "2dd293d0-7923-4351-a6b7-66b27aea85f0"
   },
   "outputs": [
    {
     "name": "stdout",
     "output_type": "stream",
     "text": [
      "Defaulting to user installation because normal site-packages is not writeable\n",
      "Requirement already satisfied: pyspark in /home/andrel/.local/lib/python3.10/site-packages (3.2.4)\n",
      "Requirement already satisfied: py4j in /home/andrel/.local/lib/python3.10/site-packages (0.10.9.5)\n",
      "Defaulting to user installation because normal site-packages is not writeable\n",
      "Requirement already satisfied: pyodbc in /home/andrel/.local/lib/python3.10/site-packages (4.0.39)\n",
      "Defaulting to user installation because normal site-packages is not writeable\n",
      "Requirement already satisfied: pandas in /home/andrel/.local/lib/python3.10/site-packages (2.0.2)\n",
      "Requirement already satisfied: numpy>=1.21.0 in /home/andrel/.local/lib/python3.10/site-packages (from pandas) (1.25.0)\n",
      "Requirement already satisfied: pytz>=2020.1 in /usr/lib/python3/dist-packages (from pandas) (2022.1)\n",
      "Requirement already satisfied: python-dateutil>=2.8.2 in /home/andrel/.local/lib/python3.10/site-packages (from pandas) (2.8.2)\n",
      "Requirement already satisfied: tzdata>=2022.1 in /home/andrel/.local/lib/python3.10/site-packages (from pandas) (2023.3)\n",
      "Requirement already satisfied: six>=1.5 in /usr/lib/python3/dist-packages (from python-dateutil>=2.8.2->pandas) (1.16.0)\n"
     ]
    }
   ],
   "source": [
    "! pip install pyspark py4j\n",
    "! pip install pyodbc\n",
    "! pip install pandas"
   ]
  },
  {
   "attachments": {},
   "cell_type": "markdown",
   "metadata": {
    "id": "z0lpamJ2PhzT"
   },
   "source": [
    "**Importing modules and pandas library that will be used later.**"
   ]
  },
  {
   "cell_type": "code",
   "execution_count": 2,
   "metadata": {
    "id": "oLpozDIlCsnf"
   },
   "outputs": [],
   "source": [
    "from pyspark.sql import SparkSession\n",
    "import pyspark\n",
    "import pandas as pd\n",
    "import pyodbc\n",
    "import findspark\n",
    "\n",
    "findspark.init()"
   ]
  },
  {
   "cell_type": "code",
   "execution_count": 3,
   "metadata": {
    "colab": {
     "base_uri": "https://localhost:8080/",
     "height": 219
    },
    "id": "rLgNaJpJZWQf",
    "outputId": "375d6ea4-ab28-428e-9c70-d6742f2396f9"
   },
   "outputs": [
    {
     "name": "stderr",
     "output_type": "stream",
     "text": [
      "23/07/06 14:18:41 WARN Utils: Your hostname, Linux resolves to a loopback address: 127.0.1.1; using 10.0.2.15 instead (on interface enp0s3)\n",
      "23/07/06 14:18:41 WARN Utils: Set SPARK_LOCAL_IP if you need to bind to another address\n",
      "WARNING: An illegal reflective access operation has occurred\n",
      "WARNING: Illegal reflective access by org.apache.spark.unsafe.Platform (file:/opt/spark/jars/spark-unsafe_2.12-3.2.4.jar) to constructor java.nio.DirectByteBuffer(long,int)\n",
      "WARNING: Please consider reporting this to the maintainers of org.apache.spark.unsafe.Platform\n",
      "WARNING: Use --illegal-access=warn to enable warnings of further illegal reflective access operations\n",
      "WARNING: All illegal access operations will be denied in a future release\n",
      "Using Spark's default log4j profile: org/apache/spark/log4j-defaults.properties\n",
      "Setting default log level to \"WARN\".\n",
      "To adjust logging level use sc.setLogLevel(newLevel). For SparkR, use setLogLevel(newLevel).\n",
      "23/07/06 14:18:41 WARN NativeCodeLoader: Unable to load native-hadoop library for your platform... using builtin-java classes where applicable\n"
     ]
    },
    {
     "data": {
      "text/html": [
       "\n",
       "            <div>\n",
       "                <p><b>SparkSession - in-memory</b></p>\n",
       "                \n",
       "        <div>\n",
       "            <p><b>SparkContext</b></p>\n",
       "\n",
       "            <p><a href=\"http://10.0.2.15:4040\">Spark UI</a></p>\n",
       "\n",
       "            <dl>\n",
       "              <dt>Version</dt>\n",
       "                <dd><code>v3.2.4</code></dd>\n",
       "              <dt>Master</dt>\n",
       "                <dd><code>local[*]</code></dd>\n",
       "              <dt>AppName</dt>\n",
       "                <dd><code>pyspark-shell</code></dd>\n",
       "            </dl>\n",
       "        </div>\n",
       "        \n",
       "            </div>\n",
       "        "
      ],
      "text/plain": [
       "<pyspark.sql.session.SparkSession at 0x7fa34b52f130>"
      ]
     },
     "execution_count": 3,
     "metadata": {},
     "output_type": "execute_result"
    }
   ],
   "source": [
    "# instatianting spark instance\n",
    "spark = SparkSession.builder.master('local[*]').getOrCreate()\n",
    "\n",
    "spark"
   ]
  },
  {
   "attachments": {},
   "cell_type": "markdown",
   "metadata": {},
   "source": [
    "Gooogle Colab Version"
   ]
  },
  {
   "cell_type": "code",
   "execution_count": 192,
   "metadata": {
    "colab": {
     "base_uri": "https://localhost:8080/"
    },
    "id": "70iuSZT29Tff",
    "outputId": "7fa9d57b-f0c2-4c24-d1d3-841ff740eb4c"
   },
   "outputs": [
    {
     "data": {
      "text/plain": [
       "\" \\nfrom google.colab import drive\\ndrive.mount('/content/gdrive', force_remount=True) \\n\""
      ]
     },
     "execution_count": 192,
     "metadata": {},
     "output_type": "execute_result"
    }
   ],
   "source": [
    "# from google.colab import drive\n",
    "# drive.mount('/content/gdrive', force_remount=True) "
   ]
  },
  {
   "attachments": {},
   "cell_type": "markdown",
   "metadata": {
    "id": "MEDLrMlgMaTM"
   },
   "source": [
    "# Next cells acquire parquet data from remote files, and transpose it to spark format"
   ]
  },
  {
   "cell_type": "code",
   "execution_count": 4,
   "metadata": {},
   "outputs": [
    {
     "name": "stderr",
     "output_type": "stream",
     "text": [
      "                                                                                \r"
     ]
    }
   ],
   "source": [
    "fille =r'../notebooks/Final/Parquet/HistoricalPrincing.parquet'\n",
    "\n",
    "Histprice = spark\\\n",
    "        .read.format(\"parquet\")\\\n",
    "        .option(\"inferSchema\", \"True\")\\\n",
    "        .option(\"header\",\"True\")\\\n",
    "        .parquet(fille)"
   ]
  },
  {
   "attachments": {},
   "cell_type": "markdown",
   "metadata": {
    "id": "SubWtlFnNJHn"
   },
   "source": [
    "Creating Tables in order to manipulate data in SQL format"
   ]
  },
  {
   "cell_type": "code",
   "execution_count": 5,
   "metadata": {
    "id": "UD38ZEtovRHd"
   },
   "outputs": [],
   "source": [
    "# Balance table\n",
    "Histprice.createOrReplaceTempView(\"Histprice\")"
   ]
  },
  {
   "cell_type": "code",
   "execution_count": 6,
   "metadata": {},
   "outputs": [
    {
     "name": "stdout",
     "output_type": "stream",
     "text": [
      "+-----------------+-----------------+-----------------+-----------------+---------+--------+----------+\n",
      "|         Abertura|             Alta|            Baixa|            close|   Volume|  symbol|      date|\n",
      "+-----------------+-----------------+-----------------+-----------------+---------+--------+----------+\n",
      "|5.699999809265137|5.739999771118164|5.610000133514404|5.630000114440918| 800900.0|ZAMP3.SA|2022-07-04|\n",
      "|5.599999904632568|5.809999942779541|5.449999809265137|5.809999942779541|2219100.0|ZAMP3.SA|2022-07-05|\n",
      "|5.800000190734863| 5.96999979019165|5.710000038146973|5.880000114440918|1151300.0|ZAMP3.SA|2022-07-06|\n",
      "|5.960000038146973|6.170000076293945|5.909999847412109|5.989999771118164|1614300.0|ZAMP3.SA|2022-07-07|\n",
      "|6.039999961853027|6.130000114440918|5.869999885559082|5.949999809265137| 528600.0|ZAMP3.SA|2022-07-08|\n",
      "|5.889999866485596|5.980000019073486|5.710000038146973| 5.71999979019165| 803000.0|ZAMP3.SA|2022-07-11|\n",
      "|5.739999771118164|5.920000076293945|5.650000095367432|5.769999980926514|1001600.0|ZAMP3.SA|2022-07-12|\n",
      "|5.739999771118164|5.880000114440918|5.690000057220459|5.730000019073486|1311000.0|ZAMP3.SA|2022-07-13|\n",
      "|5.699999809265137|5.829999923706055|5.619999885559082| 5.78000020980835|1441100.0|ZAMP3.SA|2022-07-14|\n",
      "|5.800000190734863|6.190000057220459|5.739999771118164|6.090000152587891|2020000.0|ZAMP3.SA|2022-07-15|\n",
      "|6.079999923706055|6.079999923706055| 5.78000020980835|5.800000190734863|1325000.0|ZAMP3.SA|2022-07-18|\n",
      "|5.829999923706055|5.849999904632568|5.579999923706055|5.630000114440918|1922100.0|ZAMP3.SA|2022-07-19|\n",
      "|5.579999923706055|5.900000095367432|5.579999923706055|5.800000190734863|2687700.0|ZAMP3.SA|2022-07-20|\n",
      "|             5.75|5.860000133514404|5.650000095367432|5.699999809265137|2036800.0|ZAMP3.SA|2022-07-21|\n",
      "|5.730000019073486|5.789999961853027|5.550000190734863|5.639999866485596|1587300.0|ZAMP3.SA|2022-07-22|\n",
      "|5.690000057220459| 5.71999979019165|5.440000057220459|5.489999771118164|1691000.0|ZAMP3.SA|2022-07-25|\n",
      "|5.480000019073486|5.480000019073486|5.230000019073486|5.329999923706055|1497600.0|ZAMP3.SA|2022-07-26|\n",
      "|5.329999923706055|5.650000095367432|5.329999923706055|5.599999904632568|1974400.0|ZAMP3.SA|2022-07-27|\n",
      "|5.579999923706055|6.130000114440918|5.539999961853027|6.059999942779541|3840200.0|ZAMP3.SA|2022-07-28|\n",
      "|6.059999942779541|6.309999942779541|5.949999809265137| 6.21999979019165|1901400.0|ZAMP3.SA|2022-07-29|\n",
      "+-----------------+-----------------+-----------------+-----------------+---------+--------+----------+\n",
      "only showing top 20 rows\n",
      "\n"
     ]
    }
   ],
   "source": [
    "Histprice.show()"
   ]
  },
  {
   "attachments": {},
   "cell_type": "markdown",
   "metadata": {
    "id": "abGJeNp68atZ"
   },
   "source": [
    "Alternative operations, while dealing with a little amount of data, and it can be joined here"
   ]
  },
  {
   "cell_type": "code",
   "execution_count": 20,
   "metadata": {},
   "outputs": [],
   "source": [
    "Table = spark.sql(\"\"\"\n",
    "SELECT  REGEXP_REPLACE(symbol, '\\\\.SA$', '') AS Ticker,\n",
    "        ROUND(Abertura,2) as Abertura,\n",
    "        ROUND(Alta,2)  AS Alta,\n",
    "        ROUND(Baixa,2) AS Baixa,\n",
    "        ROUND(close,2) AS Fechamento,\n",
    "        ROUND(Volume,2) AS Volume,\n",
    "        CAST(date AS STRING) AS Data\n",
    "FROM Histprice\n",
    "\"\"\")"
   ]
  },
  {
   "cell_type": "code",
   "execution_count": 21,
   "metadata": {},
   "outputs": [
    {
     "name": "stdout",
     "output_type": "stream",
     "text": [
      "+------+--------+----+-----+----------+---------+----------+\n",
      "|Ticker|Abertura|Alta|Baixa|Fechamento|   Volume|      Data|\n",
      "+------+--------+----+-----+----------+---------+----------+\n",
      "| ZAMP3|     5.7|5.74| 5.61|      5.63| 800900.0|2022-07-04|\n",
      "| ZAMP3|     5.6|5.81| 5.45|      5.81|2219100.0|2022-07-05|\n",
      "| ZAMP3|     5.8|5.97| 5.71|      5.88|1151300.0|2022-07-06|\n",
      "| ZAMP3|    5.96|6.17| 5.91|      5.99|1614300.0|2022-07-07|\n",
      "| ZAMP3|    6.04|6.13| 5.87|      5.95| 528600.0|2022-07-08|\n",
      "| ZAMP3|    5.89|5.98| 5.71|      5.72| 803000.0|2022-07-11|\n",
      "| ZAMP3|    5.74|5.92| 5.65|      5.77|1001600.0|2022-07-12|\n",
      "| ZAMP3|    5.74|5.88| 5.69|      5.73|1311000.0|2022-07-13|\n",
      "| ZAMP3|     5.7|5.83| 5.62|      5.78|1441100.0|2022-07-14|\n",
      "| ZAMP3|     5.8|6.19| 5.74|      6.09|2020000.0|2022-07-15|\n",
      "| ZAMP3|    6.08|6.08| 5.78|       5.8|1325000.0|2022-07-18|\n",
      "| ZAMP3|    5.83|5.85| 5.58|      5.63|1922100.0|2022-07-19|\n",
      "| ZAMP3|    5.58| 5.9| 5.58|       5.8|2687700.0|2022-07-20|\n",
      "| ZAMP3|    5.75|5.86| 5.65|       5.7|2036800.0|2022-07-21|\n",
      "| ZAMP3|    5.73|5.79| 5.55|      5.64|1587300.0|2022-07-22|\n",
      "| ZAMP3|    5.69|5.72| 5.44|      5.49|1691000.0|2022-07-25|\n",
      "| ZAMP3|    5.48|5.48| 5.23|      5.33|1497600.0|2022-07-26|\n",
      "| ZAMP3|    5.33|5.65| 5.33|       5.6|1974400.0|2022-07-27|\n",
      "| ZAMP3|    5.58|6.13| 5.54|      6.06|3840200.0|2022-07-28|\n",
      "| ZAMP3|    6.06|6.31| 5.95|      6.22|1901400.0|2022-07-29|\n",
      "+------+--------+----+-----+----------+---------+----------+\n",
      "only showing top 20 rows\n",
      "\n"
     ]
    }
   ],
   "source": [
    "Table.show()"
   ]
  },
  {
   "cell_type": "code",
   "execution_count": 22,
   "metadata": {},
   "outputs": [
    {
     "name": "stderr",
     "output_type": "stream",
     "text": [
      "                                                                                \r"
     ]
    }
   ],
   "source": [
    "dftable = Table.toPandas()"
   ]
  },
  {
   "cell_type": "code",
   "execution_count": 23,
   "metadata": {},
   "outputs": [],
   "source": [
    "dftable.to_excel(\"../notebooks/Final/HistoryPrice.xlsx\",\n",
    "                 sheet_name = \"Historical_Price\")"
   ]
  }
 ],
 "metadata": {
  "colab": {
   "include_colab_link": true,
   "provenance": []
  },
  "kernelspec": {
   "display_name": "My Kernel",
   "language": "python",
   "name": "mykernel"
  },
  "language_info": {
   "codemirror_mode": {
    "name": "ipython",
    "version": 3
   },
   "file_extension": ".py",
   "mimetype": "text/x-python",
   "name": "python",
   "nbconvert_exporter": "python",
   "pygments_lexer": "ipython3",
   "version": "3.10.6"
  }
 },
 "nbformat": 4,
 "nbformat_minor": 1
}
