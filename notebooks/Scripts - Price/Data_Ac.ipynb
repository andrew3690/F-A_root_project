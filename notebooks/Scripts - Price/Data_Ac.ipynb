{
 "cells": [
  {
   "attachments": {},
   "cell_type": "markdown",
   "metadata": {
    "colab_type": "text",
    "id": "view-in-github"
   },
   "source": [
    "<a href=\"https://colab.research.google.com/github/andrew3690/F-A_root_project/blob/Brazil/Data_Ac.ipynb\" target=\"_parent\"><img src=\"https://colab.research.google.com/assets/colab-badge.svg\" alt=\"Open In Colab\"/></a>"
   ]
  },
  {
   "attachments": {},
   "cell_type": "markdown",
   "metadata": {
    "id": "wd7jgo-jBXC2"
   },
   "source": [
    "Installing python libraries that will be use to get data from yahoo finance"
   ]
  },
  {
   "cell_type": "code",
   "execution_count": 1,
   "metadata": {
    "colab": {
     "base_uri": "https://localhost:8080/"
    },
    "id": "Mefhi-Pa1B-G",
    "outputId": "c65f37ee-5552-459a-c3d7-86acef3a0153"
   },
   "outputs": [
    {
     "name": "stdout",
     "output_type": "stream",
     "text": [
      "Defaulting to user installation because normal site-packages is not writeable\n",
      "Requirement already satisfied: yahooquery in /home/andrel/.local/lib/python3.10/site-packages (2.3.1)\n",
      "Requirement already satisfied: pandas>=0.24.0 in /home/andrel/.local/lib/python3.10/site-packages (from yahooquery) (2.0.2)\n",
      "Requirement already satisfied: tqdm>=4.54.1 in /home/andrel/.local/lib/python3.10/site-packages (from yahooquery) (4.65.0)\n",
      "Requirement already satisfied: lxml>=4.9.1 in /home/andrel/.local/lib/python3.10/site-packages (from yahooquery) (4.9.2)\n",
      "Requirement already satisfied: requests-futures>=1.0.0 in /home/andrel/.local/lib/python3.10/site-packages (from yahooquery) (1.0.1)\n",
      "Requirement already satisfied: tzdata>=2022.1 in /home/andrel/.local/lib/python3.10/site-packages (from pandas>=0.24.0->yahooquery) (2023.3)\n",
      "Requirement already satisfied: numpy>=1.21.0 in /home/andrel/.local/lib/python3.10/site-packages (from pandas>=0.24.0->yahooquery) (1.25.0)\n",
      "Requirement already satisfied: pytz>=2020.1 in /usr/lib/python3/dist-packages (from pandas>=0.24.0->yahooquery) (2022.1)\n",
      "Requirement already satisfied: python-dateutil>=2.8.2 in /home/andrel/.local/lib/python3.10/site-packages (from pandas>=0.24.0->yahooquery) (2.8.2)\n",
      "Requirement already satisfied: requests>=1.2.0 in /home/andrel/.local/lib/python3.10/site-packages (from requests-futures>=1.0.0->yahooquery) (2.25.0)\n",
      "Requirement already satisfied: six>=1.5 in /usr/lib/python3/dist-packages (from python-dateutil>=2.8.2->pandas>=0.24.0->yahooquery) (1.16.0)\n",
      "Requirement already satisfied: chardet<4,>=3.0.2 in /home/andrel/.local/lib/python3.10/site-packages (from requests>=1.2.0->requests-futures>=1.0.0->yahooquery) (3.0.4)\n",
      "Requirement already satisfied: certifi>=2017.4.17 in /usr/lib/python3/dist-packages (from requests>=1.2.0->requests-futures>=1.0.0->yahooquery) (2020.6.20)\n",
      "Requirement already satisfied: idna<3,>=2.5 in /home/andrel/.local/lib/python3.10/site-packages (from requests>=1.2.0->requests-futures>=1.0.0->yahooquery) (2.10)\n",
      "Requirement already satisfied: urllib3<1.27,>=1.21.1 in /home/andrel/.local/lib/python3.10/site-packages (from requests>=1.2.0->requests-futures>=1.0.0->yahooquery) (1.26.0)\n",
      "Defaulting to user installation because normal site-packages is not writeable\n",
      "Requirement already satisfied: urllib3==1.26 in /home/andrel/.local/lib/python3.10/site-packages (1.26.0)\n",
      "Defaulting to user installation because normal site-packages is not writeable\n",
      "Requirement already satisfied: requests==2.25 in /home/andrel/.local/lib/python3.10/site-packages (2.25.0)\n",
      "Requirement already satisfied: urllib3<1.27,>=1.21.1 in /home/andrel/.local/lib/python3.10/site-packages (from requests==2.25) (1.26.0)\n",
      "Requirement already satisfied: chardet<4,>=3.0.2 in /home/andrel/.local/lib/python3.10/site-packages (from requests==2.25) (3.0.4)\n",
      "Requirement already satisfied: certifi>=2017.4.17 in /usr/lib/python3/dist-packages (from requests==2.25) (2020.6.20)\n",
      "Requirement already satisfied: idna<3,>=2.5 in /home/andrel/.local/lib/python3.10/site-packages (from requests==2.25) (2.10)\n",
      "Defaulting to user installation because normal site-packages is not writeable\n",
      "Requirement already satisfied: openpyxl in /home/andrel/.local/lib/python3.10/site-packages (3.1.2)\n",
      "Requirement already satisfied: et-xmlfile in /home/andrel/.local/lib/python3.10/site-packages (from openpyxl) (1.1.0)\n"
     ]
    }
   ],
   "source": [
    "! pip install yahooquery\n",
    "! pip install urllib3==1.26\n",
    "! pip install requests==2.25\n",
    "! pip install openpyxl"
   ]
  },
  {
   "attachments": {},
   "cell_type": "markdown",
   "metadata": {
    "id": "_VbHBXpJBNgc"
   },
   "source": [
    "Importing modules that will be used to filter data"
   ]
  },
  {
   "cell_type": "code",
   "execution_count": 2,
   "metadata": {
    "id": "vqJZx_Fc2NEV"
   },
   "outputs": [],
   "source": [
    "from yahooquery import Ticker\n",
    "from bs4 import BeautifulSoup\n",
    "import threading\n",
    "import pandas as pd\n",
    "import requests\n",
    "import re"
   ]
  },
  {
   "attachments": {},
   "cell_type": "markdown",
   "metadata": {
    "id": "L6mkfM6XGU33"
   },
   "source": [
    "Scrapping Data from Infomoney website, getting a list of stocks from IBOVESPA."
   ]
  },
  {
   "cell_type": "code",
   "execution_count": 3,
   "metadata": {
    "id": "_Q6RsPPi_TQk"
   },
   "outputs": [],
   "source": [
    "url = requests.get('https://www.infomoney.com.br/cotacoes/empresas-b3/')\n",
    "\n",
    "soup = BeautifulSoup(url.text, 'html.parser')\n",
    "\n",
    "ticker_name_list = soup.find_all('td', class_ = 'strong')\n",
    "\n",
    "ticker = str(ticker_name_list)\n",
    "\n",
    "tickers = re.findall('>.*</',ticker)\n",
    "\n",
    "tkrs = []\n",
    "\n",
    "# strnot = (\"11\",\"F\",\"34\")\n",
    "for i in tickers:\n",
    "  if \"11\" not in i and \"F\" not in i:\n",
    "    tkr = i.strip(\"</>\")\n",
    "    tkr = tkr + \".SA\"\n",
    "    tkrs.append(tkr)"
   ]
  },
  {
   "cell_type": "code",
   "execution_count": 4,
   "metadata": {},
   "outputs": [],
   "source": [
    "def fetch_historical_financial(tickers):\n",
    "    # Yahoo finance requisition getting companies ticker\n",
    "    sumary = Ticker(tickers)\n",
    "\n",
    "    # getting companies financial data\n",
    "    data = sumary.financial_data \n",
    "\n",
    "    df = pd.DataFrame(data,  index=[0])\n",
    "\n",
    "    return df"
   ]
  },
  {
   "cell_type": "code",
   "execution_count": 5,
   "metadata": {},
   "outputs": [],
   "source": [
    "def fetch_historical_balance(tickers):\n",
    "    # Balance Ticker lists\n",
    "    balance = Ticker(tickers)\n",
    "\n",
    "    # Getting companies balance data\n",
    "    data = balance.balance_sheet(frequency='a',trailing=False)\n",
    "\n",
    "    df = pd.DataFrame(data)\n",
    "\n",
    "    return df"
   ]
  },
  {
   "cell_type": "code",
   "execution_count": 6,
   "metadata": {},
   "outputs": [],
   "source": [
    "def fetch_historical_finandata(tickers):\n",
    "    # Balance Ticker lists\n",
    "    financial = Ticker(tickers)\n",
    "\n",
    "    # Getting companies balance data\n",
    "    dt = ['EBIT', 'NetDebt']\n",
    "    data = financial.get_financial_data(dt,trailing=False)\n",
    "\n",
    "    df = pd.DataFrame(data)\n",
    "\n",
    "    return df.T"
   ]
  },
  {
   "cell_type": "code",
   "execution_count": 7,
   "metadata": {},
   "outputs": [],
   "source": [
    "def fetch_historical_price(tickers):\n",
    "    pricetkrs = Ticker(tickers)\n",
    "\n",
    "    dataprice = pricetkrs.price\n",
    "\n",
    "    df = pd.DataFrame(dataprice)\n",
    "\n",
    "    return df.T"
   ]
  },
  {
   "cell_type": "code",
   "execution_count": 34,
   "metadata": {},
   "outputs": [],
   "source": [
    "# Define a function to fetch data for each batch of tickers\n",
    "def fetch_data_batch(tkrs,FS):\n",
    "    results = pd.DataFrame()\n",
    "\n",
    "    if FS == 1:\n",
    "        data = fetch_historical_financial(tkrs)\n",
    "        results = pd.concat([results,data], axis =1)\n",
    "\n",
    "    elif FS == 2:\n",
    "        data = fetch_historical_balance(tkrs)\n",
    "        results = pd.concat([results,data], axis =1)\n",
    "\n",
    "    elif FS == 3:\n",
    "        data = fetch_historical_finandata(tkrs)\n",
    "        results = pd.concat([results,data], axis =1)\n",
    "\n",
    "    elif FS == 4:\n",
    "        data = fetch_historical_price(tkrs)\n",
    "        results = pd.concat([results,data], axis =1)\n",
    "\n",
    "    return results"
   ]
  },
  {
   "cell_type": "code",
   "execution_count": 20,
   "metadata": {},
   "outputs": [],
   "source": [
    "def ElementsList(elements_per_list,tkrs):\n",
    "    # Divide the ticker list into smaller lists\n",
    "    smaller_lists = [tkrs[i:i+elements_per_list] for i in range(0, len(tkrs), elements_per_list)]\n",
    "\n",
    "    # Print the smaller lists\n",
    "    # for i, smaller_list in enumerate(smaller_lists):\n",
    "    #     print(f\"List {i+1}: {smaller_list}\")\n",
    "    \n",
    "    return smaller_lists"
   ]
  },
  {
   "cell_type": "code",
   "execution_count": 35,
   "metadata": {},
   "outputs": [],
   "source": [
    "# # Function that processes operations based on the flag of it\n",
    "# # BS: Batch size\n",
    "# # FS: Function Signal\n",
    "# # TL: Ticker List\n",
    "\n",
    "def Process(BS,TL,FS):\n",
    "    # Lists of elements\n",
    "    lists = ElementsList(BS,TL)\n",
    "\n",
    "    # Dataframe final\n",
    "    df_final = pd.DataFrame()\n",
    "\n",
    "    # processing over a list \n",
    "    for list_batch in lists[0]:\n",
    "        df_data = fetch_data_batch(list_batch,FS)"
   ]
  },
  {
   "cell_type": "code",
   "execution_count": 36,
   "metadata": {},
   "outputs": [
    {
     "ename": "AttributeError",
     "evalue": "'DataFrame' object has no attribute 'append'",
     "output_type": "error",
     "traceback": [
      "\u001b[0;31m---------------------------------------------------------------------------\u001b[0m",
      "\u001b[0;31mAttributeError\u001b[0m                            Traceback (most recent call last)",
      "\u001b[0;32m/tmp/ipykernel_5553/3737566434.py\u001b[0m in \u001b[0;36m?\u001b[0;34m()\u001b[0m\n\u001b[0;32m----> 1\u001b[0;31m \u001b[0mfinacial\u001b[0m \u001b[0;34m=\u001b[0m \u001b[0mProcess\u001b[0m\u001b[0;34m(\u001b[0m\u001b[0;36m19\u001b[0m\u001b[0;34m,\u001b[0m\u001b[0mtkrs\u001b[0m\u001b[0;34m,\u001b[0m\u001b[0;36m1\u001b[0m\u001b[0;34m)\u001b[0m\u001b[0;34m\u001b[0m\u001b[0;34m\u001b[0m\u001b[0m\n\u001b[0m\u001b[1;32m      2\u001b[0m \u001b[0;34m\u001b[0m\u001b[0m\n\u001b[1;32m      3\u001b[0m \u001b[0mfinacial\u001b[0m\u001b[0;34m\u001b[0m\u001b[0;34m\u001b[0m\u001b[0m\n",
      "\u001b[0;32m/tmp/ipykernel_5553/1614765040.py\u001b[0m in \u001b[0;36m?\u001b[0;34m(BS, TL, FS)\u001b[0m\n\u001b[1;32m     11\u001b[0m     \u001b[0mdf_final\u001b[0m \u001b[0;34m=\u001b[0m \u001b[0mpd\u001b[0m\u001b[0;34m.\u001b[0m\u001b[0mDataFrame\u001b[0m\u001b[0;34m(\u001b[0m\u001b[0;34m)\u001b[0m\u001b[0;34m\u001b[0m\u001b[0;34m\u001b[0m\u001b[0m\n\u001b[1;32m     12\u001b[0m \u001b[0;34m\u001b[0m\u001b[0m\n\u001b[1;32m     13\u001b[0m     \u001b[0;31m# processing over a list\u001b[0m\u001b[0;34m\u001b[0m\u001b[0;34m\u001b[0m\u001b[0m\n\u001b[1;32m     14\u001b[0m     \u001b[0;32mfor\u001b[0m \u001b[0mlist_batch\u001b[0m \u001b[0;32min\u001b[0m \u001b[0mlists\u001b[0m\u001b[0;34m[\u001b[0m\u001b[0;36m0\u001b[0m\u001b[0;34m]\u001b[0m\u001b[0;34m:\u001b[0m\u001b[0;34m\u001b[0m\u001b[0;34m\u001b[0m\u001b[0m\n\u001b[0;32m---> 15\u001b[0;31m         \u001b[0mdf_data\u001b[0m \u001b[0;34m=\u001b[0m \u001b[0mfetch_data_batch\u001b[0m\u001b[0;34m(\u001b[0m\u001b[0mlist_batch\u001b[0m\u001b[0;34m,\u001b[0m\u001b[0mFS\u001b[0m\u001b[0;34m)\u001b[0m\u001b[0;34m\u001b[0m\u001b[0;34m\u001b[0m\u001b[0m\n\u001b[0m\u001b[1;32m     16\u001b[0m         \u001b[0mpd_final\u001b[0m \u001b[0;34m=\u001b[0m \u001b[0mpd\u001b[0m\u001b[0;34m.\u001b[0m\u001b[0mconcat\u001b[0m\u001b[0;34m(\u001b[0m\u001b[0;34m[\u001b[0m\u001b[0mdf_final\u001b[0m\u001b[0;34m,\u001b[0m\u001b[0mdf_data\u001b[0m\u001b[0;34m]\u001b[0m\u001b[0;34m,\u001b[0m\u001b[0maxis\u001b[0m\u001b[0;34m=\u001b[0m\u001b[0;36m1\u001b[0m\u001b[0;34m)\u001b[0m\u001b[0;34m\u001b[0m\u001b[0;34m\u001b[0m\u001b[0m\n\u001b[1;32m     17\u001b[0m \u001b[0;34m\u001b[0m\u001b[0m\n\u001b[1;32m     18\u001b[0m     \u001b[0;32mreturn\u001b[0m \u001b[0mpd_final\u001b[0m\u001b[0;34m\u001b[0m\u001b[0;34m\u001b[0m\u001b[0m\n",
      "\u001b[0;32m/tmp/ipykernel_5553/4061030400.py\u001b[0m in \u001b[0;36m?\u001b[0;34m(tkrs, FS)\u001b[0m\n\u001b[1;32m      3\u001b[0m     \u001b[0mresults\u001b[0m \u001b[0;34m=\u001b[0m \u001b[0mpd\u001b[0m\u001b[0;34m.\u001b[0m\u001b[0mDataFrame\u001b[0m\u001b[0;34m(\u001b[0m\u001b[0;34m)\u001b[0m\u001b[0;34m\u001b[0m\u001b[0;34m\u001b[0m\u001b[0m\n\u001b[1;32m      4\u001b[0m \u001b[0;34m\u001b[0m\u001b[0m\n\u001b[1;32m      5\u001b[0m     \u001b[0;32mif\u001b[0m \u001b[0mFS\u001b[0m \u001b[0;34m==\u001b[0m \u001b[0;36m1\u001b[0m\u001b[0;34m:\u001b[0m\u001b[0;34m\u001b[0m\u001b[0;34m\u001b[0m\u001b[0m\n\u001b[1;32m      6\u001b[0m         \u001b[0mdata\u001b[0m \u001b[0;34m=\u001b[0m \u001b[0mfetch_historical_financial\u001b[0m\u001b[0;34m(\u001b[0m\u001b[0mtkrs\u001b[0m\u001b[0;34m)\u001b[0m\u001b[0;34m\u001b[0m\u001b[0;34m\u001b[0m\u001b[0m\n\u001b[0;32m----> 7\u001b[0;31m         \u001b[0mresults\u001b[0m\u001b[0;34m.\u001b[0m\u001b[0mappend\u001b[0m\u001b[0;34m(\u001b[0m\u001b[0mdata\u001b[0m\u001b[0;34m)\u001b[0m\u001b[0;34m\u001b[0m\u001b[0;34m\u001b[0m\u001b[0m\n\u001b[0m\u001b[1;32m      8\u001b[0m \u001b[0;34m\u001b[0m\u001b[0m\n\u001b[1;32m      9\u001b[0m     \u001b[0;32melif\u001b[0m \u001b[0mFS\u001b[0m \u001b[0;34m==\u001b[0m \u001b[0;36m2\u001b[0m\u001b[0;34m:\u001b[0m\u001b[0;34m\u001b[0m\u001b[0;34m\u001b[0m\u001b[0m\n\u001b[1;32m     10\u001b[0m         \u001b[0mdata\u001b[0m \u001b[0;34m=\u001b[0m \u001b[0mfetch_historical_balance\u001b[0m\u001b[0;34m(\u001b[0m\u001b[0mtkrs\u001b[0m\u001b[0;34m)\u001b[0m\u001b[0;34m\u001b[0m\u001b[0;34m\u001b[0m\u001b[0m\n",
      "\u001b[0;32m~/.local/lib/python3.10/site-packages/pandas/core/generic.py\u001b[0m in \u001b[0;36m?\u001b[0;34m(self, name)\u001b[0m\n\u001b[1;32m   5985\u001b[0m             \u001b[0;32mand\u001b[0m \u001b[0mname\u001b[0m \u001b[0;32mnot\u001b[0m \u001b[0;32min\u001b[0m \u001b[0mself\u001b[0m\u001b[0;34m.\u001b[0m\u001b[0m_accessors\u001b[0m\u001b[0;34m\u001b[0m\u001b[0;34m\u001b[0m\u001b[0m\n\u001b[1;32m   5986\u001b[0m             \u001b[0;32mand\u001b[0m \u001b[0mself\u001b[0m\u001b[0;34m.\u001b[0m\u001b[0m_info_axis\u001b[0m\u001b[0;34m.\u001b[0m\u001b[0m_can_hold_identifiers_and_holds_name\u001b[0m\u001b[0;34m(\u001b[0m\u001b[0mname\u001b[0m\u001b[0;34m)\u001b[0m\u001b[0;34m\u001b[0m\u001b[0;34m\u001b[0m\u001b[0m\n\u001b[1;32m   5987\u001b[0m         ):\n\u001b[1;32m   5988\u001b[0m             \u001b[0;32mreturn\u001b[0m \u001b[0mself\u001b[0m\u001b[0;34m[\u001b[0m\u001b[0mname\u001b[0m\u001b[0;34m]\u001b[0m\u001b[0;34m\u001b[0m\u001b[0;34m\u001b[0m\u001b[0m\n\u001b[0;32m-> 5989\u001b[0;31m         \u001b[0;32mreturn\u001b[0m \u001b[0mobject\u001b[0m\u001b[0;34m.\u001b[0m\u001b[0m__getattribute__\u001b[0m\u001b[0;34m(\u001b[0m\u001b[0mself\u001b[0m\u001b[0;34m,\u001b[0m \u001b[0mname\u001b[0m\u001b[0;34m)\u001b[0m\u001b[0;34m\u001b[0m\u001b[0;34m\u001b[0m\u001b[0m\n\u001b[0m",
      "\u001b[0;31mAttributeError\u001b[0m: 'DataFrame' object has no attribute 'append'"
     ]
    }
   ],
   "source": [
    "finacial = Process(19,tkrs,1)\n",
    "\n",
    "finacial"
   ]
  },
  {
   "cell_type": "markdown",
   "metadata": {},
   "source": [
    "Processing batches of diferent, first 1: historical financial"
   ]
  },
  {
   "cell_type": "code",
   "execution_count": null,
   "metadata": {
    "id": "Sb62d6W-ClLT"
   },
   "outputs": [],
   "source": [
    "# # Exporting Excel file Dataframes\n",
    "# df.to_excel(excel_writer='/content/drive/MyDrive/Data/XLXS/RAW/AtivosBr.xlsx',\n",
    "#             sheet_name=\"stocks\")\n",
    "\n",
    "# dfbeta.to_excel(excel_writer='/content/drive/MyDrive/Data/XLXS/RAW/Beta.xlsx'\n",
    "#             ,sheet_name=\"key_stats\")\n",
    "\n",
    "# addata.to_excel(excel_writer='/content/drive/MyDrive/Data/XLXS/RAW/Financial.xlsx',\n",
    "#             sheet_name=\"financial_data\")\n",
    "\n",
    "# dfprice.to_excel(excel_writer='/content/drive/MyDrive/Data/XLXS/RAW/Price.xlsx',\n",
    "#             sheet_name=\"price\") "
   ]
  },
  {
   "attachments": {},
   "cell_type": "markdown",
   "metadata": {},
   "source": [
    "Local Machine Version"
   ]
  },
  {
   "cell_type": "code",
   "execution_count": null,
   "metadata": {},
   "outputs": [],
   "source": [
    "# df.to_excel(excel_writer=r'../notebooks/RAW_DATA/XLSX/AtivosBR.xlsx',\n",
    "#            sheet_name=\"stocks\",\n",
    "#            engine='openpyxl')\n",
    "\n",
    "# dfbeta.to_excel(excel_writer=r'../notebooks/RAW_DATA/XLSX/Beta.xlsx',\n",
    "#                 sheet_name=\"key_stats\")\n",
    "\n",
    "# addata.to_excel(excel_writer=r'../notebooks/RAW_DATA/XLSX/Financial.xlsx',\n",
    "#             sheet_name=\"financial_data\")\n",
    "\n",
    "# dfprice.to_excel(excel_writer=r'../notebooks/RAW_DATA/XLSX/Price.xlsx',\n",
    "#             sheet_name=\"price\")\n",
    "\n",
    "# balance_sheet.to_excel(excel_writer=r'../notebooks/RAW_DATA/XLSX/Balance.xlsx',\n",
    "#             sheet_name=\"balance\")"
   ]
  }
 ],
 "metadata": {
  "colab": {
   "include_colab_link": true,
   "provenance": []
  },
  "kernelspec": {
   "display_name": "My Kernel",
   "language": "python",
   "name": "mykernel"
  },
  "language_info": {
   "codemirror_mode": {
    "name": "ipython",
    "version": 3
   },
   "file_extension": ".py",
   "mimetype": "text/x-python",
   "name": "python",
   "nbconvert_exporter": "python",
   "pygments_lexer": "ipython3",
   "version": "3.10.6"
  },
  "vscode": {
   "interpreter": {
    "hash": "598092329803f2218a82426b846daf764474eee9678032408d5a767cd4823601"
   }
  }
 },
 "nbformat": 4,
 "nbformat_minor": 1
}
