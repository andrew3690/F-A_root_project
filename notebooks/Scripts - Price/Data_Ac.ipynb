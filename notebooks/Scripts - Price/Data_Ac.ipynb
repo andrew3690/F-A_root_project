{
 "cells": [
  {
   "attachments": {},
   "cell_type": "markdown",
   "metadata": {
    "colab_type": "text",
    "id": "view-in-github"
   },
   "source": [
    "<a href=\"https://colab.research.google.com/github/andrew3690/F-A_root_project/blob/Brazil/Data_Ac.ipynb\" target=\"_parent\"><img src=\"https://colab.research.google.com/assets/colab-badge.svg\" alt=\"Open In Colab\"/></a>"
   ]
  },
  {
   "attachments": {},
   "cell_type": "markdown",
   "metadata": {
    "id": "wd7jgo-jBXC2"
   },
   "source": [
    "Installing python libraries that will be use to get data from yahoo finance"
   ]
  },
  {
   "cell_type": "code",
   "execution_count": 1,
   "metadata": {
    "colab": {
     "base_uri": "https://localhost:8080/"
    },
    "id": "Mefhi-Pa1B-G",
    "outputId": "c65f37ee-5552-459a-c3d7-86acef3a0153"
   },
   "outputs": [
    {
     "name": "stdout",
     "output_type": "stream",
     "text": [
      "Defaulting to user installation because normal site-packages is not writeable\n",
      "Requirement already satisfied: yahooquery in /home/andrel/.local/lib/python3.10/site-packages (2.3.1)\n",
      "Requirement already satisfied: pandas>=0.24.0 in /home/andrel/.local/lib/python3.10/site-packages (from yahooquery) (2.0.2)\n",
      "Requirement already satisfied: lxml>=4.9.1 in /home/andrel/.local/lib/python3.10/site-packages (from yahooquery) (4.9.2)\n",
      "Requirement already satisfied: tqdm>=4.54.1 in /home/andrel/.local/lib/python3.10/site-packages (from yahooquery) (4.65.0)\n",
      "Requirement already satisfied: requests-futures>=1.0.0 in /home/andrel/.local/lib/python3.10/site-packages (from yahooquery) (1.0.1)\n",
      "Requirement already satisfied: numpy>=1.21.0 in /home/andrel/.local/lib/python3.10/site-packages (from pandas>=0.24.0->yahooquery) (1.25.0)\n",
      "Requirement already satisfied: python-dateutil>=2.8.2 in /home/andrel/.local/lib/python3.10/site-packages (from pandas>=0.24.0->yahooquery) (2.8.2)\n",
      "Requirement already satisfied: pytz>=2020.1 in /usr/lib/python3/dist-packages (from pandas>=0.24.0->yahooquery) (2022.1)\n",
      "Requirement already satisfied: tzdata>=2022.1 in /home/andrel/.local/lib/python3.10/site-packages (from pandas>=0.24.0->yahooquery) (2023.3)\n",
      "Requirement already satisfied: requests>=1.2.0 in /home/andrel/.local/lib/python3.10/site-packages (from requests-futures>=1.0.0->yahooquery) (2.25.0)\n",
      "Requirement already satisfied: six>=1.5 in /usr/lib/python3/dist-packages (from python-dateutil>=2.8.2->pandas>=0.24.0->yahooquery) (1.16.0)\n",
      "Requirement already satisfied: urllib3<1.27,>=1.21.1 in /home/andrel/.local/lib/python3.10/site-packages (from requests>=1.2.0->requests-futures>=1.0.0->yahooquery) (1.26.0)\n",
      "Requirement already satisfied: certifi>=2017.4.17 in /usr/lib/python3/dist-packages (from requests>=1.2.0->requests-futures>=1.0.0->yahooquery) (2020.6.20)\n",
      "Requirement already satisfied: idna<3,>=2.5 in /home/andrel/.local/lib/python3.10/site-packages (from requests>=1.2.0->requests-futures>=1.0.0->yahooquery) (2.10)\n",
      "Requirement already satisfied: chardet<4,>=3.0.2 in /home/andrel/.local/lib/python3.10/site-packages (from requests>=1.2.0->requests-futures>=1.0.0->yahooquery) (3.0.4)\n",
      "Defaulting to user installation because normal site-packages is not writeable\n",
      "Requirement already satisfied: urllib3==1.26 in /home/andrel/.local/lib/python3.10/site-packages (1.26.0)\n",
      "Defaulting to user installation because normal site-packages is not writeable\n",
      "Requirement already satisfied: requests==2.25 in /home/andrel/.local/lib/python3.10/site-packages (2.25.0)\n",
      "Requirement already satisfied: certifi>=2017.4.17 in /usr/lib/python3/dist-packages (from requests==2.25) (2020.6.20)\n",
      "Requirement already satisfied: idna<3,>=2.5 in /home/andrel/.local/lib/python3.10/site-packages (from requests==2.25) (2.10)\n",
      "Requirement already satisfied: chardet<4,>=3.0.2 in /home/andrel/.local/lib/python3.10/site-packages (from requests==2.25) (3.0.4)\n",
      "Requirement already satisfied: urllib3<1.27,>=1.21.1 in /home/andrel/.local/lib/python3.10/site-packages (from requests==2.25) (1.26.0)\n",
      "Defaulting to user installation because normal site-packages is not writeable\n",
      "Requirement already satisfied: openpyxl in /home/andrel/.local/lib/python3.10/site-packages (3.1.2)\n",
      "Requirement already satisfied: et-xmlfile in /home/andrel/.local/lib/python3.10/site-packages (from openpyxl) (1.1.0)\n"
     ]
    }
   ],
   "source": [
    "! pip install yahooquery\n",
    "! pip install urllib3==1.26\n",
    "! pip install requests==2.25\n",
    "! pip install openpyxl"
   ]
  },
  {
   "attachments": {},
   "cell_type": "markdown",
   "metadata": {
    "id": "_VbHBXpJBNgc"
   },
   "source": [
    "Importing modules that will be used to filter data"
   ]
  },
  {
   "cell_type": "code",
   "execution_count": 2,
   "metadata": {
    "id": "vqJZx_Fc2NEV"
   },
   "outputs": [],
   "source": [
    "from yahooquery import Ticker\n",
    "from bs4 import BeautifulSoup\n",
    "import threading\n",
    "import pandas as pd\n",
    "import requests\n",
    "import re"
   ]
  },
  {
   "attachments": {},
   "cell_type": "markdown",
   "metadata": {
    "id": "L6mkfM6XGU33"
   },
   "source": [
    "Scrapping Data from Infomoney website, getting a list of stocks from IBOVESPA."
   ]
  },
  {
   "cell_type": "code",
   "execution_count": 3,
   "metadata": {
    "id": "_Q6RsPPi_TQk"
   },
   "outputs": [],
   "source": [
    "url = requests.get('https://www.infomoney.com.br/cotacoes/empresas-b3/')\n",
    "\n",
    "soup = BeautifulSoup(url.text, 'html.parser')\n",
    "\n",
    "ticker_name_list = soup.find_all('td', class_ = 'strong')\n",
    "\n",
    "ticker = str(ticker_name_list)\n",
    "\n",
    "tickers = re.findall('>.*</',ticker)\n",
    "\n",
    "tkrs = []\n",
    "\n",
    "# strnot = (\"11\",\"F\",\"34\")\n",
    "for i in tickers:\n",
    "  if \"11\" not in i and \"F\" not in i:\n",
    "    tkr = i.strip(\"</>\")\n",
    "    tkr = tkr + \".SA\"\n",
    "    tkrs.append(tkr)"
   ]
  },
  {
   "cell_type": "code",
   "execution_count": 4,
   "metadata": {},
   "outputs": [],
   "source": [
    "def fetch_historical_financial(tickers):\n",
    "    # Yahoo finance requisition getting companies ticker\n",
    "    sumary = Ticker(tickers)\n",
    "\n",
    "    # getting companies financial data\n",
    "    data = sumary.financial_data \n",
    "\n",
    "    df = pd.DataFrame(data,  index=[0])\n",
    "\n",
    "    return df"
   ]
  },
  {
   "cell_type": "code",
   "execution_count": 25,
   "metadata": {},
   "outputs": [],
   "source": [
    "def fetch_historical_balance(tickers):\n",
    "    # Balance Ticker lists\n",
    "    balance = Ticker(tickers)\n",
    "\n",
    "    # Getting companies balance data\n",
    "    data = balance.balance_sheet(frequency='a',trailing=False)\n",
    "\n",
    "    df = pd.DataFrame(data)\n",
    "\n",
    "    return df"
   ]
  },
  {
   "cell_type": "code",
   "execution_count": 6,
   "metadata": {},
   "outputs": [],
   "source": [
    "def fetch_historical_finandata(tickers):\n",
    "    # Balance Ticker lists\n",
    "    financial = Ticker(tickers)\n",
    "\n",
    "    # Getting companies balance data\n",
    "    dt = ['EBIT', 'NetDebt']\n",
    "    data = financial.get_financial_data(dt,trailing=False)\n",
    "\n",
    "    df = pd.DataFrame(data)\n",
    "\n",
    "    return df.T"
   ]
  },
  {
   "cell_type": "code",
   "execution_count": 7,
   "metadata": {},
   "outputs": [],
   "source": [
    "def fetch_historical_price(tickers):\n",
    "    pricetkrs = Ticker(tickers)\n",
    "\n",
    "    dataprice = pricetkrs.price\n",
    "\n",
    "    df = pd.DataFrame(dataprice)\n",
    "\n",
    "    return df.T"
   ]
  },
  {
   "cell_type": "code",
   "execution_count": 8,
   "metadata": {},
   "outputs": [],
   "source": [
    "# Define a function to fetch data for each batch of tickers\n",
    "def fetch_data_batch(tkrs,FS):\n",
    "    results = []\n",
    "\n",
    "    if FS == 1:\n",
    "        data = fetch_historical_financial(tkrs)\n",
    "        results.append(data)\n",
    "\n",
    "    elif FS == 2:\n",
    "        data = fetch_historical_balance(tkrs)\n",
    "        results.append(data)\n",
    "\n",
    "    elif FS == 3:\n",
    "        data = fetch_historical_finandata(tkrs)\n",
    "        results.append(data)\n",
    "\n",
    "    elif FS == 4:\n",
    "        data = fetch_historical_price(tkrs)\n",
    "        results.append(data)\n",
    "\n",
    "    return results"
   ]
  },
  {
   "cell_type": "code",
   "execution_count": 13,
   "metadata": {},
   "outputs": [],
   "source": [
    "def ElementsList(elements_per_list,tkrs):\n",
    "    # Divide the ticker list into smaller lists\n",
    "    smaller_lists = [tkrs[i:i+elements_per_list] for i in range(0, len(tkrs), elements_per_list)]\n",
    "\n",
    "    # Print the smaller lists\n",
    "    # for i, smaller_list in enumerate(smaller_lists):\n",
    "    #     print(f\"List {i+1}: {smaller_list}\")\n",
    "    \n",
    "    return smaller_lists"
   ]
  },
  {
   "cell_type": "code",
   "execution_count": 18,
   "metadata": {},
   "outputs": [],
   "source": [
    "# Function that processes operations based on the flag of it\n",
    "# BS: Batch size\n",
    "# FS: Function Signal\n",
    "# TL: Ticker List\n",
    "\n",
    "def Process(BS,TL,FS):\n",
    "\n",
    "    lists = ElementsList(BS,TL)\n",
    "\n",
    "    results = fetch_data_batch(lists,FS)\n",
    "\n",
    "    # Create and start a thread for each ticker batch\n",
    "    threads = [threading.Thread(target=fetch_data_batch, args=(batch,FS)) for batch in lists]\n",
    "\n",
    "    # Starting threads\n",
    "    for thread in threads:\n",
    "        thread.start()\n",
    "\n",
    "    # Wait for all threads to complete\n",
    "    for thread in threads:\n",
    "        thread.join()\n",
    "\n",
    "    # Consolidate the results\n",
    "    Financial = pd.concat(results,axis=0, ignore_index=False)\n",
    "\n",
    "    return Financial"
   ]
  },
  {
   "cell_type": "markdown",
   "metadata": {},
   "source": [
    "Processing batches of diferent, first 1: historical financial"
   ]
  },
  {
   "cell_type": "code",
   "execution_count": 28,
   "metadata": {},
   "outputs": [
    {
     "ename": "TypeError",
     "evalue": "sequence item 0: expected str instance, list found",
     "output_type": "error",
     "traceback": [
      "\u001b[0;31m---------------------------------------------------------------------------\u001b[0m",
      "\u001b[0;31mValueError\u001b[0m                                Traceback (most recent call last)",
      "File \u001b[0;32m~/.local/lib/python3.10/site-packages/yahooquery/ticker.py:526\u001b[0m, in \u001b[0;36mTicker._financials\u001b[0;34m(self, financials_type, frequency, premium, types, trailing)\u001b[0m\n\u001b[1;32m    525\u001b[0m \u001b[39mtry\u001b[39;00m:\n\u001b[0;32m--> 526\u001b[0m     df \u001b[39m=\u001b[39m pd\u001b[39m.\u001b[39;49mconcat(dataframes, sort\u001b[39m=\u001b[39;49m\u001b[39mFalse\u001b[39;49;00m)\n\u001b[1;32m    527\u001b[0m     \u001b[39mif\u001b[39;00m prefix:\n",
      "File \u001b[0;32m~/.local/lib/python3.10/site-packages/pandas/core/reshape/concat.py:372\u001b[0m, in \u001b[0;36mconcat\u001b[0;34m(objs, axis, join, ignore_index, keys, levels, names, verify_integrity, sort, copy)\u001b[0m\n\u001b[1;32m    370\u001b[0m     copy \u001b[39m=\u001b[39m \u001b[39mFalse\u001b[39;00m\n\u001b[0;32m--> 372\u001b[0m op \u001b[39m=\u001b[39m _Concatenator(\n\u001b[1;32m    373\u001b[0m     objs,\n\u001b[1;32m    374\u001b[0m     axis\u001b[39m=\u001b[39;49maxis,\n\u001b[1;32m    375\u001b[0m     ignore_index\u001b[39m=\u001b[39;49mignore_index,\n\u001b[1;32m    376\u001b[0m     join\u001b[39m=\u001b[39;49mjoin,\n\u001b[1;32m    377\u001b[0m     keys\u001b[39m=\u001b[39;49mkeys,\n\u001b[1;32m    378\u001b[0m     levels\u001b[39m=\u001b[39;49mlevels,\n\u001b[1;32m    379\u001b[0m     names\u001b[39m=\u001b[39;49mnames,\n\u001b[1;32m    380\u001b[0m     verify_integrity\u001b[39m=\u001b[39;49mverify_integrity,\n\u001b[1;32m    381\u001b[0m     copy\u001b[39m=\u001b[39;49mcopy,\n\u001b[1;32m    382\u001b[0m     sort\u001b[39m=\u001b[39;49msort,\n\u001b[1;32m    383\u001b[0m )\n\u001b[1;32m    385\u001b[0m \u001b[39mreturn\u001b[39;00m op\u001b[39m.\u001b[39mget_result()\n",
      "File \u001b[0;32m~/.local/lib/python3.10/site-packages/pandas/core/reshape/concat.py:452\u001b[0m, in \u001b[0;36m_Concatenator.__init__\u001b[0;34m(self, objs, axis, join, keys, levels, names, ignore_index, verify_integrity, copy, sort)\u001b[0m\n\u001b[1;32m    451\u001b[0m \u001b[39mif\u001b[39;00m \u001b[39mlen\u001b[39m(objs) \u001b[39m==\u001b[39m \u001b[39m0\u001b[39m:\n\u001b[0;32m--> 452\u001b[0m     \u001b[39mraise\u001b[39;00m \u001b[39mValueError\u001b[39;00m(\u001b[39m\"\u001b[39m\u001b[39mAll objects passed were None\u001b[39m\u001b[39m\"\u001b[39m)\n\u001b[1;32m    454\u001b[0m \u001b[39m# figure out what our result ndim is going to be\u001b[39;00m\n",
      "\u001b[0;31mValueError\u001b[0m: All objects passed were None",
      "\nDuring handling of the above exception, another exception occurred:\n",
      "\u001b[0;31mTypeError\u001b[0m                                 Traceback (most recent call last)",
      "Cell \u001b[0;32mIn[28], line 1\u001b[0m\n\u001b[0;32m----> 1\u001b[0m Finance \u001b[39m=\u001b[39m Process(\u001b[39m19\u001b[39;49m,tkrs,\u001b[39m2\u001b[39;49m)\n",
      "Cell \u001b[0;32mIn[18], line 10\u001b[0m, in \u001b[0;36mProcess\u001b[0;34m(BS, TL, FS)\u001b[0m\n\u001b[1;32m      6\u001b[0m \u001b[39mdef\u001b[39;00m \u001b[39mProcess\u001b[39m(BS,TL,FS):\n\u001b[1;32m      8\u001b[0m     lists \u001b[39m=\u001b[39m ElementsList(BS,TL)\n\u001b[0;32m---> 10\u001b[0m     results \u001b[39m=\u001b[39m fetch_data_batch(lists,FS)\n\u001b[1;32m     12\u001b[0m     \u001b[39m# Create and start a thread for each ticker batch\u001b[39;00m\n\u001b[1;32m     13\u001b[0m     threads \u001b[39m=\u001b[39m [threading\u001b[39m.\u001b[39mThread(target\u001b[39m=\u001b[39mfetch_data_batch, args\u001b[39m=\u001b[39m(batch,FS)) \u001b[39mfor\u001b[39;00m batch \u001b[39min\u001b[39;00m lists]\n",
      "Cell \u001b[0;32mIn[8], line 10\u001b[0m, in \u001b[0;36mfetch_data_batch\u001b[0;34m(tkrs, FS)\u001b[0m\n\u001b[1;32m      7\u001b[0m     results\u001b[39m.\u001b[39mappend(data)\n\u001b[1;32m      9\u001b[0m \u001b[39melif\u001b[39;00m FS \u001b[39m==\u001b[39m \u001b[39m2\u001b[39m:\n\u001b[0;32m---> 10\u001b[0m     data \u001b[39m=\u001b[39m fetch_historical_balance(tkrs)\n\u001b[1;32m     11\u001b[0m     results\u001b[39m.\u001b[39mappend(data)\n\u001b[1;32m     13\u001b[0m \u001b[39melif\u001b[39;00m FS \u001b[39m==\u001b[39m \u001b[39m3\u001b[39m:\n",
      "Cell \u001b[0;32mIn[25], line 6\u001b[0m, in \u001b[0;36mfetch_historical_balance\u001b[0;34m(tickers)\u001b[0m\n\u001b[1;32m      3\u001b[0m balance \u001b[39m=\u001b[39m Ticker(tickers)\n\u001b[1;32m      5\u001b[0m \u001b[39m# Getting companies balance data\u001b[39;00m\n\u001b[0;32m----> 6\u001b[0m data \u001b[39m=\u001b[39m balance\u001b[39m.\u001b[39;49mbalance_sheet(frequency\u001b[39m=\u001b[39;49m\u001b[39m'\u001b[39;49m\u001b[39ma\u001b[39;49m\u001b[39m'\u001b[39;49m,trailing\u001b[39m=\u001b[39;49m\u001b[39mFalse\u001b[39;49;00m)\n\u001b[1;32m      8\u001b[0m df \u001b[39m=\u001b[39m pd\u001b[39m.\u001b[39mDataFrame(data)\n\u001b[1;32m     10\u001b[0m \u001b[39mreturn\u001b[39;00m df\n",
      "File \u001b[0;32m~/.local/lib/python3.10/site-packages/yahooquery/ticker.py:667\u001b[0m, in \u001b[0;36mTicker.balance_sheet\u001b[0;34m(self, frequency, trailing)\u001b[0m\n\u001b[1;32m    648\u001b[0m \u001b[39mdef\u001b[39;00m \u001b[39mbalance_sheet\u001b[39m(\u001b[39mself\u001b[39m, frequency\u001b[39m=\u001b[39m\u001b[39m\"\u001b[39m\u001b[39ma\u001b[39m\u001b[39m\"\u001b[39m, trailing\u001b[39m=\u001b[39m\u001b[39mTrue\u001b[39;00m):\n\u001b[1;32m    649\u001b[0m \u001b[39m    \u001b[39m\u001b[39m\"\"\"Balance Sheet\u001b[39;00m\n\u001b[1;32m    650\u001b[0m \n\u001b[1;32m    651\u001b[0m \u001b[39m    Retrieves balance sheet data for most recent four quarters or most\u001b[39;00m\n\u001b[0;32m   (...)\u001b[0m\n\u001b[1;32m    665\u001b[0m \u001b[39m    pandas.DataFrame\u001b[39;00m\n\u001b[1;32m    666\u001b[0m \u001b[39m    \"\"\"\u001b[39;00m\n\u001b[0;32m--> 667\u001b[0m     \u001b[39mreturn\u001b[39;00m \u001b[39mself\u001b[39;49m\u001b[39m.\u001b[39;49m_financials(\u001b[39m\"\u001b[39;49m\u001b[39mbalance_sheet\u001b[39;49m\u001b[39m\"\u001b[39;49m, frequency, trailing\u001b[39m=\u001b[39;49mtrailing)\n",
      "File \u001b[0;32m~/.local/lib/python3.10/site-packages/yahooquery/ticker.py:548\u001b[0m, in \u001b[0;36mTicker._financials\u001b[0;34m(self, financials_type, frequency, premium, types, trailing)\u001b[0m\n\u001b[1;32m    545\u001b[0m         \u001b[39mreturn\u001b[39;00m df\n\u001b[1;32m    546\u001b[0m \u001b[39mexcept\u001b[39;00m \u001b[39mValueError\u001b[39;00m:\n\u001b[1;32m    547\u001b[0m     \u001b[39mreturn\u001b[39;00m \u001b[39m\"\u001b[39m\u001b[39m{}\u001b[39;00m\u001b[39m data unavailable for \u001b[39m\u001b[39m{}\u001b[39;00m\u001b[39m\"\u001b[39m\u001b[39m.\u001b[39mformat(\n\u001b[0;32m--> 548\u001b[0m         financials_type\u001b[39m.\u001b[39mreplace(\u001b[39m\"\u001b[39m\u001b[39m_\u001b[39m\u001b[39m\"\u001b[39m, \u001b[39m\"\u001b[39m\u001b[39m \u001b[39m\u001b[39m\"\u001b[39m)\u001b[39m.\u001b[39mtitle(), \u001b[39m\"\u001b[39;49m\u001b[39m, \u001b[39;49m\u001b[39m\"\u001b[39;49m\u001b[39m.\u001b[39;49mjoin(\u001b[39mself\u001b[39;49m\u001b[39m.\u001b[39;49m_symbols)\n\u001b[1;32m    549\u001b[0m     )\n",
      "\u001b[0;31mTypeError\u001b[0m: sequence item 0: expected str instance, list found"
     ]
    }
   ],
   "source": [
    "Finance = Process(19,tkrs,3)"
   ]
  },
  {
   "cell_type": "code",
   "execution_count": 20,
   "metadata": {},
   "outputs": [
    {
     "data": {
      "text/plain": [
       "[  ['ZAMP3.SA', 'N2ET34.SA', 'M1TA34.SA', 'AERI3.SA', 'ICBR3.SA', 'DOTZ3.SA', 'GOLL3.SA', 'ARML3.SA', 'MLAS3.SA', 'CBAV3.SA', 'TTEN3.SA', 'NINJ3.SA', 'ATEA3.SA', 'MODL4.SA', 'MODL3.SA', 'VITT3.SA', 'KRSA3.SA', '.SA', 'CXSE3.SA']  \\\n",
       " 0  Quote not found for ticker symbol: ['ZAMP3.SA'...                                                                                                                                                                                  \n",
       " \n",
       "   ['RIOS3.SA', 'HCAR3.SA', 'GGPS3.SA', 'MATD3.SA', 'ALLD3.SA', 'BLAU3.SA', 'ATMP3.SA', 'ASAI3.SA', 'JSLG3.SA', 'CMIN3.SA', 'ELMD3.SA', 'ORVR3.SA', 'OPCT3.SA', 'WEST3.SA', 'CSED3.SA', 'BMOB3.SA', 'JALL3.SA', 'MBLY3.SA', 'ESPA3.SA']  \\\n",
       " 0  Quote not found for ticker symbol: ['RIOS3.SA'...                                                                                                                                                                                     \n",
       " \n",
       "   ['VAMO3.SA', 'INTB3.SA', 'NGRD3.SA', 'AVLL3.SA', 'RRRP3.SA', 'ENJU3.SA', 'CASH3.SA', 'CONX3.SA', 'GMAT3.SA', 'SEQL3.SA', 'PASS3.SA', 'BOAS3.SA', 'MELK3.SA', 'HBSA3.SA', 'CURY3.SA', 'PLPL3.SA', 'PETZ3.SA', 'PGMN3.SA', 'LAVV3.SA']  \\\n",
       " 0  Quote not found for ticker symbol: ['VAMO3.SA'...                                                                                                                                                                                     \n",
       " \n",
       "   ['LJQQ3.SA', 'SOMA3.SA', 'RIVA3.SA', 'AMBP3.SA', 'ALPK3.SA', 'MTRE3.SA', 'MDNE3.SA', 'VIIA3.SA', 'CEDO4.SA', 'CEDO3.SA', 'NIKE34.SA', 'MCDC34.SA', 'HOME34.SA', 'CMCS34.SA', 'RDNI3.SA', 'SLED3.SA', 'RSID3.SA', 'MNDL3.SA', 'LEVE3.SA']  \\\n",
       " 0  Quote not found for ticker symbol: ['LJQQ3.SA'...                                                                                                                                                                                         \n",
       " \n",
       "   ['CTKA4.SA', 'CTKA3.SA', 'MYPK3.SA', 'GRND3.SA', 'LCAM3.SA', 'CEAB3.SA', 'VSTE3.SA', 'CGRA4.SA', 'CGRA3.SA', 'ESTR4.SA', 'ESTR3.SA', 'DIRR3.SA', 'CTNM4.SA', 'CTNM3.SA', 'EVEN3.SA', 'AMAR3.SA', 'MOVI3.SA', 'HBOR3.SA', 'PDGR3.SA']  \\\n",
       " 0  Quote not found for ticker symbol: ['CTKA4.SA'...                                                                                                                                                                                     \n",
       " \n",
       "   ['EZTC3.SA', 'RENT3.SA', 'MRVE3.SA', 'MGLU3.SA', 'LREN3.SA', 'COGN3.SA', 'WHRL4.SA', 'WHRL3.SA', 'TCSA3.SA', 'SBUB34.SA', 'SMLS3.SA', 'SEER3.SA', 'SLED4.SA', 'HOOT4.SA', 'YDUQ3.SA', 'CYRE3.SA', 'CVCB3.SA', 'PRVA3.SA', 'WALM34.SA']  \\\n",
       " 0  Quote not found for ticker symbol: ['EZTC3.SA'...                                                                                                                                                                                       \n",
       " \n",
       "   ['PEPB34.SA', 'COLG34.SA', 'COCA34.SA', 'AVON34.SA', 'SMTO3.SA', 'MDIA3.SA', 'CAML3.SA', 'AGRO3.SA', 'VIVA3.SA', 'PCAR4.SA', 'PCAR3.SA', 'NTCO3.SA', 'JBSS3.SA', 'PGCO34.SA', 'CSUD3.SA', 'INBR31.SA', 'BIDI3.SA', 'BIDI4.SA', 'STOC31.SA']  \\\n",
       " 0  Quote not found for ticker symbol: ['PEPB34.SA...                                                                                                                                                                                            \n",
       " \n",
       "   ['NUBR33.SA', 'IGTI3.SA', 'XPBR31.SA', 'TRAD3.SA', 'BSLI4.SA', 'BSLI3.SA', 'BTTL3.SA', 'BPAR3.SA', 'VISA34.SA', 'MSBR34.SA', 'MSCD34.SA', 'JPMC34.SA', 'HONB34.SA', 'GEOO34.SA', 'GSGI34.SA', 'CTGP34.SA', 'BOAC34.SA', 'MMMC34.SA', 'SCAR3.SA']  \\\n",
       " 0  Quote not found for ticker symbol: ['NUBR33.SA...                                                                                                                                                                                                 \n",
       " \n",
       "   ['LPSB3.SA', 'BMGB4.SA', 'IGBR3.SA', 'GSHP3.SA', 'PSSA3.SA', 'CARD3.SA', 'BBRK3.SA', 'BRPR3.SA', 'BRSR6.SA', 'BRSR5.SA', 'BRSR3.SA', 'SANB4.SA', 'SANB3.SA', 'MULT3.SA', 'ITUB4.SA', 'ITUB3.SA', 'ALSO3.SA', 'BMIN3.SA', 'MERC4.SA']  \\\n",
       " 0  Quote not found for ticker symbol: ['LPSB3.SA'...                                                                                                                                                                                     \n",
       " \n",
       "   ['LOGG3.SA', 'ITSA4.SA', 'IRBR3.SA', 'PDTC3.SA', 'SYNE3.SA', 'BBDC4.SA', 'BBDC3.SA', 'BRML3.SA', 'APER3.SA', 'BBSE3.SA', 'BPAN4.SA', 'BBAS3.SA', 'BBAS12.SA', 'AXPB34.SA', 'LAND3.SA', 'DEXP4.SA', 'DEXP3.SA', 'PMAM3.SA', 'EUCA4.SA']  \\\n",
       " 0  Quote not found for ticker symbol: ['LOGG3.SA'...                                                                                                                                                                                       \n",
       " \n",
       "   ['EUCA3.SA', 'SUZB3.SA', 'KLBN4.SA', 'KLBN3.SA', 'VALE5.SA', 'UNIP6.SA', 'UNIP5.SA', 'UNIP3.SA', 'NEMO6.SA', 'NEMO5.SA', 'NEMO3.SA', 'MMXM3.SA', 'GOAU4.SA', 'DXCO3.SA', 'CSNA3.SA', 'BRKM6.SA', 'BRKM5.SA', 'BRKM3.SA', 'BRAP4.SA']  \\\n",
       " 0  Quote not found for ticker symbol: ['EUCA3.SA'...                                                                                                                                                                                     \n",
       " \n",
       "   ['BRAP3.SA', 'ARMT34.SA', 'BTLT39.SA', 'BSHY39.SA', 'BSHV39.SA', 'BIEI39.SA', 'BIYT39.SA', 'BGOV39.SA', 'PORT3.SA', 'GETT4.SA', 'GETT3.SA', 'BIYE39.SA', 'BSCZ39.SA', 'BUSA39.SA', 'BERU39.SA', 'BSOX39.SA', 'BKYY39.SA', 'BQTC39.SA', 'BQQW39.SA']  \\\n",
       " 0  Quote not found for ticker symbol: ['BRAP3.SA'...                                                                                                                                                                                                    \n",
       " \n",
       "   ['BCIR39.SA', 'BURT39.SA', 'BICL39.SA', 'BIXG39.SA', 'C2OI34.SA', 'S2TO34.SA', 'MILA.SA', 'CSMO.SA', 'W2ST34.SA', 'S2QS34.SA', 'P2AT34.SA', 'G2DD34.SA', 'D2AS34.SA', 'C2PT34.SA', 'BIVW39.SA', 'BIVE39.SA', 'BCWV39.SA', 'A2VL34.SA', 'A2MC34.SA']  \\\n",
       " 0  Quote not found for ticker symbol: ['BCIR39.SA...                                                                                                                                                                                                    \n",
       " \n",
       "   ['GRAO3.SA', 'AGXY3.SA', 'CRPG6.SA', 'CRPG5.SA', 'CRPG3.SA', 'SOJA3.SA', 'Z2NG34.SA', 'T2TD34.SA', 'T2DH34.SA', 'S2UI34.SA', 'S2QU34.SA', 'S2NW34.SA', 'S2HO34.SA', 'C2ZR34.SA', 'U2ST34.SA', 'S2EA34.SA', 'P2EN34.SA', 'M2PW34.SA', 'K2CG34.SA']  \\\n",
       " 0  Quote not found for ticker symbol: ['GRAO3.SA'...                                                                                                                                                                                                  \n",
       " \n",
       "   ['D2KN34.SA', 'C2ON34.SA', 'C2HD34.SA', 'B2YN34.SA', 'ENMT4.SA', 'ENMT3.SA', 'VBBR3.SA', 'RAIZ4.SA', 'RECV3.SA', 'SLBG34.SA', 'HALI34.SA', 'COPH34.SA', 'COPH34.SA', 'CHVX34.SA', 'PRIO3.SA', 'OSXB3.SA', 'DMMO3.SA', 'RPMG3.SA', 'UGPA3.SA']  \\\n",
       " 0  Quote not found for ticker symbol: ['D2KN34.SA...                                                                                                                                                                                              \n",
       " \n",
       "   ['PETR4.SA', 'PETR3.SA', 'EXXO34.SA', 'ENAT3.SA', 'ONCO3.SA', 'VVEO3.SA', 'PARD3.SA', 'BIOM3.SA', 'BALM4.SA', 'BALM3.SA', 'MRCK34.SA', 'GBIO33.SA', 'PNVL3.SA', 'AALR3.SA', 'ODPV3.SA', 'RADL3.SA', 'QUAL3.SA', 'JNJB34.SA', 'HYPE3.SA']  \\\n",
       " 0  Quote not found for ticker symbol: ['PETR4.SA'...                                                                                                                                                                                         \n",
       " \n",
       "   ['BMYB34.SA', 'ABTT34.SA', 'CLSA3.SA', 'LVTC3.SA', 'G2DI33.SA', 'GOGL35.SA', 'LWSA3.SA', 'TOTS3.SA', 'XRXB34.SA', 'QCOM34.SA', 'ORCL34.SA', 'IBMB34.SA', 'ITLC34.SA', 'HPQB34.SA', 'CSCO34.SA', 'AAPL34.SA', 'LINX3.SA', 'POSI3.SA', 'EBAY34.SA']  \\\n",
       " 0  Quote not found for ticker symbol: ['BMYB34.SA...                                                                                                                                                                                                  \n",
       " \n",
       "   ['BRIT3.SA', 'DESK3.SA', 'VERZ34.SA', 'OIBR4.SA', 'OIBR.SA', 'TIMS3.SA', 'VIVT3.SA', 'TELB4.SA', 'TELB3.SA', 'ATTB34.SA', 'AURE3.SA', 'MEGA3.SA', 'CEPE6.SA', 'CEPE5.SA', 'CEPE3.SA', 'CEED4.SA', 'CEED3.SA', 'EEEL4.SA', 'EEEL3.SA']  \\\n",
       " 0  Quote not found for ticker symbol: ['BRIT3.SA'...                                                                                                                                                                                      \n",
       " \n",
       "   ['CASN4.SA', 'CASN3.SA', 'CEGR3.SA', 'CEBR6.SA', 'CEBR5.SA', 'CEBR3.SA', 'RNEW4.SA', 'RNEW3.SA', 'COCE6.SA', 'COCE5.SA', 'COCE3.SA', 'CLSC4.SA', 'CLSC3.SA', 'ALUP4.SA', 'ALUP3.SA', 'SAPR4.SA', 'SAPR3.SA', 'CPRE3.SA', 'CPLE6.SA']  \\\n",
       " 0  Quote not found for ticker symbol: ['CASN4.SA'...                                                                                                                                                                                     \n",
       " \n",
       "   ['CPLE5.SA', 'CPLE3.SA', 'CGAS5.SA', 'CGAS3.SA', 'AESB3.SA', 'NEOE3.SA', 'TRPL4.SA', 'TRPL3.SA', 'EGIE3.SA', 'TAEE4.SA', 'TAEE3.SA', 'SBSP3.SA', 'GEPA4.SA', 'GEPA3.SA', 'CESP6.SA', 'CESP5.SA', 'CESP3.SA', 'CMIG4.SA', 'CMIG3.SA']  \n",
       " 0  Quote not found for ticker symbol: ['CPLE5.SA'...                                                                                                                                                                                    ]"
      ]
     },
     "execution_count": 20,
     "metadata": {},
     "output_type": "execute_result"
    }
   ],
   "source": [
    "Finance"
   ]
  },
  {
   "cell_type": "code",
   "execution_count": null,
   "metadata": {
    "id": "Sb62d6W-ClLT"
   },
   "outputs": [],
   "source": [
    "# # Exporting Excel file Dataframes\n",
    "# df.to_excel(excel_writer='/content/drive/MyDrive/Data/XLXS/RAW/AtivosBr.xlsx',\n",
    "#             sheet_name=\"stocks\")\n",
    "\n",
    "# dfbeta.to_excel(excel_writer='/content/drive/MyDrive/Data/XLXS/RAW/Beta.xlsx'\n",
    "#             ,sheet_name=\"key_stats\")\n",
    "\n",
    "# addata.to_excel(excel_writer='/content/drive/MyDrive/Data/XLXS/RAW/Financial.xlsx',\n",
    "#             sheet_name=\"financial_data\")\n",
    "\n",
    "# dfprice.to_excel(excel_writer='/content/drive/MyDrive/Data/XLXS/RAW/Price.xlsx',\n",
    "#             sheet_name=\"price\") "
   ]
  },
  {
   "attachments": {},
   "cell_type": "markdown",
   "metadata": {},
   "source": [
    "Local Machine Version"
   ]
  },
  {
   "cell_type": "code",
   "execution_count": null,
   "metadata": {},
   "outputs": [],
   "source": [
    "# df.to_excel(excel_writer=r'../notebooks/RAW_DATA/XLSX/AtivosBR.xlsx',\n",
    "#            sheet_name=\"stocks\",\n",
    "#            engine='openpyxl')\n",
    "\n",
    "# dfbeta.to_excel(excel_writer=r'../notebooks/RAW_DATA/XLSX/Beta.xlsx',\n",
    "#                 sheet_name=\"key_stats\")\n",
    "\n",
    "# addata.to_excel(excel_writer=r'../notebooks/RAW_DATA/XLSX/Financial.xlsx',\n",
    "#             sheet_name=\"financial_data\")\n",
    "\n",
    "# dfprice.to_excel(excel_writer=r'../notebooks/RAW_DATA/XLSX/Price.xlsx',\n",
    "#             sheet_name=\"price\")\n",
    "\n",
    "# balance_sheet.to_excel(excel_writer=r'../notebooks/RAW_DATA/XLSX/Balance.xlsx',\n",
    "#             sheet_name=\"balance\")"
   ]
  }
 ],
 "metadata": {
  "colab": {
   "include_colab_link": true,
   "provenance": []
  },
  "kernelspec": {
   "display_name": "My Kernel",
   "language": "python",
   "name": "mykernel"
  },
  "language_info": {
   "codemirror_mode": {
    "name": "ipython",
    "version": 3
   },
   "file_extension": ".py",
   "mimetype": "text/x-python",
   "name": "python",
   "nbconvert_exporter": "python",
   "pygments_lexer": "ipython3",
   "version": "3.10.6"
  },
  "vscode": {
   "interpreter": {
    "hash": "598092329803f2218a82426b846daf764474eee9678032408d5a767cd4823601"
   }
  }
 },
 "nbformat": 4,
 "nbformat_minor": 1
}
