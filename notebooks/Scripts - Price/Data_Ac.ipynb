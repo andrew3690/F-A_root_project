{
  "cells": [
    {
      "cell_type": "markdown",
      "metadata": {
        "colab_type": "text",
        "id": "view-in-github"
      },
      "source": [
        "<a href=\"https://colab.research.google.com/github/andrew3690/F-A_root_project/blob/Brazil/Data_Ac.ipynb\" target=\"_parent\"><img src=\"https://colab.research.google.com/assets/colab-badge.svg\" alt=\"Open In Colab\"/></a>"
      ]
    },
    {
      "cell_type": "markdown",
      "metadata": {
        "id": "wd7jgo-jBXC2"
      },
      "source": [
        "Installing python libraries that will be use to get data from yahoo finance"
      ]
    },
    {
      "cell_type": "code",
      "execution_count": 1,
      "metadata": {
        "colab": {
          "base_uri": "https://localhost:8080/"
        },
        "id": "Mefhi-Pa1B-G",
        "outputId": "c65f37ee-5552-459a-c3d7-86acef3a0153"
      },
      "outputs": [
        {
          "name": "stdout",
          "output_type": "stream",
          "text": [
            "Requirement already satisfied: yahooquery in c:\\users\\video\\appdata\\local\\programs\\python\\python311\\lib\\site-packages (2.3.0)\n",
            "Requirement already satisfied: lxml>=4.9.1 in c:\\users\\video\\appdata\\local\\programs\\python\\python311\\lib\\site-packages (from yahooquery) (4.9.2)\n",
            "Requirement already satisfied: pandas>=0.24.0 in c:\\users\\video\\appdata\\local\\programs\\python\\python311\\lib\\site-packages (from yahooquery) (1.5.3)\n",
            "Requirement already satisfied: requests-futures>=1.0.0 in c:\\users\\video\\appdata\\local\\programs\\python\\python311\\lib\\site-packages (from yahooquery) (1.0.0)\n",
            "Requirement already satisfied: tqdm>=4.54.1 in c:\\users\\video\\appdata\\local\\programs\\python\\python311\\lib\\site-packages (from yahooquery) (4.64.1)\n",
            "Requirement already satisfied: python-dateutil>=2.8.1 in c:\\users\\video\\appdata\\local\\programs\\python\\python311\\lib\\site-packages (from pandas>=0.24.0->yahooquery) (2.8.2)\n",
            "Requirement already satisfied: pytz>=2020.1 in c:\\users\\video\\appdata\\local\\programs\\python\\python311\\lib\\site-packages (from pandas>=0.24.0->yahooquery) (2022.7.1)\n",
            "Requirement already satisfied: numpy>=1.21.0 in c:\\users\\video\\appdata\\local\\programs\\python\\python311\\lib\\site-packages (from pandas>=0.24.0->yahooquery) (1.24.2)\n",
            "Requirement already satisfied: requests>=1.2.0 in c:\\users\\video\\appdata\\local\\programs\\python\\python311\\lib\\site-packages (from requests-futures>=1.0.0->yahooquery) (2.25.0)\n",
            "Requirement already satisfied: colorama in c:\\users\\video\\appdata\\local\\programs\\python\\python311\\lib\\site-packages (from tqdm>=4.54.1->yahooquery) (0.4.6)\n",
            "Requirement already satisfied: six>=1.5 in c:\\users\\video\\appdata\\local\\programs\\python\\python311\\lib\\site-packages (from python-dateutil>=2.8.1->pandas>=0.24.0->yahooquery) (1.16.0)\n",
            "Requirement already satisfied: chardet<4,>=3.0.2 in c:\\users\\video\\appdata\\local\\programs\\python\\python311\\lib\\site-packages (from requests>=1.2.0->requests-futures>=1.0.0->yahooquery) (3.0.4)\n",
            "Requirement already satisfied: idna<3,>=2.5 in c:\\users\\video\\appdata\\local\\programs\\python\\python311\\lib\\site-packages (from requests>=1.2.0->requests-futures>=1.0.0->yahooquery) (2.10)\n",
            "Requirement already satisfied: urllib3<1.27,>=1.21.1 in c:\\users\\video\\appdata\\local\\programs\\python\\python311\\lib\\site-packages (from requests>=1.2.0->requests-futures>=1.0.0->yahooquery) (1.26.0)\n",
            "Requirement already satisfied: certifi>=2017.4.17 in c:\\users\\video\\appdata\\local\\programs\\python\\python311\\lib\\site-packages (from requests>=1.2.0->requests-futures>=1.0.0->yahooquery) (2022.12.7)\n"
          ]
        },
        {
          "name": "stderr",
          "output_type": "stream",
          "text": [
            "\n",
            "[notice] A new release of pip available: 22.3.1 -> 23.0.1\n",
            "[notice] To update, run: python.exe -m pip install --upgrade pip\n"
          ]
        },
        {
          "name": "stdout",
          "output_type": "stream",
          "text": [
            "Requirement already satisfied: urllib3==1.26 in c:\\users\\video\\appdata\\local\\programs\\python\\python311\\lib\\site-packages (1.26.0)"
          ]
        },
        {
          "name": "stderr",
          "output_type": "stream",
          "text": [
            "\n",
            "[notice] A new release of pip available: 22.3.1 -> 23.0.1\n",
            "[notice] To update, run: python.exe -m pip install --upgrade pip\n"
          ]
        },
        {
          "name": "stdout",
          "output_type": "stream",
          "text": [
            "\n",
            "Requirement already satisfied: requests==2.25 in c:\\users\\video\\appdata\\local\\programs\\python\\python311\\lib\\site-packages (2.25.0)\n",
            "Requirement already satisfied: chardet<4,>=3.0.2 in c:\\users\\video\\appdata\\local\\programs\\python\\python311\\lib\\site-packages (from requests==2.25) (3.0.4)\n",
            "Requirement already satisfied: idna<3,>=2.5 in c:\\users\\video\\appdata\\local\\programs\\python\\python311\\lib\\site-packages (from requests==2.25) (2.10)\n",
            "Requirement already satisfied: urllib3<1.27,>=1.21.1 in c:\\users\\video\\appdata\\local\\programs\\python\\python311\\lib\\site-packages (from requests==2.25) (1.26.0)\n",
            "Requirement already satisfied: certifi>=2017.4.17 in c:\\users\\video\\appdata\\local\\programs\\python\\python311\\lib\\site-packages (from requests==2.25) (2022.12.7)\n"
          ]
        },
        {
          "name": "stderr",
          "output_type": "stream",
          "text": [
            "\n",
            "[notice] A new release of pip available: 22.3.1 -> 23.0.1\n",
            "[notice] To update, run: python.exe -m pip install --upgrade pip\n"
          ]
        },
        {
          "name": "stdout",
          "output_type": "stream",
          "text": [
            "Requirement already satisfied: openpyxl in c:\\users\\video\\appdata\\local\\programs\\python\\python311\\lib\\site-packages (3.1.0)\n",
            "Requirement already satisfied: et-xmlfile in c:\\users\\video\\appdata\\local\\programs\\python\\python311\\lib\\site-packages (from openpyxl) (1.1.0)\n"
          ]
        },
        {
          "name": "stderr",
          "output_type": "stream",
          "text": [
            "\n",
            "[notice] A new release of pip available: 22.3.1 -> 23.0.1\n",
            "[notice] To update, run: python.exe -m pip install --upgrade pip\n"
          ]
        }
      ],
      "source": [
        "! pip install yahooquery\n",
        "! pip install urllib3==1.26\n",
        "! pip install requests==2.25\n",
        "! pip install openpyxl"
      ]
    },
    {
      "cell_type": "markdown",
      "metadata": {
        "id": "_VbHBXpJBNgc"
      },
      "source": [
        "Importing modules that will be used to filter data"
      ]
    },
    {
      "cell_type": "code",
      "execution_count": 2,
      "metadata": {
        "id": "vqJZx_Fc2NEV"
      },
      "outputs": [],
      "source": [
        "from yahooquery import Ticker\n",
        "from bs4 import BeautifulSoup\n",
        "\n",
        "import pandas as pd\n",
        "import requests\n",
        "import re"
      ]
    },
    {
      "cell_type": "markdown",
      "metadata": {
        "id": "L6mkfM6XGU33"
      },
      "source": [
        "Scrapping Data from Infomoney website, getting a list of stocks from IBOVESPA."
      ]
    },
    {
      "cell_type": "code",
      "execution_count": 3,
      "metadata": {
        "id": "_Q6RsPPi_TQk"
      },
      "outputs": [],
      "source": [
        "url = requests.get('https://www.infomoney.com.br/cotacoes/empresas-b3/')\n",
        "\n",
        "soup = BeautifulSoup(url.text, 'html.parser')\n",
        "\n",
        "ticker_name_list = soup.find_all('td', class_ = 'strong')\n",
        "\n",
        "ticker = str(ticker_name_list)\n",
        "\n",
        "tickers = re.findall('>.*</',ticker)\n",
        "\n",
        "tkrs = []\n",
        "\n",
        "# strnot = (\"11\",\"F\",\"34\")\n",
        "for i in tickers:\n",
        "  if \"11\" not in i and \"F\" not in i:\n",
        "    tkr = i.strip(\"</>\")\n",
        "    tkr = tkr + \".SA\"\n",
        "    tkrs.append(tkr)"
      ]
    },
    {
      "cell_type": "code",
      "execution_count": 4,
      "metadata": {
        "id": "I3XEbzA_1711"
      },
      "outputs": [],
      "source": [
        "# Yahoo finance requisition getting companies ticker\n",
        "sumary = Ticker(tkrs)\n",
        "\n",
        "# getting companies financial data\n",
        "data = sumary.financial_data"
      ]
    },
    {
      "cell_type": "code",
      "execution_count": 5,
      "metadata": {
        "id": "VfI_b5ub8-Xx"
      },
      "outputs": [],
      "source": [
        "#getting stocks beta\n",
        "dt = ['EBIT', 'NetDebt']\n",
        "addata = sumary.get_financial_data(dt,trailing=False)"
      ]
    },
    {
      "cell_type": "code",
      "execution_count": 6,
      "metadata": {
        "id": "GjruE-pmnTYB"
      },
      "outputs": [],
      "source": [
        "beta = sumary.key_stats"
      ]
    },
    {
      "cell_type": "code",
      "execution_count": 7,
      "metadata": {
        "id": "OCUWZOUj8_6_"
      },
      "outputs": [],
      "source": [
        "price = sumary.price"
      ]
    },
    {
      "cell_type": "code",
      "execution_count": 15,
      "metadata": {},
      "outputs": [],
      "source": [
        "balance_sheet = sumary.balance_sheet(frequency='q',trailing=False)   "
      ]
    },
    {
      "cell_type": "code",
      "execution_count": 9,
      "metadata": {
        "id": "jraWBIbZ_LYx"
      },
      "outputs": [],
      "source": [
        "# Data transposing to pandas DataFrame format\n",
        "df = pd.DataFrame.from_dict(data)\n",
        "df = df.T\n",
        "\n",
        "dfbeta = pd.DataFrame.from_dict(beta)\n",
        "dfbeta = dfbeta.T\n",
        "\n",
        "dfprice = pd.DataFrame.from_dict(price)\n",
        "dfprice = dfprice.T"
      ]
    },
    {
      "attachments": {},
      "cell_type": "markdown",
      "metadata": {},
      "source": [
        "Google Drive version"
      ]
    },
    {
      "cell_type": "code",
      "execution_count": 10,
      "metadata": {
        "id": "Sb62d6W-ClLT"
      },
      "outputs": [
        {
          "data": {
            "text/plain": [
              "' \\ndf.to_excel(excel_writer=\\'/content/drive/MyDrive/Data/XLXS/RAW/AtivosBr.xlsx\\',\\n            sheet_name=\"stocks\")\\n\\ndfbeta.to_excel(excel_writer=\\'/content/drive/MyDrive/Data/XLXS/RAW/Beta.xlsx\\'\\n            ,sheet_name=\"key_stats\")\\n\\naddata.to_excel(excel_writer=\\'/content/drive/MyDrive/Data/XLXS/RAW/Financial.xlsx\\',\\n            sheet_name=\"financial_data\")\\n\\ndfprice.to_excel(excel_writer=\\'/content/drive/MyDrive/Data/XLXS/RAW/Price.xlsx\\',\\n            sheet_name=\"price\") \\n'"
            ]
          },
          "execution_count": 10,
          "metadata": {},
          "output_type": "execute_result"
        }
      ],
      "source": [
        "# Exporting Excel file Dataframes\n",
        "\"\"\" \n",
        "df.to_excel(excel_writer='/content/drive/MyDrive/Data/XLXS/RAW/AtivosBr.xlsx',\n",
        "            sheet_name=\"stocks\")\n",
        "\n",
        "dfbeta.to_excel(excel_writer='/content/drive/MyDrive/Data/XLXS/RAW/Beta.xlsx'\n",
        "            ,sheet_name=\"key_stats\")\n",
        "\n",
        "addata.to_excel(excel_writer='/content/drive/MyDrive/Data/XLXS/RAW/Financial.xlsx',\n",
        "            sheet_name=\"financial_data\")\n",
        "\n",
        "dfprice.to_excel(excel_writer='/content/drive/MyDrive/Data/XLXS/RAW/Price.xlsx',\n",
        "            sheet_name=\"price\") \n",
        "\"\"\""
      ]
    },
    {
      "attachments": {},
      "cell_type": "markdown",
      "metadata": {},
      "source": [
        "Local Machine Version"
      ]
    },
    {
      "cell_type": "code",
      "execution_count": 20,
      "metadata": {},
      "outputs": [],
      "source": [
        "df.to_excel(excel_writer=r'C:/Users/video/Desktop/Projetos/API/F-A_root_project/notebooks/RAW_DATA/XLSX/AtivosBR.xlsx',\n",
        "           sheet_name=\"stocks\",\n",
        "           engine='openpyxl')\n",
        "\n",
        "dfbeta.to_excel(excel_writer=r'C:/Users/video/Desktop/Projetos/API/F-A_root_project/notebooks/RAW_DATA/XLSX/Beta.xlsx',\n",
        "                sheet_name=\"key_stats\")\n",
        "\n",
        "addata.to_excel(excel_writer=r'C:/Users/video/Desktop/Projetos/API/F-A_root_project/notebooks/RAW_DATA/XLSX/Financial.xlsx',\n",
        "            sheet_name=\"financial_data\")\n",
        "\n",
        "dfprice.to_excel(excel_writer=r'C:/Users/video/Desktop/Projetos/API/F-A_root_project/notebooks/RAW_DATA/XLSX/Price.xlsx',\n",
        "            sheet_name=\"price\")\n",
        "\n",
        "balance_sheet.to_excel(excel_writer=r'C:/Users/video/Desktop/Projetos/API/F-A_root_project/notebooks/RAW_DATA/XLSX/Balance.xlsx',\n",
        "            sheet_name=\"balance\")"
      ]
    }
  ],
  "metadata": {
    "colab": {
      "include_colab_link": true,
      "provenance": []
    },
    "kernelspec": {
      "display_name": "Python 3",
      "language": "python",
      "name": "python3"
    },
    "language_info": {
      "codemirror_mode": {
        "name": "ipython",
        "version": 3
      },
      "file_extension": ".py",
      "mimetype": "text/x-python",
      "name": "python",
      "nbconvert_exporter": "python",
      "pygments_lexer": "ipython3",
      "version": "3.11.1"
    },
    "vscode": {
      "interpreter": {
        "hash": "598092329803f2218a82426b846daf764474eee9678032408d5a767cd4823601"
      }
    }
  },
  "nbformat": 4,
  "nbformat_minor": 0
}
