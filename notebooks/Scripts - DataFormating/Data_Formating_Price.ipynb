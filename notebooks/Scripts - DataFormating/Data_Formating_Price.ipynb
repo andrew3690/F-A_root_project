{
  "cells": [
    {
      "attachments": {},
      "cell_type": "markdown",
      "metadata": {
        "colab_type": "text",
        "id": "view-in-github"
      },
      "source": [
        "<a href=\"https://colab.research.google.com/github/andrew3690/F-A_root_project/blob/Brazil/Data_Formating.ipynb\" target=\"_parent\"><img src=\"https://colab.research.google.com/assets/colab-badge.svg\" alt=\"Open In Colab\"/></a>"
      ]
    },
    {
      "cell_type": "code",
      "execution_count": 1,
      "metadata": {},
      "outputs": [
        {
          "name": "stdout",
          "output_type": "stream",
          "text": [
            "Defaulting to user installation because normal site-packages is not writeable\n",
            "Requirement already satisfied: pyarrow in /home/andrel/.local/lib/python3.10/site-packages (12.0.1)\n",
            "Requirement already satisfied: numpy>=1.16.6 in /home/andrel/.local/lib/python3.10/site-packages (from pyarrow) (1.25.0)\n",
            "Defaulting to user installation because normal site-packages is not writeable\n",
            "Requirement already satisfied: fastparquet in /home/andrel/.local/lib/python3.10/site-packages (2023.4.0)\n",
            "Requirement already satisfied: cramjam>=2.3 in /home/andrel/.local/lib/python3.10/site-packages (from fastparquet) (2.6.2)\n",
            "Requirement already satisfied: fsspec in /home/andrel/.local/lib/python3.10/site-packages (from fastparquet) (2023.6.0)\n",
            "Requirement already satisfied: pandas>=1.5.0 in /home/andrel/.local/lib/python3.10/site-packages (from fastparquet) (2.0.2)\n",
            "Requirement already satisfied: packaging in /home/andrel/.local/lib/python3.10/site-packages (from fastparquet) (23.1)\n",
            "Requirement already satisfied: numpy>=1.20.3 in /home/andrel/.local/lib/python3.10/site-packages (from fastparquet) (1.25.0)\n",
            "Requirement already satisfied: python-dateutil>=2.8.2 in /home/andrel/.local/lib/python3.10/site-packages (from pandas>=1.5.0->fastparquet) (2.8.2)\n",
            "Requirement already satisfied: tzdata>=2022.1 in /home/andrel/.local/lib/python3.10/site-packages (from pandas>=1.5.0->fastparquet) (2023.3)\n",
            "Requirement already satisfied: pytz>=2020.1 in /usr/lib/python3/dist-packages (from pandas>=1.5.0->fastparquet) (2022.1)\n",
            "Requirement already satisfied: six>=1.5 in /usr/lib/python3/dist-packages (from python-dateutil>=2.8.2->pandas>=1.5.0->fastparquet) (1.16.0)\n"
          ]
        }
      ],
      "source": [
        "! pip install pyarrow\n",
        "! pip install fastparquet "
      ]
    },
    {
      "cell_type": "code",
      "execution_count": 2,
      "metadata": {},
      "outputs": [],
      "source": [
        "import pandas as pd"
      ]
    },
    {
      "attachments": {},
      "cell_type": "markdown",
      "metadata": {},
      "source": [
        "Gooogle Colab Version"
      ]
    },
    {
      "cell_type": "code",
      "execution_count": 3,
      "metadata": {
        "colab": {
          "base_uri": "https://localhost:8080/"
        },
        "id": "uXplg2kQTyLT",
        "outputId": "ffe26d40-63c0-4d05-ae70-87e3c69031a6"
      },
      "outputs": [
        {
          "data": {
            "text/plain": [
              "\" \\nfrom google.colab import drive\\ndrive.mount('/content/gdrive', force_remount=True)\\n \""
            ]
          },
          "execution_count": 3,
          "metadata": {},
          "output_type": "execute_result"
        }
      ],
      "source": [
        "\"\"\" \n",
        "from google.colab import drive\n",
        "drive.mount('/content/gdrive', force_remount=True)\n",
        " \"\"\""
      ]
    },
    {
      "attachments": {},
      "cell_type": "markdown",
      "metadata": {},
      "source": [
        "Local Machine Version"
      ]
    },
    {
      "cell_type": "code",
      "execution_count": 4,
      "metadata": {},
      "outputs": [],
      "source": [
        "data  = pd.read_excel(r\"../RAW_DATA/tst/Price.xlsx\")"
      ]
    },
    {
      "cell_type": "code",
      "execution_count": 5,
      "metadata": {},
      "outputs": [
        {
          "data": {
            "text/html": [
              "<div>\n",
              "<style scoped>\n",
              "    .dataframe tbody tr th:only-of-type {\n",
              "        vertical-align: middle;\n",
              "    }\n",
              "\n",
              "    .dataframe tbody tr th {\n",
              "        vertical-align: top;\n",
              "    }\n",
              "\n",
              "    .dataframe thead th {\n",
              "        text-align: right;\n",
              "    }\n",
              "</style>\n",
              "<table border=\"1\" class=\"dataframe\">\n",
              "  <thead>\n",
              "    <tr style=\"text-align: right;\">\n",
              "      <th></th>\n",
              "      <th>Unnamed: 0</th>\n",
              "      <th>asOfDate</th>\n",
              "      <th>periodType</th>\n",
              "      <th>currencyCode</th>\n",
              "      <th>EBIT</th>\n",
              "      <th>TotalAssets</th>\n",
              "      <th>TotalDebt</th>\n",
              "    </tr>\n",
              "  </thead>\n",
              "  <tbody>\n",
              "    <tr>\n",
              "      <th>0</th>\n",
              "      <td>0</td>\n",
              "      <td>2020-06-30</td>\n",
              "      <td>12M</td>\n",
              "      <td>BRL</td>\n",
              "      <td>5.396970e+08</td>\n",
              "      <td>2044368000</td>\n",
              "      <td>6.664760e+08</td>\n",
              "    </tr>\n",
              "    <tr>\n",
              "      <th>1</th>\n",
              "      <td>1</td>\n",
              "      <td>2021-06-30</td>\n",
              "      <td>12M</td>\n",
              "      <td>BRL</td>\n",
              "      <td>3.268240e+08</td>\n",
              "      <td>3428318000</td>\n",
              "      <td>8.621760e+08</td>\n",
              "    </tr>\n",
              "    <tr>\n",
              "      <th>2</th>\n",
              "      <td>2</td>\n",
              "      <td>2022-06-30</td>\n",
              "      <td>12M</td>\n",
              "      <td>BRL</td>\n",
              "      <td>7.053610e+08</td>\n",
              "      <td>3345263000</td>\n",
              "      <td>7.021920e+08</td>\n",
              "    </tr>\n",
              "    <tr>\n",
              "      <th>3</th>\n",
              "      <td>3</td>\n",
              "      <td>2019-12-31</td>\n",
              "      <td>12M</td>\n",
              "      <td>BRL</td>\n",
              "      <td>NaN</td>\n",
              "      <td>17021195000</td>\n",
              "      <td>9.615330e+08</td>\n",
              "    </tr>\n",
              "    <tr>\n",
              "      <th>4</th>\n",
              "      <td>4</td>\n",
              "      <td>2020-12-31</td>\n",
              "      <td>12M</td>\n",
              "      <td>BRL</td>\n",
              "      <td>NaN</td>\n",
              "      <td>25374422000</td>\n",
              "      <td>7.661930e+08</td>\n",
              "    </tr>\n",
              "    <tr>\n",
              "      <th>...</th>\n",
              "      <td>...</td>\n",
              "      <td>...</td>\n",
              "      <td>...</td>\n",
              "      <td>...</td>\n",
              "      <td>...</td>\n",
              "      <td>...</td>\n",
              "      <td>...</td>\n",
              "    </tr>\n",
              "    <tr>\n",
              "      <th>1216</th>\n",
              "      <td>1216</td>\n",
              "      <td>2022-12-31</td>\n",
              "      <td>12M</td>\n",
              "      <td>BRL</td>\n",
              "      <td>3.346154e+09</td>\n",
              "      <td>32243550000</td>\n",
              "      <td>8.041697e+09</td>\n",
              "    </tr>\n",
              "    <tr>\n",
              "      <th>1217</th>\n",
              "      <td>1217</td>\n",
              "      <td>2019-12-31</td>\n",
              "      <td>12M</td>\n",
              "      <td>BRL</td>\n",
              "      <td>2.305742e+09</td>\n",
              "      <td>21599094000</td>\n",
              "      <td>3.293751e+09</td>\n",
              "    </tr>\n",
              "    <tr>\n",
              "      <th>1218</th>\n",
              "      <td>1218</td>\n",
              "      <td>2020-12-31</td>\n",
              "      <td>12M</td>\n",
              "      <td>BRL</td>\n",
              "      <td>4.389012e+09</td>\n",
              "      <td>24592358000</td>\n",
              "      <td>4.535732e+09</td>\n",
              "    </tr>\n",
              "    <tr>\n",
              "      <th>1219</th>\n",
              "      <td>1219</td>\n",
              "      <td>2021-12-31</td>\n",
              "      <td>12M</td>\n",
              "      <td>BRL</td>\n",
              "      <td>4.174635e+09</td>\n",
              "      <td>28976739000</td>\n",
              "      <td>7.416547e+09</td>\n",
              "    </tr>\n",
              "    <tr>\n",
              "      <th>1220</th>\n",
              "      <td>1220</td>\n",
              "      <td>2022-12-31</td>\n",
              "      <td>12M</td>\n",
              "      <td>BRL</td>\n",
              "      <td>3.346154e+09</td>\n",
              "      <td>32243550000</td>\n",
              "      <td>8.041697e+09</td>\n",
              "    </tr>\n",
              "  </tbody>\n",
              "</table>\n",
              "<p>1221 rows × 7 columns</p>\n",
              "</div>"
            ],
            "text/plain": [
              "      Unnamed: 0   asOfDate periodType currencyCode          EBIT  \\\n",
              "0              0 2020-06-30        12M          BRL  5.396970e+08   \n",
              "1              1 2021-06-30        12M          BRL  3.268240e+08   \n",
              "2              2 2022-06-30        12M          BRL  7.053610e+08   \n",
              "3              3 2019-12-31        12M          BRL           NaN   \n",
              "4              4 2020-12-31        12M          BRL           NaN   \n",
              "...          ...        ...        ...          ...           ...   \n",
              "1216        1216 2022-12-31        12M          BRL  3.346154e+09   \n",
              "1217        1217 2019-12-31        12M          BRL  2.305742e+09   \n",
              "1218        1218 2020-12-31        12M          BRL  4.389012e+09   \n",
              "1219        1219 2021-12-31        12M          BRL  4.174635e+09   \n",
              "1220        1220 2022-12-31        12M          BRL  3.346154e+09   \n",
              "\n",
              "      TotalAssets     TotalDebt  \n",
              "0      2044368000  6.664760e+08  \n",
              "1      3428318000  8.621760e+08  \n",
              "2      3345263000  7.021920e+08  \n",
              "3     17021195000  9.615330e+08  \n",
              "4     25374422000  7.661930e+08  \n",
              "...           ...           ...  \n",
              "1216  32243550000  8.041697e+09  \n",
              "1217  21599094000  3.293751e+09  \n",
              "1218  24592358000  4.535732e+09  \n",
              "1219  28976739000  7.416547e+09  \n",
              "1220  32243550000  8.041697e+09  \n",
              "\n",
              "[1221 rows x 7 columns]"
            ]
          },
          "execution_count": 5,
          "metadata": {},
          "output_type": "execute_result"
        }
      ],
      "source": [
        "data"
      ]
    }
  ],
  "metadata": {
    "colab": {
      "include_colab_link": true,
      "provenance": []
    },
    "kernelspec": {
      "display_name": "My Kernel",
      "language": "python",
      "name": "mykernel"
    },
    "language_info": {
      "codemirror_mode": {
        "name": "ipython",
        "version": 3
      },
      "file_extension": ".py",
      "mimetype": "text/x-python",
      "name": "python",
      "nbconvert_exporter": "python",
      "pygments_lexer": "ipython3",
      "version": "3.10.6"
    },
    "vscode": {
      "interpreter": {
        "hash": "598092329803f2218a82426b846daf764474eee9678032408d5a767cd4823601"
      }
    }
  },
  "nbformat": 4,
  "nbformat_minor": 0
}
