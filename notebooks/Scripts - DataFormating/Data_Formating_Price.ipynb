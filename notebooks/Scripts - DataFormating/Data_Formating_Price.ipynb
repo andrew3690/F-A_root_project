{
  "cells": [
    {
      "attachments": {},
      "cell_type": "markdown",
      "metadata": {
        "colab_type": "text",
        "id": "view-in-github"
      },
      "source": [
        "<a href=\"https://colab.research.google.com/github/andrew3690/F-A_root_project/blob/Brazil/Data_Formating.ipynb\" target=\"_parent\"><img src=\"https://colab.research.google.com/assets/colab-badge.svg\" alt=\"Open In Colab\"/></a>"
      ]
    },
    {
      "cell_type": "code",
      "execution_count": 1,
      "metadata": {},
      "outputs": [
        {
          "name": "stdout",
          "output_type": "stream",
          "text": [
            "Defaulting to user installation because normal site-packages is not writeable\n",
            "Requirement already satisfied: pyarrow in /home/andrel/.local/lib/python3.10/site-packages (12.0.1)\n",
            "Requirement already satisfied: numpy>=1.16.6 in /home/andrel/.local/lib/python3.10/site-packages (from pyarrow) (1.25.0)\n",
            "Defaulting to user installation because normal site-packages is not writeable\n",
            "Requirement already satisfied: fastparquet in /home/andrel/.local/lib/python3.10/site-packages (2023.4.0)\n",
            "Requirement already satisfied: packaging in /home/andrel/.local/lib/python3.10/site-packages (from fastparquet) (23.1)\n",
            "Requirement already satisfied: cramjam>=2.3 in /home/andrel/.local/lib/python3.10/site-packages (from fastparquet) (2.6.2)\n",
            "Requirement already satisfied: pandas>=1.5.0 in /home/andrel/.local/lib/python3.10/site-packages (from fastparquet) (2.0.2)\n",
            "Requirement already satisfied: numpy>=1.20.3 in /home/andrel/.local/lib/python3.10/site-packages (from fastparquet) (1.25.0)\n",
            "Requirement already satisfied: fsspec in /home/andrel/.local/lib/python3.10/site-packages (from fastparquet) (2023.6.0)\n",
            "Requirement already satisfied: tzdata>=2022.1 in /home/andrel/.local/lib/python3.10/site-packages (from pandas>=1.5.0->fastparquet) (2023.3)\n",
            "Requirement already satisfied: python-dateutil>=2.8.2 in /home/andrel/.local/lib/python3.10/site-packages (from pandas>=1.5.0->fastparquet) (2.8.2)\n",
            "Requirement already satisfied: pytz>=2020.1 in /usr/lib/python3/dist-packages (from pandas>=1.5.0->fastparquet) (2022.1)\n",
            "Requirement already satisfied: six>=1.5 in /usr/lib/python3/dist-packages (from python-dateutil>=2.8.2->pandas>=1.5.0->fastparquet) (1.16.0)\n"
          ]
        }
      ],
      "source": [
        "! pip install pyarrow\n",
        "! pip install fastparquet "
      ]
    },
    {
      "cell_type": "code",
      "execution_count": 2,
      "metadata": {},
      "outputs": [],
      "source": [
        "import pandas as pd\n",
        "import os"
      ]
    },
    {
      "attachments": {},
      "cell_type": "markdown",
      "metadata": {},
      "source": [
        "Gooogle Colab Version"
      ]
    },
    {
      "cell_type": "code",
      "execution_count": 3,
      "metadata": {
        "colab": {
          "base_uri": "https://localhost:8080/"
        },
        "id": "uXplg2kQTyLT",
        "outputId": "ffe26d40-63c0-4d05-ae70-87e3c69031a6"
      },
      "outputs": [
        {
          "data": {
            "text/plain": [
              "\" \\nfrom google.colab import drive\\ndrive.mount('/content/gdrive', force_remount=True)\\n \""
            ]
          },
          "execution_count": 3,
          "metadata": {},
          "output_type": "execute_result"
        }
      ],
      "source": [
        "\"\"\" \n",
        "from google.colab import drive\n",
        "drive.mount('/content/gdrive', force_remount=True)\n",
        " \"\"\""
      ]
    },
    {
      "attachments": {},
      "cell_type": "markdown",
      "metadata": {},
      "source": [
        "Local Machine Version"
      ]
    },
    {
      "cell_type": "code",
      "execution_count": 4,
      "metadata": {},
      "outputs": [],
      "source": [
        "data  = pd.read_excel(r\"../RAW_DATA/tst/Price.xlsx\")"
      ]
    },
    {
      "cell_type": "code",
      "execution_count": 5,
      "metadata": {},
      "outputs": [],
      "source": [
        "cols = [\"Unnamed: 0\",\"currencyCode\"]\n",
        "\n",
        "data.drop(columns=cols,inplace=True)"
      ]
    },
    {
      "cell_type": "code",
      "execution_count": 6,
      "metadata": {},
      "outputs": [],
      "source": [
        "data = data.dropna()"
      ]
    },
    {
      "cell_type": "code",
      "execution_count": 7,
      "metadata": {},
      "outputs": [],
      "source": [
        "data['Ticker'] = data['Ticker'].str.replace('.SA', '')"
      ]
    },
    {
      "cell_type": "code",
      "execution_count": 8,
      "metadata": {},
      "outputs": [
        {
          "data": {
            "text/html": [
              "<div>\n",
              "<style scoped>\n",
              "    .dataframe tbody tr th:only-of-type {\n",
              "        vertical-align: middle;\n",
              "    }\n",
              "\n",
              "    .dataframe tbody tr th {\n",
              "        vertical-align: top;\n",
              "    }\n",
              "\n",
              "    .dataframe thead th {\n",
              "        text-align: right;\n",
              "    }\n",
              "</style>\n",
              "<table border=\"1\" class=\"dataframe\">\n",
              "  <thead>\n",
              "    <tr style=\"text-align: right;\">\n",
              "      <th></th>\n",
              "      <th>asOfDate</th>\n",
              "      <th>periodType</th>\n",
              "      <th>EBIT</th>\n",
              "      <th>TotalAssets</th>\n",
              "      <th>TotalDebt</th>\n",
              "      <th>Ticker</th>\n",
              "    </tr>\n",
              "  </thead>\n",
              "  <tbody>\n",
              "    <tr>\n",
              "      <th>8</th>\n",
              "      <td>2019-12-31</td>\n",
              "      <td>12M</td>\n",
              "      <td>7.643470e+08</td>\n",
              "      <td>9946283000</td>\n",
              "      <td>1.800798e+09</td>\n",
              "      <td>BRPR3</td>\n",
              "    </tr>\n",
              "    <tr>\n",
              "      <th>9</th>\n",
              "      <td>2020-12-31</td>\n",
              "      <td>12M</td>\n",
              "      <td>4.140230e+08</td>\n",
              "      <td>10654156000</td>\n",
              "      <td>2.265793e+09</td>\n",
              "      <td>BRPR3</td>\n",
              "    </tr>\n",
              "    <tr>\n",
              "      <th>10</th>\n",
              "      <td>2021-12-31</td>\n",
              "      <td>12M</td>\n",
              "      <td>2.258400e+08</td>\n",
              "      <td>11283900000</td>\n",
              "      <td>2.914098e+09</td>\n",
              "      <td>BRPR3</td>\n",
              "    </tr>\n",
              "    <tr>\n",
              "      <th>11</th>\n",
              "      <td>2022-12-31</td>\n",
              "      <td>12M</td>\n",
              "      <td>-1.787577e+09</td>\n",
              "      <td>4721464000</td>\n",
              "      <td>2.712000e+06</td>\n",
              "      <td>BRPR3</td>\n",
              "    </tr>\n",
              "    <tr>\n",
              "      <th>16</th>\n",
              "      <td>2019-12-31</td>\n",
              "      <td>12M</td>\n",
              "      <td>5.376000e+09</td>\n",
              "      <td>266000000000</td>\n",
              "      <td>9.410000e+10</td>\n",
              "      <td>GEOO34</td>\n",
              "    </tr>\n",
              "    <tr>\n",
              "      <th>...</th>\n",
              "      <td>...</td>\n",
              "      <td>...</td>\n",
              "      <td>...</td>\n",
              "      <td>...</td>\n",
              "      <td>...</td>\n",
              "      <td>...</td>\n",
              "    </tr>\n",
              "    <tr>\n",
              "      <th>1216</th>\n",
              "      <td>2022-12-31</td>\n",
              "      <td>12M</td>\n",
              "      <td>3.346154e+09</td>\n",
              "      <td>32243550000</td>\n",
              "      <td>8.041697e+09</td>\n",
              "      <td>TRPL3</td>\n",
              "    </tr>\n",
              "    <tr>\n",
              "      <th>1217</th>\n",
              "      <td>2019-12-31</td>\n",
              "      <td>12M</td>\n",
              "      <td>2.305742e+09</td>\n",
              "      <td>21599094000</td>\n",
              "      <td>3.293751e+09</td>\n",
              "      <td>TRPL4</td>\n",
              "    </tr>\n",
              "    <tr>\n",
              "      <th>1218</th>\n",
              "      <td>2020-12-31</td>\n",
              "      <td>12M</td>\n",
              "      <td>4.389012e+09</td>\n",
              "      <td>24592358000</td>\n",
              "      <td>4.535732e+09</td>\n",
              "      <td>TRPL4</td>\n",
              "    </tr>\n",
              "    <tr>\n",
              "      <th>1219</th>\n",
              "      <td>2021-12-31</td>\n",
              "      <td>12M</td>\n",
              "      <td>4.174635e+09</td>\n",
              "      <td>28976739000</td>\n",
              "      <td>7.416547e+09</td>\n",
              "      <td>TRPL4</td>\n",
              "    </tr>\n",
              "    <tr>\n",
              "      <th>1220</th>\n",
              "      <td>2022-12-31</td>\n",
              "      <td>12M</td>\n",
              "      <td>3.346154e+09</td>\n",
              "      <td>32243550000</td>\n",
              "      <td>8.041697e+09</td>\n",
              "      <td>TRPL4</td>\n",
              "    </tr>\n",
              "  </tbody>\n",
              "</table>\n",
              "<p>1093 rows × 6 columns</p>\n",
              "</div>"
            ],
            "text/plain": [
              "       asOfDate periodType          EBIT   TotalAssets     TotalDebt  Ticker\n",
              "8    2019-12-31        12M  7.643470e+08    9946283000  1.800798e+09   BRPR3\n",
              "9    2020-12-31        12M  4.140230e+08   10654156000  2.265793e+09   BRPR3\n",
              "10   2021-12-31        12M  2.258400e+08   11283900000  2.914098e+09   BRPR3\n",
              "11   2022-12-31        12M -1.787577e+09    4721464000  2.712000e+06   BRPR3\n",
              "16   2019-12-31        12M  5.376000e+09  266000000000  9.410000e+10  GEOO34\n",
              "...         ...        ...           ...           ...           ...     ...\n",
              "1216 2022-12-31        12M  3.346154e+09   32243550000  8.041697e+09   TRPL3\n",
              "1217 2019-12-31        12M  2.305742e+09   21599094000  3.293751e+09   TRPL4\n",
              "1218 2020-12-31        12M  4.389012e+09   24592358000  4.535732e+09   TRPL4\n",
              "1219 2021-12-31        12M  4.174635e+09   28976739000  7.416547e+09   TRPL4\n",
              "1220 2022-12-31        12M  3.346154e+09   32243550000  8.041697e+09   TRPL4\n",
              "\n",
              "[1093 rows x 6 columns]"
            ]
          },
          "execution_count": 8,
          "metadata": {},
          "output_type": "execute_result"
        }
      ],
      "source": [
        "data"
      ]
    },
    {
      "cell_type": "code",
      "execution_count": 9,
      "metadata": {},
      "outputs": [],
      "source": [
        "output_directory = \"../Final/Parquet/tst/\"\n",
        "\n",
        "# Create the output directory if it doesn't exist\n",
        "os.makedirs(output_directory, exist_ok=True)\n",
        "\n",
        "output_directory = output_directory + \"\" + \"/Price.parquet\"\n",
        "\n",
        "data.to_parquet(output_directory)"
      ]
    }
  ],
  "metadata": {
    "colab": {
      "include_colab_link": true,
      "provenance": []
    },
    "kernelspec": {
      "display_name": "My Kernel",
      "language": "python",
      "name": "mykernel"
    },
    "language_info": {
      "codemirror_mode": {
        "name": "ipython",
        "version": 3
      },
      "file_extension": ".py",
      "mimetype": "text/x-python",
      "name": "python",
      "nbconvert_exporter": "python",
      "pygments_lexer": "ipython3",
      "version": "3.10.6"
    },
    "vscode": {
      "interpreter": {
        "hash": "598092329803f2218a82426b846daf764474eee9678032408d5a767cd4823601"
      }
    }
  },
  "nbformat": 4,
  "nbformat_minor": 0
}
