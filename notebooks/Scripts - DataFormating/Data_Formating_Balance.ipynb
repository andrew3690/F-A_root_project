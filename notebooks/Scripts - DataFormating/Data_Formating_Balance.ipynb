{
  "cells": [
    {
      "attachments": {},
      "cell_type": "markdown",
      "metadata": {
        "colab_type": "text",
        "id": "view-in-github"
      },
      "source": [
        "<a href=\"https://colab.research.google.com/github/andrew3690/F-A_root_project/blob/Brazil/Data_Formating.ipynb\" target=\"_parent\"><img src=\"https://colab.research.google.com/assets/colab-badge.svg\" alt=\"Open In Colab\"/></a>"
      ]
    },
    {
      "cell_type": "code",
      "execution_count": 1,
      "metadata": {},
      "outputs": [
        {
          "name": "stdout",
          "output_type": "stream",
          "text": [
            "Defaulting to user installation because normal site-packages is not writeable\n",
            "Requirement already satisfied: pyarrow in /home/andrel/.local/lib/python3.10/site-packages (12.0.1)\n",
            "Requirement already satisfied: numpy>=1.16.6 in /home/andrel/.local/lib/python3.10/site-packages (from pyarrow) (1.25.0)\n",
            "Defaulting to user installation because normal site-packages is not writeable\n",
            "Requirement already satisfied: fastparquet in /home/andrel/.local/lib/python3.10/site-packages (2023.4.0)\n",
            "Requirement already satisfied: numpy>=1.20.3 in /home/andrel/.local/lib/python3.10/site-packages (from fastparquet) (1.25.0)\n",
            "Requirement already satisfied: pandas>=1.5.0 in /home/andrel/.local/lib/python3.10/site-packages (from fastparquet) (2.0.2)\n",
            "Requirement already satisfied: packaging in /home/andrel/.local/lib/python3.10/site-packages (from fastparquet) (23.1)\n",
            "Requirement already satisfied: cramjam>=2.3 in /home/andrel/.local/lib/python3.10/site-packages (from fastparquet) (2.6.2)\n",
            "Requirement already satisfied: fsspec in /home/andrel/.local/lib/python3.10/site-packages (from fastparquet) (2023.6.0)\n",
            "Requirement already satisfied: tzdata>=2022.1 in /home/andrel/.local/lib/python3.10/site-packages (from pandas>=1.5.0->fastparquet) (2023.3)\n",
            "Requirement already satisfied: pytz>=2020.1 in /usr/lib/python3/dist-packages (from pandas>=1.5.0->fastparquet) (2022.1)\n",
            "Requirement already satisfied: python-dateutil>=2.8.2 in /home/andrel/.local/lib/python3.10/site-packages (from pandas>=1.5.0->fastparquet) (2.8.2)\n",
            "Requirement already satisfied: six>=1.5 in /usr/lib/python3/dist-packages (from python-dateutil>=2.8.2->pandas>=1.5.0->fastparquet) (1.16.0)\n"
          ]
        }
      ],
      "source": [
        "! pip install pyarrow\n",
        "! pip install fastparquet "
      ]
    },
    {
      "cell_type": "code",
      "execution_count": 2,
      "metadata": {},
      "outputs": [],
      "source": [
        "import pandas as pd"
      ]
    },
    {
      "attachments": {},
      "cell_type": "markdown",
      "metadata": {},
      "source": [
        "Gooogle Colab Version"
      ]
    },
    {
      "cell_type": "code",
      "execution_count": 4,
      "metadata": {
        "colab": {
          "base_uri": "https://localhost:8080/"
        },
        "id": "uXplg2kQTyLT",
        "outputId": "ffe26d40-63c0-4d05-ae70-87e3c69031a6"
      },
      "outputs": [
        {
          "data": {
            "text/plain": [
              "\" \\nfrom google.colab import drive\\ndrive.mount('/content/gdrive', force_remount=True)\\n \""
            ]
          },
          "execution_count": 4,
          "metadata": {},
          "output_type": "execute_result"
        }
      ],
      "source": [
        "\"\"\" \n",
        "from google.colab import drive\n",
        "drive.mount('/content/gdrive', force_remount=True)\n",
        " \"\"\""
      ]
    },
    {
      "attachments": {},
      "cell_type": "markdown",
      "metadata": {},
      "source": [
        "Local Machine Version"
      ]
    },
    {
      "cell_type": "code",
      "execution_count": 11,
      "metadata": {},
      "outputs": [],
      "source": [
        "stocks = pd.read_excel(r\"../RAW_DATA/tst/AtivosBR.xlsx\",\n",
        "                       sheet_name=\"historical_data\")"
      ]
    },
    {
      "attachments": {},
      "cell_type": "markdown",
      "metadata": {
        "id": "7jaSU0T261uC"
      },
      "source": [
        "The next cells format the stocks excel file"
      ]
    },
    {
      "cell_type": "code",
      "execution_count": 14,
      "metadata": {
        "colab": {
          "base_uri": "https://localhost:8080/"
        },
        "id": "Amc-BaCgXvBa",
        "outputId": "3ae0bcd7-9c4d-47e0-de0a-9fdd83a10c06"
      },
      "outputs": [
        {
          "data": {
            "text/plain": [
              "Index(['Unnamed: 0', 'maxAge', 'regularMarketChangePercent',\n",
              "       'regularMarketChange', 'regularMarketTime', 'priceHint',\n",
              "       'regularMarketPrice', 'regularMarketDayHigh', 'regularMarketDayLow',\n",
              "       'regularMarketVolume', 'regularMarketPreviousClose',\n",
              "       'regularMarketSource', 'regularMarketOpen', 'exchange', 'exchangeName',\n",
              "       'exchangeDataDelayedBy', 'marketState', 'quoteType', 'Ticker',\n",
              "       'underlyingSymbol', 'shortName', 'longName', 'currency',\n",
              "       'quoteSourceName', 'currencySymbol', 'fromCurrency', 'toCurrency',\n",
              "       'lastMarket', 'marketCap'],\n",
              "      dtype='object')"
            ]
          },
          "execution_count": 14,
          "metadata": {},
          "output_type": "execute_result"
        }
      ],
      "source": [
        "# Renaming column Unnamed to Ticker and set it as index \n",
        "stocks.rename(columns = {'symbol':'Ticker'},inplace = True)\n",
        "stocks.set_index('Ticker')\n",
        "\n",
        "# #Selecting columns that should be dropped\n",
        "# cols = ['maxAge','recommendationKey','targetHighPrice','targetLowPrice','targetMeanPrice','targetMedianPrice','recommendationMean','numberOfAnalystOpinions']\n",
        "# stocks.drop(cols,axis=1,inplace=True)\n",
        "\n",
        "stocks.columns"
      ]
    }
  ],
  "metadata": {
    "colab": {
      "include_colab_link": true,
      "provenance": []
    },
    "kernelspec": {
      "display_name": "My Kernel",
      "language": "python",
      "name": "mykernel"
    },
    "language_info": {
      "codemirror_mode": {
        "name": "ipython",
        "version": 3
      },
      "file_extension": ".py",
      "mimetype": "text/x-python",
      "name": "python",
      "nbconvert_exporter": "python",
      "pygments_lexer": "ipython3",
      "version": "3.10.6"
    },
    "vscode": {
      "interpreter": {
        "hash": "598092329803f2218a82426b846daf764474eee9678032408d5a767cd4823601"
      }
    }
  },
  "nbformat": 4,
  "nbformat_minor": 0
}
