{
  "cells": [
    {
      "attachments": {},
      "cell_type": "markdown",
      "metadata": {
        "colab_type": "text",
        "id": "view-in-github"
      },
      "source": [
        "<a href=\"https://colab.research.google.com/github/andrew3690/F-A_root_project/blob/Brazil/Data_Formating.ipynb\" target=\"_parent\"><img src=\"https://colab.research.google.com/assets/colab-badge.svg\" alt=\"Open In Colab\"/></a>"
      ]
    },
    {
      "cell_type": "code",
      "execution_count": 69,
      "metadata": {},
      "outputs": [
        {
          "name": "stdout",
          "output_type": "stream",
          "text": [
            "Defaulting to user installation because normal site-packages is not writeable\n",
            "Requirement already satisfied: pyarrow in /home/andrel/.local/lib/python3.10/site-packages (12.0.1)\n",
            "Requirement already satisfied: numpy>=1.16.6 in /home/andrel/.local/lib/python3.10/site-packages (from pyarrow) (1.25.0)\n",
            "Defaulting to user installation because normal site-packages is not writeable\n",
            "Requirement already satisfied: fastparquet in /home/andrel/.local/lib/python3.10/site-packages (2023.4.0)\n",
            "Requirement already satisfied: packaging in /home/andrel/.local/lib/python3.10/site-packages (from fastparquet) (23.1)\n",
            "Requirement already satisfied: pandas>=1.5.0 in /home/andrel/.local/lib/python3.10/site-packages (from fastparquet) (2.0.2)\n",
            "Requirement already satisfied: fsspec in /home/andrel/.local/lib/python3.10/site-packages (from fastparquet) (2023.6.0)\n",
            "Requirement already satisfied: numpy>=1.20.3 in /home/andrel/.local/lib/python3.10/site-packages (from fastparquet) (1.25.0)\n",
            "Requirement already satisfied: cramjam>=2.3 in /home/andrel/.local/lib/python3.10/site-packages (from fastparquet) (2.6.2)\n",
            "Requirement already satisfied: python-dateutil>=2.8.2 in /home/andrel/.local/lib/python3.10/site-packages (from pandas>=1.5.0->fastparquet) (2.8.2)\n",
            "Requirement already satisfied: tzdata>=2022.1 in /home/andrel/.local/lib/python3.10/site-packages (from pandas>=1.5.0->fastparquet) (2023.3)\n",
            "Requirement already satisfied: pytz>=2020.1 in /usr/lib/python3/dist-packages (from pandas>=1.5.0->fastparquet) (2022.1)\n",
            "Requirement already satisfied: six>=1.5 in /usr/lib/python3/dist-packages (from python-dateutil>=2.8.2->pandas>=1.5.0->fastparquet) (1.16.0)\n"
          ]
        }
      ],
      "source": [
        "! pip install pyarrow\n",
        "! pip install fastparquet "
      ]
    },
    {
      "cell_type": "code",
      "execution_count": 70,
      "metadata": {},
      "outputs": [],
      "source": [
        "import pandas as pd\n",
        "import os"
      ]
    },
    {
      "attachments": {},
      "cell_type": "markdown",
      "metadata": {},
      "source": [
        "Gooogle Colab Version"
      ]
    },
    {
      "cell_type": "code",
      "execution_count": 71,
      "metadata": {
        "colab": {
          "base_uri": "https://localhost:8080/"
        },
        "id": "uXplg2kQTyLT",
        "outputId": "ffe26d40-63c0-4d05-ae70-87e3c69031a6"
      },
      "outputs": [
        {
          "data": {
            "text/plain": [
              "\" \\nfrom google.colab import drive\\ndrive.mount('/content/gdrive', force_remount=True)\\n \""
            ]
          },
          "execution_count": 71,
          "metadata": {},
          "output_type": "execute_result"
        }
      ],
      "source": [
        "\"\"\" \n",
        "from google.colab import drive\n",
        "drive.mount('/content/gdrive', force_remount=True)\n",
        " \"\"\""
      ]
    },
    {
      "attachments": {},
      "cell_type": "markdown",
      "metadata": {},
      "source": [
        "Local Machine Version"
      ]
    },
    {
      "cell_type": "code",
      "execution_count": 83,
      "metadata": {},
      "outputs": [],
      "source": [
        "beta = pd.read_excel(r\"../RAW_DATA/tst/Beta.xlsx\",\n",
        "                       sheet_name=\"historical_financial\")"
      ]
    },
    {
      "cell_type": "code",
      "execution_count": 84,
      "metadata": {},
      "outputs": [],
      "source": [
        "beta.rename(\n",
        "    columns ={\n",
        "'asOfDate': 'Data_de_Referencia',\n",
        "'periodType': 'Tipo_de_Periodo',\n",
        "'currencyCode': 'Codigo_da_Moeda',\n",
        "'AccountsPayable': 'Contas_a_Pagar',\n",
        "'AccountsReceivable': 'Contas_a_Receber',\n",
        "'AccumulatedDepreciation': 'Depreciacao_Acumulada',\n",
        "'AdditionalPaidInCapital': 'Capital_Social_Adicional',\n",
        "'AllowanceForDoubtfulAccountsReceivable': 'Provisao_para_Contas_a_Receber_Duvidosas',\n",
        "'Amortization': 'Amortizacao',\n",
        "'AmortizationCashFlow': 'Fluxo_de_Caixa_da_Amortizacao',\n",
        "'AssetImpairmentCharge': 'Encargo_de_Impairment_de_Ativos',\n",
        "'AssetsHeldForSaleCurrent': 'Ativos_Mantidos_para_Venda_Atual',\n",
        "'AvailableForSaleSecurities': 'Valores_Mobiliarios_Disponiveis_para_Venda',\n",
        "'AverageDilutionEarnings': 'Lucro_Medio_Diluido',\n",
        "'BasicAverageShares': 'Numero_Medio_de_Acoes_Basicas',\n",
        "'BasicEPS': 'EPS_Basico',\n",
        "'BeginningCashPosition': 'Saldo_Inicial_de_Caixa',\n",
        "'BuildingsAndImprovements': 'Edificios_e_Melhorias',\n",
        "'CapitalExpenditure': 'Despesas_de_Capital',\n",
        "'CapitalLeaseObligations': 'Obrigacoes_de_Arrendamento_de_Capital',\n",
        "'CapitalStock': 'Capital_Social',\n",
        "'CashAndCashEquivalents': 'Caixa_e_Equivalentes_de_Caixa',\n",
        "'CashCashEquivalentsAndShortTermInvestments': 'Caixa_Equivalentes_de_Caixa_e_Investimentos_de_Curto_Prazo',\n",
        "'CashDividendsPaid': 'Dividendos_Pagos_em_Dinheiro',\n",
        "'CashEquivalents': 'Equivalentes_de_Caixa',\n",
        "'CashFinancial': 'Caixa_Financeiro',\n",
        "'CashFlowFromContinuingFinancingActivities': 'Fluxo_de_Caixa_de_Atividades_de_Financiamento_Continuas',\n",
        "'CashFlowFromContinuingInvestingActivities': 'Fluxo_de_Caixa_de_Atividades_de_Investimento_Continuas',\n",
        "'CashFlowFromContinuingOperatingActivities': 'Fluxo_de_Caixa_de_Atividades_Operacionais_Continuas',\n",
        "'ChangeInAccountPayable': 'Variacao_em_Contas_a_Pagar',\n",
        "'ChangeInAccruedExpense': 'Variacao_em_Despesas_Acumuladas',\n",
        "'ChangeInCashSupplementalAsReported': 'Variacao_em_Dinheiro__Suplementar_Como_Reportado',\n",
        "'ChangeInInventory': 'Variacao_em_Inventario',\n",
        "'ChangeInOtherCurrentAssets': 'Variacao_em_Outros_Ativos_Circulantes',\n",
        "'ChangeInOtherCurrentLiabilities': 'Variacao_em_Outras_Obrigacoes_Circulantes',\n",
        "'ChangeInOtherWorkingCapital': 'Variacao_no_Capital_de_Trabalho_de_Outras',\n",
        "'ChangeInPayable': 'Variacao_em_Contas_a_Pagar',\n",
        "'ChangeInPayablesAndAccruedExpense': 'Variacao_em_Contas_a_Pagar_e_Despesas_Acumuladas',\n",
        "'ChangeInPrepaidAssets': 'Variacao_em_Ativos_Antecipados',\n",
        "'ChangeInReceivables': 'Variacao_em_Contas_a_Receber',\n",
        "'ChangeInWorkingCapital': 'Variacao_no_Capital_de_Trabalho',\n",
        "'ChangesInAccountReceivables': 'Variacoes_em_Contas_a_Receber',\n",
        "'ChangesInCash': 'Variacoes_em_Dinheiro',\n",
        "'CommonStock': 'Acoes_Comuns',\n",
        "'CommonStockDividendPaid': 'Dividendos_Pagos_em_Acoes_Comuns',\n",
        "'CommonStockEquity': 'Patrimonio_Liquido_das_Acoes_Comuns',\n",
        "'CommonStockIssuance': 'Emissao_de_Acoes_Comuns',\n",
        "'CommonStockPayments': 'Pagamentos_em_Acoes_Comuns',\n",
        "'ConstructionInProgress': 'Construcao_em_Andamento',\n",
        "'CostOfRevenue': 'Custo_das_Receitas',\n",
        "'CurrentAccruedExpenses': 'Despesas_Acumuladas_Atuais',\n",
        "'CurrentAssets': 'Ativos_Circulantes',\n",
        "'CurrentCapitalLeaseObligation': 'Obrigacoes_de_Arrendamento_de_Capital_Atuais',\n",
        "'CurrentDebt': 'Divida_Atual',\n",
        "'CurrentDebtAndCapitalLeaseObligation': 'Divida_Atual_e_Obrigações_de_Arrendamento_de_Capital',\n",
        "'CurrentDeferredLiabilities': 'Passivos_Diferidos_Atuais',\n",
        "'CurrentDeferredRevenue': 'Receita_Diferida_Atual',\n",
        "'CurrentDeferredTaxesLiabilities': 'Passivos_Fiscais_Diferidos_Atuais',\n",
        "'CurrentLiabilities': 'Passivos_Circulantes',\n",
        "'CurrentNotesPayable': 'Notas_a_Pagar_Atuais',\n",
        "'CurrentProvisions': 'Provisões_Atuais',\n",
        "'DeferredIncomeTax': 'Imposto_de_Renda_Diferido',\n",
        "'DeferredTax': 'Imposto_Diferido',\n",
        "'Depreciation': 'Depreciacao',\n",
        "'DepreciationAmortizationDepletion': 'Depreciacao_Amortizacao_e_Exaustao',\n",
        "'DepreciationAndAmortization': 'Depreciacao_e_Amortizacao',\n",
        "'DepreciationAndAmortizationInIncomeStatement': 'Depreciacao_e_Amortizacao_no_Demonstrativo_de_Resultados',\n",
        "'DepreciationIncomeStatement': 'Depreciacao_no_Demonstrativo_de_Resultados',\n",
        "'DerivativeProductLiabilities': 'Passivos_de_Produtos_Derivativos',\n",
        "'DilutedAverageShares': 'Numero_Medio_de_Acoes_Diluidas',\n",
        "'DilutedEPS': 'EPS_Diluido',\n",
        "'DilutedNIAvailtoComStockholders': 'Lucro_Liquido_Diluido_Disponivel_para_Acionistas_Comuns',\n",
        "'DividendReceivedCFO': 'Dividendos_Recebidos_CFO',\n",
        "'DividendsPayable': 'Dividendos_a_Pagar'\n",
        "\n",
        "    }, inplace = True\n",
        ")"
      ]
    },
    {
      "cell_type": "code",
      "execution_count": 85,
      "metadata": {},
      "outputs": [],
      "source": [
        "cols = [\"Unnamed: 0\"]\n",
        "\n",
        "beta.drop(columns=cols,inplace=True)"
      ]
    },
    {
      "cell_type": "code",
      "execution_count": 87,
      "metadata": {},
      "outputs": [],
      "source": [
        "filtered = [\n",
        "'Ticker',    \n",
        "'Data_de_Referencia',\n",
        "'Tipo_de_Periodo',\n",
        "'Codigo_da_Moeda',\n",
        "'Contas_a_Pagar',\n",
        "'Contas_a_Receber',\n",
        "'Depreciacao_Acumulada',\n",
        "'Capital_Social_Adicional',\n",
        "'Provisao_para_Contas_a_Receber_Duvidosas',\n",
        "'Amortizacao',\n",
        "'Fluxo_de_Caixa_da_Amortizacao',\n",
        "'Encargo_de_Impairment_de_Ativos',\n",
        "'Ativos_Mantidos_para_Venda_Atual',\n",
        "'Valores_Mobiliarios_Disponiveis_para_Venda',\n",
        "'Lucro_Medio_Diluido',\n",
        "'Numero_Medio_de_Acoes_Basicas',\n",
        "'EPS_Basico',\n",
        "'Saldo_Inicial_de_Caixa',\n",
        "'Edificios_e_Melhorias',\n",
        "'Despesas_de_Capital',\n",
        "'Obrigacoes_de_Arrendamento_de_Capital',\n",
        "'Capital_Social',\n",
        "'Caixa_e_Equivalentes_de_Caixa',\n",
        "'Caixa_Equivalentes_de_Caixa_e_Investimentos_de_Curto_Prazo',\n",
        "'Dividendos_Pagos_em_Dinheiro',\n",
        "'Equivalentes_de_Caixa',\n",
        "'Caixa_Financeiro',\n",
        "'Fluxo_de_Caixa_de_Atividades_de_Financiamento_Continuas',\n",
        "'Fluxo_de_Caixa_de_Atividades_de_Investimento_Continuas',\n",
        "'Fluxo_de_Caixa_de_Atividades_Operacionais_Continuas',\n",
        "'Variacao_em_Contas_a_Pagar',\n",
        "'Variacao_em_Despesas_Acumuladas',\n",
        "'Variacao_em_Dinheiro__Suplementar_Como_Reportado',\n",
        "'Variacao_em_Inventario',\n",
        "'Variacao_em_Outros_Ativos_Circulantes',\n",
        "'Variacao_em_Outras_Obrigacoes_Circulantes',\n",
        "'Variacao_no_Capital_de_Trabalho_de_Outras',\n",
        "'Variacao_em_Contas_a_Pagar',\n",
        "'Variacao_em_Contas_a_Pagar_e_Despesas_Acumuladas',\n",
        "'Variacao_em_Ativos_Antecipados',\n",
        "'Variacao_em_Contas_a_Receber',\n",
        "'Variacao_no_Capital_de_Trabalho',\n",
        "'Variacoes_em_Contas_a_Receber',\n",
        "'Variacoes_em_Dinheiro',\n",
        "'Acoes_Comuns',\n",
        "'Dividendos_Pagos_em_Acoes_Comuns',\n",
        "'Patrimonio_Liquido_das_Acoes_Comuns',\n",
        "'Emissao_de_Acoes_Comuns',\n",
        "'Pagamentos_em_Acoes_Comuns',\n",
        "'Construcao_em_Andamento',\n",
        "'Custo_das_Receitas',\n",
        "'Despesas_Acumuladas_Atuais',\n",
        "'Ativos_Circulantes',\n",
        "'Obrigacoes_de_Arrendamento_de_Capital_Atuais',\n",
        "'Divida_Atual',\n",
        "'Divida_Atual_e_Obrigações_de_Arrendamento_de_Capital',\n",
        "'Passivos_Diferidos_Atuais',\n",
        "'Receita_Diferida_Atual',\n",
        "'Passivos_Fiscais_Diferidos_Atuais',\n",
        "'Passivos_Circulantes',\n",
        "'Notas_a_Pagar_Atuais',\n",
        "'Provisões_Atuais',\n",
        "'Imposto_de_Renda_Diferido',\n",
        "'Imposto_Diferido',\n",
        "'Depreciacao',\n",
        "'Depreciacao_Amortizacao_e_Exaustao',\n",
        "'Depreciacao_e_Amortizacao',\n",
        "'Depreciacao_e_Amortizacao_no_Demonstrativo_de_Resultados',\n",
        "'Depreciacao_no_Demonstrativo_de_Resultados',\n",
        "'Passivos_de_Produtos_Derivativos',\n",
        "'Numero_Medio_de_Acoes_Diluidas',\n",
        "'EPS_Diluido',\n",
        "'Lucro_Liquido_Diluido_Disponivel_para_Acionistas_Comuns',\n",
        "'Dividendos_Recebidos_CFO',\n",
        "'Dividendos_a_Pagar'\n",
        "]\n",
        "\n",
        "beta = beta[filtered]"
      ]
    },
    {
      "cell_type": "code",
      "execution_count": 67,
      "metadata": {},
      "outputs": [],
      "source": [
        "beta = beta.loc[:, ~beta.columns.duplicated()]\n"
      ]
    },
    {
      "cell_type": "code",
      "execution_count": 68,
      "metadata": {},
      "outputs": [],
      "source": [
        "output_directory = \"../Final/Parquet/tst/\"\n",
        "\n",
        "# Create the output directory if it doesn't exist\n",
        "os.makedirs(output_directory, exist_ok=True)\n",
        "\n",
        "output_directory = output_directory + \"\" + \"/Beta.parquet\"\n",
        "\n",
        "beta.to_parquet(output_directory)"
      ]
    }
  ],
  "metadata": {
    "colab": {
      "include_colab_link": true,
      "provenance": []
    },
    "kernelspec": {
      "display_name": "My Kernel",
      "language": "python",
      "name": "mykernel"
    },
    "language_info": {
      "codemirror_mode": {
        "name": "ipython",
        "version": 3
      },
      "file_extension": ".py",
      "mimetype": "text/x-python",
      "name": "python",
      "nbconvert_exporter": "python",
      "pygments_lexer": "ipython3",
      "version": "3.10.6"
    },
    "vscode": {
      "interpreter": {
        "hash": "598092329803f2218a82426b846daf764474eee9678032408d5a767cd4823601"
      }
    }
  },
  "nbformat": 4,
  "nbformat_minor": 0
}
