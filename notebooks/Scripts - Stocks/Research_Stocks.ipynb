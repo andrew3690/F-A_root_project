{
  "cells": [
    {
      "cell_type": "markdown",
      "metadata": {
        "colab_type": "text",
        "id": "view-in-github"
      },
      "source": [
        "<a href=\"https://colab.research.google.com/github/andrew3690/F-A_root_project/blob/Brazil/C%C3%B3pia_de_Research_Stocks.ipynb\" target=\"_parent\"><img src=\"https://colab.research.google.com/assets/colab-badge.svg\" alt=\"Open In Colab\"/></a>"
      ]
    },
    {
      "cell_type": "markdown",
      "metadata": {
        "id": "N4JRZip-LxGM"
      },
      "source": [
        "# Downloading Modules:\n",
        "Spark, pyspark, Java.\n",
        "\n",
        "Bellow it is the old fashion way, risky not Recomended"
      ]
    },
    {
      "cell_type": "code",
      "execution_count": 1,
      "metadata": {
        "id": "g7uf9T1SAwMe"
      },
      "outputs": [
        {
          "data": {
            "text/plain": [
              "' \\n# # Installing Java\\n! apt-get install openjdk-8-jdk-headless -qq > /dev/null\\n# # Dowload Spark\\n! wget -q https://archive.apache.org/dist/spark/spark-3.2.1/spark-3.2.1-bin-hadoop2.7.tgz\\n# # Decompressing archives\\n! tar xf spark-3.2.1-bin-hadoop2.7.tgz\\n# # installing findspark\\n! pip install -q findspark\\n# # installing pyspark\\n! pip install pyspark==3.2.1\\n '"
            ]
          },
          "execution_count": 1,
          "metadata": {},
          "output_type": "execute_result"
        }
      ],
      "source": [
        "\"\"\" \n",
        "# # Installing Java\n",
        "! apt-get install openjdk-8-jdk-headless -qq > /dev/null\n",
        "# # Dowload Spark\n",
        "! wget -q https://archive.apache.org/dist/spark/spark-3.2.1/spark-3.2.1-bin-hadoop2.7.tgz\n",
        "# # Decompressing archives\n",
        "! tar xf spark-3.2.1-bin-hadoop2.7.tgz\n",
        "# # installing findspark\n",
        "! pip install -q findspark\n",
        "# # installing pyspark\n",
        "! pip install pyspark==3.2.1\n",
        " \"\"\""
      ]
    },
    {
      "cell_type": "code",
      "execution_count": 2,
      "metadata": {
        "id": "V3ZS9Z2vYrxT"
      },
      "outputs": [
        {
          "data": {
            "text/plain": [
              "' \\n# Importing os library\\nimport os\\n# # Java envirorment variable\\nos.environ[\"JAVA_HOME\"] = \"/usr/lib/jvm/java-8-openjdk-amd64\"\\n# # Spark envirorment variable\\nos.environ[\"SPARK_HOME\"] = \"/content/spark-3.1.2-bin-hadoop2.7\"\\n '"
            ]
          },
          "execution_count": 2,
          "metadata": {},
          "output_type": "execute_result"
        }
      ],
      "source": [
        "\"\"\" \n",
        "# Importing os library\n",
        "import os\n",
        "# # Java envirorment variable\n",
        "os.environ[\"JAVA_HOME\"] = \"/usr/lib/jvm/java-8-openjdk-amd64\"\n",
        "# # Spark envirorment variable\n",
        "os.environ[\"SPARK_HOME\"] = \"/content/spark-3.1.2-bin-hadoop2.7\"\n",
        " \"\"\""
      ]
    },
    {
      "cell_type": "markdown",
      "metadata": {
        "id": "cTYBnobCPITD"
      },
      "source": [
        "# Better and consistent library that makes the same function as the code above\n",
        "\n"
      ]
    },
    {
      "cell_type": "code",
      "execution_count": 3,
      "metadata": {
        "colab": {
          "base_uri": "https://localhost:8080/"
        },
        "id": "boHa2yWHE2TA",
        "outputId": "2dd293d0-7923-4351-a6b7-66b27aea85f0"
      },
      "outputs": [
        {
          "name": "stdout",
          "output_type": "stream",
          "text": [
            "Requirement already satisfied: pyspark in c:\\users\\video\\appdata\\local\\programs\\python\\python311\\lib\\site-packages (3.2.1)\n",
            "Requirement already satisfied: py4j in c:\\users\\video\\appdata\\local\\programs\\python\\python311\\lib\\site-packages (0.10.9.3)\n"
          ]
        },
        {
          "name": "stderr",
          "output_type": "stream",
          "text": [
            "\n",
            "[notice] A new release of pip available: 22.3.1 -> 23.0.1\n",
            "[notice] To update, run: python.exe -m pip install --upgrade pip\n"
          ]
        },
        {
          "name": "stdout",
          "output_type": "stream",
          "text": [
            "Requirement already satisfied: pyodbc in c:\\users\\video\\appdata\\local\\programs\\python\\python311\\lib\\site-packages (4.0.35)"
          ]
        },
        {
          "name": "stderr",
          "output_type": "stream",
          "text": [
            "\n",
            "[notice] A new release of pip available: 22.3.1 -> 23.0.1\n",
            "[notice] To update, run: python.exe -m pip install --upgrade pip\n"
          ]
        },
        {
          "name": "stdout",
          "output_type": "stream",
          "text": [
            "\n"
          ]
        }
      ],
      "source": [
        "! pip install pyspark py4j\n",
        "! pip install pyodbc"
      ]
    },
    {
      "cell_type": "markdown",
      "metadata": {
        "id": "z0lpamJ2PhzT"
      },
      "source": [
        "**Importing modules and pandas library that will be used later.**"
      ]
    },
    {
      "cell_type": "code",
      "execution_count": 4,
      "metadata": {
        "id": "oLpozDIlCsnf"
      },
      "outputs": [],
      "source": [
        "from pyspark.sql import SparkSession\n",
        "import pyspark\n",
        "import pandas as pd\n",
        "import pyodbc\n",
        "# import findspark\n",
        "\n",
        "# findspark.init()"
      ]
    },
    {
      "cell_type": "code",
      "execution_count": 5,
      "metadata": {
        "colab": {
          "base_uri": "https://localhost:8080/",
          "height": 219
        },
        "id": "rLgNaJpJZWQf",
        "outputId": "375d6ea4-ab28-428e-9c70-d6742f2396f9"
      },
      "outputs": [
        {
          "data": {
            "text/html": [
              "\n",
              "            <div>\n",
              "                <p><b>SparkSession - in-memory</b></p>\n",
              "                \n",
              "        <div>\n",
              "            <p><b>SparkContext</b></p>\n",
              "\n",
              "            <p><a href=\"http://DESKTOP-7VLQ9AP:4040\">Spark UI</a></p>\n",
              "\n",
              "            <dl>\n",
              "              <dt>Version</dt>\n",
              "                <dd><code>v3.2.1</code></dd>\n",
              "              <dt>Master</dt>\n",
              "                <dd><code>local[*]</code></dd>\n",
              "              <dt>AppName</dt>\n",
              "                <dd><code>pyspark-shell</code></dd>\n",
              "            </dl>\n",
              "        </div>\n",
              "        \n",
              "            </div>\n",
              "        "
            ],
            "text/plain": [
              "<pyspark.sql.session.SparkSession at 0x1cc79503c10>"
            ]
          },
          "execution_count": 5,
          "metadata": {},
          "output_type": "execute_result"
        }
      ],
      "source": [
        "# instatianting spark instance\n",
        "spark = SparkSession.builder.master('local[*]').getOrCreate()\n",
        "\n",
        "spark"
      ]
    },
    {
      "attachments": {},
      "cell_type": "markdown",
      "metadata": {},
      "source": [
        "Gooogle Colab Version"
      ]
    },
    {
      "cell_type": "code",
      "execution_count": 6,
      "metadata": {
        "colab": {
          "base_uri": "https://localhost:8080/"
        },
        "id": "70iuSZT29Tff",
        "outputId": "7fa9d57b-f0c2-4c24-d1d3-841ff740eb4c"
      },
      "outputs": [
        {
          "data": {
            "text/plain": [
              "\" \\nfrom google.colab import drive\\ndrive.mount('/content/gdrive', force_remount=True) \\n\""
            ]
          },
          "execution_count": 6,
          "metadata": {},
          "output_type": "execute_result"
        }
      ],
      "source": [
        "\"\"\" \n",
        "from google.colab import drive\n",
        "drive.mount('/content/gdrive', force_remount=True) \n",
        "\"\"\""
      ]
    },
    {
      "cell_type": "markdown",
      "metadata": {
        "id": "MEDLrMlgMaTM"
      },
      "source": [
        "# Next cells acquire parquet data from remote files, and transpose it to spark format"
      ]
    },
    {
      "cell_type": "code",
      "execution_count": 7,
      "metadata": {
        "id": "pFHrGmPvaSTT"
      },
      "outputs": [],
      "source": [
        "fille = r\"C:/Users/video/Desktop/Projetos/API/F-A_root_project/notebooks/RAW_DATA/Parquet/BrStocksFormated.parquet\"\n",
        "\n",
        "stocks = spark\\\n",
        "        .read.format(\"parquet\")\\\n",
        "        .option(\"inferSchema\", \"True\")\\\n",
        "        .option(\"header\",\"True\")\\\n",
        "        .parquet(fille)"
      ]
    },
    {
      "cell_type": "code",
      "execution_count": 8,
      "metadata": {},
      "outputs": [],
      "source": [
        "fille = r\"C:/Users/video/Desktop/Projetos/API/F-A_root_project/notebooks/RAW_DATA/Parquet/Ebit.parquet\"\n",
        "\n",
        "ebit = spark\\\n",
        "        .read.format(\"parquet\")\\\n",
        "        .option(\"inferSchema\", \"True\")\\\n",
        "        .option(\"header\",\"True\")\\\n",
        "        .parquet(fille)"
      ]
    },
    {
      "cell_type": "code",
      "execution_count": 9,
      "metadata": {},
      "outputs": [],
      "source": [
        "fille = r\"C:/Users/video/Desktop/Projetos/API/F-A_root_project/notebooks/RAW_DATA/Parquet/Price.parquet\"\n",
        "\n",
        "price = spark\\\n",
        "        .read.format(\"parquet\")\\\n",
        "        .option(\"inferSchema\", \"True\")\\\n",
        "        .option(\"header\",\"True\")\\\n",
        "        .parquet(fille)"
      ]
    },
    {
      "cell_type": "markdown",
      "metadata": {
        "id": "SubWtlFnNJHn"
      },
      "source": [
        "Creating Tables in order to manipulate data in SQL format"
      ]
    },
    {
      "cell_type": "code",
      "execution_count": 10,
      "metadata": {
        "id": "UD38ZEtovRHd"
      },
      "outputs": [],
      "source": [
        "# Stocks table\n",
        "stocks.createOrReplaceTempView(\"General\")\n",
        "\n",
        "#Ebit table\n",
        "ebit.createOrReplaceTempView(\"Ebit\")\n",
        "\n",
        "#Price table\n",
        "price.createOrReplaceTempView(\"Price\")"
      ]
    },
    {
      "cell_type": "markdown",
      "metadata": {
        "id": "nv8S8_6bCqBk"
      },
      "source": [
        "# Note 1: \n",
        "'DetToEquity' must be in percentage, try to get it done here or otherwise in Power Bi\n",
        "\n",
        "---\n",
        "\n",
        "# Note 2: \n",
        "Find a way to calculate Beta values from \n",
        "historical data get it from other sources, but try to calculate it localy (Talk with Felipe, about the period of time that will be used as 'ytd' or montlhy). \n",
        "\n",
        "# Fixed:\n",
        "Beta values could be acquired trough yahoo finance"
      ]
    },
    {
      "cell_type": "markdown",
      "metadata": {
        "id": "sKpxqfnyBnmn"
      },
      "source": [
        "Listing brazilian companies that will be researched and getting hystorical financial data\n",
        "filters that our Analyst indicates: Raking companies by: EBIT/EV > 0, ROE > 0, **Daily equity < 1.000.000.000**, revenueGrowth > 0 AND Will be done apart :(5-year-history) and all margins must be postive"
      ]
    },
    {
      "cell_type": "code",
      "execution_count": 11,
      "metadata": {
        "id": "_KbqxMcV6ACp"
      },
      "outputs": [],
      "source": [
        "# Already called at Calc Table\n",
        "Gen = spark.sql(\"\"\"\n",
        "SELECT * FROM General\n",
        "WHERE Moeda != 'USD' AND EBITDA != 0 AND ROA != 0 AND ROE != 0;\n",
        "\"\"\").createOrReplaceTempView(\"Gen\")"
      ]
    },
    {
      "cell_type": "code",
      "execution_count": 12,
      "metadata": {
        "id": "lf6g77UP6T4R"
      },
      "outputs": [],
      "source": [
        "#Gen.show()"
      ]
    },
    {
      "cell_type": "markdown",
      "metadata": {
        "id": "abGJeNp68atZ"
      },
      "source": [
        "Alternative operations, while dealing with a little amount of data, and it can be joined here"
      ]
    },
    {
      "cell_type": "code",
      "execution_count": 13,
      "metadata": {
        "id": "_EHHjN73m9Zk"
      },
      "outputs": [],
      "source": [
        "CALCULATE = spark.sql(\"\"\"\n",
        "SELECT * FROM Gen\n",
        "WHERE Margem_Bruta > 0.0 AND Margem_EBITIDA > 0.0 AND \n",
        "Margem_Operacional > 0.0 AND Margem_liquida > 0.0 AND \n",
        "ROE > 0 AND Crescimento_de_Receita_3T > 0;\n",
        "\"\"\").createOrReplaceTempView(\"Calc\")"
      ]
    },
    {
      "cell_type": "code",
      "execution_count": 15,
      "metadata": {},
      "outputs": [],
      "source": [
        "RS = spark.sql(\"\"\"\n",
        "SELECT c.*,\n",
        "       p.valor_de_mercado\n",
        "FROM Price p\n",
        "RIGHT JOIN Calc c\n",
        "ON p.Ticker == c.Ticker\n",
        "\"\"\")"
      ]
    },
    {
      "cell_type": "code",
      "execution_count": 21,
      "metadata": {},
      "outputs": [],
      "source": [
        "df_rs = RS.toPandas()"
      ]
    },
    {
      "cell_type": "markdown",
      "metadata": {
        "id": "ZGP5as1CK1uo"
      },
      "source": [
        "ev = número total de papeis x cotação + divida liquida\n",
        "ev = market value +  liquid debt \n",
        "\n",
        "PSR = PREÇO DA AÇÃO / RECEITA LIQUIDA POR AÇÃO "
      ]
    },
    {
      "cell_type": "markdown",
      "metadata": {
        "id": "7MJkJf8SguRE"
      },
      "source": [
        "Pandas setting DataFrame to pandas format:"
      ]
    },
    {
      "attachments": {},
      "cell_type": "markdown",
      "metadata": {},
      "source": [
        "Excel format tables"
      ]
    },
    {
      "cell_type": "code",
      "execution_count": 30,
      "metadata": {
        "id": "BNc_zBG8j3zL"
      },
      "outputs": [
        {
          "data": {
            "text/plain": [
              "' \\ndf_stat.to_excel(r\"C:/Users/video/Desktop/Projetos/API/F-A_root_project/notebooks/Final/Excel/Stat.xlsx\",\\n                 sheet_name=\"stat\")\\n\\ndf_calc.to_excel(r\"C:/Users/video/Desktop/Projetos/API/F-A_root_project/notebooks/Final/Calcl.xlsx\",\\n                 sheet_name=\"calc\")\\n\\ndf_rsc.to_excel(r\"C:/Users/video/Desktop/Projetos/API/F-A_root_project/notebooks/Final/RSCH.xlsx\",\\n                sheet_name=\"research\")\\n\\ndf_balance.to_excel(r\"C:/Users/video/Desktop/Projetos/API/F-A_root_project/notebooks/Final/Balance.xlsx\",\\n                sheet_name=\"balance\")\\n'"
            ]
          },
          "execution_count": 30,
          "metadata": {},
          "output_type": "execute_result"
        }
      ],
      "source": [
        "\"\"\" \n",
        "df_rs.to_excel(r\"C:/Users/video/Desktop/Projetos/API/F-A_root_project/notebooks/Final/RSCH.xlsx\",\n",
        "                sheet_name=\"research\")\n",
        "\"\"\""
      ]
    },
    {
      "attachments": {},
      "cell_type": "markdown",
      "metadata": {},
      "source": [
        "Parquet Format tables"
      ]
    },
    {
      "cell_type": "code",
      "execution_count": 22,
      "metadata": {},
      "outputs": [],
      "source": [
        "'''\n",
        "df_rs.to_parquet(r\"C:/Users/video/Desktop/Projetos/API/F-A_root_project/notebooks/Final/Parquet/RSCH.parquet\")\n",
        "'''"
      ]
    },
    {
      "cell_type": "code",
      "execution_count": 25,
      "metadata": {},
      "outputs": [
        {
          "data": {
            "text/html": [
              "<div>\n",
              "<style scoped>\n",
              "    .dataframe tbody tr th:only-of-type {\n",
              "        vertical-align: middle;\n",
              "    }\n",
              "\n",
              "    .dataframe tbody tr th {\n",
              "        vertical-align: top;\n",
              "    }\n",
              "\n",
              "    .dataframe thead th {\n",
              "        text-align: right;\n",
              "    }\n",
              "</style>\n",
              "<table border=\"1\" class=\"dataframe\">\n",
              "  <thead>\n",
              "    <tr style=\"text-align: right;\">\n",
              "      <th></th>\n",
              "      <th>Ticker</th>\n",
              "      <th>Preco_Atual</th>\n",
              "      <th>Fluxo_de_caixa_total</th>\n",
              "      <th>Fluxo_de_caixa_por_acao</th>\n",
              "      <th>EBITDA</th>\n",
              "      <th>Divida_total</th>\n",
              "      <th>Liquidez_imediata</th>\n",
              "      <th>Liquidez_corrente</th>\n",
              "      <th>Receita_total</th>\n",
              "      <th>Divida_Patrimonio</th>\n",
              "      <th>...</th>\n",
              "      <th>Fluxo_de_caixa_operacional</th>\n",
              "      <th>Crescimento_de_Receita_3T</th>\n",
              "      <th>Margem_Bruta</th>\n",
              "      <th>Margem_EBITIDA</th>\n",
              "      <th>Margem_Operacional</th>\n",
              "      <th>Margem_liquida</th>\n",
              "      <th>Moeda</th>\n",
              "      <th>Crescimento_dos_ganhos_3T</th>\n",
              "      <th>__index_level_0__</th>\n",
              "      <th>valor_de_mercado</th>\n",
              "    </tr>\n",
              "  </thead>\n",
              "  <tbody>\n",
              "    <tr>\n",
              "      <th>0</th>\n",
              "      <td>ARML3.SA</td>\n",
              "      <td>13.44</td>\n",
              "      <td>8.593540e+08</td>\n",
              "      <td>2.489</td>\n",
              "      <td>3.809280e+08</td>\n",
              "      <td>1.886783e+09</td>\n",
              "      <td>2.691</td>\n",
              "      <td>2.789</td>\n",
              "      <td>838937024</td>\n",
              "      <td>165.614</td>\n",
              "      <td>...</td>\n",
              "      <td>-675387008</td>\n",
              "      <td>1.522</td>\n",
              "      <td>0.45842</td>\n",
              "      <td>0.45406</td>\n",
              "      <td>0.33634</td>\n",
              "      <td>0.14750</td>\n",
              "      <td>BRL</td>\n",
              "      <td>1.841</td>\n",
              "      <td>7</td>\n",
              "      <td>4650455040</td>\n",
              "    </tr>\n",
              "    <tr>\n",
              "      <th>1</th>\n",
              "      <td>TTEN3.SA</td>\n",
              "      <td>12.57</td>\n",
              "      <td>8.791550e+08</td>\n",
              "      <td>1.769</td>\n",
              "      <td>5.706630e+08</td>\n",
              "      <td>1.119887e+09</td>\n",
              "      <td>0.777</td>\n",
              "      <td>1.554</td>\n",
              "      <td>6885838848</td>\n",
              "      <td>39.733</td>\n",
              "      <td>...</td>\n",
              "      <td>257696992</td>\n",
              "      <td>0.319</td>\n",
              "      <td>0.15151</td>\n",
              "      <td>0.08287</td>\n",
              "      <td>0.07808</td>\n",
              "      <td>0.08299</td>\n",
              "      <td>BRL</td>\n",
              "      <td>0.342</td>\n",
              "      <td>10</td>\n",
              "      <td>6247516160</td>\n",
              "    </tr>\n",
              "    <tr>\n",
              "      <th>2</th>\n",
              "      <td>VITT3.SA</td>\n",
              "      <td>11.19</td>\n",
              "      <td>7.697600e+07</td>\n",
              "      <td>0.541</td>\n",
              "      <td>1.896870e+08</td>\n",
              "      <td>2.642490e+08</td>\n",
              "      <td>1.318</td>\n",
              "      <td>2.058</td>\n",
              "      <td>892286016</td>\n",
              "      <td>47.096</td>\n",
              "      <td>...</td>\n",
              "      <td>130406000</td>\n",
              "      <td>0.085</td>\n",
              "      <td>0.37012</td>\n",
              "      <td>0.21259</td>\n",
              "      <td>0.20659</td>\n",
              "      <td>0.15913</td>\n",
              "      <td>BRL</td>\n",
              "      <td>0.270</td>\n",
              "      <td>15</td>\n",
              "      <td>1594519040</td>\n",
              "    </tr>\n",
              "    <tr>\n",
              "      <th>3</th>\n",
              "      <td>CXSE3.SA</td>\n",
              "      <td>8.54</td>\n",
              "      <td>1.272550e+09</td>\n",
              "      <td>0.424</td>\n",
              "      <td>2.892785e+09</td>\n",
              "      <td>0.000000e+00</td>\n",
              "      <td>9.218</td>\n",
              "      <td>9.229</td>\n",
              "      <td>3409924096</td>\n",
              "      <td>NaN</td>\n",
              "      <td>...</td>\n",
              "      <td>2275187968</td>\n",
              "      <td>0.595</td>\n",
              "      <td>0.92936</td>\n",
              "      <td>0.84834</td>\n",
              "      <td>0.84834</td>\n",
              "      <td>0.74776</td>\n",
              "      <td>BRL</td>\n",
              "      <td>0.557</td>\n",
              "      <td>18</td>\n",
              "      <td>25620000768</td>\n",
              "    </tr>\n",
              "    <tr>\n",
              "      <th>4</th>\n",
              "      <td>GGPS3.SA</td>\n",
              "      <td>11.84</td>\n",
              "      <td>1.295590e+09</td>\n",
              "      <td>1.935</td>\n",
              "      <td>9.647340e+08</td>\n",
              "      <td>1.937756e+09</td>\n",
              "      <td>1.763</td>\n",
              "      <td>1.895</td>\n",
              "      <td>8658241536</td>\n",
              "      <td>77.118</td>\n",
              "      <td>...</td>\n",
              "      <td>278648992</td>\n",
              "      <td>0.463</td>\n",
              "      <td>0.16126</td>\n",
              "      <td>0.11142</td>\n",
              "      <td>0.09313</td>\n",
              "      <td>0.05279</td>\n",
              "      <td>BRL</td>\n",
              "      <td>0.159</td>\n",
              "      <td>21</td>\n",
              "      <td>7942899712</td>\n",
              "    </tr>\n",
              "    <tr>\n",
              "      <th>...</th>\n",
              "      <td>...</td>\n",
              "      <td>...</td>\n",
              "      <td>...</td>\n",
              "      <td>...</td>\n",
              "      <td>...</td>\n",
              "      <td>...</td>\n",
              "      <td>...</td>\n",
              "      <td>...</td>\n",
              "      <td>...</td>\n",
              "      <td>...</td>\n",
              "      <td>...</td>\n",
              "      <td>...</td>\n",
              "      <td>...</td>\n",
              "      <td>...</td>\n",
              "      <td>...</td>\n",
              "      <td>...</td>\n",
              "      <td>...</td>\n",
              "      <td>...</td>\n",
              "      <td>...</td>\n",
              "      <td>...</td>\n",
              "      <td>...</td>\n",
              "    </tr>\n",
              "    <tr>\n",
              "      <th>91</th>\n",
              "      <td>SAPR3.SA</td>\n",
              "      <td>3.25</td>\n",
              "      <td>1.207932e+09</td>\n",
              "      <td>0.799</td>\n",
              "      <td>2.242618e+09</td>\n",
              "      <td>5.083244e+09</td>\n",
              "      <td>1.444</td>\n",
              "      <td>1.516</td>\n",
              "      <td>5673647104</td>\n",
              "      <td>57.850</td>\n",
              "      <td>...</td>\n",
              "      <td>1991254016</td>\n",
              "      <td>0.067</td>\n",
              "      <td>0.57992</td>\n",
              "      <td>0.39527</td>\n",
              "      <td>0.33128</td>\n",
              "      <td>0.20296</td>\n",
              "      <td>BRL</td>\n",
              "      <td>0.057</td>\n",
              "      <td>357</td>\n",
              "      <td>5098242560</td>\n",
              "    </tr>\n",
              "    <tr>\n",
              "      <th>92</th>\n",
              "      <td>CGAS5.SA</td>\n",
              "      <td>129.01</td>\n",
              "      <td>2.155312e+09</td>\n",
              "      <td>16.264</td>\n",
              "      <td>3.224497e+09</td>\n",
              "      <td>7.424176e+09</td>\n",
              "      <td>1.164</td>\n",
              "      <td>1.251</td>\n",
              "      <td>17414152192</td>\n",
              "      <td>718.872</td>\n",
              "      <td>...</td>\n",
              "      <td>3439486976</td>\n",
              "      <td>0.272</td>\n",
              "      <td>0.19823</td>\n",
              "      <td>0.18517</td>\n",
              "      <td>0.15654</td>\n",
              "      <td>0.10402</td>\n",
              "      <td>BRL</td>\n",
              "      <td>0.238</td>\n",
              "      <td>362</td>\n",
              "      <td>16325827584</td>\n",
              "    </tr>\n",
              "    <tr>\n",
              "      <th>93</th>\n",
              "      <td>CGAS3.SA</td>\n",
              "      <td>125.00</td>\n",
              "      <td>2.155312e+09</td>\n",
              "      <td>16.264</td>\n",
              "      <td>3.224497e+09</td>\n",
              "      <td>7.424176e+09</td>\n",
              "      <td>1.164</td>\n",
              "      <td>1.251</td>\n",
              "      <td>17414152192</td>\n",
              "      <td>718.872</td>\n",
              "      <td>...</td>\n",
              "      <td>3439486976</td>\n",
              "      <td>0.272</td>\n",
              "      <td>0.19823</td>\n",
              "      <td>0.18517</td>\n",
              "      <td>0.15654</td>\n",
              "      <td>0.10402</td>\n",
              "      <td>BRL</td>\n",
              "      <td>0.238</td>\n",
              "      <td>363</td>\n",
              "      <td>16783624192</td>\n",
              "    </tr>\n",
              "    <tr>\n",
              "      <th>94</th>\n",
              "      <td>EGIE3.SA</td>\n",
              "      <td>39.10</td>\n",
              "      <td>2.445815e+09</td>\n",
              "      <td>2.998</td>\n",
              "      <td>6.159306e+09</td>\n",
              "      <td>1.815048e+10</td>\n",
              "      <td>0.735</td>\n",
              "      <td>1.253</td>\n",
              "      <td>11906605056</td>\n",
              "      <td>215.049</td>\n",
              "      <td>...</td>\n",
              "      <td>3337492992</td>\n",
              "      <td>0.120</td>\n",
              "      <td>0.46942</td>\n",
              "      <td>0.51730</td>\n",
              "      <td>0.43491</td>\n",
              "      <td>0.22366</td>\n",
              "      <td>BRL</td>\n",
              "      <td>10.496</td>\n",
              "      <td>368</td>\n",
              "      <td>32173551616</td>\n",
              "    </tr>\n",
              "    <tr>\n",
              "      <th>95</th>\n",
              "      <td>SBSP3.SA</td>\n",
              "      <td>53.36</td>\n",
              "      <td>3.420652e+09</td>\n",
              "      <td>5.005</td>\n",
              "      <td>6.588055e+09</td>\n",
              "      <td>1.877845e+10</td>\n",
              "      <td>1.397</td>\n",
              "      <td>1.476</td>\n",
              "      <td>21187336192</td>\n",
              "      <td>68.647</td>\n",
              "      <td>...</td>\n",
              "      <td>3235072000</td>\n",
              "      <td>0.162</td>\n",
              "      <td>0.34963</td>\n",
              "      <td>0.31094</td>\n",
              "      <td>0.20655</td>\n",
              "      <td>0.14379</td>\n",
              "      <td>BRL</td>\n",
              "      <td>1.307</td>\n",
              "      <td>371</td>\n",
              "      <td>36472094720</td>\n",
              "    </tr>\n",
              "  </tbody>\n",
              "</table>\n",
              "<p>96 rows × 25 columns</p>\n",
              "</div>"
            ],
            "text/plain": [
              "      Ticker  Preco_Atual  Fluxo_de_caixa_total  Fluxo_de_caixa_por_acao  \\\n",
              "0   ARML3.SA        13.44          8.593540e+08                    2.489   \n",
              "1   TTEN3.SA        12.57          8.791550e+08                    1.769   \n",
              "2   VITT3.SA        11.19          7.697600e+07                    0.541   \n",
              "3   CXSE3.SA         8.54          1.272550e+09                    0.424   \n",
              "4   GGPS3.SA        11.84          1.295590e+09                    1.935   \n",
              "..       ...          ...                   ...                      ...   \n",
              "91  SAPR3.SA         3.25          1.207932e+09                    0.799   \n",
              "92  CGAS5.SA       129.01          2.155312e+09                   16.264   \n",
              "93  CGAS3.SA       125.00          2.155312e+09                   16.264   \n",
              "94  EGIE3.SA        39.10          2.445815e+09                    2.998   \n",
              "95  SBSP3.SA        53.36          3.420652e+09                    5.005   \n",
              "\n",
              "          EBITDA  Divida_total  Liquidez_imediata  Liquidez_corrente  \\\n",
              "0   3.809280e+08  1.886783e+09              2.691              2.789   \n",
              "1   5.706630e+08  1.119887e+09              0.777              1.554   \n",
              "2   1.896870e+08  2.642490e+08              1.318              2.058   \n",
              "3   2.892785e+09  0.000000e+00              9.218              9.229   \n",
              "4   9.647340e+08  1.937756e+09              1.763              1.895   \n",
              "..           ...           ...                ...                ...   \n",
              "91  2.242618e+09  5.083244e+09              1.444              1.516   \n",
              "92  3.224497e+09  7.424176e+09              1.164              1.251   \n",
              "93  3.224497e+09  7.424176e+09              1.164              1.251   \n",
              "94  6.159306e+09  1.815048e+10              0.735              1.253   \n",
              "95  6.588055e+09  1.877845e+10              1.397              1.476   \n",
              "\n",
              "    Receita_total  Divida_Patrimonio  ...  Fluxo_de_caixa_operacional  \\\n",
              "0       838937024            165.614  ...                  -675387008   \n",
              "1      6885838848             39.733  ...                   257696992   \n",
              "2       892286016             47.096  ...                   130406000   \n",
              "3      3409924096                NaN  ...                  2275187968   \n",
              "4      8658241536             77.118  ...                   278648992   \n",
              "..            ...                ...  ...                         ...   \n",
              "91     5673647104             57.850  ...                  1991254016   \n",
              "92    17414152192            718.872  ...                  3439486976   \n",
              "93    17414152192            718.872  ...                  3439486976   \n",
              "94    11906605056            215.049  ...                  3337492992   \n",
              "95    21187336192             68.647  ...                  3235072000   \n",
              "\n",
              "    Crescimento_de_Receita_3T  Margem_Bruta  Margem_EBITIDA  \\\n",
              "0                       1.522       0.45842         0.45406   \n",
              "1                       0.319       0.15151         0.08287   \n",
              "2                       0.085       0.37012         0.21259   \n",
              "3                       0.595       0.92936         0.84834   \n",
              "4                       0.463       0.16126         0.11142   \n",
              "..                        ...           ...             ...   \n",
              "91                      0.067       0.57992         0.39527   \n",
              "92                      0.272       0.19823         0.18517   \n",
              "93                      0.272       0.19823         0.18517   \n",
              "94                      0.120       0.46942         0.51730   \n",
              "95                      0.162       0.34963         0.31094   \n",
              "\n",
              "    Margem_Operacional  Margem_liquida  Moeda  Crescimento_dos_ganhos_3T  \\\n",
              "0              0.33634         0.14750    BRL                      1.841   \n",
              "1              0.07808         0.08299    BRL                      0.342   \n",
              "2              0.20659         0.15913    BRL                      0.270   \n",
              "3              0.84834         0.74776    BRL                      0.557   \n",
              "4              0.09313         0.05279    BRL                      0.159   \n",
              "..                 ...             ...    ...                        ...   \n",
              "91             0.33128         0.20296    BRL                      0.057   \n",
              "92             0.15654         0.10402    BRL                      0.238   \n",
              "93             0.15654         0.10402    BRL                      0.238   \n",
              "94             0.43491         0.22366    BRL                     10.496   \n",
              "95             0.20655         0.14379    BRL                      1.307   \n",
              "\n",
              "    __index_level_0__  valor_de_mercado  \n",
              "0                   7        4650455040  \n",
              "1                  10        6247516160  \n",
              "2                  15        1594519040  \n",
              "3                  18       25620000768  \n",
              "4                  21        7942899712  \n",
              "..                ...               ...  \n",
              "91                357        5098242560  \n",
              "92                362       16325827584  \n",
              "93                363       16783624192  \n",
              "94                368       32173551616  \n",
              "95                371       36472094720  \n",
              "\n",
              "[96 rows x 25 columns]"
            ]
          },
          "execution_count": 25,
          "metadata": {},
          "output_type": "execute_result"
        }
      ],
      "source": [
        "df_rs"
      ]
    },
    {
      "attachments": {},
      "cell_type": "markdown",
      "metadata": {},
      "source": [
        "Local Connection to SQL Server"
      ]
    },
    {
      "cell_type": "code",
      "execution_count": 18,
      "metadata": {},
      "outputs": [],
      "source": [
        "conn = pyodbc.connect('Driver={SQL Server};'\n",
        "                      'Server=DESKTOP-7VLQ9AP\\SQLEXPRESS;'\n",
        "                      'Database=FeA;'\n",
        "                      'Trusted_Connection=yes;'\n",
        "                      )\n",
        "\n",
        "cursor = conn.cursor()"
      ]
    },
    {
      "attachments": {},
      "cell_type": "markdown",
      "metadata": {},
      "source": [
        "Commiting to SQL SERVER - General"
      ]
    },
    {
      "cell_type": "code",
      "execution_count": 26,
      "metadata": {},
      "outputs": [
        {
          "ename": "TypeError",
          "evalue": "can only concatenate str (not \"numpy.float64\") to str",
          "output_type": "error",
          "traceback": [
            "\u001b[1;31m---------------------------------------------------------------------------\u001b[0m",
            "\u001b[1;31mTypeError\u001b[0m                                 Traceback (most recent call last)",
            "Cell \u001b[1;32mIn[26], line 28\u001b[0m\n\u001b[0;32m      6\u001b[0m fluxo_de_caixa \u001b[39m=\u001b[39m df_rs\u001b[39m.\u001b[39mloc[i,\u001b[39m'\u001b[39m\u001b[39mFluxo_de_caixa_total\u001b[39m\u001b[39m'\u001b[39m]\n\u001b[0;32m      8\u001b[0m \u001b[39m# Fluxo_de_caixa_por_acao\t\u001b[39;00m\n\u001b[0;32m      9\u001b[0m \n\u001b[0;32m     10\u001b[0m \u001b[39m# EBITDA\t\u001b[39;00m\n\u001b[1;32m   (...)\u001b[0m\n\u001b[0;32m     25\u001b[0m \u001b[39m# Crescimento_dos_ganhos_3T\t\t\u001b[39;00m\n\u001b[0;32m     26\u001b[0m \u001b[39m# valor_de_mercado\u001b[39;00m\n\u001b[1;32m---> 28\u001b[0m dados \u001b[39m=\u001b[39m \u001b[39m'\u001b[39;49m\u001b[39m\\'\u001b[39;49;00m\u001b[39m'\u001b[39;49m \u001b[39m+\u001b[39;49m Ticker \u001b[39m+\u001b[39;49m \u001b[39m'\u001b[39;49m\u001b[39m\\'\u001b[39;49;00m\u001b[39m'\u001b[39;49m \u001b[39m+\u001b[39;49m \u001b[39m'\u001b[39;49m\u001b[39m,\u001b[39;49m\u001b[39m\\'\u001b[39;49;00m\u001b[39m'\u001b[39;49m \u001b[39m+\u001b[39;49m \u001b[39m'\u001b[39;49m\u001b[39m\\'\u001b[39;49;00m\u001b[39m'\u001b[39;49m \u001b[39m+\u001b[39;49m preco_atual \u001b[39m+\u001b[39m \u001b[39m'\u001b[39m\u001b[39m\\'\u001b[39;00m\u001b[39m'\u001b[39m \u001b[39m+\u001b[39m \u001b[39m'\u001b[39m\u001b[39m,\u001b[39m\u001b[39m\\'\u001b[39;00m\u001b[39m'\u001b[39m \u001b[39m+\u001b[39m \u001b[39m'\u001b[39m\u001b[39m\\'\u001b[39;00m\u001b[39m'\u001b[39m \u001b[39m+\u001b[39m fluxo_de_caixa \u001b[39m+\u001b[39m \u001b[39m'\u001b[39m\u001b[39m\\'\u001b[39;00m\u001b[39m'\u001b[39m \u001b[39m+\u001b[39m \u001b[39m'\u001b[39m\u001b[39m)\u001b[39m\u001b[39m'\u001b[39m\n\u001b[0;32m     30\u001b[0m script \u001b[39m=\u001b[39m \u001b[39m'''\u001b[39m\u001b[39mINSERT INTO General ([Ticker], [Preco_Atual]) VALUES\u001b[39m\u001b[39m'''\u001b[39m\n\u001b[0;32m     32\u001b[0m query \u001b[39m=\u001b[39m script \u001b[39m+\u001b[39m dados\n",
            "\u001b[1;31mTypeError\u001b[0m: can only concatenate str (not \"numpy.float64\") to str"
          ]
        }
      ],
      "source": [
        "for i, Ticker in enumerate(df_rs['Ticker']):\n",
        "    # coluna de preco atual\n",
        "    preco_atual = df_rs.loc[i,'Preco_Atual']\t\n",
        "    \n",
        "    # Fluxo_de_caixa_total\n",
        "    fluxo_de_caixa = df_rs.loc[i,'Fluxo_de_caixa_total']\n",
        "\n",
        "    # Fluxo_de_caixa_por_acao\t\n",
        "    \n",
        "    # EBITDA\t\n",
        "    \n",
        "    # Divida_total\t\n",
        "    \n",
        "    # Liquidez_imediata\t\n",
        "    \n",
        "    # Liquidez_corrente\t\n",
        "    \n",
        "    # Receita_total\t\n",
        "    # Divida_Patrimonio\t...\t\n",
        "    # Fluxo_de_caixa_operacional\t\n",
        "    # Crescimento_de_Receita_3T\tMargem_Bruta\t\n",
        "    # Margem_EBITIDA\t\n",
        "    # Margem_Operacional\t\n",
        "    # Margem_liquida\t\n",
        "    # Crescimento_dos_ganhos_3T\t\t\n",
        "    # valor_de_mercado\n",
        "\n",
        "    dados = '\\'' + Ticker + '\\'' + ',\\'' + '\\'' + preco_atual + '\\'' + ',\\'' + '\\'' + fluxo_de_caixa + '\\'' + ')'\n",
        "\n",
        "    script = '''INSERT INTO General ([Ticker], [Preco_Atual]) VALUES'''\n",
        "\n",
        "    query = script + dados\n",
        "\n",
        "    # Execute Insert into table\n",
        "    cursor.execute(query)\n",
        "    \n",
        "    # Commiting changes\n",
        "    cursor.commit()"
      ]
    },
    {
      "cell_type": "markdown",
      "metadata": {},
      "source": [
        "Cloud Version"
      ]
    },
    {
      "cell_type": "code",
      "execution_count": null,
      "metadata": {},
      "outputs": [],
      "source": [
        "\"\"\" \n",
        "server_name = \"jdbc:sqlserver://DESKTOP-7VLQ9AP\\SQLEXPRESS\"\n",
        "database_name = \"FeA\"\n",
        "url = server_name + \";\" + \"databaseName=\" + database_name + \";\"\n",
        "\n",
        "table_name = \"Balance\"\n",
        "username = \"SQL_ADM\"\n",
        "password = \"and010500\" # Please specify password here\n",
        "\n",
        "try:\n",
        "  df_balance.write \\\n",
        "    .format(\"com.microsoft.sqlserver.jdbc.spark\") \\\n",
        "    .mode(\"overwrite\") \\\n",
        "    .option(\"url\", url) \\\n",
        "    .option(\"dbtable\", table_name) \\\n",
        "    .option(\"user\", username) \\\n",
        "    .option(\"password\", password) \\\n",
        "    .save()\n",
        "\n",
        "except ValueError as error :\n",
        "    print(\"Connector write failed\", error)\n",
        " \"\"\""
      ]
    }
  ],
  "metadata": {
    "colab": {
      "include_colab_link": true,
      "provenance": []
    },
    "kernelspec": {
      "display_name": "Python 3",
      "language": "python",
      "name": "python3"
    },
    "language_info": {
      "codemirror_mode": {
        "name": "ipython",
        "version": 3
      },
      "file_extension": ".py",
      "mimetype": "text/x-python",
      "name": "python",
      "nbconvert_exporter": "python",
      "pygments_lexer": "ipython3",
      "version": "3.11.1"
    },
    "vscode": {
      "interpreter": {
        "hash": "598092329803f2218a82426b846daf764474eee9678032408d5a767cd4823601"
      }
    }
  },
  "nbformat": 4,
  "nbformat_minor": 0
}
