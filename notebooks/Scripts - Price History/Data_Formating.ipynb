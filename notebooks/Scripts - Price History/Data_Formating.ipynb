{
  "cells": [
    {
      "attachments": {},
      "cell_type": "markdown",
      "metadata": {
        "colab_type": "text",
        "id": "view-in-github"
      },
      "source": [
        "<a href=\"https://colab.research.google.com/github/andrew3690/F-A_root_project/blob/Brazil/Data_Formating.ipynb\" target=\"_parent\"><img src=\"https://colab.research.google.com/assets/colab-badge.svg\" alt=\"Open In Colab\"/></a>"
      ]
    },
    {
      "cell_type": "code",
      "execution_count": 1,
      "metadata": {},
      "outputs": [
        {
          "name": "stdout",
          "output_type": "stream",
          "text": [
            "Defaulting to user installation because normal site-packages is not writeable\n",
            "Requirement already satisfied: pyarrow in /home/andrel/.local/lib/python3.10/site-packages (12.0.1)\n",
            "Requirement already satisfied: numpy>=1.16.6 in /home/andrel/.local/lib/python3.10/site-packages (from pyarrow) (1.25.0)\n",
            "Defaulting to user installation because normal site-packages is not writeable\n",
            "Requirement already satisfied: fastparquet in /home/andrel/.local/lib/python3.10/site-packages (2023.4.0)\n",
            "Requirement already satisfied: packaging in /home/andrel/.local/lib/python3.10/site-packages (from fastparquet) (23.1)\n",
            "Requirement already satisfied: cramjam>=2.3 in /home/andrel/.local/lib/python3.10/site-packages (from fastparquet) (2.6.2)\n",
            "Requirement already satisfied: fsspec in /home/andrel/.local/lib/python3.10/site-packages (from fastparquet) (2023.6.0)\n",
            "Requirement already satisfied: numpy>=1.20.3 in /home/andrel/.local/lib/python3.10/site-packages (from fastparquet) (1.25.0)\n",
            "Requirement already satisfied: pandas>=1.5.0 in /home/andrel/.local/lib/python3.10/site-packages (from fastparquet) (2.0.2)\n",
            "Requirement already satisfied: python-dateutil>=2.8.2 in /home/andrel/.local/lib/python3.10/site-packages (from pandas>=1.5.0->fastparquet) (2.8.2)\n",
            "Requirement already satisfied: tzdata>=2022.1 in /home/andrel/.local/lib/python3.10/site-packages (from pandas>=1.5.0->fastparquet) (2023.3)\n",
            "Requirement already satisfied: pytz>=2020.1 in /usr/lib/python3/dist-packages (from pandas>=1.5.0->fastparquet) (2022.1)\n",
            "Requirement already satisfied: six>=1.5 in /usr/lib/python3/dist-packages (from python-dateutil>=2.8.2->pandas>=1.5.0->fastparquet) (1.16.0)\n"
          ]
        }
      ],
      "source": [
        "! pip install pyarrow\n",
        "! pip install fastparquet "
      ]
    },
    {
      "cell_type": "code",
      "execution_count": 2,
      "metadata": {},
      "outputs": [],
      "source": [
        "import pandas as pd"
      ]
    },
    {
      "attachments": {},
      "cell_type": "markdown",
      "metadata": {},
      "source": [
        "Gooogle Colab Version"
      ]
    },
    {
      "cell_type": "code",
      "execution_count": 4,
      "metadata": {
        "colab": {
          "base_uri": "https://localhost:8080/"
        },
        "id": "uXplg2kQTyLT",
        "outputId": "ffe26d40-63c0-4d05-ae70-87e3c69031a6"
      },
      "outputs": [
        {
          "data": {
            "text/plain": [
              "\" \\nfrom google.colab import drive\\ndrive.mount('/content/gdrive', force_remount=True)\\n \""
            ]
          },
          "execution_count": 4,
          "metadata": {},
          "output_type": "execute_result"
        }
      ],
      "source": [
        "\"\"\" \n",
        "from google.colab import drive\n",
        "drive.mount('/content/gdrive', force_remount=True)\n",
        " \"\"\""
      ]
    },
    {
      "attachments": {},
      "cell_type": "markdown",
      "metadata": {},
      "source": [
        "Local Machine Version"
      ]
    },
    {
      "cell_type": "code",
      "execution_count": 8,
      "metadata": {},
      "outputs": [],
      "source": [
        "data  = pd.read_parquet(r\"../RAW_DATA/Parquet/Historical_price_data.parquet\")"
      ]
    },
    {
      "cell_type": "code",
      "execution_count": 14,
      "metadata": {},
      "outputs": [
        {
          "data": {
            "text/plain": [
              "Index(['open', 'high', 'low', 'close', 'volume', 'adjclose', 'dividends',\n",
              "       'splits'],\n",
              "      dtype='object')"
            ]
          },
          "execution_count": 14,
          "metadata": {},
          "output_type": "execute_result"
        }
      ],
      "source": [
        "data.columns"
      ]
    },
    {
      "cell_type": "code",
      "execution_count": 19,
      "metadata": {},
      "outputs": [],
      "source": [
        "data = data.drop(['dividends', 'splits','adjclose'], axis=1)"
      ]
    },
    {
      "cell_type": "code",
      "execution_count": 20,
      "metadata": {},
      "outputs": [],
      "source": [
        "data.rename(\n",
        "    columns = {\n",
        "        'date':'Data',\n",
        "        'open':'Abertura',\n",
        "        'high':'Alta',\n",
        "        'low': 'Baixa',\n",
        "        'volume':'Volume'\n",
        "    }, \n",
        "    inplace = True\n",
        ")"
      ]
    },
    {
      "cell_type": "code",
      "execution_count": 21,
      "metadata": {},
      "outputs": [
        {
          "data": {
            "text/html": [
              "<div>\n",
              "<style scoped>\n",
              "    .dataframe tbody tr th:only-of-type {\n",
              "        vertical-align: middle;\n",
              "    }\n",
              "\n",
              "    .dataframe tbody tr th {\n",
              "        vertical-align: top;\n",
              "    }\n",
              "\n",
              "    .dataframe thead th {\n",
              "        text-align: right;\n",
              "    }\n",
              "</style>\n",
              "<table border=\"1\" class=\"dataframe\">\n",
              "  <thead>\n",
              "    <tr style=\"text-align: right;\">\n",
              "      <th></th>\n",
              "      <th></th>\n",
              "      <th>Abertura</th>\n",
              "      <th>Alta</th>\n",
              "      <th>Baixa</th>\n",
              "      <th>close</th>\n",
              "      <th>Volume</th>\n",
              "    </tr>\n",
              "    <tr>\n",
              "      <th>symbol</th>\n",
              "      <th>date</th>\n",
              "      <th></th>\n",
              "      <th></th>\n",
              "      <th></th>\n",
              "      <th></th>\n",
              "      <th></th>\n",
              "    </tr>\n",
              "  </thead>\n",
              "  <tbody>\n",
              "    <tr>\n",
              "      <th rowspan=\"5\" valign=\"top\">ZAMP3.SA</th>\n",
              "      <th>2022-07-04</th>\n",
              "      <td>5.700000</td>\n",
              "      <td>5.740000</td>\n",
              "      <td>5.610000</td>\n",
              "      <td>5.630000</td>\n",
              "      <td>800900.0</td>\n",
              "    </tr>\n",
              "    <tr>\n",
              "      <th>2022-07-05</th>\n",
              "      <td>5.600000</td>\n",
              "      <td>5.810000</td>\n",
              "      <td>5.450000</td>\n",
              "      <td>5.810000</td>\n",
              "      <td>2219100.0</td>\n",
              "    </tr>\n",
              "    <tr>\n",
              "      <th>2022-07-06</th>\n",
              "      <td>5.800000</td>\n",
              "      <td>5.970000</td>\n",
              "      <td>5.710000</td>\n",
              "      <td>5.880000</td>\n",
              "      <td>1151300.0</td>\n",
              "    </tr>\n",
              "    <tr>\n",
              "      <th>2022-07-07</th>\n",
              "      <td>5.960000</td>\n",
              "      <td>6.170000</td>\n",
              "      <td>5.910000</td>\n",
              "      <td>5.990000</td>\n",
              "      <td>1614300.0</td>\n",
              "    </tr>\n",
              "    <tr>\n",
              "      <th>2022-07-08</th>\n",
              "      <td>6.040000</td>\n",
              "      <td>6.130000</td>\n",
              "      <td>5.870000</td>\n",
              "      <td>5.950000</td>\n",
              "      <td>528600.0</td>\n",
              "    </tr>\n",
              "    <tr>\n",
              "      <th>...</th>\n",
              "      <th>...</th>\n",
              "      <td>...</td>\n",
              "      <td>...</td>\n",
              "      <td>...</td>\n",
              "      <td>...</td>\n",
              "      <td>...</td>\n",
              "    </tr>\n",
              "    <tr>\n",
              "      <th rowspan=\"5\" valign=\"top\">CMIG3.SA</th>\n",
              "      <th>2023-06-27</th>\n",
              "      <td>18.580000</td>\n",
              "      <td>18.879999</td>\n",
              "      <td>18.410000</td>\n",
              "      <td>18.770000</td>\n",
              "      <td>253200.0</td>\n",
              "    </tr>\n",
              "    <tr>\n",
              "      <th>2023-06-28</th>\n",
              "      <td>18.840000</td>\n",
              "      <td>19.170000</td>\n",
              "      <td>18.480000</td>\n",
              "      <td>18.830000</td>\n",
              "      <td>417600.0</td>\n",
              "    </tr>\n",
              "    <tr>\n",
              "      <th>2023-06-29</th>\n",
              "      <td>18.830000</td>\n",
              "      <td>19.440001</td>\n",
              "      <td>18.830000</td>\n",
              "      <td>19.230000</td>\n",
              "      <td>254000.0</td>\n",
              "    </tr>\n",
              "    <tr>\n",
              "      <th>2023-06-30</th>\n",
              "      <td>19.309999</td>\n",
              "      <td>19.650000</td>\n",
              "      <td>19.240000</td>\n",
              "      <td>19.320000</td>\n",
              "      <td>689000.0</td>\n",
              "    </tr>\n",
              "    <tr>\n",
              "      <th>2023-07-04</th>\n",
              "      <td>18.959999</td>\n",
              "      <td>18.959999</td>\n",
              "      <td>18.440001</td>\n",
              "      <td>18.440001</td>\n",
              "      <td>143200.0</td>\n",
              "    </tr>\n",
              "  </tbody>\n",
              "</table>\n",
              "<p>78147 rows × 5 columns</p>\n",
              "</div>"
            ],
            "text/plain": [
              "                      Abertura       Alta      Baixa      close     Volume\n",
              "symbol   date                                                             \n",
              "ZAMP3.SA 2022-07-04   5.700000   5.740000   5.610000   5.630000   800900.0\n",
              "         2022-07-05   5.600000   5.810000   5.450000   5.810000  2219100.0\n",
              "         2022-07-06   5.800000   5.970000   5.710000   5.880000  1151300.0\n",
              "         2022-07-07   5.960000   6.170000   5.910000   5.990000  1614300.0\n",
              "         2022-07-08   6.040000   6.130000   5.870000   5.950000   528600.0\n",
              "...                        ...        ...        ...        ...        ...\n",
              "CMIG3.SA 2023-06-27  18.580000  18.879999  18.410000  18.770000   253200.0\n",
              "         2023-06-28  18.840000  19.170000  18.480000  18.830000   417600.0\n",
              "         2023-06-29  18.830000  19.440001  18.830000  19.230000   254000.0\n",
              "         2023-06-30  19.309999  19.650000  19.240000  19.320000   689000.0\n",
              "         2023-07-04  18.959999  18.959999  18.440001  18.440001   143200.0\n",
              "\n",
              "[78147 rows x 5 columns]"
            ]
          },
          "execution_count": 21,
          "metadata": {},
          "output_type": "execute_result"
        }
      ],
      "source": [
        "data"
      ]
    },
    {
      "cell_type": "code",
      "execution_count": 22,
      "metadata": {},
      "outputs": [],
      "source": [
        "data.to_parquet(path=r'../Final/Parquet/HistoricalPrincing.parquet')"
      ]
    }
  ],
  "metadata": {
    "colab": {
      "include_colab_link": true,
      "provenance": []
    },
    "kernelspec": {
      "display_name": "My Kernel",
      "language": "python",
      "name": "mykernel"
    },
    "language_info": {
      "codemirror_mode": {
        "name": "ipython",
        "version": 3
      },
      "file_extension": ".py",
      "mimetype": "text/x-python",
      "name": "python",
      "nbconvert_exporter": "python",
      "pygments_lexer": "ipython3",
      "version": "3.10.6"
    },
    "vscode": {
      "interpreter": {
        "hash": "598092329803f2218a82426b846daf764474eee9678032408d5a767cd4823601"
      }
    }
  },
  "nbformat": 4,
  "nbformat_minor": 0
}
