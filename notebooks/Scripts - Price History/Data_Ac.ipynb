{
 "cells": [
  {
   "attachments": {},
   "cell_type": "markdown",
   "metadata": {
    "colab_type": "text",
    "id": "view-in-github"
   },
   "source": [
    "<a href=\"https://colab.research.google.com/github/andrew3690/F-A_root_project/blob/Brazil/Data_Ac.ipynb\" target=\"_parent\"><img src=\"https://colab.research.google.com/assets/colab-badge.svg\" alt=\"Open In Colab\"/></a>"
   ]
  },
  {
   "attachments": {},
   "cell_type": "markdown",
   "metadata": {
    "id": "wd7jgo-jBXC2"
   },
   "source": [
    "Installing python libraries that will be use to get data from yahoo finance"
   ]
  },
  {
   "cell_type": "code",
   "execution_count": 1,
   "metadata": {
    "colab": {
     "base_uri": "https://localhost:8080/"
    },
    "id": "Mefhi-Pa1B-G",
    "outputId": "c65f37ee-5552-459a-c3d7-86acef3a0153"
   },
   "outputs": [
    {
     "name": "stdout",
     "output_type": "stream",
     "text": [
      "Defaulting to user installation because normal site-packages is not writeable\n",
      "Requirement already satisfied: yahooquery in /home/andrel/.local/lib/python3.10/site-packages (2.3.1)\n",
      "Requirement already satisfied: requests-futures>=1.0.0 in /home/andrel/.local/lib/python3.10/site-packages (from yahooquery) (1.0.1)\n",
      "Requirement already satisfied: tqdm>=4.54.1 in /home/andrel/.local/lib/python3.10/site-packages (from yahooquery) (4.65.0)\n",
      "Requirement already satisfied: pandas>=0.24.0 in /home/andrel/.local/lib/python3.10/site-packages (from yahooquery) (2.0.2)\n",
      "Requirement already satisfied: lxml>=4.9.1 in /home/andrel/.local/lib/python3.10/site-packages (from yahooquery) (4.9.2)\n",
      "Requirement already satisfied: python-dateutil>=2.8.2 in /home/andrel/.local/lib/python3.10/site-packages (from pandas>=0.24.0->yahooquery) (2.8.2)\n",
      "Requirement already satisfied: tzdata>=2022.1 in /home/andrel/.local/lib/python3.10/site-packages (from pandas>=0.24.0->yahooquery) (2023.3)\n",
      "Requirement already satisfied: numpy>=1.21.0 in /home/andrel/.local/lib/python3.10/site-packages (from pandas>=0.24.0->yahooquery) (1.25.0)\n",
      "Requirement already satisfied: pytz>=2020.1 in /usr/lib/python3/dist-packages (from pandas>=0.24.0->yahooquery) (2022.1)\n",
      "Requirement already satisfied: requests>=1.2.0 in /home/andrel/.local/lib/python3.10/site-packages (from requests-futures>=1.0.0->yahooquery) (2.25.0)\n",
      "Requirement already satisfied: six>=1.5 in /usr/lib/python3/dist-packages (from python-dateutil>=2.8.2->pandas>=0.24.0->yahooquery) (1.16.0)\n",
      "Requirement already satisfied: idna<3,>=2.5 in /home/andrel/.local/lib/python3.10/site-packages (from requests>=1.2.0->requests-futures>=1.0.0->yahooquery) (2.10)\n",
      "Requirement already satisfied: urllib3<1.27,>=1.21.1 in /home/andrel/.local/lib/python3.10/site-packages (from requests>=1.2.0->requests-futures>=1.0.0->yahooquery) (1.26.0)\n",
      "Requirement already satisfied: chardet<4,>=3.0.2 in /home/andrel/.local/lib/python3.10/site-packages (from requests>=1.2.0->requests-futures>=1.0.0->yahooquery) (3.0.4)\n",
      "Requirement already satisfied: certifi>=2017.4.17 in /usr/lib/python3/dist-packages (from requests>=1.2.0->requests-futures>=1.0.0->yahooquery) (2020.6.20)\n",
      "Defaulting to user installation because normal site-packages is not writeable\n",
      "Requirement already satisfied: urllib3==1.26 in /home/andrel/.local/lib/python3.10/site-packages (1.26.0)\n",
      "Defaulting to user installation because normal site-packages is not writeable\n",
      "Requirement already satisfied: requests==2.25 in /home/andrel/.local/lib/python3.10/site-packages (2.25.0)\n",
      "Requirement already satisfied: certifi>=2017.4.17 in /usr/lib/python3/dist-packages (from requests==2.25) (2020.6.20)\n",
      "Requirement already satisfied: urllib3<1.27,>=1.21.1 in /home/andrel/.local/lib/python3.10/site-packages (from requests==2.25) (1.26.0)\n",
      "Requirement already satisfied: chardet<4,>=3.0.2 in /home/andrel/.local/lib/python3.10/site-packages (from requests==2.25) (3.0.4)\n",
      "Requirement already satisfied: idna<3,>=2.5 in /home/andrel/.local/lib/python3.10/site-packages (from requests==2.25) (2.10)\n",
      "Defaulting to user installation because normal site-packages is not writeable\n",
      "Requirement already satisfied: openpyxl in /home/andrel/.local/lib/python3.10/site-packages (3.1.2)\n",
      "Requirement already satisfied: et-xmlfile in /home/andrel/.local/lib/python3.10/site-packages (from openpyxl) (1.1.0)\n"
     ]
    }
   ],
   "source": [
    "! pip install yahooquery\n",
    "! pip install urllib3==1.26\n",
    "! pip install requests==2.25\n",
    "! pip install openpyxl"
   ]
  },
  {
   "attachments": {},
   "cell_type": "markdown",
   "metadata": {
    "id": "_VbHBXpJBNgc"
   },
   "source": [
    "Importing modules that will be used to filter data"
   ]
  },
  {
   "cell_type": "code",
   "execution_count": 2,
   "metadata": {
    "id": "vqJZx_Fc2NEV"
   },
   "outputs": [],
   "source": [
    "from yahooquery import Ticker\n",
    "from bs4 import BeautifulSoup\n",
    "\n",
    "import pandas as pd\n",
    "import requests\n",
    "import re"
   ]
  },
  {
   "attachments": {},
   "cell_type": "markdown",
   "metadata": {
    "id": "L6mkfM6XGU33"
   },
   "source": [
    "Scrapping Data from Infomoney website, getting a list of stocks from IBOVESPA."
   ]
  },
  {
   "cell_type": "code",
   "execution_count": 3,
   "metadata": {
    "id": "_Q6RsPPi_TQk"
   },
   "outputs": [],
   "source": [
    "url = requests.get('https://www.infomoney.com.br/cotacoes/empresas-b3/')\n",
    "\n",
    "soup = BeautifulSoup(url.text, 'html.parser')\n",
    "\n",
    "ticker_name_list = soup.find_all('td', class_ = 'strong')\n",
    "\n",
    "ticker = str(ticker_name_list)\n",
    "\n",
    "tickers = re.findall('>.*</',ticker)\n",
    "\n",
    "tkrs = []\n",
    "\n",
    "# strnot = (\"11\",\"F\",\"34\")\n",
    "for i in tickers:\n",
    "  if \"11\" not in i and \"F\" not in i:\n",
    "    tkr = i.strip(\"</>\")\n",
    "    tkr = tkr + \".SA\"\n",
    "    tkrs.append(tkr)"
   ]
  },
  {
   "cell_type": "code",
   "execution_count": 4,
   "metadata": {
    "id": "I3XEbzA_1711"
   },
   "outputs": [],
   "source": [
    "# Yahoo finance requisition getting companies ticker\n",
    "sumary = Ticker(tkrs)\n",
    "\n",
    "# getting companies financial data\n",
    "data = sumary.history(period=\"1y\")"
   ]
  },
  {
   "cell_type": "code",
   "execution_count": 11,
   "metadata": {},
   "outputs": [],
   "source": [
    "df = pd.DataFrame(data)"
   ]
  },
  {
   "cell_type": "code",
   "execution_count": 12,
   "metadata": {},
   "outputs": [
    {
     "data": {
      "text/html": [
       "<div>\n",
       "<style scoped>\n",
       "    .dataframe tbody tr th:only-of-type {\n",
       "        vertical-align: middle;\n",
       "    }\n",
       "\n",
       "    .dataframe tbody tr th {\n",
       "        vertical-align: top;\n",
       "    }\n",
       "\n",
       "    .dataframe thead th {\n",
       "        text-align: right;\n",
       "    }\n",
       "</style>\n",
       "<table border=\"1\" class=\"dataframe\">\n",
       "  <thead>\n",
       "    <tr style=\"text-align: right;\">\n",
       "      <th></th>\n",
       "      <th></th>\n",
       "      <th>open</th>\n",
       "      <th>high</th>\n",
       "      <th>low</th>\n",
       "      <th>close</th>\n",
       "      <th>volume</th>\n",
       "      <th>adjclose</th>\n",
       "      <th>dividends</th>\n",
       "      <th>splits</th>\n",
       "    </tr>\n",
       "    <tr>\n",
       "      <th>symbol</th>\n",
       "      <th>date</th>\n",
       "      <th></th>\n",
       "      <th></th>\n",
       "      <th></th>\n",
       "      <th></th>\n",
       "      <th></th>\n",
       "      <th></th>\n",
       "      <th></th>\n",
       "      <th></th>\n",
       "    </tr>\n",
       "  </thead>\n",
       "  <tbody>\n",
       "    <tr>\n",
       "      <th rowspan=\"5\" valign=\"top\">ZAMP3.SA</th>\n",
       "      <th>2022-07-04</th>\n",
       "      <td>5.700000</td>\n",
       "      <td>5.740000</td>\n",
       "      <td>5.610000</td>\n",
       "      <td>5.630000</td>\n",
       "      <td>800900.0</td>\n",
       "      <td>5.630000</td>\n",
       "      <td>0.0</td>\n",
       "      <td>0.0</td>\n",
       "    </tr>\n",
       "    <tr>\n",
       "      <th>2022-07-05</th>\n",
       "      <td>5.600000</td>\n",
       "      <td>5.810000</td>\n",
       "      <td>5.450000</td>\n",
       "      <td>5.810000</td>\n",
       "      <td>2219100.0</td>\n",
       "      <td>5.810000</td>\n",
       "      <td>0.0</td>\n",
       "      <td>0.0</td>\n",
       "    </tr>\n",
       "    <tr>\n",
       "      <th>2022-07-06</th>\n",
       "      <td>5.800000</td>\n",
       "      <td>5.970000</td>\n",
       "      <td>5.710000</td>\n",
       "      <td>5.880000</td>\n",
       "      <td>1151300.0</td>\n",
       "      <td>5.880000</td>\n",
       "      <td>0.0</td>\n",
       "      <td>0.0</td>\n",
       "    </tr>\n",
       "    <tr>\n",
       "      <th>2022-07-07</th>\n",
       "      <td>5.960000</td>\n",
       "      <td>6.170000</td>\n",
       "      <td>5.910000</td>\n",
       "      <td>5.990000</td>\n",
       "      <td>1614300.0</td>\n",
       "      <td>5.990000</td>\n",
       "      <td>0.0</td>\n",
       "      <td>0.0</td>\n",
       "    </tr>\n",
       "    <tr>\n",
       "      <th>2022-07-08</th>\n",
       "      <td>6.040000</td>\n",
       "      <td>6.130000</td>\n",
       "      <td>5.870000</td>\n",
       "      <td>5.950000</td>\n",
       "      <td>528600.0</td>\n",
       "      <td>5.950000</td>\n",
       "      <td>0.0</td>\n",
       "      <td>0.0</td>\n",
       "    </tr>\n",
       "    <tr>\n",
       "      <th>...</th>\n",
       "      <th>...</th>\n",
       "      <td>...</td>\n",
       "      <td>...</td>\n",
       "      <td>...</td>\n",
       "      <td>...</td>\n",
       "      <td>...</td>\n",
       "      <td>...</td>\n",
       "      <td>...</td>\n",
       "      <td>...</td>\n",
       "    </tr>\n",
       "    <tr>\n",
       "      <th rowspan=\"5\" valign=\"top\">CMIG3.SA</th>\n",
       "      <th>2023-06-27</th>\n",
       "      <td>18.580000</td>\n",
       "      <td>18.879999</td>\n",
       "      <td>18.410000</td>\n",
       "      <td>18.770000</td>\n",
       "      <td>253200.0</td>\n",
       "      <td>18.770000</td>\n",
       "      <td>0.0</td>\n",
       "      <td>0.0</td>\n",
       "    </tr>\n",
       "    <tr>\n",
       "      <th>2023-06-28</th>\n",
       "      <td>18.840000</td>\n",
       "      <td>19.170000</td>\n",
       "      <td>18.480000</td>\n",
       "      <td>18.830000</td>\n",
       "      <td>417600.0</td>\n",
       "      <td>18.830000</td>\n",
       "      <td>0.0</td>\n",
       "      <td>0.0</td>\n",
       "    </tr>\n",
       "    <tr>\n",
       "      <th>2023-06-29</th>\n",
       "      <td>18.830000</td>\n",
       "      <td>19.440001</td>\n",
       "      <td>18.830000</td>\n",
       "      <td>19.230000</td>\n",
       "      <td>254000.0</td>\n",
       "      <td>19.230000</td>\n",
       "      <td>0.0</td>\n",
       "      <td>0.0</td>\n",
       "    </tr>\n",
       "    <tr>\n",
       "      <th>2023-06-30</th>\n",
       "      <td>19.309999</td>\n",
       "      <td>19.650000</td>\n",
       "      <td>19.240000</td>\n",
       "      <td>19.320000</td>\n",
       "      <td>689000.0</td>\n",
       "      <td>19.320000</td>\n",
       "      <td>0.0</td>\n",
       "      <td>0.0</td>\n",
       "    </tr>\n",
       "    <tr>\n",
       "      <th>2023-07-04 14:06:08-03:00</th>\n",
       "      <td>18.959999</td>\n",
       "      <td>18.959999</td>\n",
       "      <td>18.440001</td>\n",
       "      <td>18.440001</td>\n",
       "      <td>143200.0</td>\n",
       "      <td>18.440001</td>\n",
       "      <td>0.0</td>\n",
       "      <td>0.0</td>\n",
       "    </tr>\n",
       "  </tbody>\n",
       "</table>\n",
       "<p>78147 rows × 8 columns</p>\n",
       "</div>"
      ],
      "text/plain": [
       "                                         open       high        low  \\\n",
       "symbol   date                                                         \n",
       "ZAMP3.SA 2022-07-04                  5.700000   5.740000   5.610000   \n",
       "         2022-07-05                  5.600000   5.810000   5.450000   \n",
       "         2022-07-06                  5.800000   5.970000   5.710000   \n",
       "         2022-07-07                  5.960000   6.170000   5.910000   \n",
       "         2022-07-08                  6.040000   6.130000   5.870000   \n",
       "...                                       ...        ...        ...   \n",
       "CMIG3.SA 2023-06-27                 18.580000  18.879999  18.410000   \n",
       "         2023-06-28                 18.840000  19.170000  18.480000   \n",
       "         2023-06-29                 18.830000  19.440001  18.830000   \n",
       "         2023-06-30                 19.309999  19.650000  19.240000   \n",
       "         2023-07-04 14:06:08-03:00  18.959999  18.959999  18.440001   \n",
       "\n",
       "                                        close     volume   adjclose  \\\n",
       "symbol   date                                                         \n",
       "ZAMP3.SA 2022-07-04                  5.630000   800900.0   5.630000   \n",
       "         2022-07-05                  5.810000  2219100.0   5.810000   \n",
       "         2022-07-06                  5.880000  1151300.0   5.880000   \n",
       "         2022-07-07                  5.990000  1614300.0   5.990000   \n",
       "         2022-07-08                  5.950000   528600.0   5.950000   \n",
       "...                                       ...        ...        ...   \n",
       "CMIG3.SA 2023-06-27                 18.770000   253200.0  18.770000   \n",
       "         2023-06-28                 18.830000   417600.0  18.830000   \n",
       "         2023-06-29                 19.230000   254000.0  19.230000   \n",
       "         2023-06-30                 19.320000   689000.0  19.320000   \n",
       "         2023-07-04 14:06:08-03:00  18.440001   143200.0  18.440001   \n",
       "\n",
       "                                    dividends  splits  \n",
       "symbol   date                                          \n",
       "ZAMP3.SA 2022-07-04                       0.0     0.0  \n",
       "         2022-07-05                       0.0     0.0  \n",
       "         2022-07-06                       0.0     0.0  \n",
       "         2022-07-07                       0.0     0.0  \n",
       "         2022-07-08                       0.0     0.0  \n",
       "...                                       ...     ...  \n",
       "CMIG3.SA 2023-06-27                       0.0     0.0  \n",
       "         2023-06-28                       0.0     0.0  \n",
       "         2023-06-29                       0.0     0.0  \n",
       "         2023-06-30                       0.0     0.0  \n",
       "         2023-07-04 14:06:08-03:00        0.0     0.0  \n",
       "\n",
       "[78147 rows x 8 columns]"
      ]
     },
     "execution_count": 12,
     "metadata": {},
     "output_type": "execute_result"
    }
   ],
   "source": [
    "df"
   ]
  },
  {
   "attachments": {},
   "cell_type": "markdown",
   "metadata": {},
   "source": [
    "Google Drive version"
   ]
  },
  {
   "cell_type": "code",
   "execution_count": 8,
   "metadata": {
    "id": "Sb62d6W-ClLT"
   },
   "outputs": [
    {
     "data": {
      "text/plain": [
       "' \\ndf.to_excel(excel_writer=\\'/content/drive/MyDrive/Data/XLXS/RAW/AtivosBr.xlsx\\',\\n            sheet_name=\"stocks\")\\n\\ndfbeta.to_excel(excel_writer=\\'/content/drive/MyDrive/Data/XLXS/RAW/Beta.xlsx\\'\\n            ,sheet_name=\"key_stats\")\\n\\naddata.to_excel(excel_writer=\\'/content/drive/MyDrive/Data/XLXS/RAW/Financial.xlsx\\',\\n            sheet_name=\"financial_data\")\\n\\ndfprice.to_excel(excel_writer=\\'/content/drive/MyDrive/Data/XLXS/RAW/Price.xlsx\\',\\n            sheet_name=\"price\") \\n'"
      ]
     },
     "execution_count": 8,
     "metadata": {},
     "output_type": "execute_result"
    }
   ],
   "source": [
    "# Exporting Excel file Dataframes\n",
    "\"\"\" \n",
    "df.to_excel(excel_writer='/content/drive/MyDrive/Data/XLXS/RAW/AtivosBr.xlsx',\n",
    "            sheet_name=\"stocks\")\n",
    "\n",
    "dfbeta.to_excel(excel_writer='/content/drive/MyDrive/Data/XLXS/RAW/Beta.xlsx'\n",
    "            ,sheet_name=\"key_stats\")\n",
    "\n",
    "addata.to_excel(excel_writer='/content/drive/MyDrive/Data/XLXS/RAW/Financial.xlsx',\n",
    "            sheet_name=\"financial_data\")\n",
    "\n",
    "dfprice.to_excel(excel_writer='/content/drive/MyDrive/Data/XLXS/RAW/Price.xlsx',\n",
    "            sheet_name=\"price\") \n",
    "\"\"\""
   ]
  },
  {
   "attachments": {},
   "cell_type": "markdown",
   "metadata": {},
   "source": [
    "Local Machine Version"
   ]
  },
  {
   "cell_type": "code",
   "execution_count": 14,
   "metadata": {},
   "outputs": [],
   "source": [
    "df.to_parquet(path=r'../RAW_DATA/Parquet/Historical_price_data.parquet')"
   ]
  }
 ],
 "metadata": {
  "colab": {
   "include_colab_link": true,
   "provenance": []
  },
  "kernelspec": {
   "display_name": "My Kernel",
   "language": "python",
   "name": "mykernel"
  },
  "language_info": {
   "codemirror_mode": {
    "name": "ipython",
    "version": 3
   },
   "file_extension": ".py",
   "mimetype": "text/x-python",
   "name": "python",
   "nbconvert_exporter": "python",
   "pygments_lexer": "ipython3",
   "version": "3.10.6"
  },
  "vscode": {
   "interpreter": {
    "hash": "598092329803f2218a82426b846daf764474eee9678032408d5a767cd4823601"
   }
  }
 },
 "nbformat": 4,
 "nbformat_minor": 1
}
