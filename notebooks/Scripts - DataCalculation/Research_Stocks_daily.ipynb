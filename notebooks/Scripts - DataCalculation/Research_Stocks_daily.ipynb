{
  "cells": [
    {
      "attachments": {},
      "cell_type": "markdown",
      "metadata": {
        "colab_type": "text",
        "id": "view-in-github"
      },
      "source": [
        "<a href=\"https://colab.research.google.com/github/andrew3690/F-A_root_project/blob/Brazil/C%C3%B3pia_de_Research_Stocks.ipynb\" target=\"_parent\"><img src=\"https://colab.research.google.com/assets/colab-badge.svg\" alt=\"Open In Colab\"/></a>"
      ]
    },
    {
      "attachments": {},
      "cell_type": "markdown",
      "metadata": {
        "id": "N4JRZip-LxGM"
      },
      "source": [
        "# Downloading Modules:\n",
        "Spark, pyspark, Java.\n",
        "\n",
        "Bellow it is the old fashion way, risky not Recomended"
      ]
    },
    {
      "cell_type": "code",
      "execution_count": 74,
      "metadata": {
        "id": "g7uf9T1SAwMe"
      },
      "outputs": [
        {
          "data": {
            "text/plain": [
              "' \\n# # Installing Java\\n! apt-get install openjdk-8-jdk-headless -qq > /dev/null\\n# # Dowload Spark\\n! wget -q https://archive.apache.org/dist/spark/spark-3.2.1/spark-3.2.1-bin-hadoop2.7.tgz\\n# # Decompressing archives\\n! tar xf spark-3.2.1-bin-hadoop2.7.tgz\\n# # installing findspark\\n! pip install -q findspark\\n# # installing pyspark\\n! pip install pyspark==3.2.1\\n '"
            ]
          },
          "execution_count": 74,
          "metadata": {},
          "output_type": "execute_result"
        }
      ],
      "source": [
        "\"\"\" \n",
        "# # Installing Java\n",
        "! apt-get install openjdk-8-jdk-headless -qq > /dev/null\n",
        "# # Dowload Spark\n",
        "! wget -q https://archive.apache.org/dist/spark/spark-3.2.1/spark-3.2.1-bin-hadoop2.7.tgz\n",
        "# # Decompressing archives\n",
        "! tar xf spark-3.2.1-bin-hadoop2.7.tgz\n",
        "# # installing findspark\n",
        "! pip install -q findspark\n",
        "# # installing pyspark\n",
        "! pip install pyspark==3.2.1\n",
        " \"\"\""
      ]
    },
    {
      "cell_type": "code",
      "execution_count": 75,
      "metadata": {
        "id": "V3ZS9Z2vYrxT"
      },
      "outputs": [
        {
          "data": {
            "text/plain": [
              "' \\n# Importing os library\\nimport os\\n# # Java envirorment variable\\nos.environ[\"JAVA_HOME\"] = \"/usr/lib/jvm/java-8-openjdk-amd64\"\\n# # Spark envirorment variable\\nos.environ[\"SPARK_HOME\"] = \"/content/spark-3.1.2-bin-hadoop2.7\"\\n '"
            ]
          },
          "execution_count": 75,
          "metadata": {},
          "output_type": "execute_result"
        }
      ],
      "source": [
        "\"\"\" \n",
        "# Importing os library\n",
        "import os\n",
        "# # Java envirorment variable\n",
        "os.environ[\"JAVA_HOME\"] = \"/usr/lib/jvm/java-8-openjdk-amd64\"\n",
        "# # Spark envirorment variable\n",
        "os.environ[\"SPARK_HOME\"] = \"/content/spark-3.1.2-bin-hadoop2.7\"\n",
        " \"\"\""
      ]
    },
    {
      "attachments": {},
      "cell_type": "markdown",
      "metadata": {
        "id": "cTYBnobCPITD"
      },
      "source": [
        "# Better and consistent library that makes the same function as the code above\n",
        "\n"
      ]
    },
    {
      "cell_type": "code",
      "execution_count": 76,
      "metadata": {
        "colab": {
          "base_uri": "https://localhost:8080/"
        },
        "id": "boHa2yWHE2TA",
        "outputId": "2dd293d0-7923-4351-a6b7-66b27aea85f0"
      },
      "outputs": [
        {
          "name": "stdout",
          "output_type": "stream",
          "text": [
            "Defaulting to user installation because normal site-packages is not writeable\n",
            "Requirement already satisfied: pyspark in /home/andrel/.local/lib/python3.10/site-packages (3.2.4)\n",
            "Requirement already satisfied: py4j in /home/andrel/.local/lib/python3.10/site-packages (0.10.9.5)\n",
            "Defaulting to user installation because normal site-packages is not writeable\n",
            "Requirement already satisfied: pyodbc in /home/andrel/.local/lib/python3.10/site-packages (4.0.39)\n"
          ]
        }
      ],
      "source": [
        "! pip install pyspark py4j\n",
        "! pip install pyodbc"
      ]
    },
    {
      "attachments": {},
      "cell_type": "markdown",
      "metadata": {
        "id": "z0lpamJ2PhzT"
      },
      "source": [
        "**Importing modules and pandas library that will be used later.**"
      ]
    },
    {
      "cell_type": "code",
      "execution_count": 77,
      "metadata": {
        "id": "oLpozDIlCsnf"
      },
      "outputs": [],
      "source": [
        "from pyspark.sql import SparkSession\n",
        "import pyspark\n",
        "import pandas as pd\n",
        "import pyodbc\n",
        "import findspark\n",
        "\n",
        "findspark.init()"
      ]
    },
    {
      "cell_type": "code",
      "execution_count": 78,
      "metadata": {
        "colab": {
          "base_uri": "https://localhost:8080/",
          "height": 219
        },
        "id": "rLgNaJpJZWQf",
        "outputId": "375d6ea4-ab28-428e-9c70-d6742f2396f9"
      },
      "outputs": [
        {
          "data": {
            "text/html": [
              "\n",
              "            <div>\n",
              "                <p><b>SparkSession - in-memory</b></p>\n",
              "                \n",
              "        <div>\n",
              "            <p><b>SparkContext</b></p>\n",
              "\n",
              "            <p><a href=\"http://10.0.2.15:4040\">Spark UI</a></p>\n",
              "\n",
              "            <dl>\n",
              "              <dt>Version</dt>\n",
              "                <dd><code>v3.2.4</code></dd>\n",
              "              <dt>Master</dt>\n",
              "                <dd><code>local[*]</code></dd>\n",
              "              <dt>AppName</dt>\n",
              "                <dd><code>pyspark-shell</code></dd>\n",
              "            </dl>\n",
              "        </div>\n",
              "        \n",
              "            </div>\n",
              "        "
            ],
            "text/plain": [
              "<pyspark.sql.session.SparkSession at 0x7f105999f250>"
            ]
          },
          "execution_count": 78,
          "metadata": {},
          "output_type": "execute_result"
        }
      ],
      "source": [
        "# instatianting spark instance\n",
        "spark = SparkSession.builder.master('local[*]').getOrCreate()\n",
        "\n",
        "spark"
      ]
    },
    {
      "attachments": {},
      "cell_type": "markdown",
      "metadata": {},
      "source": [
        "Gooogle Colab Version"
      ]
    },
    {
      "cell_type": "code",
      "execution_count": 79,
      "metadata": {
        "colab": {
          "base_uri": "https://localhost:8080/"
        },
        "id": "70iuSZT29Tff",
        "outputId": "7fa9d57b-f0c2-4c24-d1d3-841ff740eb4c"
      },
      "outputs": [
        {
          "data": {
            "text/plain": [
              "\" \\nfrom google.colab import drive\\ndrive.mount('/content/gdrive', force_remount=True) \\n\""
            ]
          },
          "execution_count": 79,
          "metadata": {},
          "output_type": "execute_result"
        }
      ],
      "source": [
        "\"\"\" \n",
        "from google.colab import drive\n",
        "drive.mount('/content/gdrive', force_remount=True) \n",
        "\"\"\""
      ]
    },
    {
      "attachments": {},
      "cell_type": "markdown",
      "metadata": {
        "id": "MEDLrMlgMaTM"
      },
      "source": [
        "# Next cells acquire parquet data from remote files, and transpose it to spark format"
      ]
    },
    {
      "cell_type": "code",
      "execution_count": 80,
      "metadata": {},
      "outputs": [],
      "source": [
        "fille = r\"../Final/Parquet/tst/Price.parquet\"\n",
        "\n",
        "stocks = spark\\\n",
        "        .read.format(\"parquet\")\\\n",
        "        .option(\"inferSchema\", \"True\")\\\n",
        "        .option(\"header\",\"True\")\\\n",
        "        .parquet(fille)"
      ]
    },
    {
      "cell_type": "code",
      "execution_count": 81,
      "metadata": {},
      "outputs": [],
      "source": [
        "fille = r\"../Final/Parquet/tst/AtivosBr.parquet\"\n",
        "\n",
        "data = spark\\\n",
        "        .read.format(\"parquet\")\\\n",
        "        .option(\"inferSchema\", \"True\")\\\n",
        "        .option(\"header\",\"True\")\\\n",
        "        .parquet(fille)"
      ]
    },
    {
      "attachments": {},
      "cell_type": "markdown",
      "metadata": {
        "id": "SubWtlFnNJHn"
      },
      "source": [
        "Creating Tables in order to manipulate data in SQL format"
      ]
    },
    {
      "cell_type": "code",
      "execution_count": 82,
      "metadata": {
        "id": "UD38ZEtovRHd"
      },
      "outputs": [],
      "source": [
        "# Stocks table\n",
        "stocks.createOrReplaceTempView(\"General\")\n",
        "\n",
        "data.createOrReplaceTempView(\"Ativos\")"
      ]
    },
    {
      "attachments": {},
      "cell_type": "markdown",
      "metadata": {
        "id": "nv8S8_6bCqBk"
      },
      "source": [
        "# Note 1: \n",
        "'DetToEquity' must be in percentage, try to get it done here or otherwise in Power Bi\n",
        "\n",
        "---\n",
        "\n",
        "# Note 2: \n",
        "Find a way to calculate Beta values from \n",
        "historical data get it from other sources, but try to calculate it localy (Talk with Felipe, about the period of time that will be used as 'ytd' or montlhy). \n",
        "\n",
        "# Fixed:\n",
        "Beta values could be acquired trough yahoo finance"
      ]
    },
    {
      "attachments": {},
      "cell_type": "markdown",
      "metadata": {
        "id": "sKpxqfnyBnmn"
      },
      "source": [
        "Listing brazilian companies that will be researched and getting hystorical financial data\n",
        "filters that our Analyst indicates: Raking companies by: EBIT/EV > 0, ROE > 0, **Daily equity < 1.000.000.000**, revenueGrowth > 0 AND Will be done apart :(5-year-history) and all margins must be postive"
      ]
    },
    {
      "cell_type": "code",
      "execution_count": 83,
      "metadata": {
        "id": "_KbqxMcV6ACp"
      },
      "outputs": [],
      "source": [
        "# Already called at Calc Table\n",
        "Gen = spark.sql(\"\"\"\n",
        "SELECT \n",
        "    regexp_replace(Ticker, '\\.SA$', '') as Ticker,\n",
        "    TotalAssets,\n",
        "    TotalDebt,\n",
        "    date_format(to_date(asOfDate, 'yyyy-MM-dd'), 'dd/MM/yyyy') as Data_de_Referencia,\n",
        "    EBIT\n",
        "    FROM General;\n",
        "\"\"\")"
      ]
    },
    {
      "cell_type": "code",
      "execution_count": 84,
      "metadata": {
        "id": "lf6g77UP6T4R"
      },
      "outputs": [
        {
          "name": "stdout",
          "output_type": "stream",
          "text": [
            "+------+------------+----------+------------------+-----------+\n",
            "|Ticker| TotalAssets| TotalDebt|Data_de_Referencia|       EBIT|\n",
            "+------+------------+----------+------------------+-----------+\n",
            "| BRPR3|  9946283000|1.800798E9|        30/12/2019|  7.64347E8|\n",
            "| BRPR3| 10654156000|2.265793E9|        30/12/2020|  4.14023E8|\n",
            "| BRPR3| 11283900000|2.914098E9|        30/12/2021|   2.2584E8|\n",
            "| BRPR3|  4721464000| 2712000.0|        30/12/2022|-1.787577E9|\n",
            "|GEOO34|266000000000|   9.41E10|        30/12/2019|    5.376E9|\n",
            "|GEOO34|253452000000| 7.5066E10|        30/12/2020|     8.47E9|\n",
            "|GEOO34|198874000000| 3.5185E10|        30/12/2021|   -1.807E9|\n",
            "|GEOO34|188851000000| 2.6148E10|        30/12/2022|     6.78E8|\n",
            "| GSHP3|  1699421000|1.411032E9|        30/12/2019|  1.27618E8|\n",
            "| GSHP3|  1693377000|1.840478E9|        30/12/2020|  -2.4443E8|\n",
            "| GSHP3|  1726089000|2.084624E9|        30/12/2021|  -6.2605E7|\n",
            "| GSHP3|  1496797000|1.925892E9|        30/12/2022|   8.6725E7|\n",
            "|HONB34| 58679000000| 1.6002E10|        30/12/2019|    7.916E9|\n",
            "|HONB34| 64586000000| 2.2384E10|        30/12/2020|    6.371E9|\n",
            "|HONB34| 64470000000| 1.9599E10|        30/12/2021|    7.578E9|\n",
            "|HONB34| 62275000000|  1.957E10|        30/12/2022|    6.793E9|\n",
            "| IGBR3|   248981000|  718000.0|        30/12/2019| -5856000.0|\n",
            "| IGBR3|    79697000|       0.0|        30/12/2020|  -1.6392E8|\n",
            "| IGBR3|   115863000|  855000.0|        30/12/2021|  -7.0595E7|\n",
            "| LPSB3|   405272000|  3.6229E7|        30/12/2019|   1.7908E7|\n",
            "+------+------------+----------+------------------+-----------+\n",
            "only showing top 20 rows\n",
            "\n"
          ]
        }
      ],
      "source": [
        "Gen.show()"
      ]
    },
    {
      "attachments": {},
      "cell_type": "markdown",
      "metadata": {
        "id": "abGJeNp68atZ"
      },
      "source": [
        "Alternative operations, while dealing with a little amount of data, and it can be joined here"
      ]
    },
    {
      "cell_type": "code",
      "execution_count": 91,
      "metadata": {},
      "outputs": [
        {
          "ename": "AnalysisException",
          "evalue": "cannot resolve 'Porcentagem_de_Mudanca_do_Mercado_Regular' given input columns: [ativos.Abertura_do_Mercado_Regular, ativos.Capitalizacao_de_Mercado, ativos.Dados_da_Bolsa_Atrasados_em, ativos.Estado_do_Mercado, ativos.Fechamento_Anterior_do_Mercado_Regular, ativos.Horario_do_Mercado_Regular, ativos.Maxima_do_Mercado_Regular, ativos.Minima_do_Mercado_Regular, ativos.Mudanca_do_Mercado_Regular, ativos.Nome_Curto, ativos.Nome_Longo, ativos.Nome_da_Bolsa, ativos.Porcentagem_de_Mudança_do_Mercado_Regular, ativos.Preco_do_Mercado_Regular, ativos.Ticker, ativos.Volume_do_Mercado_Regular, ativos.__index_level_0__]; line 7 pos 10;\n'Project [regexp_replace(Ticker#600, .SA$, , 1) AS Ticker#665, Nome_Curto#601, Nome_Longo#602, Capitalizacao_de_Mercado#603L, 'ROUND('Porcentagem_de_Mudanca_do_Mercado_Regular, 2) AS Porcentagem_de_Mudanca_do_Mercado_Regular#666, round(Mudanca_do_Mercado_Regular#589, 2) AS Mudanca_do_Mercado_Regular#667, date_format(cast(to_date(Horario_do_Mercado_Regular#590, Some(yyyy-MM-dd)) as timestamp), dd/MM/yyyy, Some(America/Sao_Paulo)) AS Data_de_Referencia#668, Preco_do_Mercado_Regular#591, Maxima_do_Mercado_Regular#592, Minima_do_Mercado_Regular#593, Volume_do_Mercado_Regular#594L, Fechamento_Anterior_do_Mercado_Regular#595, Abertura_do_Mercado_Regular#596]\n+- SubqueryAlias ativos\n   +- View (`Ativos`, [Porcentagem_de_Mudança_do_Mercado_Regular#588,Mudanca_do_Mercado_Regular#589,Horario_do_Mercado_Regular#590,Preco_do_Mercado_Regular#591,Maxima_do_Mercado_Regular#592,Minima_do_Mercado_Regular#593,Volume_do_Mercado_Regular#594L,Fechamento_Anterior_do_Mercado_Regular#595,Abertura_do_Mercado_Regular#596,Nome_da_Bolsa#597,Dados_da_Bolsa_Atrasados_em#598L,Estado_do_Mercado#599,Ticker#600,Nome_Curto#601,Nome_Longo#602,Capitalizacao_de_Mercado#603L,__index_level_0__#604L])\n      +- Relation [Porcentagem_de_Mudança_do_Mercado_Regular#588,Mudanca_do_Mercado_Regular#589,Horario_do_Mercado_Regular#590,Preco_do_Mercado_Regular#591,Maxima_do_Mercado_Regular#592,Minima_do_Mercado_Regular#593,Volume_do_Mercado_Regular#594L,Fechamento_Anterior_do_Mercado_Regular#595,Abertura_do_Mercado_Regular#596,Nome_da_Bolsa#597,Dados_da_Bolsa_Atrasados_em#598L,Estado_do_Mercado#599,Ticker#600,Nome_Curto#601,Nome_Longo#602,Capitalizacao_de_Mercado#603L,__index_level_0__#604L] parquet\n",
          "output_type": "error",
          "traceback": [
            "\u001b[0;31m---------------------------------------------------------------------------\u001b[0m",
            "\u001b[0;31mAnalysisException\u001b[0m                         Traceback (most recent call last)",
            "Cell \u001b[0;32mIn[91], line 1\u001b[0m\n\u001b[0;32m----> 1\u001b[0m RS \u001b[39m=\u001b[39m spark\u001b[39m.\u001b[39;49msql(\u001b[39m\"\"\"\u001b[39;49m\n\u001b[1;32m      2\u001b[0m \u001b[39mSELECT \u001b[39;49m\n\u001b[1;32m      3\u001b[0m \u001b[39m    regexp_replace(Ticker, \u001b[39;49m\u001b[39m'\u001b[39;49m\u001b[39m\\\u001b[39;49m\u001b[39m.SA$\u001b[39;49m\u001b[39m'\u001b[39;49m\u001b[39m, \u001b[39;49m\u001b[39m'\u001b[39;49m\u001b[39m'\u001b[39;49m\u001b[39m) as Ticker,\u001b[39;49m\n\u001b[1;32m      4\u001b[0m \u001b[39m    Nome_Curto,\u001b[39;49m\n\u001b[1;32m      5\u001b[0m \u001b[39m    Nome_Longo,\u001b[39;49m\n\u001b[1;32m      6\u001b[0m \u001b[39m    Capitalizacao_de_Mercado,\u001b[39;49m\n\u001b[1;32m      7\u001b[0m \u001b[39m    ROUND(Porcentagem_de_Mudanca_do_Mercado_Regular,2 ) AS Porcentagem_de_Mudanca_do_Mercado_Regular,\u001b[39;49m\n\u001b[1;32m      8\u001b[0m \u001b[39m    ROUND(Mudanca_do_Mercado_Regular,2) AS Mudanca_do_Mercado_Regular,\u001b[39;49m\n\u001b[1;32m      9\u001b[0m \u001b[39m    date_format(to_date(Horario_do_Mercado_Regular, \u001b[39;49m\u001b[39m'\u001b[39;49m\u001b[39myyyy-MM-dd\u001b[39;49m\u001b[39m'\u001b[39;49m\u001b[39m), \u001b[39;49m\u001b[39m'\u001b[39;49m\u001b[39mdd/MM/yyyy\u001b[39;49m\u001b[39m'\u001b[39;49m\u001b[39m) as Data_de_Referencia,\u001b[39;49m\n\u001b[1;32m     10\u001b[0m \u001b[39m    Preco_do_Mercado_Regular,\u001b[39;49m\n\u001b[1;32m     11\u001b[0m \u001b[39m    Maxima_do_Mercado_Regular,\u001b[39;49m\n\u001b[1;32m     12\u001b[0m \u001b[39m    Minima_do_Mercado_Regular,\u001b[39;49m\n\u001b[1;32m     13\u001b[0m \u001b[39m    Volume_do_Mercado_Regular,\u001b[39;49m\n\u001b[1;32m     14\u001b[0m \u001b[39m    Fechamento_Anterior_do_Mercado_Regular,\u001b[39;49m\n\u001b[1;32m     15\u001b[0m \u001b[39m    Abertura_do_Mercado_Regular\u001b[39;49m\n\u001b[1;32m     16\u001b[0m \u001b[39mFROM Ativos\u001b[39;49m\n\u001b[1;32m     17\u001b[0m \u001b[39m\"\"\"\u001b[39;49m)\n",
            "File \u001b[0;32m~/.local/lib/python3.10/site-packages/pyspark/sql/session.py:723\u001b[0m, in \u001b[0;36mSparkSession.sql\u001b[0;34m(self, sqlQuery)\u001b[0m\n\u001b[1;32m    707\u001b[0m \u001b[39mdef\u001b[39;00m \u001b[39msql\u001b[39m(\u001b[39mself\u001b[39m, sqlQuery):\n\u001b[1;32m    708\u001b[0m \u001b[39m    \u001b[39m\u001b[39m\"\"\"Returns a :class:`DataFrame` representing the result of the given query.\u001b[39;00m\n\u001b[1;32m    709\u001b[0m \n\u001b[1;32m    710\u001b[0m \u001b[39m    .. versionadded:: 2.0.0\u001b[39;00m\n\u001b[0;32m   (...)\u001b[0m\n\u001b[1;32m    721\u001b[0m \u001b[39m    [Row(f1=1, f2='row1'), Row(f1=2, f2='row2'), Row(f1=3, f2='row3')]\u001b[39;00m\n\u001b[1;32m    722\u001b[0m \u001b[39m    \"\"\"\u001b[39;00m\n\u001b[0;32m--> 723\u001b[0m     \u001b[39mreturn\u001b[39;00m DataFrame(\u001b[39mself\u001b[39;49m\u001b[39m.\u001b[39;49m_jsparkSession\u001b[39m.\u001b[39;49msql(sqlQuery), \u001b[39mself\u001b[39m\u001b[39m.\u001b[39m_wrapped)\n",
            "File \u001b[0;32m~/.local/lib/python3.10/site-packages/py4j/java_gateway.py:1321\u001b[0m, in \u001b[0;36mJavaMember.__call__\u001b[0;34m(self, *args)\u001b[0m\n\u001b[1;32m   1315\u001b[0m command \u001b[39m=\u001b[39m proto\u001b[39m.\u001b[39mCALL_COMMAND_NAME \u001b[39m+\u001b[39m\\\n\u001b[1;32m   1316\u001b[0m     \u001b[39mself\u001b[39m\u001b[39m.\u001b[39mcommand_header \u001b[39m+\u001b[39m\\\n\u001b[1;32m   1317\u001b[0m     args_command \u001b[39m+\u001b[39m\\\n\u001b[1;32m   1318\u001b[0m     proto\u001b[39m.\u001b[39mEND_COMMAND_PART\n\u001b[1;32m   1320\u001b[0m answer \u001b[39m=\u001b[39m \u001b[39mself\u001b[39m\u001b[39m.\u001b[39mgateway_client\u001b[39m.\u001b[39msend_command(command)\n\u001b[0;32m-> 1321\u001b[0m return_value \u001b[39m=\u001b[39m get_return_value(\n\u001b[1;32m   1322\u001b[0m     answer, \u001b[39mself\u001b[39;49m\u001b[39m.\u001b[39;49mgateway_client, \u001b[39mself\u001b[39;49m\u001b[39m.\u001b[39;49mtarget_id, \u001b[39mself\u001b[39;49m\u001b[39m.\u001b[39;49mname)\n\u001b[1;32m   1324\u001b[0m \u001b[39mfor\u001b[39;00m temp_arg \u001b[39min\u001b[39;00m temp_args:\n\u001b[1;32m   1325\u001b[0m     temp_arg\u001b[39m.\u001b[39m_detach()\n",
            "File \u001b[0;32m~/.local/lib/python3.10/site-packages/pyspark/sql/utils.py:117\u001b[0m, in \u001b[0;36mcapture_sql_exception.<locals>.deco\u001b[0;34m(*a, **kw)\u001b[0m\n\u001b[1;32m    113\u001b[0m converted \u001b[39m=\u001b[39m convert_exception(e\u001b[39m.\u001b[39mjava_exception)\n\u001b[1;32m    114\u001b[0m \u001b[39mif\u001b[39;00m \u001b[39mnot\u001b[39;00m \u001b[39misinstance\u001b[39m(converted, UnknownException):\n\u001b[1;32m    115\u001b[0m     \u001b[39m# Hide where the exception came from that shows a non-Pythonic\u001b[39;00m\n\u001b[1;32m    116\u001b[0m     \u001b[39m# JVM exception message.\u001b[39;00m\n\u001b[0;32m--> 117\u001b[0m     \u001b[39mraise\u001b[39;00m converted \u001b[39mfrom\u001b[39;00m \u001b[39mNone\u001b[39;00m\n\u001b[1;32m    118\u001b[0m \u001b[39melse\u001b[39;00m:\n\u001b[1;32m    119\u001b[0m     \u001b[39mraise\u001b[39;00m\n",
            "\u001b[0;31mAnalysisException\u001b[0m: cannot resolve 'Porcentagem_de_Mudanca_do_Mercado_Regular' given input columns: [ativos.Abertura_do_Mercado_Regular, ativos.Capitalizacao_de_Mercado, ativos.Dados_da_Bolsa_Atrasados_em, ativos.Estado_do_Mercado, ativos.Fechamento_Anterior_do_Mercado_Regular, ativos.Horario_do_Mercado_Regular, ativos.Maxima_do_Mercado_Regular, ativos.Minima_do_Mercado_Regular, ativos.Mudanca_do_Mercado_Regular, ativos.Nome_Curto, ativos.Nome_Longo, ativos.Nome_da_Bolsa, ativos.Porcentagem_de_Mudança_do_Mercado_Regular, ativos.Preco_do_Mercado_Regular, ativos.Ticker, ativos.Volume_do_Mercado_Regular, ativos.__index_level_0__]; line 7 pos 10;\n'Project [regexp_replace(Ticker#600, .SA$, , 1) AS Ticker#665, Nome_Curto#601, Nome_Longo#602, Capitalizacao_de_Mercado#603L, 'ROUND('Porcentagem_de_Mudanca_do_Mercado_Regular, 2) AS Porcentagem_de_Mudanca_do_Mercado_Regular#666, round(Mudanca_do_Mercado_Regular#589, 2) AS Mudanca_do_Mercado_Regular#667, date_format(cast(to_date(Horario_do_Mercado_Regular#590, Some(yyyy-MM-dd)) as timestamp), dd/MM/yyyy, Some(America/Sao_Paulo)) AS Data_de_Referencia#668, Preco_do_Mercado_Regular#591, Maxima_do_Mercado_Regular#592, Minima_do_Mercado_Regular#593, Volume_do_Mercado_Regular#594L, Fechamento_Anterior_do_Mercado_Regular#595, Abertura_do_Mercado_Regular#596]\n+- SubqueryAlias ativos\n   +- View (`Ativos`, [Porcentagem_de_Mudança_do_Mercado_Regular#588,Mudanca_do_Mercado_Regular#589,Horario_do_Mercado_Regular#590,Preco_do_Mercado_Regular#591,Maxima_do_Mercado_Regular#592,Minima_do_Mercado_Regular#593,Volume_do_Mercado_Regular#594L,Fechamento_Anterior_do_Mercado_Regular#595,Abertura_do_Mercado_Regular#596,Nome_da_Bolsa#597,Dados_da_Bolsa_Atrasados_em#598L,Estado_do_Mercado#599,Ticker#600,Nome_Curto#601,Nome_Longo#602,Capitalizacao_de_Mercado#603L,__index_level_0__#604L])\n      +- Relation [Porcentagem_de_Mudança_do_Mercado_Regular#588,Mudanca_do_Mercado_Regular#589,Horario_do_Mercado_Regular#590,Preco_do_Mercado_Regular#591,Maxima_do_Mercado_Regular#592,Minima_do_Mercado_Regular#593,Volume_do_Mercado_Regular#594L,Fechamento_Anterior_do_Mercado_Regular#595,Abertura_do_Mercado_Regular#596,Nome_da_Bolsa#597,Dados_da_Bolsa_Atrasados_em#598L,Estado_do_Mercado#599,Ticker#600,Nome_Curto#601,Nome_Longo#602,Capitalizacao_de_Mercado#603L,__index_level_0__#604L] parquet\n"
          ]
        }
      ],
      "source": [
        "RS = spark.sql(\"\"\"\n",
        "SELECT \n",
        "    regexp_replace(Ticker, '\\.SA$', '') as Ticker,\n",
        "    Nome_Curto,\n",
        "    Nome_Longo,\n",
        "    Capitalizacao_de_Mercado,\n",
        "    ROUND(Porcentagem_de_Mudanca_do_Mercado_Regular,2 ) AS Porcentagem_de_Mudanca_do_Mercado_Regular,\n",
        "    ROUND(Mudanca_do_Mercado_Regular,2) AS Mudanca_do_Mercado_Regular,\n",
        "    date_format(to_date(Horario_do_Mercado_Regular, 'yyyy-MM-dd'), 'dd/MM/yyyy') as Data_de_Referencia,\n",
        "    Preco_do_Mercado_Regular,\n",
        "    Maxima_do_Mercado_Regular,\n",
        "    Minima_do_Mercado_Regular,\n",
        "    Volume_do_Mercado_Regular,\n",
        "    Fechamento_Anterior_do_Mercado_Regular,\n",
        "    Abertura_do_Mercado_Regular\n",
        "FROM Ativos\n",
        "\"\"\")"
      ]
    },
    {
      "cell_type": "code",
      "execution_count": null,
      "metadata": {},
      "outputs": [],
      "source": [
        " Preco_do_Mercado_Regular,\n",
        "    Maxima_do_Mercado_Regular,\n",
        "    Minima_do_Mercado_Regular,\n",
        "    Volume_do_Mercado_Regular,\n",
        "    Fechamento_Anterior_do_Mercado_Regular,\n",
        "    Abertura_do_Mercado_Regular"
      ]
    },
    {
      "cell_type": "code",
      "execution_count": 57,
      "metadata": {},
      "outputs": [
        {
          "name": "stdout",
          "output_type": "stream",
          "text": [
            "+-----------------------------------------+--------------------------+--------------------------+------------------------+-------------------------+-------------------------+-------------------------+--------------------------------------+---------------------------+-------------+---------------------------+-----------------+------+--------------------+--------------------+------------------------+-----------------+\n",
            "|Porcentagem_de_Mudança_do_Mercado_Regular|Mudança_do_Mercado_Regular|Horario_do_Mercado_Regular|Preço_do_Mercado_Regular|Maxima_do_Mercado_Regular|Minima_do_Mercado_Regular|Volume_do_Mercado_Regular|Fechamento_Anterior_do_Mercado_Regular|Abertura_do_Mercado_Regular|Nome_da_Bolsa|Dados_da_Bolsa_Atrasados_em|Estado_do_Mercado|Ticker|          Nome_Curto|          Nome_Longo|Capitalizacao_de_Mercado|__index_level_0__|\n",
            "+-----------------------------------------+--------------------------+--------------------------+------------------------+-------------------------+-------------------------+-------------------------+--------------------------------------+---------------------------+-------------+---------------------------+-----------------+------+--------------------+--------------------+------------------------+-----------------+\n",
            "|                              0.022081997|                0.06999993|       2023-07-13 17:07:57|                    3.24|                     3.33|                      3.2|                 19940100|                                  3.17|                       3.23|    São Paulo|                         15|         POSTPOST| COGN3|COGNA ON    ON   ...| Cogna Educação S.A.|              6064599552|                0|\n",
            "|                              0.104477555|                0.48999977|       2023-07-13 16:53:24|                    5.18|                     5.19|                     4.69|                    41600|                                  4.69|                        4.7|    São Paulo|                         15|         POSTPOST| WHRL4|      WHIRLPOOL   PN|      Whirlpool S.A.|              7726228480|                1|\n",
            "|                              0.107526876|                       0.5|       2023-07-13 17:07:34|                    5.15|                     5.15|                     4.68|                    14500|                                  4.65|                        4.7|    São Paulo|                         15|         POSTPOST| WHRL3|      WHIRLPOOL   ON|      Whirlpool S.A.|              7781907456|                2|\n",
            "|                             0.0056337975|                0.01999998|       2023-07-13 17:06:00|                    3.57|                     3.65|                     3.52|                    48100|                                  3.55|                        3.6|    São Paulo|                         15|         POSTPOST| TCSA3|TECNISA     ON   ...|        Tecnisa S.A.|               262820544|                3|\n",
            "|                             -0.002128137|                 -1.039978|       2023-07-13 16:12:24|                  487.64|                   489.27|                    486.8|                       12|                                488.68|                     489.06|    São Paulo|                         15|         POSTPOST|SBUB34|     STARBUCKS   DRN|Starbucks Corpora...|            565452734464|                4|\n",
            "|                             -0.045936357|               -0.25999975|       2023-07-13 17:07:55|                     5.4|                     5.96|                      5.4|                  1337900|                                  5.66|                       5.73|    São Paulo|                         15|         POSTPOST| SEER3|SER EDUCA   ON   ...|Ser Educacional S.A.|               693009024|                6|\n",
            "|                             -0.067729115|               -0.17000008|       2023-07-13 17:07:30|                    2.34|                     2.52|                     2.34|                   125000|                                  2.51|                       2.48|    São Paulo|                         15|         POSTPOST| SLED4|SARAIVA LIVRPN   ...|Saraiva Livreiros...|                24953760|                7|\n",
            "|                             -0.034042522|               -0.07999992|       2023-07-13 16:29:38|                    2.27|                     2.35|                     2.27|                     3700|                                  2.35|                       2.35|    São Paulo|                         15|         POSTPOST| HOOT4|      HOTEIS OTHONPN|   Hotéis Othon S.A.|                17920492|                8|\n",
            "|                             -0.024835264|               -0.48999977|       2023-07-13 17:07:50|                   19.24|                    19.65|                    18.65|                  7290700|                                 19.73|                      19.19|    São Paulo|                         15|         POSTPOST| YDUQ3|YDUQS PART  ON   ...|Yduqs Participaçõ...|              5589739520|                9|\n",
            "|                              0.086914584|                 1.8000011|       2023-07-13 17:07:42|                   22.51|                    22.72|                    21.33|                 19647000|                                 20.71|                      21.36|    São Paulo|                         15|         POSTPOST| CYRE3|CYRELA REALTON   ...|Cyrela Brazil Rea...|              8439471616|               10|\n",
            "|                             -0.012539173|               -0.03999996|       2023-07-13 17:07:34|                    3.15|                     3.27|                     3.14|                 12593400|                                  3.19|                       3.22|    São Paulo|                         15|         POSTPOST| CVCB3|CVC BRASIL  ON   ...|CVC Brasil Operad...|               948257088|               11|\n",
            "|                             -0.009877584|               -0.45999908|       2023-07-13 17:05:00|                   46.11|                    46.69|                    46.11|                     1584|                                 46.57|                      46.52|    São Paulo|                         15|         POSTPOST|WALM34|     WAL MART    DRN|        Walmart Inc.|           2006720970752|               13|\n",
            "|                              0.018848712|                 1.1100006|       2023-07-13 16:44:39|                    60.0|                     60.0|                    58.72|                     6435|                                 58.89|                       58.9|    São Paulo|                         15|         POSTPOST|PEPB34|     PEPSICO INC DRN|       PepsiCo, Inc.|           1252103946240|               14|\n",
            "|                             0.0067763496|                0.34999847|       2023-07-13 17:05:00|                    52.0|                     52.0|                    51.47|                      178|                                 51.65|                      51.47|    São Paulo|                         15|         POSTPOST|COLG34|     COLGATE     DRN|Colgate-Palmolive...|            304730931200|               15|\n",
            "|                             0.0035431844|                0.17000198|       2023-07-13 17:05:00|                   48.15|                    48.44|                    48.05|                    11961|                                 47.98|                      48.15|    São Paulo|                         15|         POSTPOST|COCA34|     COCA COLA   DRN|The Coca-Cola Com...|           1260254003200|               16|\n",
            "|                            -0.0062481137|               -0.20999908|       2023-07-13 17:07:46|                    33.4|                    34.19|                    33.18|                  1228800|                                 33.61|                      33.58|    São Paulo|                         15|         POSTPOST| SMTO3|SAO MARTINHOON   ...|   São Martinho S.A.|             11568925696|               18|\n",
            "|                             0.0061118547|                0.25999832|       2023-07-13 17:07:32|                    42.8|                    43.07|                     42.3|                  1019600|                                 42.54|                      42.46|    São Paulo|                         15|         POSTPOST| MDIA3|M.DIASBRANCOON   ...|M. Dias Branco S....|             14394708992|               19|\n",
            "|                              0.010884344|                0.15999985|       2023-07-13 17:07:56|                   14.86|                    14.86|                    14.67|                  1289900|                                  14.7|                      14.73|    São Paulo|                         15|         POSTPOST| BRSR6|BANRISUL    PNB  ...|Banco do Estado d...|              6073906176|               20|\n",
            "|                                      0.0|                       0.0|       2023-07-11 14:12:05|                   18.19|                    18.19|                    18.19|                        0|                                 18.19|                        0.0|    São Paulo|                         15|         POSTPOST| BRSR5|BANRISUL    PNA  ...|Banco do Estado d...|              6008521216|               21|\n",
            "|                             6.8214384E-4|               0.010000229|       2023-07-13 16:29:47|                   14.67|                    14.74|                    14.51|                     3200|                                 14.66|                      14.63|    São Paulo|                         15|         POSTPOST| BRSR3|BANRISUL    ON   ...|Banco do Estado d...|              6012616704|               22|\n",
            "+-----------------------------------------+--------------------------+--------------------------+------------------------+-------------------------+-------------------------+-------------------------+--------------------------------------+---------------------------+-------------+---------------------------+-----------------+------+--------------------+--------------------+------------------------+-----------------+\n",
            "only showing top 20 rows\n",
            "\n"
          ]
        }
      ],
      "source": [
        "RS.show()"
      ]
    },
    {
      "attachments": {},
      "cell_type": "markdown",
      "metadata": {
        "id": "ZGP5as1CK1uo"
      },
      "source": [
        "ev = número total de papeis x cotação + divida liquida\n",
        "ev = market value +  liquid debt \n",
        "\n",
        "PSR = PREÇO DA AÇÃO / RECEITA LIQUIDA POR AÇÃO "
      ]
    },
    {
      "attachments": {},
      "cell_type": "markdown",
      "metadata": {
        "id": "7MJkJf8SguRE"
      },
      "source": [
        "Pandas setting DataFrame to pandas format:"
      ]
    },
    {
      "attachments": {},
      "cell_type": "markdown",
      "metadata": {},
      "source": [
        "Excel format tables"
      ]
    },
    {
      "cell_type": "code",
      "execution_count": 12,
      "metadata": {
        "id": "BNc_zBG8j3zL"
      },
      "outputs": [],
      "source": [
        "df_rs.to_excel(r\"../Final/RSCH.xlsx\",\n",
        "                sheet_name=\"research\")"
      ]
    },
    {
      "cell_type": "code",
      "execution_count": 13,
      "metadata": {},
      "outputs": [
        {
          "data": {
            "text/html": [
              "<div>\n",
              "<style scoped>\n",
              "    .dataframe tbody tr th:only-of-type {\n",
              "        vertical-align: middle;\n",
              "    }\n",
              "\n",
              "    .dataframe tbody tr th {\n",
              "        vertical-align: top;\n",
              "    }\n",
              "\n",
              "    .dataframe thead th {\n",
              "        text-align: right;\n",
              "    }\n",
              "</style>\n",
              "<table border=\"1\" class=\"dataframe\">\n",
              "  <thead>\n",
              "    <tr style=\"text-align: right;\">\n",
              "      <th></th>\n",
              "      <th>Ticker</th>\n",
              "      <th>Preco_Atual</th>\n",
              "      <th>Fluxo_de_caixa_total</th>\n",
              "      <th>Fluxo_de_caixa_por_acao</th>\n",
              "      <th>EBITDA</th>\n",
              "      <th>Divida_total</th>\n",
              "      <th>Liquidez_imediata</th>\n",
              "      <th>Liquidez_corrente</th>\n",
              "      <th>Receita_total</th>\n",
              "      <th>Divida_Patrimonio</th>\n",
              "      <th>...</th>\n",
              "      <th>Fluxo_de_caixa_operacional</th>\n",
              "      <th>Crescimento_de_Receita_3T</th>\n",
              "      <th>Margem_Bruta</th>\n",
              "      <th>Margem_EBITIDA</th>\n",
              "      <th>Margem_Operacional</th>\n",
              "      <th>Margem_liquida</th>\n",
              "      <th>Moeda</th>\n",
              "      <th>Crescimento_dos_ganhos_3T</th>\n",
              "      <th>__index_level_0__</th>\n",
              "      <th>valor_de_mercado</th>\n",
              "    </tr>\n",
              "  </thead>\n",
              "  <tbody>\n",
              "    <tr>\n",
              "      <th>0</th>\n",
              "      <td>ARML3.SA</td>\n",
              "      <td>13.44</td>\n",
              "      <td>8.593540e+08</td>\n",
              "      <td>2.489</td>\n",
              "      <td>3.809280e+08</td>\n",
              "      <td>1.886783e+09</td>\n",
              "      <td>2.691</td>\n",
              "      <td>2.789</td>\n",
              "      <td>838937024</td>\n",
              "      <td>165.614</td>\n",
              "      <td>...</td>\n",
              "      <td>-675387008</td>\n",
              "      <td>1.522</td>\n",
              "      <td>0.45842</td>\n",
              "      <td>0.45406</td>\n",
              "      <td>0.33634</td>\n",
              "      <td>0.14750</td>\n",
              "      <td>BRL</td>\n",
              "      <td>1.841</td>\n",
              "      <td>7</td>\n",
              "      <td>4650455040</td>\n",
              "    </tr>\n",
              "    <tr>\n",
              "      <th>1</th>\n",
              "      <td>TTEN3.SA</td>\n",
              "      <td>12.57</td>\n",
              "      <td>8.791550e+08</td>\n",
              "      <td>1.769</td>\n",
              "      <td>5.706630e+08</td>\n",
              "      <td>1.119887e+09</td>\n",
              "      <td>0.777</td>\n",
              "      <td>1.554</td>\n",
              "      <td>6885838848</td>\n",
              "      <td>39.733</td>\n",
              "      <td>...</td>\n",
              "      <td>257696992</td>\n",
              "      <td>0.319</td>\n",
              "      <td>0.15151</td>\n",
              "      <td>0.08287</td>\n",
              "      <td>0.07808</td>\n",
              "      <td>0.08299</td>\n",
              "      <td>BRL</td>\n",
              "      <td>0.342</td>\n",
              "      <td>10</td>\n",
              "      <td>6247516160</td>\n",
              "    </tr>\n",
              "    <tr>\n",
              "      <th>2</th>\n",
              "      <td>VITT3.SA</td>\n",
              "      <td>11.19</td>\n",
              "      <td>7.697600e+07</td>\n",
              "      <td>0.541</td>\n",
              "      <td>1.896870e+08</td>\n",
              "      <td>2.642490e+08</td>\n",
              "      <td>1.318</td>\n",
              "      <td>2.058</td>\n",
              "      <td>892286016</td>\n",
              "      <td>47.096</td>\n",
              "      <td>...</td>\n",
              "      <td>130406000</td>\n",
              "      <td>0.085</td>\n",
              "      <td>0.37012</td>\n",
              "      <td>0.21259</td>\n",
              "      <td>0.20659</td>\n",
              "      <td>0.15913</td>\n",
              "      <td>BRL</td>\n",
              "      <td>0.270</td>\n",
              "      <td>15</td>\n",
              "      <td>1594519040</td>\n",
              "    </tr>\n",
              "    <tr>\n",
              "      <th>3</th>\n",
              "      <td>CXSE3.SA</td>\n",
              "      <td>8.54</td>\n",
              "      <td>1.272550e+09</td>\n",
              "      <td>0.424</td>\n",
              "      <td>2.892785e+09</td>\n",
              "      <td>0.000000e+00</td>\n",
              "      <td>9.218</td>\n",
              "      <td>9.229</td>\n",
              "      <td>3409924096</td>\n",
              "      <td>NaN</td>\n",
              "      <td>...</td>\n",
              "      <td>2275187968</td>\n",
              "      <td>0.595</td>\n",
              "      <td>0.92936</td>\n",
              "      <td>0.84834</td>\n",
              "      <td>0.84834</td>\n",
              "      <td>0.74776</td>\n",
              "      <td>BRL</td>\n",
              "      <td>0.557</td>\n",
              "      <td>18</td>\n",
              "      <td>25620000768</td>\n",
              "    </tr>\n",
              "    <tr>\n",
              "      <th>4</th>\n",
              "      <td>GGPS3.SA</td>\n",
              "      <td>11.84</td>\n",
              "      <td>1.295590e+09</td>\n",
              "      <td>1.935</td>\n",
              "      <td>9.647340e+08</td>\n",
              "      <td>1.937756e+09</td>\n",
              "      <td>1.763</td>\n",
              "      <td>1.895</td>\n",
              "      <td>8658241536</td>\n",
              "      <td>77.118</td>\n",
              "      <td>...</td>\n",
              "      <td>278648992</td>\n",
              "      <td>0.463</td>\n",
              "      <td>0.16126</td>\n",
              "      <td>0.11142</td>\n",
              "      <td>0.09313</td>\n",
              "      <td>0.05279</td>\n",
              "      <td>BRL</td>\n",
              "      <td>0.159</td>\n",
              "      <td>21</td>\n",
              "      <td>7942899712</td>\n",
              "    </tr>\n",
              "    <tr>\n",
              "      <th>...</th>\n",
              "      <td>...</td>\n",
              "      <td>...</td>\n",
              "      <td>...</td>\n",
              "      <td>...</td>\n",
              "      <td>...</td>\n",
              "      <td>...</td>\n",
              "      <td>...</td>\n",
              "      <td>...</td>\n",
              "      <td>...</td>\n",
              "      <td>...</td>\n",
              "      <td>...</td>\n",
              "      <td>...</td>\n",
              "      <td>...</td>\n",
              "      <td>...</td>\n",
              "      <td>...</td>\n",
              "      <td>...</td>\n",
              "      <td>...</td>\n",
              "      <td>...</td>\n",
              "      <td>...</td>\n",
              "      <td>...</td>\n",
              "      <td>...</td>\n",
              "    </tr>\n",
              "    <tr>\n",
              "      <th>91</th>\n",
              "      <td>SAPR3.SA</td>\n",
              "      <td>3.25</td>\n",
              "      <td>1.207932e+09</td>\n",
              "      <td>0.799</td>\n",
              "      <td>2.242618e+09</td>\n",
              "      <td>5.083244e+09</td>\n",
              "      <td>1.444</td>\n",
              "      <td>1.516</td>\n",
              "      <td>5673647104</td>\n",
              "      <td>57.850</td>\n",
              "      <td>...</td>\n",
              "      <td>1991254016</td>\n",
              "      <td>0.067</td>\n",
              "      <td>0.57992</td>\n",
              "      <td>0.39527</td>\n",
              "      <td>0.33128</td>\n",
              "      <td>0.20296</td>\n",
              "      <td>BRL</td>\n",
              "      <td>0.057</td>\n",
              "      <td>357</td>\n",
              "      <td>5098242560</td>\n",
              "    </tr>\n",
              "    <tr>\n",
              "      <th>92</th>\n",
              "      <td>CGAS5.SA</td>\n",
              "      <td>129.01</td>\n",
              "      <td>2.155312e+09</td>\n",
              "      <td>16.264</td>\n",
              "      <td>3.224497e+09</td>\n",
              "      <td>7.424176e+09</td>\n",
              "      <td>1.164</td>\n",
              "      <td>1.251</td>\n",
              "      <td>17414152192</td>\n",
              "      <td>718.872</td>\n",
              "      <td>...</td>\n",
              "      <td>3439486976</td>\n",
              "      <td>0.272</td>\n",
              "      <td>0.19823</td>\n",
              "      <td>0.18517</td>\n",
              "      <td>0.15654</td>\n",
              "      <td>0.10402</td>\n",
              "      <td>BRL</td>\n",
              "      <td>0.238</td>\n",
              "      <td>362</td>\n",
              "      <td>16325827584</td>\n",
              "    </tr>\n",
              "    <tr>\n",
              "      <th>93</th>\n",
              "      <td>CGAS3.SA</td>\n",
              "      <td>125.00</td>\n",
              "      <td>2.155312e+09</td>\n",
              "      <td>16.264</td>\n",
              "      <td>3.224497e+09</td>\n",
              "      <td>7.424176e+09</td>\n",
              "      <td>1.164</td>\n",
              "      <td>1.251</td>\n",
              "      <td>17414152192</td>\n",
              "      <td>718.872</td>\n",
              "      <td>...</td>\n",
              "      <td>3439486976</td>\n",
              "      <td>0.272</td>\n",
              "      <td>0.19823</td>\n",
              "      <td>0.18517</td>\n",
              "      <td>0.15654</td>\n",
              "      <td>0.10402</td>\n",
              "      <td>BRL</td>\n",
              "      <td>0.238</td>\n",
              "      <td>363</td>\n",
              "      <td>16783624192</td>\n",
              "    </tr>\n",
              "    <tr>\n",
              "      <th>94</th>\n",
              "      <td>EGIE3.SA</td>\n",
              "      <td>39.10</td>\n",
              "      <td>2.445815e+09</td>\n",
              "      <td>2.998</td>\n",
              "      <td>6.159306e+09</td>\n",
              "      <td>1.815048e+10</td>\n",
              "      <td>0.735</td>\n",
              "      <td>1.253</td>\n",
              "      <td>11906605056</td>\n",
              "      <td>215.049</td>\n",
              "      <td>...</td>\n",
              "      <td>3337492992</td>\n",
              "      <td>0.120</td>\n",
              "      <td>0.46942</td>\n",
              "      <td>0.51730</td>\n",
              "      <td>0.43491</td>\n",
              "      <td>0.22366</td>\n",
              "      <td>BRL</td>\n",
              "      <td>10.496</td>\n",
              "      <td>368</td>\n",
              "      <td>32173551616</td>\n",
              "    </tr>\n",
              "    <tr>\n",
              "      <th>95</th>\n",
              "      <td>SBSP3.SA</td>\n",
              "      <td>53.36</td>\n",
              "      <td>3.420652e+09</td>\n",
              "      <td>5.005</td>\n",
              "      <td>6.588055e+09</td>\n",
              "      <td>1.877845e+10</td>\n",
              "      <td>1.397</td>\n",
              "      <td>1.476</td>\n",
              "      <td>21187336192</td>\n",
              "      <td>68.647</td>\n",
              "      <td>...</td>\n",
              "      <td>3235072000</td>\n",
              "      <td>0.162</td>\n",
              "      <td>0.34963</td>\n",
              "      <td>0.31094</td>\n",
              "      <td>0.20655</td>\n",
              "      <td>0.14379</td>\n",
              "      <td>BRL</td>\n",
              "      <td>1.307</td>\n",
              "      <td>371</td>\n",
              "      <td>36472094720</td>\n",
              "    </tr>\n",
              "  </tbody>\n",
              "</table>\n",
              "<p>96 rows × 25 columns</p>\n",
              "</div>"
            ],
            "text/plain": [
              "      Ticker  Preco_Atual  Fluxo_de_caixa_total  Fluxo_de_caixa_por_acao  \\\n",
              "0   ARML3.SA        13.44          8.593540e+08                    2.489   \n",
              "1   TTEN3.SA        12.57          8.791550e+08                    1.769   \n",
              "2   VITT3.SA        11.19          7.697600e+07                    0.541   \n",
              "3   CXSE3.SA         8.54          1.272550e+09                    0.424   \n",
              "4   GGPS3.SA        11.84          1.295590e+09                    1.935   \n",
              "..       ...          ...                   ...                      ...   \n",
              "91  SAPR3.SA         3.25          1.207932e+09                    0.799   \n",
              "92  CGAS5.SA       129.01          2.155312e+09                   16.264   \n",
              "93  CGAS3.SA       125.00          2.155312e+09                   16.264   \n",
              "94  EGIE3.SA        39.10          2.445815e+09                    2.998   \n",
              "95  SBSP3.SA        53.36          3.420652e+09                    5.005   \n",
              "\n",
              "          EBITDA  Divida_total  Liquidez_imediata  Liquidez_corrente  \\\n",
              "0   3.809280e+08  1.886783e+09              2.691              2.789   \n",
              "1   5.706630e+08  1.119887e+09              0.777              1.554   \n",
              "2   1.896870e+08  2.642490e+08              1.318              2.058   \n",
              "3   2.892785e+09  0.000000e+00              9.218              9.229   \n",
              "4   9.647340e+08  1.937756e+09              1.763              1.895   \n",
              "..           ...           ...                ...                ...   \n",
              "91  2.242618e+09  5.083244e+09              1.444              1.516   \n",
              "92  3.224497e+09  7.424176e+09              1.164              1.251   \n",
              "93  3.224497e+09  7.424176e+09              1.164              1.251   \n",
              "94  6.159306e+09  1.815048e+10              0.735              1.253   \n",
              "95  6.588055e+09  1.877845e+10              1.397              1.476   \n",
              "\n",
              "    Receita_total  Divida_Patrimonio  ...  Fluxo_de_caixa_operacional  \\\n",
              "0       838937024            165.614  ...                  -675387008   \n",
              "1      6885838848             39.733  ...                   257696992   \n",
              "2       892286016             47.096  ...                   130406000   \n",
              "3      3409924096                NaN  ...                  2275187968   \n",
              "4      8658241536             77.118  ...                   278648992   \n",
              "..            ...                ...  ...                         ...   \n",
              "91     5673647104             57.850  ...                  1991254016   \n",
              "92    17414152192            718.872  ...                  3439486976   \n",
              "93    17414152192            718.872  ...                  3439486976   \n",
              "94    11906605056            215.049  ...                  3337492992   \n",
              "95    21187336192             68.647  ...                  3235072000   \n",
              "\n",
              "    Crescimento_de_Receita_3T  Margem_Bruta  Margem_EBITIDA  \\\n",
              "0                       1.522       0.45842         0.45406   \n",
              "1                       0.319       0.15151         0.08287   \n",
              "2                       0.085       0.37012         0.21259   \n",
              "3                       0.595       0.92936         0.84834   \n",
              "4                       0.463       0.16126         0.11142   \n",
              "..                        ...           ...             ...   \n",
              "91                      0.067       0.57992         0.39527   \n",
              "92                      0.272       0.19823         0.18517   \n",
              "93                      0.272       0.19823         0.18517   \n",
              "94                      0.120       0.46942         0.51730   \n",
              "95                      0.162       0.34963         0.31094   \n",
              "\n",
              "    Margem_Operacional  Margem_liquida  Moeda  Crescimento_dos_ganhos_3T  \\\n",
              "0              0.33634         0.14750    BRL                      1.841   \n",
              "1              0.07808         0.08299    BRL                      0.342   \n",
              "2              0.20659         0.15913    BRL                      0.270   \n",
              "3              0.84834         0.74776    BRL                      0.557   \n",
              "4              0.09313         0.05279    BRL                      0.159   \n",
              "..                 ...             ...    ...                        ...   \n",
              "91             0.33128         0.20296    BRL                      0.057   \n",
              "92             0.15654         0.10402    BRL                      0.238   \n",
              "93             0.15654         0.10402    BRL                      0.238   \n",
              "94             0.43491         0.22366    BRL                     10.496   \n",
              "95             0.20655         0.14379    BRL                      1.307   \n",
              "\n",
              "    __index_level_0__  valor_de_mercado  \n",
              "0                   7        4650455040  \n",
              "1                  10        6247516160  \n",
              "2                  15        1594519040  \n",
              "3                  18       25620000768  \n",
              "4                  21        7942899712  \n",
              "..                ...               ...  \n",
              "91                357        5098242560  \n",
              "92                362       16325827584  \n",
              "93                363       16783624192  \n",
              "94                368       32173551616  \n",
              "95                371       36472094720  \n",
              "\n",
              "[96 rows x 25 columns]"
            ]
          },
          "execution_count": 13,
          "metadata": {},
          "output_type": "execute_result"
        }
      ],
      "source": [
        "df_rs"
      ]
    }
  ],
  "metadata": {
    "colab": {
      "include_colab_link": true,
      "provenance": []
    },
    "kernelspec": {
      "display_name": "My Kernel",
      "language": "python",
      "name": "mykernel"
    },
    "language_info": {
      "codemirror_mode": {
        "name": "ipython",
        "version": 3
      },
      "file_extension": ".py",
      "mimetype": "text/x-python",
      "name": "python",
      "nbconvert_exporter": "python",
      "pygments_lexer": "ipython3",
      "version": "3.10.6"
    },
    "vscode": {
      "interpreter": {
        "hash": "598092329803f2218a82426b846daf764474eee9678032408d5a767cd4823601"
      }
    }
  },
  "nbformat": 4,
  "nbformat_minor": 0
}
