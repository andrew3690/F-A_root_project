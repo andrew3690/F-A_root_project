{
 "cells": [
  {
   "attachments": {},
   "cell_type": "markdown",
   "metadata": {
    "colab_type": "text",
    "id": "view-in-github"
   },
   "source": [
    "<a href=\"https://colab.research.google.com/github/andrew3690/F-A_root_project/blob/Brazil/C%C3%B3pia_de_Research_Stocks.ipynb\" target=\"_parent\"><img src=\"https://colab.research.google.com/assets/colab-badge.svg\" alt=\"Open In Colab\"/></a>"
   ]
  },
  {
   "attachments": {},
   "cell_type": "markdown",
   "metadata": {
    "id": "cTYBnobCPITD"
   },
   "source": [
    "# Better and consistent library that makes the same function as the code above\n",
    "\n"
   ]
  },
  {
   "cell_type": "code",
   "execution_count": 60,
   "metadata": {
    "colab": {
     "base_uri": "https://localhost:8080/"
    },
    "id": "boHa2yWHE2TA",
    "outputId": "2dd293d0-7923-4351-a6b7-66b27aea85f0"
   },
   "outputs": [
    {
     "name": "stdout",
     "output_type": "stream",
     "text": [
      "Defaulting to user installation because normal site-packages is not writeable\n",
      "Requirement already satisfied: pyspark in /home/andrel/.local/lib/python3.10/site-packages (3.2.4)\n",
      "Requirement already satisfied: py4j in /home/andrel/.local/lib/python3.10/site-packages (0.10.9.5)\n",
      "Defaulting to user installation because normal site-packages is not writeable\n",
      "Requirement already satisfied: pyodbc in /home/andrel/.local/lib/python3.10/site-packages (4.0.39)\n",
      "Defaulting to user installation because normal site-packages is not writeable\n",
      "Requirement already satisfied: pandas in /home/andrel/.local/lib/python3.10/site-packages (2.0.2)\n",
      "Requirement already satisfied: python-dateutil>=2.8.2 in /home/andrel/.local/lib/python3.10/site-packages (from pandas) (2.8.2)\n",
      "Requirement already satisfied: tzdata>=2022.1 in /home/andrel/.local/lib/python3.10/site-packages (from pandas) (2023.3)\n",
      "Requirement already satisfied: pytz>=2020.1 in /usr/lib/python3/dist-packages (from pandas) (2022.1)\n",
      "Requirement already satisfied: numpy>=1.21.0 in /home/andrel/.local/lib/python3.10/site-packages (from pandas) (1.25.0)\n",
      "Requirement already satisfied: six>=1.5 in /usr/lib/python3/dist-packages (from python-dateutil>=2.8.2->pandas) (1.16.0)\n"
     ]
    }
   ],
   "source": [
    "! pip install pyspark py4j\n",
    "! pip install pyodbc\n",
    "! pip install pandas"
   ]
  },
  {
   "attachments": {},
   "cell_type": "markdown",
   "metadata": {
    "id": "z0lpamJ2PhzT"
   },
   "source": [
    "**Importing modules and pandas library that will be used later.**"
   ]
  },
  {
   "cell_type": "code",
   "execution_count": 61,
   "metadata": {
    "id": "oLpozDIlCsnf"
   },
   "outputs": [],
   "source": [
    "from pyspark.sql import SparkSession\n",
    "import os\n",
    "import pyspark\n",
    "import pandas as pd\n",
    "import pyodbc\n",
    "import findspark\n",
    "\n",
    "findspark.init()"
   ]
  },
  {
   "cell_type": "code",
   "execution_count": 62,
   "metadata": {
    "colab": {
     "base_uri": "https://localhost:8080/",
     "height": 219
    },
    "id": "rLgNaJpJZWQf",
    "outputId": "375d6ea4-ab28-428e-9c70-d6742f2396f9"
   },
   "outputs": [
    {
     "data": {
      "text/html": [
       "\n",
       "            <div>\n",
       "                <p><b>SparkSession - in-memory</b></p>\n",
       "                \n",
       "        <div>\n",
       "            <p><b>SparkContext</b></p>\n",
       "\n",
       "            <p><a href=\"http://10.0.2.15:4040\">Spark UI</a></p>\n",
       "\n",
       "            <dl>\n",
       "              <dt>Version</dt>\n",
       "                <dd><code>v3.2.4</code></dd>\n",
       "              <dt>Master</dt>\n",
       "                <dd><code>local[*]</code></dd>\n",
       "              <dt>AppName</dt>\n",
       "                <dd><code>pyspark-shell</code></dd>\n",
       "            </dl>\n",
       "        </div>\n",
       "        \n",
       "            </div>\n",
       "        "
      ],
      "text/plain": [
       "<pyspark.sql.session.SparkSession at 0x7f14f71bd330>"
      ]
     },
     "execution_count": 62,
     "metadata": {},
     "output_type": "execute_result"
    }
   ],
   "source": [
    "# instatianting spark instance\n",
    "spark = SparkSession.builder.master('local[*]').getOrCreate()\n",
    "\n",
    "spark"
   ]
  },
  {
   "attachments": {},
   "cell_type": "markdown",
   "metadata": {},
   "source": [
    "Gooogle Colab Version"
   ]
  },
  {
   "cell_type": "code",
   "execution_count": 63,
   "metadata": {
    "colab": {
     "base_uri": "https://localhost:8080/"
    },
    "id": "70iuSZT29Tff",
    "outputId": "7fa9d57b-f0c2-4c24-d1d3-841ff740eb4c"
   },
   "outputs": [],
   "source": [
    "# from google.colab import drive\n",
    "# drive.mount('/content/gdrive', force_remount=True) "
   ]
  },
  {
   "attachments": {},
   "cell_type": "markdown",
   "metadata": {
    "id": "MEDLrMlgMaTM"
   },
   "source": [
    "# Next cells acquire parquet data from remote files, and transpose it to spark format"
   ]
  },
  {
   "cell_type": "code",
   "execution_count": 64,
   "metadata": {},
   "outputs": [],
   "source": [
    "fille =r'../Final/Parquet/tst/Beta.parquet'\n",
    "\n",
    "balance = spark\\\n",
    "        .read.format(\"parquet\")\\\n",
    "        .option(\"inferSchema\", \"True\")\\\n",
    "        .option(\"header\",\"True\")\\\n",
    "        .parquet(fille)"
   ]
  },
  {
   "attachments": {},
   "cell_type": "markdown",
   "metadata": {
    "id": "SubWtlFnNJHn"
   },
   "source": [
    "Creating Tables in order to manipulate data in SQL format"
   ]
  },
  {
   "cell_type": "code",
   "execution_count": 65,
   "metadata": {
    "id": "UD38ZEtovRHd"
   },
   "outputs": [],
   "source": [
    "# Balance table\n",
    "balance.createOrReplaceTempView(\"Balance\")"
   ]
  },
  {
   "cell_type": "code",
   "execution_count": 75,
   "metadata": {},
   "outputs": [],
   "source": [
    "Stock = spark.sql(\"\"\"\n",
    "SELECT \n",
    "        regexp_replace(Ticker, '\\.SA$', '') as Ticker,\n",
    "        date_format(to_date(Data_de_Referencia, 'yyyy-MM-dd'), 'dd/MM/yyyy') as Data_de_Referencia,\n",
    "        Numero_Medio_de_Acoes_Basicas,\n",
    "        Dividendos_Pagos_em_Dinheiro,\n",
    "        Acoes_Comuns,\n",
    "        Dividendos_Pagos_em_Acoes_Comuns,\n",
    "        Patrimonio_Liquido_das_Acoes_Comuns,\n",
    "        Emissao_de_Acoes_Comuns,\n",
    "        Pagamentos_em_Acoes_Comuns,\n",
    "        Numero_Medio_de_Acoes_Diluidas,\n",
    "        Lucro_Liquido_Diluido_Disponivel_para_Acionistas_Comuns,\n",
    "        Dividendos_Recebidos_CFO,\n",
    "        Dividendos_a_Pagar,\n",
    "        Patrimonio_Liquido_das_Acoes_Comuns,\n",
    "        Emissao_de_Acoes_Comuns,\n",
    "        Pagamentos_em_Acoes_Comuns  \n",
    "FROM Balance\n",
    "\"\"\")"
   ]
  },
  {
   "cell_type": "code",
   "execution_count": 76,
   "metadata": {},
   "outputs": [
    {
     "name": "stdout",
     "output_type": "stream",
     "text": [
      "+------+------------------+-----------------------------+----------------------------+------------+--------------------------------+-----------------------------------+-----------------------+--------------------------+------------------------------+-------------------------------------------------------+------------------------+------------------+-----------------------------------+-----------------------+--------------------------+\n",
      "|Ticker|Data_de_Referencia|Numero_Medio_de_Acoes_Basicas|Dividendos_Pagos_em_Dinheiro|Acoes_Comuns|Dividendos_Pagos_em_Acoes_Comuns|Patrimonio_Liquido_das_Acoes_Comuns|Emissao_de_Acoes_Comuns|Pagamentos_em_Acoes_Comuns|Numero_Medio_de_Acoes_Diluidas|Lucro_Liquido_Diluido_Disponivel_para_Acionistas_Comuns|Dividendos_Recebidos_CFO|Dividendos_a_Pagar|Patrimonio_Liquido_das_Acoes_Comuns|Emissao_de_Acoes_Comuns|Pagamentos_em_Acoes_Comuns|\n",
      "+------+------------------+-----------------------------+----------------------------+------------+--------------------------------+-----------------------------------+-----------------------+--------------------------+------------------------------+-------------------------------------------------------+------------------------+------------------+-----------------------------------+-----------------------+--------------------------+\n",
      "| AERI3|        30/12/2019|                 7.51501804E8|                   -3.9613E7|    3.6183E7|                       -3.9613E7|                           1.7421E8|                   null|                      null|                  7.51501804E8|                                               8.8742E7|                    null|         4758000.0|                           1.7421E8|                   null|                      null|\n",
      "| AERI3|        30/12/2020|                 7.66411645E8|                  -1.06513E8|   8.16047E8|                      -1.06513E8|                          9.66252E8|              7.79863E8|                      null|                  7.66411645E8|                                              1.13199E8|                    null|              null|                          9.66252E8|              7.79863E8|                      null|\n",
      "| AERI3|        30/12/2021|                    7.63213E8|                        null|   8.15102E8|                            null|                          9.99592E8|                   null|                 -2.0319E7|                     7.63213E8|                                               6.9193E7|                    null|          1.5782E7|                          9.99592E8|                   null|                 -2.0319E7|\n",
      "| AERI3|        30/12/2022|                    7.47791E8|                   -1.5781E7|   8.15102E8|                            null|                          8.84868E8|                    0.0|                 -2.2404E7|                     7.47791E8|                                              -9.2709E7|                    null|               0.0|                          8.84868E8|                    0.0|                 -2.2404E7|\n",
      "| ARML3|        30/12/2019|                 3.45759521E8|                  -2187000.0|    230000.0|                            null|                           2.3109E7|                    0.0|                      null|                  3.45759521E8|                                              9164000.0|                    null|          500000.0|                           2.3109E7|                    0.0|                      null|\n",
      "| ARML3|        30/12/2020|                 3.45759521E8|                   -2.1389E7|    7.6205E7|                            null|                            8.506E7|               7.5975E7|                      null|                  3.45759521E8|                                               1.7533E7|                    null|         5500000.0|                            8.506E7|               7.5975E7|                      null|\n",
      "| ARML3|        30/12/2021|                 3.45759521E8|                   -4.9185E7|  1.002351E9|                            null|                         1.112696E9|              9.91643E8|                      null|                  3.45759521E8|                                               5.8064E7|                    null|               0.0|                         1.112696E9|              9.91643E8|                      null|\n",
      "| ARML3|        30/12/2022|                 3.45329241E8|                   -9.9483E7|  1.004034E9|                            null|                         1.158521E9|                    0.0|                -8119000.0|                  3.45562791E8|                                              1.48592E8|                    null|               0.0|                         1.158521E9|                    0.0|                -8119000.0|\n",
      "| CBAV3|        30/12/2019|                 5.95833333E8|                   -5.5215E7|  4.950095E9|                       -5.5215E7|                         4.942433E9|                   null|                      null|                  5.95833333E8|                                              -6.4225E7|                    null|          1.4072E7|                         4.942433E9|                   null|                      null|\n",
      "| CBAV3|        30/12/2020|                 5.95833333E8|                        null|  4.950095E9|                            null|                         3.563399E9|                   null|                 -3.7511E7|                  5.95833333E8|                                             -9.27828E8|                    null|           3.381E7|                         3.563399E9|                   null|                 -3.7511E7|\n",
      "| CBAV3|        30/12/2021|                     8.8744E8|                   -1.1391E7|  4.705309E9|                       -1.1391E7|                         4.500799E9|                  7.0E8|                -4.07022E8|                      8.8744E8|                                              7.42944E8|                    null|         1.42191E8|                         4.500799E9|                  7.0E8|                -4.07022E8|\n",
      "| CBAV3|        30/12/2022|                    5.95833E8|                   -3.2409E8|  4.705047E9|                       -3.2409E8|                         5.095552E9|               1.6421E7|                      null|                     5.95833E8|                                              8.67549E8|                    null|         2.27116E8|                         5.095552E9|               1.6421E7|                      null|\n",
      "| CXSE3|        30/12/2019|                        3.0E9|                 -1.006764E9|  2.756687E9|                     -1.006764E9|                         5.140791E9|                   null|                      null|                         3.0E9|                                             1.536057E9|               7.53691E8|         1.53442E8|                         5.140791E9|                   null|                      null|\n",
      "| CXSE3|        30/12/2020|                        3.0E9|                   -1.8442E9|  2.756687E9|                       -1.8442E9|                         9.085407E9|                   null|                      null|                         3.0E9|                                             1.769413E9|              2.485852E9|         3.20236E8|                         9.085407E9|                   null|                      null|\n",
      "| CXSE3|        30/12/2021|                        3.0E9|                   -1.8442E9|  2.756687E9|                       -1.8442E9|                       1.0558769E10|                   null|                      null|                         3.0E9|                                             1.769413E9|               2.44143E9|               0.0|                       1.0558769E10|                   null|                      null|\n",
      "| CXSE3|        30/12/2022|                        3.0E9|                  -1.94571E9|  2.756687E9|                      -1.94571E9|                       1.0889112E10|                   null|                      null|                         3.0E9|                                              2.95284E9|              1.332558E9|         6.96958E8|                       1.0889112E10|                   null|                      null|\n",
      "| DOTZ3|        30/12/2019|                 1.32068352E8|                        null|      3000.0|                            null|                         -2.99917E8|                   null|                      null|                  1.32068352E8|                                              -1.7902E7|                    null|              null|                         -2.99917E8|                   null|                      null|\n",
      "| DOTZ3|        30/12/2020|                 1.32068352E8|                        null|      3000.0|                            null|                         -3.67716E8|                   null|                      null|                  1.32068352E8|                                              -6.3414E7|                    null|              null|                         -3.67716E8|                   null|                      null|\n",
      "| DOTZ3|        30/12/2021|                 1.32068352E8|                        null|   1.85962E8|                            null|                          -7.7777E7|              3.70369E8|                      null|                  1.32068352E8|                                              -8.2252E7|                    null|              null|                          -7.7777E7|              3.70369E8|                      null|\n",
      "| DOTZ3|        30/12/2022|                 1.32440558E8|                        null|    1.8724E8|                            null|                         -1.69431E8|              1278000.0|                -6444000.0|                  1.32440558E8|                                              -9.5195E7|                    null|              null|                         -1.69431E8|              1278000.0|                -6444000.0|\n",
      "+------+------------------+-----------------------------+----------------------------+------------+--------------------------------+-----------------------------------+-----------------------+--------------------------+------------------------------+-------------------------------------------------------+------------------------+------------------+-----------------------------------+-----------------------+--------------------------+\n",
      "only showing top 20 rows\n",
      "\n"
     ]
    }
   ],
   "source": [
    "Stock.show()"
   ]
  },
  {
   "cell_type": "code",
   "execution_count": 68,
   "metadata": {},
   "outputs": [],
   "source": [
    "Contabil= spark.sql(\"\"\"\n",
    "SELECT \n",
    "        regexp_replace(Ticker, '\\.SA$', '') as Ticker,\n",
    "        date_format(to_date(Data_de_Referencia, 'yyyy-MM-dd'), 'dd/MM/yyyy') as Data_de_Referencia,\n",
    "        Contas_a_Pagar,\n",
    "        Contas_a_Receber,\n",
    "        Depreciacao_Acumulada,\n",
    "        Capital_Social_Adicional,\n",
    "        EPS_Basico,\n",
    "        Saldo_Inicial_de_Caixa,\n",
    "        Edificios_e_Melhorias,\n",
    "        Passivos_Circulantes,\n",
    "        Notas_a_Pagar_Atuais\n",
    "FROM Balance\n",
    "\"\"\")"
   ]
  },
  {
   "cell_type": "code",
   "execution_count": 69,
   "metadata": {},
   "outputs": [
    {
     "name": "stdout",
     "output_type": "stream",
     "text": [
      "+------+------------------+--------------+----------------+---------------------+------------------------+----------+----------------------+---------------------+--------------------+--------------------+\n",
      "|Ticker|Data_de_Referencia|Contas_a_Pagar|Contas_a_Receber|Depreciacao_Acumulada|Capital_Social_Adicional|EPS_Basico|Saldo_Inicial_de_Caixa|Edificios_e_Melhorias|Passivos_Circulantes|Notas_a_Pagar_Atuais|\n",
      "+------+------------------+--------------+----------------+---------------------+------------------------+----------+----------------------+---------------------+--------------------+--------------------+\n",
      "| AERI3|        30/12/2019|     1.16629E8|        9.8532E7|            -4.8235E7|                    null|  0.118862|              6.8781E7|             1.7797E8|            3.3352E8|                null|\n",
      "| AERI3|        30/12/2020|     2.05304E8|       2.20132E8|            -7.1737E7|                    null|    0.1477|              6.5701E7|            2.04486E8|           9.42379E8|                null|\n",
      "| AERI3|        30/12/2021|     4.45286E8|       1.26877E8|           -1.03941E8|                    null|    0.0906|             6.84554E8|            4.59735E8|           7.09533E8|                null|\n",
      "| AERI3|        30/12/2022|     3.36048E8|             0.0|           -1.55715E8|                    null|    -0.124|             8.92933E8|            5.01914E8|          1.332523E9|                null|\n",
      "| ARML3|        30/12/2019|     6729000.0|       8468000.0|            -1.3696E7|                    null|  0.026504|             2460000.0|             412000.0|            3.6152E7|                null|\n",
      "| ARML3|        30/12/2020|      1.2781E7|        2.3866E7|             -2.935E7|                    null|  0.050709|             6793000.0|            1280000.0|             8.984E7|                null|\n",
      "| ARML3|        30/12/2021|      4.9583E7|       1.70499E8|            -8.0691E7|                    null|  0.167932|             1590000.0|            1186000.0|           3.11413E8|                null|\n",
      "| ARML3|        30/12/2022|      2.8424E8|         2.375E8|           -2.90013E8|                    null|  0.430291|             3442000.0|             3.4781E7|            3.9305E8|                null|\n",
      "| CBAV3|        30/12/2019|     4.07215E8|       4.04296E8|          -5.630008E9|                    null|  -0.10779|             1.16811E8|           2.989499E9|          1.233894E9|                null|\n",
      "| CBAV3|        30/12/2020|     4.25951E8|       4.74715E8|          -6.130352E9|                    null| -1.557194|             1.90321E8|           3.055305E9|          1.990663E9|                null|\n",
      "| CBAV3|        30/12/2021|     6.55626E8|       6.98249E8|          -6.500444E9|                    null|  0.837177|             6.32438E8|           3.095515E9|          2.159634E9|                null|\n",
      "| CBAV3|        30/12/2022|    1.008669E9|       4.96305E8|           -6.52192E9|                    null|  1.456027|            1.449345E9|           2.847736E9|          2.188564E9|                null|\n",
      "| CXSE3|        30/12/2019|     1.17656E8|        9.5365E7|                 null|                    null|  0.512019|             2.49773E8|                 null|                null|                null|\n",
      "| CXSE3|        30/12/2020|      1.9381E7|       1.05871E8|                 null|                    null|  0.589804|             5.01728E8|                 null|                null|                null|\n",
      "| CXSE3|        30/12/2021|      4.4864E7|       1.65086E8|                 null|                    null|   0.63205|             3.71201E8|                 null|                null|                null|\n",
      "| CXSE3|        30/12/2022|      7.9256E7|       1.05715E8|                 null|                    null|   0.98428|              470000.0|                 null|                null|                null|\n",
      "| DOTZ3|        30/12/2019|      4.3549E7|         3.822E7|           -6133000.0|                    null| -0.135551|              6.1144E7|            3217000.0|           2.89615E8|                null|\n",
      "| DOTZ3|        30/12/2020|      3.1785E7|         2.488E7|           -6628000.0|                    null|  -0.48016|             1.49511E8|            3219000.0|           3.36369E8|                null|\n",
      "| DOTZ3|        30/12/2021|      4.6883E7|        3.4475E7|           -6819000.0|                    null|     -0.62|             1.09782E8|            3219000.0|           3.33619E8|                null|\n",
      "| DOTZ3|        30/12/2022|      4.8792E7|        3.5018E7|           -7500000.0|                    null|     -0.72|             2.65898E8|            3219000.0|           3.62734E8|                null|\n",
      "+------+------------------+--------------+----------------+---------------------+------------------------+----------+----------------------+---------------------+--------------------+--------------------+\n",
      "only showing top 20 rows\n",
      "\n"
     ]
    }
   ],
   "source": [
    "Contabil.show()"
   ]
  },
  {
   "cell_type": "code",
   "execution_count": 70,
   "metadata": {},
   "outputs": [],
   "source": [
    "Dividas= spark.sql(\"\"\"\n",
    "SELECT \n",
    "        regexp_replace(Ticker, '\\.SA$', '') as Ticker,\n",
    "        date_format(to_date(Data_de_Referencia, 'yyyy-MM-dd'), 'dd/MM/yyyy') as Data_de_Referencia,\n",
    "        Despesas_de_Capital,\n",
    "        Variacao_em_Contas_a_Pagar,\n",
    "        Variacao_em_Despesas_Acumuladas,\n",
    "        Variacao_em_Dinheiro__Suplementar_Como_Reportado,\n",
    "        Variacao_em_Inventario,\n",
    "        Variacao_em_Outros_Ativos_Circulantes,\n",
    "        Variacao_em_Outras_Obrigacoes_Circulantes,\n",
    "        Variacao_no_Capital_de_Trabalho_de_Outras,\n",
    "        Variacao_em_Contas_a_Pagar_e_Despesas_Acumuladas,\n",
    "        Variacao_em_Ativos_Antecipados,\n",
    "        Variacao_em_Contas_a_Receber,\n",
    "        Variacao_no_Capital_de_Trabalho,\n",
    "        Variacoes_em_Contas_a_Receber,\n",
    "        Variacoes_em_Dinheiro,\n",
    "        Obrigacoes_de_Arrendamento_de_Capital,\n",
    "        Despesas_Acumuladas_Atuais\n",
    "\n",
    "FROM Balance\n",
    "\"\"\")"
   ]
  },
  {
   "cell_type": "code",
   "execution_count": 71,
   "metadata": {},
   "outputs": [
    {
     "name": "stdout",
     "output_type": "stream",
     "text": [
      "+------+------------------+-------------------+--------------------------+-------------------------------+------------------------------------------------+----------------------+-------------------------------------+-----------------------------------------+-----------------------------------------+------------------------------------------------+------------------------------+----------------------------+-------------------------------+-----------------------------+---------------------+-------------------------------------+--------------------------+\n",
      "|Ticker|Data_de_Referencia|Despesas_de_Capital|Variacao_em_Contas_a_Pagar|Variacao_em_Despesas_Acumuladas|Variacao_em_Dinheiro__Suplementar_Como_Reportado|Variacao_em_Inventario|Variacao_em_Outros_Ativos_Circulantes|Variacao_em_Outras_Obrigacoes_Circulantes|Variacao_no_Capital_de_Trabalho_de_Outras|Variacao_em_Contas_a_Pagar_e_Despesas_Acumuladas|Variacao_em_Ativos_Antecipados|Variacao_em_Contas_a_Receber|Variacao_no_Capital_de_Trabalho|Variacoes_em_Contas_a_Receber|Variacoes_em_Dinheiro|Obrigacoes_de_Arrendamento_de_Capital|Despesas_Acumuladas_Atuais|\n",
      "+------+------------------+-------------------+--------------------------+-------------------------------+------------------------------------------------+----------------------+-------------------------------------+-----------------------------------------+-----------------------------------------+------------------------------------------------+------------------------------+----------------------------+-------------------------------+-----------------------------+---------------------+-------------------------------------+--------------------------+\n",
      "| AERI3|        30/12/2019|         -1.69189E8|                      null|                      8167000.0|                                      -3080000.0|             -6.9755E7|                             6.5726E7|                                     null|                                     null|                                            null|                    -8793000.0|                   -6.9674E7|                       2.3024E7|                         null|           -3080000.0|                                 null|                      null|\n",
      "| AERI3|        30/12/2020|         -3.05512E8|                      null|                       1.0403E7|                                       6.18853E8|            -4.50323E8|                            -9.2381E7|                                     null|                                     null|                                            null|                          null|                  -2.12167E8|                     -6.38361E8|                         null|            6.18853E8|                                 null|                      null|\n",
      "| AERI3|        30/12/2021|         -4.04691E8|                      null|                      3755000.0|                                       2.08143E8|            -1.83813E8|                             9.5543E7|                                     null|                                     null|                                            null|                          null|                   7951000.0|                      1.70733E8|                         null|            2.08143E8|                                 null|                      null|\n",
      "| AERI3|        30/12/2022|          -8.7622E7|                      null|                      6591000.0|                                       1.68785E8|            -6.99893E8|                            6.67928E8|                                     null|                                     null|                                            null|                          null|                    -8.646E7|                      -3.5552E7|                         null|            1.70172E8|                                 null|                      null|\n",
      "| ARML3|        30/12/2019|               null|                      null|                       850000.0|                                       4333000.0|                   0.0|                            -364000.0|                                 -47000.0|                                     null|                                            null|                          null|                  -2751000.0|                      1180000.0|                         null|            4333000.0|                                  0.0|                      null|\n",
      "| ARML3|        30/12/2020|          -410000.0|                      null|                      2511000.0|                                        7.7974E7|            -1985000.0|                           -1887000.0|                                      0.0|                                     null|                                            null|                          null|                   -2.3843E7|                      -1.8754E7|                         null|             7.7974E7|                             1.4215E7|                      null|\n",
      "| ARML3|        30/12/2021|         -1138000.0|                      null|                      7952000.0|                                       1852000.0|              -1.004E7|                           -4252000.0|                                     null|                                     null|                                            null|                          null|                  -1.29442E8|                     -1.14532E8|                         null|            1853000.0|                             3.7183E7|                      null|\n",
      "| ARML3|        30/12/2022|         -4912000.0|                      null|                           null|                                       9.34916E8|            -9507000.0|                           -4482000.0|                                     null|                                     null|                                            null|                          null|                  -1.07536E8|                      -3.9496E7|                         null|            9.34916E8|                              7.515E7|                      null|\n",
      "| CBAV3|        30/12/2019|         -3.51461E8|                      null|                      4330000.0|                                         7.351E7|              -9.548E7|                            2.18269E8|                               -2.15622E8|                                     null|                                            null|                          null|                  -5808000.0|                     -5973000.0|                         null|              7.351E7|                            6.40741E8|                      null|\n",
      "| CBAV3|        30/12/2020|         -3.62251E8|                      null|                       4.8293E7|                                       4.42117E8|             -723000.0|                            -2.6424E8|                                 3.9083E7|                                     null|                                            null|                          null|                   2.36437E8|                      3.43018E8|                         null|             4.3528E8|                            7.79331E8|                      null|\n",
      "| CBAV3|        30/12/2021|         -5.29495E8|                      null|                      -1.3518E7|                                       8.16621E8|            -5.23959E8|                           -5.83478E8|                                 4.5533E7|                                     null|                                            null|                          null|                   2.58123E8|                     -6.88689E8|                         null|            8.16621E8|                           1.062803E9|                      null|\n",
      "| CBAV3|        30/12/2022|         -9.52426E8|                      null|                      8536000.0|                                      -6.15901E8|            -2.48074E8|                           -2.75004E8|                                 8.0528E7|                                     null|                                            null|                          null|                   2.19345E8|                     -4.51776E8|                         null|           -6.15901E8|                           1.061903E9|                      null|\n",
      "| CXSE3|        30/12/2019|               null|                      null|                           null|                                       2.51956E8|                  null|                            -202000.0|                                     null|                                     null|                                            null|                          null|                    -2.826E7|                       4.7391E7|                         null|            2.51956E8|                                 null|                      null|\n",
      "| CXSE3|        30/12/2020|               null|                      null|                           null|                                      -5.01682E8|                  null|                               9000.0|                                     null|                                     null|                                            null|                          null|                   4060000.0|                      -6.6748E7|                         null|           -5.01682E8|                                 null|                      null|\n",
      "| CXSE3|        30/12/2021|               null|                      null|                           null|                                      -3.71168E8|                  null|                              10000.0|                                     null|                                     null|                                            null|                          null|                   4060000.0|                       -6.433E7|                         null|           -3.71167E8|                                 null|                      null|\n",
      "| CXSE3|        30/12/2022|               null|                      null|                           null|                                        246000.0|                  null|                             1.5885E7|                                      0.0|                                     null|                                            null|                          null|                    5.9372E7|                      1.02107E8|                         null|             246000.0|                                 null|                      null|\n",
      "| DOTZ3|        30/12/2019|          -1.4838E7|                      null|                      7439000.0|                                            null|                  null|                            4768000.0|                               -6814000.0|                                     null|                                            null|                     2388000.0|                    1.1229E7|                       2.8015E7|                         null|             8.8367E7|                                 null|                      null|\n",
      "| DOTZ3|        30/12/2020|         -8497000.0|                      null|                     -2586000.0|                                            null|                  null|                           -9278000.0|                                -556000.0|                                     null|                                            null|                    -1887000.0|                    1.9448E7|                     -5756000.0|                         null|            -3.9729E7|                                 null|                      null|\n",
      "| DOTZ3|        30/12/2021|          -2.5607E7|                      null|                      5102000.0|                                       1.56116E8|                  null|                            -3.6418E7|                                 1.3432E7|                                     null|                                            null|                      418000.0|                   -1.2652E7|                      -1.3645E7|                         null|            1.56116E8|                                 null|                      null|\n",
      "| DOTZ3|        30/12/2022|          -2.8229E7|                      null|                       1.2036E7|                                       -9.9351E7|                  null|                              -1.69E7|                                -2.0133E7|                                     null|                                            null|                     1141000.0|                   2780000.0|                      -2.7592E7|                         null|            -9.9351E7|                                 null|                      null|\n",
      "+------+------------------+-------------------+--------------------------+-------------------------------+------------------------------------------------+----------------------+-------------------------------------+-----------------------------------------+-----------------------------------------+------------------------------------------------+------------------------------+----------------------------+-------------------------------+-----------------------------+---------------------+-------------------------------------+--------------------------+\n",
      "only showing top 20 rows\n",
      "\n"
     ]
    }
   ],
   "source": [
    "Dividas.show()"
   ]
  },
  {
   "cell_type": "code",
   "execution_count": 72,
   "metadata": {},
   "outputs": [],
   "source": [
    "Impostos = spark.sql(\"\"\"\n",
    "SELECT \n",
    "        regexp_replace(Ticker, '\\\\.SA$', '') as Ticker,\n",
    "        date_format(to_date(Data_de_Referencia, 'yyyy-MM-dd'), 'dd/MM/yyyy') as Data_de_Referencia,\n",
    "        round(Imposto_de_Renda_Diferido, 2) as Imposto_de_Renda_Diferido,\n",
    "        round(Imposto_Diferido, 2) as Imposto_Diferido\n",
    "FROM Balance\n",
    "\"\"\")"
   ]
  },
  {
   "cell_type": "code",
   "execution_count": 73,
   "metadata": {},
   "outputs": [
    {
     "name": "stdout",
     "output_type": "stream",
     "text": [
      "+------+------------------+-------------------------+----------------+\n",
      "|Ticker|Data_de_Referencia|Imposto_de_Renda_Diferido|Imposto_Diferido|\n",
      "+------+------------------+-------------------------+----------------+\n",
      "| AERI3|        30/12/2019|                     null|             0.0|\n",
      "| AERI3|        30/12/2020|                     null|        753000.0|\n",
      "| AERI3|        30/12/2021|                     null|            null|\n",
      "| AERI3|        30/12/2022|                     null|            null|\n",
      "| ARML3|        30/12/2019|                     null|            null|\n",
      "| ARML3|        30/12/2020|                     null|            null|\n",
      "| ARML3|        30/12/2021|                     null|            null|\n",
      "| ARML3|        30/12/2022|                     null|            null|\n",
      "| CBAV3|        30/12/2019|                     null|      -2.75798E8|\n",
      "| CBAV3|        30/12/2020|                     null|      -1.68133E8|\n",
      "| CBAV3|        30/12/2021|                     null|            null|\n",
      "| CBAV3|        30/12/2022|                     null|            null|\n",
      "| CXSE3|        30/12/2019|                     null|            null|\n",
      "| CXSE3|        30/12/2020|                     null|            null|\n",
      "| CXSE3|        30/12/2021|                     null|            null|\n",
      "| CXSE3|        30/12/2022|                     null|            null|\n",
      "| DOTZ3|        30/12/2019|                     null|            null|\n",
      "| DOTZ3|        30/12/2020|                     null|            null|\n",
      "| DOTZ3|        30/12/2021|                     null|            null|\n",
      "| DOTZ3|        30/12/2022|                     null|            null|\n",
      "+------+------------------+-------------------------+----------------+\n",
      "only showing top 20 rows\n",
      "\n"
     ]
    }
   ],
   "source": [
    "Impostos.show()"
   ]
  },
  {
   "cell_type": "code",
   "execution_count": 77,
   "metadata": {},
   "outputs": [],
   "source": [
    "dividas = Dividas.toPandas()\n",
    "\n",
    "impostos = Impostos.toPandas()\n",
    "\n",
    "contabil = Contabil.toPandas()\n",
    "\n",
    "stock = Stock.toPandas()"
   ]
  },
  {
   "cell_type": "code",
   "execution_count": 80,
   "metadata": {},
   "outputs": [],
   "source": [
    "#  Define the output directory and filename\n",
    "output_directory = \"../Final/tst/Excel/\"\n",
    "\n",
    "# Create the output directory if it doesn't exist\n",
    "os.makedirs(output_directory, exist_ok=True)\n",
    "\n",
    "# Files that will be created\n",
    "# \"AtivosBR.xlsx\"\n",
    "filenames = [\"Dividas.xlsx\",\"Impostos.xlsx\",\"Contabil.xlsx\",\"Stock.xlsx\"]\n",
    "\n",
    "# Dataframes of objects\n",
    "# historical_data\n",
    "dataframes = [dividas,impostos,contabil,stock]\n",
    "\n",
    "# Sheet names\n",
    "# \"historical_data\",\n",
    "sheet_names = [\"dividas\",\"impostos\",\"contabil\",\"stocks\"]\n",
    "\n",
    "for item in range(0,len(filenames)):\n",
    "    # Specify the full file path\n",
    "    output_file = os.path.join(output_directory, filenames[item])\n",
    "    #\n",
    "    dataframes[item].to_excel(excel_writer=output_file, sheet_name=sheet_names[item], engine='openpyxl')"
   ]
  }
 ],
 "metadata": {
  "colab": {
   "include_colab_link": true,
   "provenance": []
  },
  "kernelspec": {
   "display_name": "My Kernel",
   "language": "python",
   "name": "mykernel"
  },
  "language_info": {
   "codemirror_mode": {
    "name": "ipython",
    "version": 3
   },
   "file_extension": ".py",
   "mimetype": "text/x-python",
   "name": "python",
   "nbconvert_exporter": "python",
   "pygments_lexer": "ipython3",
   "version": "3.10.6"
  }
 },
 "nbformat": 4,
 "nbformat_minor": 1
}
