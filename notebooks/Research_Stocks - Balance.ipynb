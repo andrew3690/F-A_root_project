{
  "cells": [
    {
      "cell_type": "markdown",
      "metadata": {
        "colab_type": "text",
        "id": "view-in-github"
      },
      "source": [
        "<a href=\"https://colab.research.google.com/github/andrew3690/F-A_root_project/blob/Brazil/C%C3%B3pia_de_Research_Stocks.ipynb\" target=\"_parent\"><img src=\"https://colab.research.google.com/assets/colab-badge.svg\" alt=\"Open In Colab\"/></a>"
      ]
    },
    {
      "cell_type": "markdown",
      "metadata": {
        "id": "N4JRZip-LxGM"
      },
      "source": [
        "# Downloading Modules:\n",
        "Spark, pyspark, Java.\n",
        "\n",
        "Bellow it is the old fashion way, risky not Recomended"
      ]
    },
    {
      "cell_type": "code",
      "execution_count": 187,
      "metadata": {
        "id": "g7uf9T1SAwMe"
      },
      "outputs": [
        {
          "data": {
            "text/plain": [
              "' \\n# # Installing Java\\n! apt-get install openjdk-8-jdk-headless -qq > /dev/null\\n# # Dowload Spark\\n! wget -q https://archive.apache.org/dist/spark/spark-3.2.1/spark-3.2.1-bin-hadoop2.7.tgz\\n# # Decompressing archives\\n! tar xf spark-3.2.1-bin-hadoop2.7.tgz\\n# # installing findspark\\n! pip install -q findspark\\n# # installing pyspark\\n! pip install pyspark==3.2.1\\n '"
            ]
          },
          "execution_count": 187,
          "metadata": {},
          "output_type": "execute_result"
        }
      ],
      "source": [
        "\"\"\" \n",
        "# # Installing Java\n",
        "! apt-get install openjdk-8-jdk-headless -qq > /dev/null\n",
        "# # Dowload Spark\n",
        "! wget -q https://archive.apache.org/dist/spark/spark-3.2.1/spark-3.2.1-bin-hadoop2.7.tgz\n",
        "# # Decompressing archives\n",
        "! tar xf spark-3.2.1-bin-hadoop2.7.tgz\n",
        "# # installing findspark\n",
        "! pip install -q findspark\n",
        "# # installing pyspark\n",
        "! pip install pyspark==3.2.1\n",
        " \"\"\""
      ]
    },
    {
      "cell_type": "code",
      "execution_count": 188,
      "metadata": {
        "id": "V3ZS9Z2vYrxT"
      },
      "outputs": [
        {
          "data": {
            "text/plain": [
              "' \\n# Importing os library\\nimport os\\n# # Java envirorment variable\\nos.environ[\"JAVA_HOME\"] = \"/usr/lib/jvm/java-8-openjdk-amd64\"\\n# # Spark envirorment variable\\nos.environ[\"SPARK_HOME\"] = \"/content/spark-3.1.2-bin-hadoop2.7\"\\n '"
            ]
          },
          "execution_count": 188,
          "metadata": {},
          "output_type": "execute_result"
        }
      ],
      "source": [
        "\"\"\" \n",
        "# Importing os library\n",
        "import os\n",
        "# # Java envirorment variable\n",
        "os.environ[\"JAVA_HOME\"] = \"/usr/lib/jvm/java-8-openjdk-amd64\"\n",
        "# # Spark envirorment variable\n",
        "os.environ[\"SPARK_HOME\"] = \"/content/spark-3.1.2-bin-hadoop2.7\"\n",
        " \"\"\""
      ]
    },
    {
      "cell_type": "markdown",
      "metadata": {
        "id": "cTYBnobCPITD"
      },
      "source": [
        "# Better and consistent library that makes the same function as the code above\n",
        "\n"
      ]
    },
    {
      "cell_type": "code",
      "execution_count": 189,
      "metadata": {
        "colab": {
          "base_uri": "https://localhost:8080/"
        },
        "id": "boHa2yWHE2TA",
        "outputId": "2dd293d0-7923-4351-a6b7-66b27aea85f0"
      },
      "outputs": [
        {
          "name": "stdout",
          "output_type": "stream",
          "text": [
            "Requirement already satisfied: pyspark in c:\\users\\video\\appdata\\local\\programs\\python\\python311\\lib\\site-packages (3.2.1)"
          ]
        },
        {
          "name": "stderr",
          "output_type": "stream",
          "text": [
            "\n",
            "[notice] A new release of pip available: 22.3.1 -> 23.0.1\n",
            "[notice] To update, run: python.exe -m pip install --upgrade pip\n"
          ]
        },
        {
          "name": "stdout",
          "output_type": "stream",
          "text": [
            "\n",
            "Requirement already satisfied: py4j in c:\\users\\video\\appdata\\local\\programs\\python\\python311\\lib\\site-packages (0.10.9.3)\n",
            "Requirement already satisfied: pyodbc in c:\\users\\video\\appdata\\local\\programs\\python\\python311\\lib\\site-packages (4.0.35)\n"
          ]
        },
        {
          "name": "stderr",
          "output_type": "stream",
          "text": [
            "\n",
            "[notice] A new release of pip available: 22.3.1 -> 23.0.1\n",
            "[notice] To update, run: python.exe -m pip install --upgrade pip\n"
          ]
        }
      ],
      "source": [
        "! pip install pyspark py4j\n",
        "! pip install pyodbc"
      ]
    },
    {
      "cell_type": "markdown",
      "metadata": {
        "id": "z0lpamJ2PhzT"
      },
      "source": [
        "**Importing modules and pandas library that will be used later.**"
      ]
    },
    {
      "cell_type": "code",
      "execution_count": 190,
      "metadata": {
        "id": "oLpozDIlCsnf"
      },
      "outputs": [],
      "source": [
        "from pyspark.sql import SparkSession\n",
        "import pyspark\n",
        "import pandas as pd\n",
        "import pyodbc\n",
        "# import findspark\n",
        "\n",
        "# findspark.init()"
      ]
    },
    {
      "cell_type": "code",
      "execution_count": 191,
      "metadata": {
        "colab": {
          "base_uri": "https://localhost:8080/",
          "height": 219
        },
        "id": "rLgNaJpJZWQf",
        "outputId": "375d6ea4-ab28-428e-9c70-d6742f2396f9"
      },
      "outputs": [
        {
          "data": {
            "text/html": [
              "\n",
              "            <div>\n",
              "                <p><b>SparkSession - in-memory</b></p>\n",
              "                \n",
              "        <div>\n",
              "            <p><b>SparkContext</b></p>\n",
              "\n",
              "            <p><a href=\"http://DESKTOP-7VLQ9AP:4040\">Spark UI</a></p>\n",
              "\n",
              "            <dl>\n",
              "              <dt>Version</dt>\n",
              "                <dd><code>v3.2.1</code></dd>\n",
              "              <dt>Master</dt>\n",
              "                <dd><code>local[*]</code></dd>\n",
              "              <dt>AppName</dt>\n",
              "                <dd><code>pyspark-shell</code></dd>\n",
              "            </dl>\n",
              "        </div>\n",
              "        \n",
              "            </div>\n",
              "        "
            ],
            "text/plain": [
              "<pyspark.sql.session.SparkSession at 0x1e9e5a80ad0>"
            ]
          },
          "execution_count": 191,
          "metadata": {},
          "output_type": "execute_result"
        }
      ],
      "source": [
        "# instatianting spark instance\n",
        "spark = SparkSession.builder.master('local[*]').getOrCreate()\n",
        "\n",
        "spark"
      ]
    },
    {
      "attachments": {},
      "cell_type": "markdown",
      "metadata": {},
      "source": [
        "Gooogle Colab Version"
      ]
    },
    {
      "cell_type": "code",
      "execution_count": 192,
      "metadata": {
        "colab": {
          "base_uri": "https://localhost:8080/"
        },
        "id": "70iuSZT29Tff",
        "outputId": "7fa9d57b-f0c2-4c24-d1d3-841ff740eb4c"
      },
      "outputs": [
        {
          "data": {
            "text/plain": [
              "\" \\nfrom google.colab import drive\\ndrive.mount('/content/gdrive', force_remount=True) \\n\""
            ]
          },
          "execution_count": 192,
          "metadata": {},
          "output_type": "execute_result"
        }
      ],
      "source": [
        "\"\"\" \n",
        "from google.colab import drive\n",
        "drive.mount('/content/gdrive', force_remount=True) \n",
        "\"\"\""
      ]
    },
    {
      "cell_type": "markdown",
      "metadata": {
        "id": "MEDLrMlgMaTM"
      },
      "source": [
        "# Next cells acquire parquet data from remote files, and transpose it to spark format"
      ]
    },
    {
      "cell_type": "code",
      "execution_count": 193,
      "metadata": {},
      "outputs": [],
      "source": [
        "fille =r'C:/Users/video/Desktop/Projetos/API/F-A_root_project/notebooks/RAW_DATA/Parquet/Balance.parquet'\n",
        "\n",
        "balance = spark\\\n",
        "        .read.format(\"parquet\")\\\n",
        "        .option(\"inferSchema\", \"True\")\\\n",
        "        .option(\"header\",\"True\")\\\n",
        "        .parquet(fille)"
      ]
    },
    {
      "cell_type": "markdown",
      "metadata": {
        "id": "SubWtlFnNJHn"
      },
      "source": [
        "Creating Tables in order to manipulate data in SQL format"
      ]
    },
    {
      "cell_type": "code",
      "execution_count": 194,
      "metadata": {
        "id": "UD38ZEtovRHd"
      },
      "outputs": [],
      "source": [
        "# Balance table\n",
        "balance.createOrReplaceTempView(\"Balance\")"
      ]
    },
    {
      "cell_type": "markdown",
      "metadata": {
        "id": "nv8S8_6bCqBk"
      },
      "source": [
        "# Note 1: \n",
        "'DetToEquity' must be in percentage, try to get it done here or otherwise in Power Bi\n",
        "\n",
        "---\n",
        "\n",
        "# Note 2: \n",
        "Find a way to calculate Beta values from \n",
        "historical data get it from other sources, but try to calculate it localy (Talk with Felipe, about the period of time that will be used as 'ytd' or montlhy). \n",
        "\n",
        "# Fixed:\n",
        "Beta values could be acquired trough yahoo finance"
      ]
    },
    {
      "cell_type": "markdown",
      "metadata": {
        "id": "sKpxqfnyBnmn"
      },
      "source": [
        "Listing brazilian companies that will be researched and getting hystorical financial data\n",
        "filters that our Analyst indicates: Raking companies by: EBIT/EV > 0, ROE > 0, **Daily equity < 1.000.000.000**, revenueGrowth > 0 AND Will be done apart :(5-year-history) and all margins must be postive"
      ]
    },
    {
      "cell_type": "markdown",
      "metadata": {
        "id": "abGJeNp68atZ"
      },
      "source": [
        "Alternative operations, while dealing with a little amount of data, and it can be joined here"
      ]
    },
    {
      "cell_type": "code",
      "execution_count": 195,
      "metadata": {},
      "outputs": [],
      "source": [
        "Balance = spark.sql(\"\"\"\n",
        "SELECT  Ticker,\n",
        "        CAST(Data_de_Reporte as string),\n",
        "        Moeda,\n",
        "        CAST(Receita_a_Pagar as string),\n",
        "        CAST(Receitas_a_Receber as string),\n",
        "        CAST(Bens_de_Capital as string)\n",
        "FROM Balance\n",
        "WHERE Ticker NOT LIKE '%34.SA'\n",
        "AND Moeda = 'BRL'\n",
        "ORDER BY Ticker DESC;\n",
        "\"\"\")"
      ]
    },
    {
      "cell_type": "code",
      "execution_count": 196,
      "metadata": {},
      "outputs": [
        {
          "name": "stdout",
          "output_type": "stream",
          "text": [
            "+---------+-------------------+-----+---------------+------------------+---------------+\n",
            "|   Ticker|    Data_de_Reporte|Moeda|Receita_a_Pagar|Receitas_a_Receber|Bens_de_Capital|\n",
            "+---------+-------------------+-----+---------------+------------------+---------------+\n",
            "| ZAMP3.SA|2021-12-30 21:00:00|  BRL|      2.47917E8|         1.39267E8|     1.461068E9|\n",
            "| ZAMP3.SA|2020-12-30 21:00:00|  BRL|      2.17616E8|         1.05011E8|     1.461068E9|\n",
            "| ZAMP3.SA|2019-12-30 21:00:00|  BRL|      2.86432E8|          6.0361E7|      9.50768E8|\n",
            "| YDUQ3.SA|2019-12-30 21:00:00|  BRL|      1.26651E8|         7.59622E8|     1.139887E9|\n",
            "| YDUQ3.SA|2021-12-30 21:00:00|  BRL|      1.83529E8|         9.57746E8|     1.139887E9|\n",
            "| YDUQ3.SA|2020-12-30 21:00:00|  BRL|      2.51229E8|         8.90151E8|     1.139887E9|\n",
            "|XPBR31.SA|2019-12-30 21:00:00|  BRL|      2.66813E8|         4.58776E8|        23000.0|\n",
            "|XPBR31.SA|2022-12-30 21:00:00|  BRL|      6.17394E8|         4.87331E8|        24000.0|\n",
            "|XPBR31.SA|2021-12-30 21:00:00|  BRL|      8.67526E8|         4.19532E8|        23000.0|\n",
            "|XPBR31.SA|2020-12-30 21:00:00|  BRL|       8.5955E8|         4.55253E8|        23000.0|\n",
            "| WHRL4.SA|2021-12-30 21:00:00|  BRL|     4.191681E9|        2.842092E9|     1.159103E9|\n",
            "| WHRL4.SA|2019-12-30 21:00:00|  BRL|     2.472096E9|        1.352849E9|     1.159103E9|\n",
            "| WHRL4.SA|2020-12-30 21:00:00|  BRL|     3.349451E9|        2.190542E9|     1.159103E9|\n",
            "| WHRL3.SA|2020-12-30 21:00:00|  BRL|     3.349451E9|        2.190542E9|     1.159103E9|\n",
            "| WHRL3.SA|2019-12-30 21:00:00|  BRL|     2.472096E9|        1.352849E9|     1.159103E9|\n",
            "| WHRL3.SA|2021-12-30 21:00:00|  BRL|     4.191681E9|        2.842092E9|     1.159103E9|\n",
            "| WEST3.SA|2021-12-30 21:00:00|  BRL|       4.2907E7|          3.1836E7|      4.70891E8|\n",
            "| WEST3.SA|2019-12-30 21:00:00|  BRL|      8199000.0|         7745000.0|       3.9819E7|\n",
            "| WEST3.SA|2020-12-30 21:00:00|  BRL|       3.9583E7|         8872000.0|       4.0224E7|\n",
            "| VVEO3.SA|2021-12-30 21:00:00|  BRL|     1.293329E9|        1.183243E9|     1.771044E9|\n",
            "+---------+-------------------+-----+---------------+------------------+---------------+\n",
            "only showing top 20 rows\n",
            "\n"
          ]
        }
      ],
      "source": [
        "Balance.show()"
      ]
    },
    {
      "cell_type": "markdown",
      "metadata": {
        "id": "ZGP5as1CK1uo"
      },
      "source": [
        "ev = número total de papeis x cotação + divida liquida\n",
        "ev = market value +  liquid debt \n",
        "\n",
        "PSR = PREÇO DA AÇÃO / RECEITA LIQUIDA POR AÇÃO "
      ]
    },
    {
      "cell_type": "markdown",
      "metadata": {
        "id": "7MJkJf8SguRE"
      },
      "source": [
        "Pandas setting DataFrame to pandas format:"
      ]
    },
    {
      "cell_type": "code",
      "execution_count": 197,
      "metadata": {
        "id": "-FFxq6uLe49F"
      },
      "outputs": [],
      "source": [
        "df_balance = Balance.toPandas()"
      ]
    },
    {
      "cell_type": "code",
      "execution_count": 198,
      "metadata": {},
      "outputs": [
        {
          "data": {
            "text/html": [
              "<div>\n",
              "<style scoped>\n",
              "    .dataframe tbody tr th:only-of-type {\n",
              "        vertical-align: middle;\n",
              "    }\n",
              "\n",
              "    .dataframe tbody tr th {\n",
              "        vertical-align: top;\n",
              "    }\n",
              "\n",
              "    .dataframe thead th {\n",
              "        text-align: right;\n",
              "    }\n",
              "</style>\n",
              "<table border=\"1\" class=\"dataframe\">\n",
              "  <thead>\n",
              "    <tr style=\"text-align: right;\">\n",
              "      <th></th>\n",
              "      <th>Ticker</th>\n",
              "      <th>Data_de_Reporte</th>\n",
              "      <th>Moeda</th>\n",
              "      <th>Receita_a_Pagar</th>\n",
              "      <th>Receitas_a_Receber</th>\n",
              "      <th>Bens_de_Capital</th>\n",
              "    </tr>\n",
              "  </thead>\n",
              "  <tbody>\n",
              "    <tr>\n",
              "      <th>0</th>\n",
              "      <td>ZAMP3.SA</td>\n",
              "      <td>2019-12-30 21:00:00</td>\n",
              "      <td>BRL</td>\n",
              "      <td>2.86432E8</td>\n",
              "      <td>6.0361E7</td>\n",
              "      <td>9.50768E8</td>\n",
              "    </tr>\n",
              "    <tr>\n",
              "      <th>1</th>\n",
              "      <td>ZAMP3.SA</td>\n",
              "      <td>2020-12-30 21:00:00</td>\n",
              "      <td>BRL</td>\n",
              "      <td>2.17616E8</td>\n",
              "      <td>1.05011E8</td>\n",
              "      <td>1.461068E9</td>\n",
              "    </tr>\n",
              "    <tr>\n",
              "      <th>2</th>\n",
              "      <td>ZAMP3.SA</td>\n",
              "      <td>2021-12-30 21:00:00</td>\n",
              "      <td>BRL</td>\n",
              "      <td>2.47917E8</td>\n",
              "      <td>1.39267E8</td>\n",
              "      <td>1.461068E9</td>\n",
              "    </tr>\n",
              "    <tr>\n",
              "      <th>3</th>\n",
              "      <td>YDUQ3.SA</td>\n",
              "      <td>2019-12-30 21:00:00</td>\n",
              "      <td>BRL</td>\n",
              "      <td>1.26651E8</td>\n",
              "      <td>7.59622E8</td>\n",
              "      <td>1.139887E9</td>\n",
              "    </tr>\n",
              "    <tr>\n",
              "      <th>4</th>\n",
              "      <td>YDUQ3.SA</td>\n",
              "      <td>2020-12-30 21:00:00</td>\n",
              "      <td>BRL</td>\n",
              "      <td>2.51229E8</td>\n",
              "      <td>8.90151E8</td>\n",
              "      <td>1.139887E9</td>\n",
              "    </tr>\n",
              "    <tr>\n",
              "      <th>...</th>\n",
              "      <td>...</td>\n",
              "      <td>...</td>\n",
              "      <td>...</td>\n",
              "      <td>...</td>\n",
              "      <td>...</td>\n",
              "      <td>...</td>\n",
              "    </tr>\n",
              "    <tr>\n",
              "      <th>749</th>\n",
              "      <td>AERI3.SA</td>\n",
              "      <td>2021-12-30 21:00:00</td>\n",
              "      <td>BRL</td>\n",
              "      <td>4.45286E8</td>\n",
              "      <td>1.26877E8</td>\n",
              "      <td>8.15102E8</td>\n",
              "    </tr>\n",
              "    <tr>\n",
              "      <th>750</th>\n",
              "      <td>AERI3.SA</td>\n",
              "      <td>2022-12-30 21:00:00</td>\n",
              "      <td>BRL</td>\n",
              "      <td>3.36048E8</td>\n",
              "      <td>0.0</td>\n",
              "      <td>8.15102E8</td>\n",
              "    </tr>\n",
              "    <tr>\n",
              "      <th>751</th>\n",
              "      <td>AALR3.SA</td>\n",
              "      <td>2019-12-30 21:00:00</td>\n",
              "      <td>BRL</td>\n",
              "      <td>5.667E7</td>\n",
              "      <td>8.8789E7</td>\n",
              "      <td>6.12412E8</td>\n",
              "    </tr>\n",
              "    <tr>\n",
              "      <th>752</th>\n",
              "      <td>AALR3.SA</td>\n",
              "      <td>2020-12-30 21:00:00</td>\n",
              "      <td>BRL</td>\n",
              "      <td>9.4887E7</td>\n",
              "      <td>7.9679E7</td>\n",
              "      <td>6.12412E8</td>\n",
              "    </tr>\n",
              "    <tr>\n",
              "      <th>753</th>\n",
              "      <td>AALR3.SA</td>\n",
              "      <td>2021-12-30 21:00:00</td>\n",
              "      <td>BRL</td>\n",
              "      <td>1.17548E8</td>\n",
              "      <td>1.04502E8</td>\n",
              "      <td>6.12412E8</td>\n",
              "    </tr>\n",
              "  </tbody>\n",
              "</table>\n",
              "<p>754 rows × 6 columns</p>\n",
              "</div>"
            ],
            "text/plain": [
              "       Ticker      Data_de_Reporte Moeda Receita_a_Pagar Receitas_a_Receber  \\\n",
              "0    ZAMP3.SA  2019-12-30 21:00:00   BRL       2.86432E8           6.0361E7   \n",
              "1    ZAMP3.SA  2020-12-30 21:00:00   BRL       2.17616E8          1.05011E8   \n",
              "2    ZAMP3.SA  2021-12-30 21:00:00   BRL       2.47917E8          1.39267E8   \n",
              "3    YDUQ3.SA  2019-12-30 21:00:00   BRL       1.26651E8          7.59622E8   \n",
              "4    YDUQ3.SA  2020-12-30 21:00:00   BRL       2.51229E8          8.90151E8   \n",
              "..        ...                  ...   ...             ...                ...   \n",
              "749  AERI3.SA  2021-12-30 21:00:00   BRL       4.45286E8          1.26877E8   \n",
              "750  AERI3.SA  2022-12-30 21:00:00   BRL       3.36048E8                0.0   \n",
              "751  AALR3.SA  2019-12-30 21:00:00   BRL         5.667E7           8.8789E7   \n",
              "752  AALR3.SA  2020-12-30 21:00:00   BRL        9.4887E7           7.9679E7   \n",
              "753  AALR3.SA  2021-12-30 21:00:00   BRL       1.17548E8          1.04502E8   \n",
              "\n",
              "    Bens_de_Capital  \n",
              "0         9.50768E8  \n",
              "1        1.461068E9  \n",
              "2        1.461068E9  \n",
              "3        1.139887E9  \n",
              "4        1.139887E9  \n",
              "..              ...  \n",
              "749       8.15102E8  \n",
              "750       8.15102E8  \n",
              "751       6.12412E8  \n",
              "752       6.12412E8  \n",
              "753       6.12412E8  \n",
              "\n",
              "[754 rows x 6 columns]"
            ]
          },
          "execution_count": 198,
          "metadata": {},
          "output_type": "execute_result"
        }
      ],
      "source": [
        "df_balance"
      ]
    },
    {
      "attachments": {},
      "cell_type": "markdown",
      "metadata": {},
      "source": [
        "Excel format tables"
      ]
    },
    {
      "cell_type": "code",
      "execution_count": 162,
      "metadata": {
        "id": "BNc_zBG8j3zL"
      },
      "outputs": [
        {
          "data": {
            "text/plain": [
              "' \\ndf_stat.to_excel(r\"C:/Users/video/Desktop/Projetos/API/F-A_root_project/notebooks/Final/Excel/Stat.xlsx\",\\n                 sheet_name=\"stat\")\\n\\ndf_calc.to_excel(r\"C:/Users/video/Desktop/Projetos/API/F-A_root_project/notebooks/Final/Calcl.xlsx\",\\n                 sheet_name=\"calc\")\\n\\ndf_rsc.to_excel(r\"C:/Users/video/Desktop/Projetos/API/F-A_root_project/notebooks/Final/RSCH.xlsx\",\\n                sheet_name=\"research\")\\n\\ndf_balance.to_excel(r\"C:/Users/video/Desktop/Projetos/API/F-A_root_project/notebooks/Final/Balance.xlsx\",\\n                sheet_name=\"balance\")\\n'"
            ]
          },
          "execution_count": 162,
          "metadata": {},
          "output_type": "execute_result"
        }
      ],
      "source": [
        "\"\"\" \n",
        "df_stat.to_excel(r\"C:/Users/video/Desktop/Projetos/API/F-A_root_project/notebooks/Final/Excel/Stat.xlsx\",\n",
        "                 sheet_name=\"stat\")\n",
        "\n",
        "df_calc.to_excel(r\"C:/Users/video/Desktop/Projetos/API/F-A_root_project/notebooks/Final/Calcl.xlsx\",\n",
        "                 sheet_name=\"calc\")\n",
        "\n",
        "df_rsc.to_excel(r\"C:/Users/video/Desktop/Projetos/API/F-A_root_project/notebooks/Final/RSCH.xlsx\",\n",
        "                sheet_name=\"research\")\n",
        "\n",
        "df_balance.to_excel(r\"C:/Users/video/Desktop/Projetos/API/F-A_root_project/notebooks/Final/Balance.xlsx\",\n",
        "                sheet_name=\"balance\")\n",
        "\"\"\""
      ]
    },
    {
      "attachments": {},
      "cell_type": "markdown",
      "metadata": {},
      "source": [
        "Parquet format table"
      ]
    },
    {
      "cell_type": "code",
      "execution_count": 163,
      "metadata": {},
      "outputs": [],
      "source": [
        "\"\"\" \n",
        "df_balance.to_parquet(r\"C:/Users/video/Desktop/Projetos/API/F-A_root_project/notebooks/Final/Parquet/Balance.parquet\")\n",
        "\n",
        "df_stat.to_parquet(r\"C:/Users/video/Desktop/Projetos/API/F-A_root_project/notebooks/Final/Parquet/Calcl.parquet\")\n",
        "\n",
        "df_rsc.to_parquet(r\"C:/Users/video/Desktop/Projetos/API/F-A_root_project/notebooks/Final/Parquet/RSCH.parquet\")\n",
        "\n",
        "df_calc.to_parquet(r\"C:/Users/video/Desktop/Projetos/API/F-A_root_project/notebooks/Final/Parquet/Calcl.parquet\")\n",
        "\n",
        "\n",
        "df_balance.to_parquet(r\"C:/Users/video/Desktop/Projetos/API/F-A_root_project/notebooks/Final/Parquet/Balance.parquet\")\n",
        "\n",
        "df_calendario.to_parquet(r\"C:/Users/video/Desktop/Projetos/API/F-A_root_project/notebooks/Final/Parquet/Calendario.parquet\")\n",
        "\n",
        "\"\"\""
      ]
    },
    {
      "cell_type": "code",
      "execution_count": 164,
      "metadata": {},
      "outputs": [
        {
          "name": "stdout",
          "output_type": "stream",
          "text": [
            "Ticker                object\n",
            "Data_de_Reporte       object\n",
            "Moeda                 object\n",
            "Receita_a_Pagar       string\n",
            "Receitas_a_Receber    string\n",
            "Bens_de_Capital       string\n",
            "dtype: object\n"
          ]
        }
      ],
      "source": [
        "df_balance['Bens_de_Capital'] = df_balance['Bens_de_Capital'].astype(\"string\")\n",
        "df_balance['Receitas_a_Receber'] = df_balance['Receitas_a_Receber'].astype(\"string\")\n",
        "df_balance['Receita_a_Pagar'] = df_balance['Receita_a_Pagar'].astype(\"string\")\n",
        "\n",
        "print(df_balance.dtypes)"
      ]
    },
    {
      "attachments": {},
      "cell_type": "markdown",
      "metadata": {},
      "source": [
        "Local Connection to SQL Server"
      ]
    },
    {
      "cell_type": "code",
      "execution_count": 165,
      "metadata": {},
      "outputs": [],
      "source": [
        "conn = pyodbc.connect('Driver={SQL Server};'\n",
        "                      'Server=DESKTOP-7VLQ9AP\\SQLEXPRESS;'\n",
        "                      'Database=FeA;'\n",
        "                      'Trusted_Connection=yes;'\n",
        "                      )\n",
        "\n",
        "cursor = conn.cursor()"
      ]
    },
    {
      "attachments": {},
      "cell_type": "markdown",
      "metadata": {},
      "source": [
        "Balance Table insert"
      ]
    },
    {
      "cell_type": "code",
      "execution_count": null,
      "metadata": {},
      "outputs": [],
      "source": [
        "for i, ticker in enumerate(df_balance['Ticker']):\n",
        "    data = df_balance.loc[i,'Data_de_Reporte']\n",
        "\n",
        "    moeda = df_balance.loc[i,'Moeda']\n",
        "\n",
        "    receita = df_balance.loc[i,'Receita_a_Pagar']\n",
        "\n",
        "    receitas = df_balance.loc[i,'Receitas_a_Receber']\n",
        "\n",
        "    bens = df_balance.loc[i,'Bens_de_Capital']\n",
        "\n",
        "    dados = '\\'' + ticker + '\\'' + ',\\'' + data  + '\\'' + ',\\'' + moeda + '\\'' + ',\\'' + receita + '\\'' + ',\\'' + receitas + '\\'' + ',\\'' + bens + '\\''  ')'\n",
        "\n",
        "    script = '''INSERT INTO Balances ([Ticker],[Data_do_Reporte],[Moeda],[Receita_a_pagar],[Receitas_a_receber],[Bens_de_Capital]) VALUES ('''\n",
        "\n",
        "    query = script + dados\n",
        "\n",
        "    #print(query)\n",
        "\n",
        "    cursor.execute(query)\n",
        "\n",
        "    cursor.commit()"
      ]
    },
    {
      "cell_type": "markdown",
      "metadata": {},
      "source": [
        "Cloud Version"
      ]
    },
    {
      "cell_type": "code",
      "execution_count": null,
      "metadata": {},
      "outputs": [
        {
          "data": {
            "text/plain": [
              "' \\nserver_name = \"jdbc:sqlserver://DESKTOP-7VLQ9AP\\\\SQLEXPRESS\"\\ndatabase_name = \"FeA\"\\nurl = server_name + \";\" + \"databaseName=\" + database_name + \";\"\\n\\ntable_name = \"Balance\"\\nusername = \"SQL_ADM\"\\npassword = \"and010500\" # Please specify password here\\n\\ntry:\\n  df_balance.write     .format(\"com.microsoft.sqlserver.jdbc.spark\")     .mode(\"overwrite\")     .option(\"url\", url)     .option(\"dbtable\", table_name)     .option(\"user\", username)     .option(\"password\", password)     .save()\\n\\nexcept ValueError as error :\\n    print(\"Connector write failed\", error)\\n '"
            ]
          },
          "execution_count": 64,
          "metadata": {},
          "output_type": "execute_result"
        }
      ],
      "source": [
        "\"\"\" \n",
        "server_name = \"jdbc:sqlserver://DESKTOP-7VLQ9AP\\SQLEXPRESS\"\n",
        "database_name = \"FeA\"\n",
        "url = server_name + \";\" + \"databaseName=\" + database_name + \";\"\n",
        "\n",
        "table_name = \"Balance\"\n",
        "username = \"SQL_ADM\"\n",
        "password = \"and010500\" # Please specify password here\n",
        "\n",
        "try:\n",
        "  df_balance.write \\\n",
        "    .format(\"com.microsoft.sqlserver.jdbc.spark\") \\\n",
        "    .mode(\"overwrite\") \\\n",
        "    .option(\"url\", url) \\\n",
        "    .option(\"dbtable\", table_name) \\\n",
        "    .option(\"user\", username) \\\n",
        "    .option(\"password\", password) \\\n",
        "    .save()\n",
        "\n",
        "except ValueError as error :\n",
        "    print(\"Connector write failed\", error)\n",
        " \"\"\""
      ]
    }
  ],
  "metadata": {
    "colab": {
      "include_colab_link": true,
      "provenance": []
    },
    "kernelspec": {
      "display_name": "Python 3",
      "language": "python",
      "name": "python3"
    },
    "language_info": {
      "codemirror_mode": {
        "name": "ipython",
        "version": 3
      },
      "file_extension": ".py",
      "mimetype": "text/x-python",
      "name": "python",
      "nbconvert_exporter": "python",
      "pygments_lexer": "ipython3",
      "version": "3.11.1"
    },
    "vscode": {
      "interpreter": {
        "hash": "598092329803f2218a82426b846daf764474eee9678032408d5a767cd4823601"
      }
    }
  },
  "nbformat": 4,
  "nbformat_minor": 0
}
