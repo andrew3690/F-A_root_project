{
 "cells": [
  {
   "cell_type": "markdown",
   "metadata": {
    "colab_type": "text",
    "id": "view-in-github"
   },
   "source": [
    "<a href=\"https://colab.research.google.com/github/andrew3690/F-A_root_project/blob/Brazil/Data_Ac.ipynb\" target=\"_parent\"><img src=\"https://colab.research.google.com/assets/colab-badge.svg\" alt=\"Open In Colab\"/></a>"
   ]
  },
  {
   "cell_type": "markdown",
   "metadata": {
    "id": "wd7jgo-jBXC2"
   },
   "source": [
    "Installing python libraries that will be use to get data from yahoo finance"
   ]
  },
  {
   "cell_type": "code",
   "execution_count": 1,
   "metadata": {
    "colab": {
     "base_uri": "https://localhost:8080/"
    },
    "id": "Mefhi-Pa1B-G",
    "outputId": "c65f37ee-5552-459a-c3d7-86acef3a0153"
   },
   "outputs": [
    {
     "name": "stdout",
     "output_type": "stream",
     "text": [
      "Defaulting to user installation because normal site-packages is not writeable\n",
      "Collecting yahooquery\n",
      "  Downloading yahooquery-2.3.1-py2.py3-none-any.whl (49 kB)\n",
      "\u001b[2K     \u001b[38;2;114;156;31m━━━━━━━━━━━━━━━━━━━━━━━━━━━━━━━━━━━━━━━\u001b[0m \u001b[32m49.8/49.8 KB\u001b[0m \u001b[31m241.7 kB/s\u001b[0m eta \u001b[36m0:00:00\u001b[0m kB/s\u001b[0m eta \u001b[36m0:00:01\u001b[0m\n",
      "\u001b[?25hRequirement already satisfied: pandas>=0.24.0 in /home/andre/.local/lib/python3.10/site-packages (from yahooquery) (2.0.2)\n",
      "Collecting tqdm>=4.54.1\n",
      "  Downloading tqdm-4.65.0-py3-none-any.whl (77 kB)\n",
      "\u001b[2K     \u001b[38;2;114;156;31m━━━━━━━━━━━━━━━━━━━━━━━━━━━━━━━━━━━━━━━\u001b[0m \u001b[32m77.1/77.1 KB\u001b[0m \u001b[31m248.1 kB/s\u001b[0m eta \u001b[36m0:00:00\u001b[0mMB/s\u001b[0m eta \u001b[36m0:00:01\u001b[0m\n",
      "\u001b[?25hCollecting lxml>=4.9.1\n",
      "  Downloading lxml-4.9.2-cp310-cp310-manylinux_2_17_x86_64.manylinux2014_x86_64.manylinux_2_24_x86_64.whl (7.1 MB)\n",
      "\u001b[2K     \u001b[38;2;114;156;31m━━━━━━━━━━━━━━━━━━━━━━━━━━━━━━━━━━━━━━━━\u001b[0m \u001b[32m7.1/7.1 MB\u001b[0m \u001b[31m596.7 kB/s\u001b[0m eta \u001b[36m0:00:00\u001b[0mm eta \u001b[36m0:00:01\u001b[0m[36m0:00:01\u001b[0m\n",
      "\u001b[?25hCollecting requests-futures>=1.0.0\n",
      "  Downloading requests_futures-1.0.1-py2.py3-none-any.whl (7.6 kB)\n",
      "Requirement already satisfied: python-dateutil>=2.8.2 in /home/andre/.local/lib/python3.10/site-packages (from pandas>=0.24.0->yahooquery) (2.8.2)\n",
      "Requirement already satisfied: numpy>=1.21.0 in /home/andre/.local/lib/python3.10/site-packages (from pandas>=0.24.0->yahooquery) (1.25.0)\n",
      "Requirement already satisfied: tzdata>=2022.1 in /home/andre/.local/lib/python3.10/site-packages (from pandas>=0.24.0->yahooquery) (2023.3)\n",
      "Requirement already satisfied: pytz>=2020.1 in /usr/lib/python3/dist-packages (from pandas>=0.24.0->yahooquery) (2022.1)\n",
      "Requirement already satisfied: requests>=1.2.0 in /home/andre/.local/lib/python3.10/site-packages (from requests-futures>=1.0.0->yahooquery) (2.28.2)\n",
      "Requirement already satisfied: six>=1.5 in /usr/lib/python3/dist-packages (from python-dateutil>=2.8.2->pandas>=0.24.0->yahooquery) (1.16.0)\n",
      "Requirement already satisfied: idna<4,>=2.5 in /usr/lib/python3/dist-packages (from requests>=1.2.0->requests-futures>=1.0.0->yahooquery) (3.3)\n",
      "Requirement already satisfied: charset-normalizer<4,>=2 in /home/andre/.local/lib/python3.10/site-packages (from requests>=1.2.0->requests-futures>=1.0.0->yahooquery) (3.0.1)\n",
      "Requirement already satisfied: urllib3<1.27,>=1.21.1 in /usr/lib/python3/dist-packages (from requests>=1.2.0->requests-futures>=1.0.0->yahooquery) (1.26.5)\n",
      "Requirement already satisfied: certifi>=2017.4.17 in /usr/lib/python3/dist-packages (from requests>=1.2.0->requests-futures>=1.0.0->yahooquery) (2020.6.20)\n",
      "Installing collected packages: tqdm, lxml, requests-futures, yahooquery\n",
      "Successfully installed lxml-4.9.2 requests-futures-1.0.1 tqdm-4.65.0 yahooquery-2.3.1\n",
      "Defaulting to user installation because normal site-packages is not writeable\n",
      "Collecting urllib3==1.26\n",
      "  Downloading urllib3-1.26.0-py2.py3-none-any.whl (136 kB)\n",
      "\u001b[2K     \u001b[38;2;114;156;31m━━━━━━━━━━━━━━━━━━━━━━━━━━━━━━━━━━━━━\u001b[0m \u001b[32m136.7/136.7 KB\u001b[0m \u001b[31m268.1 kB/s\u001b[0m eta \u001b[36m0:00:00\u001b[0m[31m2.1 MB/s\u001b[0m eta \u001b[36m0:00:01\u001b[0m\n",
      "\u001b[?25hInstalling collected packages: urllib3\n",
      "Successfully installed urllib3-1.26.0\n",
      "Defaulting to user installation because normal site-packages is not writeable\n",
      "Collecting requests==2.25\n",
      "  Downloading requests-2.25.0-py2.py3-none-any.whl (61 kB)\n",
      "\u001b[2K     \u001b[38;2;114;156;31m━━━━━━━━━━━━━━━━━━━━━━━━━━━━━━━━━━━━━━━\u001b[0m \u001b[32m61.1/61.1 KB\u001b[0m \u001b[31m461.4 kB/s\u001b[0m eta \u001b[36m0:00:00\u001b[0m31m1.3 MB/s\u001b[0m eta \u001b[36m0:00:01\u001b[0mm\n",
      "\u001b[?25hCollecting chardet<4,>=3.0.2\n",
      "  Downloading chardet-3.0.4-py2.py3-none-any.whl (133 kB)\n",
      "\u001b[2K     \u001b[38;2;114;156;31m━━━━━━━━━━━━━━━━━━━━━━━━━━━━━━━━━━━━━\u001b[0m \u001b[32m133.4/133.4 KB\u001b[0m \u001b[31m380.1 kB/s\u001b[0m eta \u001b[36m0:00:00\u001b[0mm eta \u001b[36m0:00:01\u001b[0m0:01\u001b[0m\n",
      "\u001b[?25hRequirement already satisfied: certifi>=2017.4.17 in /usr/lib/python3/dist-packages (from requests==2.25) (2020.6.20)\n",
      "Requirement already satisfied: urllib3<1.27,>=1.21.1 in /home/andre/.local/lib/python3.10/site-packages (from requests==2.25) (1.26.0)\n",
      "Collecting idna<3,>=2.5\n",
      "  Using cached idna-2.10-py2.py3-none-any.whl (58 kB)\n",
      "Installing collected packages: chardet, idna, requests\n",
      "  Attempting uninstall: requests\n",
      "    Found existing installation: requests 2.28.2\n",
      "    Uninstalling requests-2.28.2:\n",
      "      Successfully uninstalled requests-2.28.2\n",
      "\u001b[31mERROR: pip's dependency resolver does not currently take into account all the packages that are installed. This behaviour is the source of the following dependency conflicts.\n",
      "jupyterlab-server 2.18.0 requires requests>=2.28, but you have requests 2.25.0 which is incompatible.\u001b[0m\u001b[31m\n",
      "\u001b[0mSuccessfully installed chardet-3.0.4 idna-2.10 requests-2.25.0\n",
      "Defaulting to user installation because normal site-packages is not writeable\n",
      "Collecting openpyxl\n",
      "  Downloading openpyxl-3.1.2-py2.py3-none-any.whl (249 kB)\n",
      "\u001b[2K     \u001b[38;2;114;156;31m━━━━━━━━━━━━━━━━━━━━━━━━━━━━━━━━━━━━━\u001b[0m \u001b[32m250.0/250.0 KB\u001b[0m \u001b[31m671.9 kB/s\u001b[0m eta \u001b[36m0:00:00\u001b[0m[36m0:00:01\u001b[0mm eta \u001b[36m0:00:01\u001b[0m\n",
      "\u001b[?25hCollecting et-xmlfile\n",
      "  Using cached et_xmlfile-1.1.0-py3-none-any.whl (4.7 kB)\n",
      "Installing collected packages: et-xmlfile, openpyxl\n",
      "Successfully installed et-xmlfile-1.1.0 openpyxl-3.1.2\n"
     ]
    }
   ],
   "source": [
    "! pip install yahooquery\n",
    "! pip install urllib3==1.26\n",
    "! pip install requests==2.25\n",
    "! pip install openpyxl"
   ]
  },
  {
   "cell_type": "markdown",
   "metadata": {
    "id": "_VbHBXpJBNgc"
   },
   "source": [
    "Importing modules that will be used to filter data"
   ]
  },
  {
   "cell_type": "code",
   "execution_count": 2,
   "metadata": {
    "id": "vqJZx_Fc2NEV"
   },
   "outputs": [],
   "source": [
    "from yahooquery import Ticker\n",
    "from bs4 import BeautifulSoup\n",
    "\n",
    "import pandas as pd\n",
    "import requests\n",
    "import re"
   ]
  },
  {
   "cell_type": "markdown",
   "metadata": {
    "id": "L6mkfM6XGU33"
   },
   "source": [
    "Scrapping Data from Infomoney website, getting a list of stocks from IBOVESPA."
   ]
  },
  {
   "cell_type": "code",
   "execution_count": 3,
   "metadata": {
    "id": "_Q6RsPPi_TQk"
   },
   "outputs": [],
   "source": [
    "url = requests.get('https://www.infomoney.com.br/cotacoes/empresas-b3/')\n",
    "\n",
    "soup = BeautifulSoup(url.text, 'html.parser')\n",
    "\n",
    "ticker_name_list = soup.find_all('td', class_ = 'strong')\n",
    "\n",
    "ticker = str(ticker_name_list)\n",
    "\n",
    "tickers = re.findall('>.*</',ticker)\n",
    "\n",
    "tkrs = []\n",
    "\n",
    "# strnot = (\"11\",\"F\",\"34\")\n",
    "for i in tickers:\n",
    "  if \"11\" not in i and \"F\" not in i:\n",
    "    tkr = i.strip(\"</>\")\n",
    "    tkr = tkr + \".SA\"\n",
    "    tkrs.append(tkr)"
   ]
  },
  {
   "cell_type": "code",
   "execution_count": null,
   "metadata": {
    "id": "I3XEbzA_1711"
   },
   "outputs": [],
   "source": [
    "# Yahoo finance requisition getting companies ticker\n",
    "sumary = Ticker(tkrs)\n",
    "\n",
    "# getting companies financial data\n",
    "data = sumary.financial_data"
   ]
  },
  {
   "cell_type": "code",
   "execution_count": null,
   "metadata": {
    "id": "VfI_b5ub8-Xx"
   },
   "outputs": [],
   "source": [
    "#getting stocks beta\n",
    "dt = ['EBIT', 'NetDebt']\n",
    "addata = sumary.get_financial_data(dt,trailing=False)"
   ]
  },
  {
   "cell_type": "code",
   "execution_count": null,
   "metadata": {
    "id": "GjruE-pmnTYB"
   },
   "outputs": [],
   "source": [
    "beta = sumary.key_stats"
   ]
  },
  {
   "cell_type": "code",
   "execution_count": null,
   "metadata": {
    "id": "OCUWZOUj8_6_"
   },
   "outputs": [],
   "source": [
    "price = sumary.price"
   ]
  },
  {
   "cell_type": "code",
   "execution_count": null,
   "metadata": {},
   "outputs": [],
   "source": [
    "balance_sheet = sumary.balance_sheet(frequency='q',trailing=False)   "
   ]
  },
  {
   "cell_type": "code",
   "execution_count": null,
   "metadata": {
    "id": "jraWBIbZ_LYx"
   },
   "outputs": [],
   "source": [
    "# Data transposing to pandas DataFrame format\n",
    "df = pd.DataFrame.from_dict(data)\n",
    "df = df.T\n",
    "\n",
    "dfbeta = pd.DataFrame.from_dict(beta)\n",
    "dfbeta = dfbeta.T\n",
    "\n",
    "dfprice = pd.DataFrame.from_dict(price)\n",
    "dfprice = dfprice.T"
   ]
  },
  {
   "cell_type": "markdown",
   "metadata": {},
   "source": [
    "Google Drive version"
   ]
  },
  {
   "cell_type": "code",
   "execution_count": 10,
   "metadata": {
    "id": "Sb62d6W-ClLT"
   },
   "outputs": [
    {
     "data": {
      "text/plain": [
       "' \\ndf.to_excel(excel_writer=\\'/content/drive/MyDrive/Data/XLXS/RAW/AtivosBr.xlsx\\',\\n            sheet_name=\"stocks\")\\n\\ndfbeta.to_excel(excel_writer=\\'/content/drive/MyDrive/Data/XLXS/RAW/Beta.xlsx\\'\\n            ,sheet_name=\"key_stats\")\\n\\naddata.to_excel(excel_writer=\\'/content/drive/MyDrive/Data/XLXS/RAW/Financial.xlsx\\',\\n            sheet_name=\"financial_data\")\\n\\ndfprice.to_excel(excel_writer=\\'/content/drive/MyDrive/Data/XLXS/RAW/Price.xlsx\\',\\n            sheet_name=\"price\") \\n'"
      ]
     },
     "execution_count": 10,
     "metadata": {},
     "output_type": "execute_result"
    }
   ],
   "source": [
    "# Exporting Excel file Dataframes\n",
    "\"\"\" \n",
    "df.to_excel(excel_writer='/content/drive/MyDrive/Data/XLXS/RAW/AtivosBr.xlsx',\n",
    "            sheet_name=\"stocks\")\n",
    "\n",
    "dfbeta.to_excel(excel_writer='/content/drive/MyDrive/Data/XLXS/RAW/Beta.xlsx'\n",
    "            ,sheet_name=\"key_stats\")\n",
    "\n",
    "addata.to_excel(excel_writer='/content/drive/MyDrive/Data/XLXS/RAW/Financial.xlsx',\n",
    "            sheet_name=\"financial_data\")\n",
    "\n",
    "dfprice.to_excel(excel_writer='/content/drive/MyDrive/Data/XLXS/RAW/Price.xlsx',\n",
    "            sheet_name=\"price\") \n",
    "\"\"\""
   ]
  },
  {
   "cell_type": "markdown",
   "metadata": {},
   "source": [
    "Local Machine Version"
   ]
  },
  {
   "cell_type": "code",
   "execution_count": 20,
   "metadata": {},
   "outputs": [],
   "source": [
    "df.to_excel(excel_writer=r'C:/Users/video/Desktop/Projetos/API/F-A_root_project/notebooks/RAW_DATA/XLSX/AtivosBR.xlsx',\n",
    "           sheet_name=\"stocks\",\n",
    "           engine='openpyxl')\n",
    "\n",
    "dfbeta.to_excel(excel_writer=r'C:/Users/video/Desktop/Projetos/API/F-A_root_project/notebooks/RAW_DATA/XLSX/Beta.xlsx',\n",
    "                sheet_name=\"key_stats\")\n",
    "\n",
    "addata.to_excel(excel_writer=r'C:/Users/video/Desktop/Projetos/API/F-A_root_project/notebooks/RAW_DATA/XLSX/Financial.xlsx',\n",
    "            sheet_name=\"financial_data\")\n",
    "\n",
    "dfprice.to_excel(excel_writer=r'C:/Users/video/Desktop/Projetos/API/F-A_root_project/notebooks/RAW_DATA/XLSX/Price.xlsx',\n",
    "            sheet_name=\"price\")\n",
    "\n",
    "balance_sheet.to_excel(excel_writer=r'C:/Users/video/Desktop/Projetos/API/F-A_root_project/notebooks/RAW_DATA/XLSX/Balance.xlsx',\n",
    "            sheet_name=\"balance\")"
   ]
  }
 ],
 "metadata": {
  "colab": {
   "include_colab_link": true,
   "provenance": []
  },
  "kernelspec": {
   "display_name": "Python 3 (ipykernel)",
   "language": "python",
   "name": "python3"
  },
  "language_info": {
   "codemirror_mode": {
    "name": "ipython",
    "version": 3
   },
   "file_extension": ".py",
   "mimetype": "text/x-python",
   "name": "python",
   "nbconvert_exporter": "python",
   "pygments_lexer": "ipython3",
   "version": "3.10.6"
  },
  "vscode": {
   "interpreter": {
    "hash": "598092329803f2218a82426b846daf764474eee9678032408d5a767cd4823601"
   }
  }
 },
 "nbformat": 4,
 "nbformat_minor": 1
}
