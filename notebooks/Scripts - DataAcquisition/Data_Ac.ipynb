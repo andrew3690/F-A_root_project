{
 "cells": [
  {
   "attachments": {},
   "cell_type": "markdown",
   "metadata": {
    "colab_type": "text",
    "id": "view-in-github"
   },
   "source": [
    "<a href=\"https://colab.research.google.com/github/andrew3690/F-A_root_project/blob/Brazil/Data_Ac.ipynb\" target=\"_parent\"><img src=\"https://colab.research.google.com/assets/colab-badge.svg\" alt=\"Open In Colab\"/></a>"
   ]
  },
  {
   "attachments": {},
   "cell_type": "markdown",
   "metadata": {
    "id": "wd7jgo-jBXC2"
   },
   "source": [
    "Installing python libraries that will be use to get data from yahoo finance"
   ]
  },
  {
   "cell_type": "code",
   "execution_count": 1,
   "metadata": {
    "colab": {
     "base_uri": "https://localhost:8080/"
    },
    "id": "Mefhi-Pa1B-G",
    "outputId": "c65f37ee-5552-459a-c3d7-86acef3a0153"
   },
   "outputs": [
    {
     "name": "stdout",
     "output_type": "stream",
     "text": [
      "Defaulting to user installation because normal site-packages is not writeable\n",
      "Requirement already satisfied: yahooquery in /home/andrel/.local/lib/python3.10/site-packages (2.3.1)\n",
      "Requirement already satisfied: requests-futures>=1.0.0 in /home/andrel/.local/lib/python3.10/site-packages (from yahooquery) (1.0.1)\n",
      "Requirement already satisfied: pandas>=0.24.0 in /home/andrel/.local/lib/python3.10/site-packages (from yahooquery) (2.0.2)\n",
      "Requirement already satisfied: lxml>=4.9.1 in /home/andrel/.local/lib/python3.10/site-packages (from yahooquery) (4.9.2)\n",
      "Requirement already satisfied: tqdm>=4.54.1 in /home/andrel/.local/lib/python3.10/site-packages (from yahooquery) (4.65.0)\n",
      "Requirement already satisfied: numpy>=1.21.0 in /home/andrel/.local/lib/python3.10/site-packages (from pandas>=0.24.0->yahooquery) (1.25.0)\n",
      "Requirement already satisfied: tzdata>=2022.1 in /home/andrel/.local/lib/python3.10/site-packages (from pandas>=0.24.0->yahooquery) (2023.3)\n",
      "Requirement already satisfied: pytz>=2020.1 in /usr/lib/python3/dist-packages (from pandas>=0.24.0->yahooquery) (2022.1)\n",
      "Requirement already satisfied: python-dateutil>=2.8.2 in /home/andrel/.local/lib/python3.10/site-packages (from pandas>=0.24.0->yahooquery) (2.8.2)\n",
      "Requirement already satisfied: requests>=1.2.0 in /home/andrel/.local/lib/python3.10/site-packages (from requests-futures>=1.0.0->yahooquery) (2.25.0)\n",
      "Requirement already satisfied: six>=1.5 in /usr/lib/python3/dist-packages (from python-dateutil>=2.8.2->pandas>=0.24.0->yahooquery) (1.16.0)\n",
      "Requirement already satisfied: certifi>=2017.4.17 in /usr/lib/python3/dist-packages (from requests>=1.2.0->requests-futures>=1.0.0->yahooquery) (2020.6.20)\n",
      "Requirement already satisfied: urllib3<1.27,>=1.21.1 in /home/andrel/.local/lib/python3.10/site-packages (from requests>=1.2.0->requests-futures>=1.0.0->yahooquery) (1.26.0)\n",
      "Requirement already satisfied: idna<3,>=2.5 in /home/andrel/.local/lib/python3.10/site-packages (from requests>=1.2.0->requests-futures>=1.0.0->yahooquery) (2.10)\n",
      "Requirement already satisfied: chardet<4,>=3.0.2 in /home/andrel/.local/lib/python3.10/site-packages (from requests>=1.2.0->requests-futures>=1.0.0->yahooquery) (3.0.4)\n",
      "Defaulting to user installation because normal site-packages is not writeable\n",
      "Requirement already satisfied: urllib3==1.26 in /home/andrel/.local/lib/python3.10/site-packages (1.26.0)\n",
      "Defaulting to user installation because normal site-packages is not writeable\n",
      "Requirement already satisfied: requests==2.25 in /home/andrel/.local/lib/python3.10/site-packages (2.25.0)\n",
      "Requirement already satisfied: certifi>=2017.4.17 in /usr/lib/python3/dist-packages (from requests==2.25) (2020.6.20)\n",
      "Requirement already satisfied: chardet<4,>=3.0.2 in /home/andrel/.local/lib/python3.10/site-packages (from requests==2.25) (3.0.4)\n",
      "Requirement already satisfied: idna<3,>=2.5 in /home/andrel/.local/lib/python3.10/site-packages (from requests==2.25) (2.10)\n",
      "Requirement already satisfied: urllib3<1.27,>=1.21.1 in /home/andrel/.local/lib/python3.10/site-packages (from requests==2.25) (1.26.0)\n",
      "Defaulting to user installation because normal site-packages is not writeable\n",
      "Requirement already satisfied: openpyxl in /home/andrel/.local/lib/python3.10/site-packages (3.1.2)\n",
      "Requirement already satisfied: et-xmlfile in /home/andrel/.local/lib/python3.10/site-packages (from openpyxl) (1.1.0)\n"
     ]
    }
   ],
   "source": [
    "! pip install yahooquery\n",
    "! pip install urllib3==1.26\n",
    "! pip install requests==2.25\n",
    "! pip install openpyxl"
   ]
  },
  {
   "attachments": {},
   "cell_type": "markdown",
   "metadata": {
    "id": "_VbHBXpJBNgc"
   },
   "source": [
    "Importing modules that will be used to filter data"
   ]
  },
  {
   "cell_type": "code",
   "execution_count": 2,
   "metadata": {
    "id": "vqJZx_Fc2NEV"
   },
   "outputs": [],
   "source": [
    "from yahooquery import Ticker\n",
    "from bs4 import BeautifulSoup\n",
    "\n",
    "import concurrent.futures\n",
    "import pandas as pd\n",
    "import requests\n",
    "import re\n",
    "import os"
   ]
  },
  {
   "attachments": {},
   "cell_type": "markdown",
   "metadata": {
    "id": "L6mkfM6XGU33"
   },
   "source": [
    "Scrapping Data from Infomoney website, getting a list of stocks from IBOVESPA."
   ]
  },
  {
   "cell_type": "code",
   "execution_count": 3,
   "metadata": {
    "id": "_Q6RsPPi_TQk"
   },
   "outputs": [],
   "source": [
    "url = requests.get('https://www.infomoney.com.br/cotacoes/empresas-b3/')\n",
    "\n",
    "soup = BeautifulSoup(url.text, 'html.parser')\n",
    "\n",
    "ticker_name_list = soup.find_all('td', class_ = 'strong')\n",
    "\n",
    "ticker = str(ticker_name_list)\n",
    "\n",
    "tickers = re.findall('>.*</',ticker)\n",
    "\n",
    "tkrs = []\n",
    "\n",
    "# strnot = (\"11\",\"F\",\"34\")\n",
    "for i in tickers:\n",
    "  if \"11\" not in i and \"F\" not in i:\n",
    "    tkr = i.strip(\"</>\")\n",
    "    tkr = tkr + \".SA\"\n",
    "    tkrs.append(tkr)"
   ]
  },
  {
   "cell_type": "code",
   "execution_count": 4,
   "metadata": {},
   "outputs": [],
   "source": [
    "def fetch_historical_financial(tickers):\n",
    "    # Yahoo finance requisition getting companies ticker\n",
    "    sumary = Ticker(tickers)\n",
    "\n",
    "    # getting companies financial data\n",
    "    data = sumary.all_financial_data()\n",
    "\n",
    "    tickercol = data.index.tolist()\n",
    "\n",
    "    df = pd.DataFrame(data)\n",
    "\n",
    "    df['Ticker'] = tickercol\n",
    "\n",
    "    return df"
   ]
  },
  {
   "cell_type": "code",
   "execution_count": 5,
   "metadata": {},
   "outputs": [],
   "source": [
    "def fetch_historical_balance(tickers):\n",
    "    # Balance Ticker lists\n",
    "    balance = Ticker(tickers, TimeoutError = 10)\n",
    "\n",
    "    # Getting companies balance data\n",
    "    data = balance.balance_sheet(trailing=False)\n",
    "\n",
    "    tickers = data.index.tolist()\n",
    "\n",
    "    df = pd.DataFrame(data)\n",
    "\n",
    "    df['Ticker'] = tickers  # Add 'Ticker' column to the DataFrame\n",
    "    # df = df.reset_index(drop=True)  # Reset the index of the final DataFrame\n",
    "    # df['Symbol'] = tickers\n",
    "\n",
    "    return df"
   ]
  },
  {
   "cell_type": "code",
   "execution_count": 6,
   "metadata": {},
   "outputs": [],
   "source": [
    "def fetch_historical_finandata(tickers):\n",
    "    \n",
    "    # Balance Ticker lists\n",
    "    financial = Ticker(tickers, TimeoutError = 10)\n",
    "\n",
    "    # Getting companies balance data\n",
    "    types = ['symbol', 'TotalDebt', 'TotalAssets', 'EBIT', 'EBITDA', 'PeRatio']\n",
    "        \n",
    "    data = financial.get_financial_data(types, trailing=False)\n",
    "\n",
    "    tickers = data.index.tolist()\n",
    "\n",
    "    df = pd.DataFrame(data)\n",
    "\n",
    "    df['Ticker'] = tickers  # Add 'Ticker' column to the DataFrame\n",
    "\n",
    "    df = df.reset_index(drop=True)\n",
    "\n",
    "    return df"
   ]
  },
  {
   "cell_type": "code",
   "execution_count": 21,
   "metadata": {},
   "outputs": [],
   "source": [
    "def fetch_historical_price(tickers):\n",
    "    pricetkrs = Ticker(tickers,period = '1y',interval= '1d')\n",
    "\n",
    "    dataprice = pricetkrs.history()\n",
    "    \n",
    "    tickers = dataprice.index.tolist()\n",
    "\n",
    "    dataprice['Ticker'] = tickers  # Add 'Ticker' column to the DataFrame\n",
    "\n",
    "    return dataprice"
   ]
  },
  {
   "cell_type": "code",
   "execution_count": 22,
   "metadata": {},
   "outputs": [
    {
     "ename": "ValueError",
     "evalue": "Length of values (5) does not match length of index (556)",
     "output_type": "error",
     "traceback": [
      "\u001b[0;31m---------------------------------------------------------------------------\u001b[0m",
      "\u001b[0;31mValueError\u001b[0m                                Traceback (most recent call last)",
      "Cell \u001b[0;32mIn[22], line 3\u001b[0m\n\u001b[1;32m      1\u001b[0m symbols \u001b[39m=\u001b[39m [\u001b[39m'\u001b[39m\u001b[39mfb\u001b[39m\u001b[39m'\u001b[39m, \u001b[39m'\u001b[39m\u001b[39maapl\u001b[39m\u001b[39m'\u001b[39m, \u001b[39m'\u001b[39m\u001b[39mamzn\u001b[39m\u001b[39m'\u001b[39m, \u001b[39m'\u001b[39m\u001b[39mnflx\u001b[39m\u001b[39m'\u001b[39m, \u001b[39m'\u001b[39m\u001b[39mgoog\u001b[39m\u001b[39m'\u001b[39m]\n\u001b[0;32m----> 3\u001b[0m fetch_historical_price(symbols)\n",
      "Cell \u001b[0;32mIn[21], line 6\u001b[0m, in \u001b[0;36mfetch_historical_price\u001b[0;34m(tickers)\u001b[0m\n\u001b[1;32m      2\u001b[0m pricetkrs \u001b[39m=\u001b[39m Ticker(tickers,period \u001b[39m=\u001b[39m \u001b[39m'\u001b[39m\u001b[39m1y\u001b[39m\u001b[39m'\u001b[39m,interval\u001b[39m=\u001b[39m \u001b[39m'\u001b[39m\u001b[39m1d\u001b[39m\u001b[39m'\u001b[39m)\n\u001b[1;32m      4\u001b[0m dataprice \u001b[39m=\u001b[39m pricetkrs\u001b[39m.\u001b[39mhistory()\n\u001b[0;32m----> 6\u001b[0m dataprice[\u001b[39m'\u001b[39;49m\u001b[39mTicker\u001b[39;49m\u001b[39m'\u001b[39;49m] \u001b[39m=\u001b[39m tickers  \u001b[39m# Add 'Ticker' column to the DataFrame\u001b[39;00m\n\u001b[1;32m      8\u001b[0m tickers \u001b[39m=\u001b[39m dataprice\u001b[39m.\u001b[39mindex\u001b[39m.\u001b[39mtolist()\n\u001b[1;32m     10\u001b[0m \u001b[39mreturn\u001b[39;00m dataprice\n",
      "File \u001b[0;32m~/.local/lib/python3.10/site-packages/pandas/core/frame.py:3950\u001b[0m, in \u001b[0;36mDataFrame.__setitem__\u001b[0;34m(self, key, value)\u001b[0m\n\u001b[1;32m   3947\u001b[0m     \u001b[39mself\u001b[39m\u001b[39m.\u001b[39m_setitem_array([key], value)\n\u001b[1;32m   3948\u001b[0m \u001b[39melse\u001b[39;00m:\n\u001b[1;32m   3949\u001b[0m     \u001b[39m# set column\u001b[39;00m\n\u001b[0;32m-> 3950\u001b[0m     \u001b[39mself\u001b[39;49m\u001b[39m.\u001b[39;49m_set_item(key, value)\n",
      "File \u001b[0;32m~/.local/lib/python3.10/site-packages/pandas/core/frame.py:4143\u001b[0m, in \u001b[0;36mDataFrame._set_item\u001b[0;34m(self, key, value)\u001b[0m\n\u001b[1;32m   4133\u001b[0m \u001b[39mdef\u001b[39;00m \u001b[39m_set_item\u001b[39m(\u001b[39mself\u001b[39m, key, value) \u001b[39m-\u001b[39m\u001b[39m>\u001b[39m \u001b[39mNone\u001b[39;00m:\n\u001b[1;32m   4134\u001b[0m \u001b[39m    \u001b[39m\u001b[39m\"\"\"\u001b[39;00m\n\u001b[1;32m   4135\u001b[0m \u001b[39m    Add series to DataFrame in specified column.\u001b[39;00m\n\u001b[1;32m   4136\u001b[0m \n\u001b[0;32m   (...)\u001b[0m\n\u001b[1;32m   4141\u001b[0m \u001b[39m    ensure homogeneity.\u001b[39;00m\n\u001b[1;32m   4142\u001b[0m \u001b[39m    \"\"\"\u001b[39;00m\n\u001b[0;32m-> 4143\u001b[0m     value \u001b[39m=\u001b[39m \u001b[39mself\u001b[39;49m\u001b[39m.\u001b[39;49m_sanitize_column(value)\n\u001b[1;32m   4145\u001b[0m     \u001b[39mif\u001b[39;00m (\n\u001b[1;32m   4146\u001b[0m         key \u001b[39min\u001b[39;00m \u001b[39mself\u001b[39m\u001b[39m.\u001b[39mcolumns\n\u001b[1;32m   4147\u001b[0m         \u001b[39mand\u001b[39;00m value\u001b[39m.\u001b[39mndim \u001b[39m==\u001b[39m \u001b[39m1\u001b[39m\n\u001b[1;32m   4148\u001b[0m         \u001b[39mand\u001b[39;00m \u001b[39mnot\u001b[39;00m is_extension_array_dtype(value)\n\u001b[1;32m   4149\u001b[0m     ):\n\u001b[1;32m   4150\u001b[0m         \u001b[39m# broadcast across multiple columns if necessary\u001b[39;00m\n\u001b[1;32m   4151\u001b[0m         \u001b[39mif\u001b[39;00m \u001b[39mnot\u001b[39;00m \u001b[39mself\u001b[39m\u001b[39m.\u001b[39mcolumns\u001b[39m.\u001b[39mis_unique \u001b[39mor\u001b[39;00m \u001b[39misinstance\u001b[39m(\u001b[39mself\u001b[39m\u001b[39m.\u001b[39mcolumns, MultiIndex):\n",
      "File \u001b[0;32m~/.local/lib/python3.10/site-packages/pandas/core/frame.py:4870\u001b[0m, in \u001b[0;36mDataFrame._sanitize_column\u001b[0;34m(self, value)\u001b[0m\n\u001b[1;32m   4867\u001b[0m     \u001b[39mreturn\u001b[39;00m _reindex_for_setitem(Series(value), \u001b[39mself\u001b[39m\u001b[39m.\u001b[39mindex)\n\u001b[1;32m   4869\u001b[0m \u001b[39mif\u001b[39;00m is_list_like(value):\n\u001b[0;32m-> 4870\u001b[0m     com\u001b[39m.\u001b[39;49mrequire_length_match(value, \u001b[39mself\u001b[39;49m\u001b[39m.\u001b[39;49mindex)\n\u001b[1;32m   4871\u001b[0m \u001b[39mreturn\u001b[39;00m sanitize_array(value, \u001b[39mself\u001b[39m\u001b[39m.\u001b[39mindex, copy\u001b[39m=\u001b[39m\u001b[39mTrue\u001b[39;00m, allow_2d\u001b[39m=\u001b[39m\u001b[39mTrue\u001b[39;00m)\n",
      "File \u001b[0;32m~/.local/lib/python3.10/site-packages/pandas/core/common.py:576\u001b[0m, in \u001b[0;36mrequire_length_match\u001b[0;34m(data, index)\u001b[0m\n\u001b[1;32m    572\u001b[0m \u001b[39m\u001b[39m\u001b[39m\"\"\"\u001b[39;00m\n\u001b[1;32m    573\u001b[0m \u001b[39mCheck the length of data matches the length of the index.\u001b[39;00m\n\u001b[1;32m    574\u001b[0m \u001b[39m\"\"\"\u001b[39;00m\n\u001b[1;32m    575\u001b[0m \u001b[39mif\u001b[39;00m \u001b[39mlen\u001b[39m(data) \u001b[39m!=\u001b[39m \u001b[39mlen\u001b[39m(index):\n\u001b[0;32m--> 576\u001b[0m     \u001b[39mraise\u001b[39;00m \u001b[39mValueError\u001b[39;00m(\n\u001b[1;32m    577\u001b[0m         \u001b[39m\"\u001b[39m\u001b[39mLength of values \u001b[39m\u001b[39m\"\u001b[39m\n\u001b[1;32m    578\u001b[0m         \u001b[39mf\u001b[39m\u001b[39m\"\u001b[39m\u001b[39m(\u001b[39m\u001b[39m{\u001b[39;00m\u001b[39mlen\u001b[39m(data)\u001b[39m}\u001b[39;00m\u001b[39m) \u001b[39m\u001b[39m\"\u001b[39m\n\u001b[1;32m    579\u001b[0m         \u001b[39m\"\u001b[39m\u001b[39mdoes not match length of index \u001b[39m\u001b[39m\"\u001b[39m\n\u001b[1;32m    580\u001b[0m         \u001b[39mf\u001b[39m\u001b[39m\"\u001b[39m\u001b[39m(\u001b[39m\u001b[39m{\u001b[39;00m\u001b[39mlen\u001b[39m(index)\u001b[39m}\u001b[39;00m\u001b[39m)\u001b[39m\u001b[39m\"\u001b[39m\n\u001b[1;32m    581\u001b[0m     )\n",
      "\u001b[0;31mValueError\u001b[0m: Length of values (5) does not match length of index (556)"
     ]
    }
   ],
   "source": [
    "symbols = ['fb', 'aapl', 'amzn', 'nflx', 'goog']\n",
    "\n",
    "fetch_historical_price(symbols)"
   ]
  },
  {
   "cell_type": "code",
   "execution_count": 9,
   "metadata": {},
   "outputs": [],
   "source": [
    "def fetch_historical_valuation(tickers):\n",
    "    \n",
    "    pricetkrs = Ticker(tickers)\n",
    "\n",
    "    dataprice = pricetkrs.valuation_measures\n",
    "\n",
    "    tickers = dataprice.index.tolist()\n",
    "\n",
    "    # dataprice['Ticker'] = tickers  # Add 'Ticker' column to the DataFrame\n",
    "    # df = df.reset_index(drop=True)  # Reset the index of the final DataFrame\n",
    "    dataprice['Symbol'] = tickers\n",
    "\n",
    "    return dataprice"
   ]
  },
  {
   "cell_type": "markdown",
   "metadata": {},
   "source": [
    "Test code"
   ]
  },
  {
   "cell_type": "code",
   "execution_count": 10,
   "metadata": {},
   "outputs": [],
   "source": [
    "# Define a function to fetch data for each batch of tickers\n",
    "def fetch_data_batch(tkrs,FS):\n",
    "    if FS == 1:\n",
    "        data = fetch_historical_financial(tkrs)\n",
    "\n",
    "    elif FS == 2:\n",
    "        data = fetch_historical_balance(tkrs)\n",
    "\n",
    "    elif FS == 3:\n",
    "        data = fetch_historical_finandata(tkrs)\n",
    "\n",
    "    elif FS == 4:\n",
    "        data = fetch_historical_price(tkrs)\n",
    "    \n",
    "    elif FS == 5:\n",
    "        data = fetch_historical_valuation(tkrs)\n",
    "\n",
    "    return data"
   ]
  },
  {
   "cell_type": "code",
   "execution_count": 11,
   "metadata": {},
   "outputs": [],
   "source": [
    "def ElementsList(elements_per_list,tkrs):\n",
    "    # Divide the ticker list into smaller lists\n",
    "    smaller_lists = [tkrs[i:i+elements_per_list] for i in range(0, len(tkrs), elements_per_list)]\n",
    "    \n",
    "    return smaller_lists"
   ]
  },
  {
   "cell_type": "code",
   "execution_count": 12,
   "metadata": {},
   "outputs": [],
   "source": [
    "# # # Function that processes operations based on different flags\n",
    "# # # BS: Batch size\n",
    "# # # FS: Function Signal\n",
    "# # # TL: Ticker List\n",
    "\n",
    "def Process(BS,TL,FS):\n",
    "    # Lists of elements\n",
    "    lists = ElementsList(BS,TL)\n",
    "    \n",
    "    # dataframe that contains the results of the processed files\n",
    "    df_final = pd.DataFrame()\n",
    "\n",
    "    with concurrent.futures.ThreadPoolExecutor() as executor:\n",
    "        # Submit the threads for processing\n",
    "        futures = [executor.submit(fetch_data_batch, list_batch, FS) for list_batch in lists[:BS]]\n",
    "\n",
    "        # Iterate through the completed threads and concatenate the results\n",
    "        for future in concurrent.futures.as_completed(futures):\n",
    "            data = future.result()\n",
    "            df_final = pd.concat([df_final, data])\n",
    "\n",
    "    # Reset the index of the final DataFrame\n",
    "    df_final = df_final.reset_index(drop=True)\n",
    "\n",
    "    return df_final"
   ]
  },
  {
   "cell_type": "code",
   "execution_count": 13,
   "metadata": {},
   "outputs": [],
   "source": [
    "historical_financial = Process(20,tkrs,1)"
   ]
  },
  {
   "cell_type": "code",
   "execution_count": 14,
   "metadata": {},
   "outputs": [],
   "source": [
    "historical_balance = Process(20,tkrs,2)"
   ]
  },
  {
   "cell_type": "code",
   "execution_count": 15,
   "metadata": {},
   "outputs": [],
   "source": [
    "historical_finandata = Process(20,tkrs,3)"
   ]
  },
  {
   "cell_type": "code",
   "execution_count": 16,
   "metadata": {},
   "outputs": [],
   "source": [
    "historical_data = Process(20,tkrs,4)"
   ]
  },
  {
   "cell_type": "code",
   "execution_count": 17,
   "metadata": {},
   "outputs": [],
   "source": [
    "historical_valuation = Process(20,tkrs,5)"
   ]
  },
  {
   "cell_type": "code",
   "execution_count": 18,
   "metadata": {},
   "outputs": [],
   "source": [
    "# Define the output directory and filename\n",
    "output_directory = \"../RAW_DATA/Parquet/\"\n",
    "\n",
    "# Create the output directory if it doesn't exist\n",
    "os.makedirs(output_directory, exist_ok=True)\n",
    "\n",
    "# Files that will be created\n",
    "filenames = [\"AtivosBR.parquet\",\"Beta.parquet\", \"Financial.parquet\", \"Price.parquet\",\"Valuation.parquet\"]\n",
    "\n",
    "# Dataframes of objects\n",
    "dataframes = [historical_data,historical_financial, historical_balance, historical_finandata,historical_valuation]\n",
    "\n",
    "# Loop through the DataFrames and save each one to Parquet format\n",
    "for item in range(len(dataframes)):\n",
    "    # Specify the full file path\n",
    "    output_file = os.path.join(output_directory, filenames[item])\n",
    "    # Save the DataFrame to Parquet format\n",
    "    dataframes[item].to_parquet(output_file)"
   ]
  }
 ],
 "metadata": {
  "colab": {
   "include_colab_link": true,
   "provenance": []
  },
  "kernelspec": {
   "display_name": "My Kernel",
   "language": "python",
   "name": "mykernel"
  },
  "language_info": {
   "codemirror_mode": {
    "name": "ipython",
    "version": 3
   },
   "file_extension": ".py",
   "mimetype": "text/x-python",
   "name": "python",
   "nbconvert_exporter": "python",
   "pygments_lexer": "ipython3",
   "version": "3.10.6"
  },
  "vscode": {
   "interpreter": {
    "hash": "598092329803f2218a82426b846daf764474eee9678032408d5a767cd4823601"
   }
  }
 },
 "nbformat": 4,
 "nbformat_minor": 1
}
