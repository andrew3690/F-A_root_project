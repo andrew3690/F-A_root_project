{
 "cells": [
  {
   "attachments": {},
   "cell_type": "markdown",
   "metadata": {
    "colab_type": "text",
    "id": "view-in-github"
   },
   "source": [
    "<a href=\"https://colab.research.google.com/github/andrew3690/F-A_root_project/blob/Brazil/Data_Ac.ipynb\" target=\"_parent\"><img src=\"https://colab.research.google.com/assets/colab-badge.svg\" alt=\"Open In Colab\"/></a>"
   ]
  },
  {
   "attachments": {},
   "cell_type": "markdown",
   "metadata": {
    "id": "wd7jgo-jBXC2"
   },
   "source": [
    "Installing python libraries that will be use to get data from yahoo finance"
   ]
  },
  {
   "cell_type": "code",
   "execution_count": 1,
   "metadata": {
    "colab": {
     "base_uri": "https://localhost:8080/"
    },
    "id": "Mefhi-Pa1B-G",
    "outputId": "c65f37ee-5552-459a-c3d7-86acef3a0153"
   },
   "outputs": [
    {
     "name": "stdout",
     "output_type": "stream",
     "text": [
      "Defaulting to user installation because normal site-packages is not writeable\n",
      "Requirement already satisfied: yahooquery in /home/andrel/.local/lib/python3.10/site-packages (2.3.1)\n",
      "Requirement already satisfied: pandas>=0.24.0 in /home/andrel/.local/lib/python3.10/site-packages (from yahooquery) (2.0.2)\n",
      "Requirement already satisfied: requests-futures>=1.0.0 in /home/andrel/.local/lib/python3.10/site-packages (from yahooquery) (1.0.1)\n",
      "Requirement already satisfied: lxml>=4.9.1 in /home/andrel/.local/lib/python3.10/site-packages (from yahooquery) (4.9.2)\n",
      "Requirement already satisfied: tqdm>=4.54.1 in /home/andrel/.local/lib/python3.10/site-packages (from yahooquery) (4.65.0)\n",
      "Requirement already satisfied: numpy>=1.21.0 in /home/andrel/.local/lib/python3.10/site-packages (from pandas>=0.24.0->yahooquery) (1.25.0)\n",
      "Requirement already satisfied: pytz>=2020.1 in /home/andrel/.local/lib/python3.10/site-packages (from pandas>=0.24.0->yahooquery) (2023.3)\n",
      "Requirement already satisfied: tzdata>=2022.1 in /home/andrel/.local/lib/python3.10/site-packages (from pandas>=0.24.0->yahooquery) (2023.3)\n",
      "Requirement already satisfied: python-dateutil>=2.8.2 in /home/andrel/.local/lib/python3.10/site-packages (from pandas>=0.24.0->yahooquery) (2.8.2)\n",
      "Requirement already satisfied: requests>=1.2.0 in /home/andrel/.local/lib/python3.10/site-packages (from requests-futures>=1.0.0->yahooquery) (2.25.0)\n",
      "Requirement already satisfied: six>=1.5 in /usr/lib/python3/dist-packages (from python-dateutil>=2.8.2->pandas>=0.24.0->yahooquery) (1.16.0)\n",
      "Requirement already satisfied: chardet<4,>=3.0.2 in /home/andrel/.local/lib/python3.10/site-packages (from requests>=1.2.0->requests-futures>=1.0.0->yahooquery) (3.0.4)\n",
      "Requirement already satisfied: idna<3,>=2.5 in /home/andrel/.local/lib/python3.10/site-packages (from requests>=1.2.0->requests-futures>=1.0.0->yahooquery) (2.10)\n",
      "Requirement already satisfied: urllib3<1.27,>=1.21.1 in /home/andrel/.local/lib/python3.10/site-packages (from requests>=1.2.0->requests-futures>=1.0.0->yahooquery) (1.26.0)\n",
      "Requirement already satisfied: certifi>=2017.4.17 in /usr/lib/python3/dist-packages (from requests>=1.2.0->requests-futures>=1.0.0->yahooquery) (2020.6.20)\n",
      "Defaulting to user installation because normal site-packages is not writeable\n",
      "Requirement already satisfied: urllib3==1.26 in /home/andrel/.local/lib/python3.10/site-packages (1.26.0)\n",
      "Defaulting to user installation because normal site-packages is not writeable\n",
      "Requirement already satisfied: requests==2.25 in /home/andrel/.local/lib/python3.10/site-packages (2.25.0)\n",
      "Requirement already satisfied: idna<3,>=2.5 in /home/andrel/.local/lib/python3.10/site-packages (from requests==2.25) (2.10)\n",
      "Requirement already satisfied: certifi>=2017.4.17 in /usr/lib/python3/dist-packages (from requests==2.25) (2020.6.20)\n",
      "Requirement already satisfied: urllib3<1.27,>=1.21.1 in /home/andrel/.local/lib/python3.10/site-packages (from requests==2.25) (1.26.0)\n",
      "Requirement already satisfied: chardet<4,>=3.0.2 in /home/andrel/.local/lib/python3.10/site-packages (from requests==2.25) (3.0.4)\n",
      "Defaulting to user installation because normal site-packages is not writeable\n",
      "Requirement already satisfied: openpyxl in /home/andrel/.local/lib/python3.10/site-packages (3.1.2)\n",
      "Requirement already satisfied: et-xmlfile in /home/andrel/.local/lib/python3.10/site-packages (from openpyxl) (1.1.0)\n"
     ]
    }
   ],
   "source": [
    "! pip install yahooquery\n",
    "! pip install urllib3==1.26\n",
    "! pip install requests==2.25\n",
    "! pip install openpyxl"
   ]
  },
  {
   "attachments": {},
   "cell_type": "markdown",
   "metadata": {
    "id": "_VbHBXpJBNgc"
   },
   "source": [
    "Importing modules that will be used to filter data"
   ]
  },
  {
   "cell_type": "code",
   "execution_count": 2,
   "metadata": {
    "id": "vqJZx_Fc2NEV"
   },
   "outputs": [],
   "source": [
    "from yahooquery import Ticker\n",
    "from bs4 import BeautifulSoup\n",
    "\n",
    "import concurrent.futures\n",
    "import pandas as pd\n",
    "import requests\n",
    "import re\n",
    "import os"
   ]
  },
  {
   "attachments": {},
   "cell_type": "markdown",
   "metadata": {
    "id": "L6mkfM6XGU33"
   },
   "source": [
    "Scrapping Data from Infomoney website, getting a list of stocks from IBOVESPA."
   ]
  },
  {
   "cell_type": "code",
   "execution_count": 3,
   "metadata": {
    "id": "_Q6RsPPi_TQk"
   },
   "outputs": [],
   "source": [
    "url = requests.get('https://www.infomoney.com.br/cotacoes/empresas-b3/')\n",
    "\n",
    "soup = BeautifulSoup(url.text, 'html.parser')\n",
    "\n",
    "ticker_name_list = soup.find_all('td', class_ = 'strong')\n",
    "\n",
    "ticker = str(ticker_name_list)\n",
    "\n",
    "tickers = re.findall('>.*</',ticker)\n",
    "\n",
    "tkrs = []\n",
    "\n",
    "# strnot = (\"11\",\"F\",\"34\")\n",
    "for i in tickers:\n",
    "  if \"11\" not in i and \"F\" not in i:\n",
    "    tkr = i.strip(\"</>\")\n",
    "    tkr = tkr + \".SA\"\n",
    "    tkrs.append(tkr)"
   ]
  },
  {
   "cell_type": "code",
   "execution_count": 4,
   "metadata": {},
   "outputs": [],
   "source": [
    "def fetch_historical_financial(tickers):\n",
    "    # Yahoo finance requisition getting companies ticker\n",
    "    sumary = Ticker(tickers)\n",
    "\n",
    "    # getting companies financial data\n",
    "    data = sumary.all_financial_data()\n",
    "\n",
    "    tickercol = data.index.tolist()\n",
    "\n",
    "    df = pd.DataFrame(data)\n",
    "\n",
    "    df['Ticker'] = tickercol\n",
    "\n",
    "    return df"
   ]
  },
  {
   "cell_type": "code",
   "execution_count": 5,
   "metadata": {},
   "outputs": [],
   "source": [
    "def fetch_historical_balance(tickers):\n",
    "    # Balance Ticker lists\n",
    "    balance = Ticker(tickers)\n",
    "\n",
    "    # Getting companies balance data\n",
    "    data = balance.balance_sheet(trailing=False)\n",
    "\n",
    "    tickers = data.index.tolist()\n",
    "\n",
    "    df = pd.DataFrame(data)\n",
    "\n",
    "    df['Ticker'] = tickers  # Add 'Ticker' column to the DataFrame\n",
    "    # df = df.reset_index(drop=True)  # Reset the index of the final DataFrame\n",
    "    # df['Symbol'] = tickers\n",
    "\n",
    "    return df"
   ]
  },
  {
   "cell_type": "code",
   "execution_count": 6,
   "metadata": {},
   "outputs": [],
   "source": [
    "def fetch_historical_finandata(tickers):\n",
    "    \n",
    "    # Balance Ticker lists\n",
    "    financial = Ticker(tickers)\n",
    "\n",
    "    # Getting companies balance data\n",
    "    types = ['symbol', 'TotalDebt', 'TotalAssets', 'EBIT', 'EBITDA', 'PeRatio']\n",
    "        \n",
    "    data = financial.get_financial_data(types, trailing=False)\n",
    "\n",
    "    tickers = data.index.tolist()\n",
    "\n",
    "    df = pd.DataFrame(data)\n",
    "\n",
    "    df['Ticker'] = tickers  # Add 'Ticker' column to the DataFrame\n",
    "\n",
    "    df = df.reset_index(drop=True)\n",
    "\n",
    "    return df"
   ]
  },
  {
   "cell_type": "code",
   "execution_count": 7,
   "metadata": {},
   "outputs": [],
   "source": [
    "def fetch_historical_price(tickers):\n",
    "    \n",
    "    pricetkrs = Ticker(tickers)\n",
    "\n",
    "    dataprice = pricetkrs.price\n",
    "\n",
    "    return dataprice"
   ]
  },
  {
   "cell_type": "code",
   "execution_count": 8,
   "metadata": {},
   "outputs": [
    {
     "data": {
      "text/plain": [
       "{'AAPL': 'Invalid Cookie'}"
      ]
     },
     "execution_count": 8,
     "metadata": {},
     "output_type": "execute_result"
    }
   ],
   "source": [
    "financial = \"AAPL\"\n",
    "\n",
    "fetch_historical_price(financial)"
   ]
  },
  {
   "cell_type": "code",
   "execution_count": 53,
   "metadata": {},
   "outputs": [],
   "source": [
    "# Define a function to fetch data for each batch of tickers\n",
    "def fetch_data_batch(tkrs,FS):\n",
    "    if FS == 1:\n",
    "        data = fetch_historical_financial(tkrs)\n",
    "\n",
    "    elif FS == 2:\n",
    "        data = fetch_historical_balance(tkrs)\n",
    "\n",
    "    elif FS == 3:\n",
    "        data = fetch_historical_finandata(tkrs)\n",
    "\n",
    "    elif FS == 4:\n",
    "        data = fetch_historical_price(tkrs)\n",
    "\n",
    "    return data"
   ]
  },
  {
   "cell_type": "code",
   "execution_count": 54,
   "metadata": {},
   "outputs": [],
   "source": [
    "def ElementsList(elements_per_list,tkrs):\n",
    "    # Divide the ticker list into smaller lists\n",
    "    smaller_lists = [tkrs[i:i+elements_per_list] for i in range(0, len(tkrs), elements_per_list)]\n",
    "    \n",
    "    return smaller_lists"
   ]
  },
  {
   "cell_type": "code",
   "execution_count": 55,
   "metadata": {},
   "outputs": [],
   "source": [
    "# # # Function that processes operations based on different flags\n",
    "# # # BS: Batch size\n",
    "# # # FS: Function Signal\n",
    "# # # TL: Ticker List\n",
    "\n",
    "def Process(BS,TL,FS):\n",
    "    # Lists of elements\n",
    "    lists = ElementsList(BS,TL)\n",
    "    \n",
    "    # dataframe that contains the results of the processed files\n",
    "    df_final = pd.DataFrame()\n",
    "\n",
    "    with concurrent.futures.ThreadPoolExecutor() as executor:\n",
    "        # Submit the threads for processing\n",
    "        futures = [executor.submit(fetch_data_batch, list_batch, FS) for list_batch in lists[:BS]]\n",
    "\n",
    "        # Iterate through the completed threads and concatenate the results\n",
    "        for future in concurrent.futures.as_completed(futures):\n",
    "            data = future.result()\n",
    "            df_final = pd.concat([df_final, data])\n",
    "\n",
    "    # Reset the index of the final DataFrame\n",
    "    df_final = df_final.reset_index(drop=True)\n",
    "\n",
    "    return df_final"
   ]
  },
  {
   "cell_type": "code",
   "execution_count": 56,
   "metadata": {},
   "outputs": [],
   "source": [
    "historical_financial = Process(20,tkrs,1)"
   ]
  },
  {
   "cell_type": "code",
   "execution_count": 57,
   "metadata": {},
   "outputs": [],
   "source": [
    "historical_balance = Process(20,tkrs,2)"
   ]
  },
  {
   "cell_type": "code",
   "execution_count": 58,
   "metadata": {},
   "outputs": [],
   "source": [
    "historical_finandata = Process(20,tkrs,3)"
   ]
  },
  {
   "cell_type": "code",
   "execution_count": 59,
   "metadata": {},
   "outputs": [],
   "source": [
    "historical_data = Process(20,tkrs,4)"
   ]
  },
  {
   "cell_type": "code",
   "execution_count": 60,
   "metadata": {},
   "outputs": [],
   "source": [
    "# Define the output directory and filename\n",
    "output_directory = \"../RAW_DATA/tst\"\n",
    "\n",
    "# Create the output directory if it doesn't exist\n",
    "os.makedirs(output_directory, exist_ok=True)\n",
    "\n",
    "# Files that will be created\n",
    "# \"AtivosBR.xlsx\"\n",
    "filenames = [\"Beta.xlsx\",\"Financial.xlsx\",\"Price.xlsx\"]\n",
    "\n",
    "# Dataframes of objects\n",
    "# historical_data\n",
    "dataframes = [historical_financial,historical_balance,historical_finandata]\n",
    "\n",
    "# Sheet names\n",
    "# \"historical_data\",\n",
    "sheet_names = [\"historical_financial\",\"historical_balance\",\"historical_finance_data\"]\n",
    "\n",
    "for item in range(0,len(filenames)):\n",
    "    # Specify the full file path\n",
    "    output_file = os.path.join(output_directory, filenames[item])\n",
    "    #\n",
    "    dataframes[item].to_excel(excel_writer=output_file, sheet_name=sheet_names[item], engine='openpyxl')"
   ]
  }
 ],
 "metadata": {
  "colab": {
   "include_colab_link": true,
   "provenance": []
  },
  "kernelspec": {
   "display_name": "My Kernel",
   "language": "python",
   "name": "mykernel"
  },
  "language_info": {
   "codemirror_mode": {
    "name": "ipython",
    "version": 3
   },
   "file_extension": ".py",
   "mimetype": "text/x-python",
   "name": "python",
   "nbconvert_exporter": "python",
   "pygments_lexer": "ipython3",
   "version": "3.10.6"
  },
  "vscode": {
   "interpreter": {
    "hash": "598092329803f2218a82426b846daf764474eee9678032408d5a767cd4823601"
   }
  }
 },
 "nbformat": 4,
 "nbformat_minor": 1
}
